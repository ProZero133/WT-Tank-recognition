{
  "cells": [
    {
      "cell_type": "code",
      "execution_count": null,
      "metadata": {
        "colab": {
          "base_uri": "https://localhost:8080/"
        },
        "id": "1tXhXIp5HQXH",
        "outputId": "cc17d12f-fafa-4c0e-fc5e-5c513bf13929"
      },
      "outputs": [
        {
          "output_type": "stream",
          "name": "stdout",
          "text": [
            "Archive:  /content/drive/MyDrive/Dataset WarThunder/WT Dataset-80-10-10.yolov8.zip\n",
            "  inflating: README.dataset.txt      \n",
            "  inflating: README.roboflow.txt     \n",
            "  inflating: data.yaml               \n",
            "   creating: test/\n",
            "   creating: test/images/\n",
            " extracting: test/images/8619d943-ASU-57_2_jpg.rf.1769519106f959577dd1a7e9505161b3.jpg  \n",
            " extracting: test/images/ASU-57-2-_jpg.rf.841e0f6a866545dfc0dbdb1e20f7e370.jpg  \n",
            " extracting: test/images/ASU-57-3-_jpg.rf.6adc0442a377984bdfe083ecf37507cb.jpg  \n",
            " extracting: test/images/Captura-de-pantalla-111-_png.rf.abd1ed034ac54220566d04edecda222e.jpg  \n",
            " extracting: test/images/Captura-de-pantalla-112-_png.rf.3042512d43dff907e0b5df373d6d72ad.jpg  \n",
            " extracting: test/images/Captura-de-pantalla-116-_png.rf.ac4586898c9b29fc2c201b7f3d654822.jpg  \n",
            " extracting: test/images/Captura-de-pantalla-117-_png.rf.63b57233e26be39cf3d51165470839a0.jpg  \n",
            " extracting: test/images/Captura-de-pantalla-118-_png.rf.54c2f4d57928515fa6561fe8aab94c30.jpg  \n",
            " extracting: test/images/Captura-de-pantalla-120-_png.rf.d8a76a98adca80324b26ddfa3b80db67.jpg  \n",
            " extracting: test/images/Captura-de-pantalla-121-_png.rf.53c9a1bcfeb1c3a387b0cc56d905bd35.jpg  \n",
            " extracting: test/images/Captura-de-pantalla-129-_png.rf.305d794e62447fa0f6b76d73aba0c7d9.jpg  \n",
            " extracting: test/images/Captura-de-pantalla-130-_png.rf.3838b6cd434eabc92726d0001f1fb252.jpg  \n",
            " extracting: test/images/Captura-de-pantalla-136-_png.rf.e8d4ad56a6cd042e811c1f3e16d7ce1c.jpg  \n",
            " extracting: test/images/Captura-de-pantalla-137-_png.rf.838c8c558994514f247e3337623816d9.jpg  \n",
            " extracting: test/images/Captura-de-pantalla-140-_png.rf.bcb0a435232aa491c6ec504d525f952b.jpg  \n",
            " extracting: test/images/Captura-de-pantalla-141-_png.rf.0e0a5ea0ca38f17b4d2472c3f0bc700f.jpg  \n",
            " extracting: test/images/Captura-de-pantalla-143-_png.rf.eb6234ce98cbaad555cc10ce588aa205.jpg  \n",
            " extracting: test/images/Captura-de-pantalla-144-_png.rf.c26ccd3a91fa8d774bb1eff4e5a8dcda.jpg  \n",
            " extracting: test/images/Captura-de-pantalla-147-_png.rf.928cbcf214043c504f143cd48d34e326.jpg  \n",
            " extracting: test/images/Captura-de-pantalla-149-_png.rf.e48b101bc04ce90b4bc162e6fa5fd4ae.jpg  \n",
            " extracting: test/images/Captura-de-pantalla-153-_png.rf.6c06390dc81698856e3f5f7b38fa5847.jpg  \n",
            " extracting: test/images/Captura-de-pantalla-159-_png.rf.0dfbcfbecfcd98acfcc413797b3ba922.jpg  \n",
            " extracting: test/images/Captura-de-pantalla-160-_png.rf.c1a9ca52744ede7d97262933e0f16a24.jpg  \n",
            " extracting: test/images/Captura-de-pantalla-161-_png.rf.07cb193024f9de52d1ce16c965d7ab0e.jpg  \n",
            " extracting: test/images/Captura-de-pantalla-163-_png.rf.e744d6a44ec5fa789e4442ac33970558.jpg  \n",
            " extracting: test/images/Captura-de-pantalla-164-_png.rf.283c3a2b2930611270d415c95dc959cf.jpg  \n",
            " extracting: test/images/Captura-de-pantalla-170-_png.rf.e9bef299f3fceade52d1d39d2fef7197.jpg  \n",
            " extracting: test/images/Captura-de-pantalla-176-_png.rf.0030207fee5674a9c31bc30aa99a2a08.jpg  \n",
            " extracting: test/images/Captura-de-pantalla-177-_png.rf.6d5b3e6c14e3a03e3f4b0bc85f27393e.jpg  \n",
            " extracting: test/images/Captura-de-pantalla-34-_png.rf.469bd432f54bc50b72d648253ac2cf01.jpg  \n",
            " extracting: test/images/Captura-de-pantalla-365-_png.rf.3ee6d41408ffafa51a690eee54ddbafd.jpg  \n",
            " extracting: test/images/Captura-de-pantalla-368-_png.rf.bc776c9f7c2de21bc2b13a9ff9effbef.jpg  \n",
            " extracting: test/images/Captura-de-pantalla-369-_png.rf.40efb0152ee5978cfe3bc0d169b7e9b5.jpg  \n",
            " extracting: test/images/Captura-de-pantalla-370-_png.rf.1f89c175cb4d5c7ef147be5b9d78f8fc.jpg  \n",
            " extracting: test/images/Captura-de-pantalla-386-_png.rf.2a0c87adf064e5e5217255f6680608bc.jpg  \n",
            " extracting: test/images/Captura-de-pantalla-389-_png.rf.27ebccf0892a4b2578e2119ad4028d2a.jpg  \n",
            " extracting: test/images/Captura-de-pantalla-401-_png.rf.fd6ea85e68686a0d1e10f7532a40f667.jpg  \n",
            " extracting: test/images/Captura-de-pantalla-409-_png.rf.ce6fee3a6f35c77ba2344aee9551f777.jpg  \n",
            " extracting: test/images/Captura-de-pantalla-416-_png.rf.2b3d839b34bfec8e079ffefa5c5c73c6.jpg  \n",
            " extracting: test/images/Captura-de-pantalla-422-_png.rf.c551189963a0ff07887f0db152be62cb.jpg  \n",
            " extracting: test/images/Captura-de-pantalla-426-_png.rf.710cba10cf0e908ba412c6b2b0cb399b.jpg  \n",
            " extracting: test/images/Captura-de-pantalla-69-_png.rf.f262f1ee764d695c70b7673bd6d649d0.jpg  \n",
            " extracting: test/images/Captura-de-pantalla-71-_png.rf.1aa80d2a09f9cde1731d4a34ca940f48.jpg  \n",
            " extracting: test/images/T-34-1941-13-_png.rf.b203abd4689e720f806069dea2ba5c40.jpg  \n",
            " extracting: test/images/T-34-1941-14-_png.rf.1cbbea5e0dd2ec78b13f6a1704077f9e.jpg  \n",
            " extracting: test/images/T-34-1941-15-_png.rf.128d0eeece8f7227a0618147ffb535c5.jpg  \n",
            "   creating: test/labels/\n",
            "  inflating: test/labels/8619d943-ASU-57_2_jpg.rf.1769519106f959577dd1a7e9505161b3.txt  \n",
            "  inflating: test/labels/ASU-57-2-_jpg.rf.841e0f6a866545dfc0dbdb1e20f7e370.txt  \n",
            "  inflating: test/labels/ASU-57-3-_jpg.rf.6adc0442a377984bdfe083ecf37507cb.txt  \n",
            "  inflating: test/labels/Captura-de-pantalla-111-_png.rf.abd1ed034ac54220566d04edecda222e.txt  \n",
            "  inflating: test/labels/Captura-de-pantalla-112-_png.rf.3042512d43dff907e0b5df373d6d72ad.txt  \n",
            "  inflating: test/labels/Captura-de-pantalla-116-_png.rf.ac4586898c9b29fc2c201b7f3d654822.txt  \n",
            "  inflating: test/labels/Captura-de-pantalla-117-_png.rf.63b57233e26be39cf3d51165470839a0.txt  \n",
            "  inflating: test/labels/Captura-de-pantalla-118-_png.rf.54c2f4d57928515fa6561fe8aab94c30.txt  \n",
            "  inflating: test/labels/Captura-de-pantalla-120-_png.rf.d8a76a98adca80324b26ddfa3b80db67.txt  \n",
            "  inflating: test/labels/Captura-de-pantalla-121-_png.rf.53c9a1bcfeb1c3a387b0cc56d905bd35.txt  \n",
            "  inflating: test/labels/Captura-de-pantalla-129-_png.rf.305d794e62447fa0f6b76d73aba0c7d9.txt  \n",
            "  inflating: test/labels/Captura-de-pantalla-130-_png.rf.3838b6cd434eabc92726d0001f1fb252.txt  \n",
            "  inflating: test/labels/Captura-de-pantalla-136-_png.rf.e8d4ad56a6cd042e811c1f3e16d7ce1c.txt  \n",
            "  inflating: test/labels/Captura-de-pantalla-137-_png.rf.838c8c558994514f247e3337623816d9.txt  \n",
            "  inflating: test/labels/Captura-de-pantalla-140-_png.rf.bcb0a435232aa491c6ec504d525f952b.txt  \n",
            "  inflating: test/labels/Captura-de-pantalla-141-_png.rf.0e0a5ea0ca38f17b4d2472c3f0bc700f.txt  \n",
            "  inflating: test/labels/Captura-de-pantalla-143-_png.rf.eb6234ce98cbaad555cc10ce588aa205.txt  \n",
            "  inflating: test/labels/Captura-de-pantalla-144-_png.rf.c26ccd3a91fa8d774bb1eff4e5a8dcda.txt  \n",
            "  inflating: test/labels/Captura-de-pantalla-147-_png.rf.928cbcf214043c504f143cd48d34e326.txt  \n",
            "  inflating: test/labels/Captura-de-pantalla-149-_png.rf.e48b101bc04ce90b4bc162e6fa5fd4ae.txt  \n",
            "  inflating: test/labels/Captura-de-pantalla-153-_png.rf.6c06390dc81698856e3f5f7b38fa5847.txt  \n",
            "  inflating: test/labels/Captura-de-pantalla-159-_png.rf.0dfbcfbecfcd98acfcc413797b3ba922.txt  \n",
            "  inflating: test/labels/Captura-de-pantalla-160-_png.rf.c1a9ca52744ede7d97262933e0f16a24.txt  \n",
            "  inflating: test/labels/Captura-de-pantalla-161-_png.rf.07cb193024f9de52d1ce16c965d7ab0e.txt  \n",
            "  inflating: test/labels/Captura-de-pantalla-163-_png.rf.e744d6a44ec5fa789e4442ac33970558.txt  \n",
            "  inflating: test/labels/Captura-de-pantalla-164-_png.rf.283c3a2b2930611270d415c95dc959cf.txt  \n",
            "  inflating: test/labels/Captura-de-pantalla-170-_png.rf.e9bef299f3fceade52d1d39d2fef7197.txt  \n",
            "  inflating: test/labels/Captura-de-pantalla-176-_png.rf.0030207fee5674a9c31bc30aa99a2a08.txt  \n",
            "  inflating: test/labels/Captura-de-pantalla-177-_png.rf.6d5b3e6c14e3a03e3f4b0bc85f27393e.txt  \n",
            "  inflating: test/labels/Captura-de-pantalla-34-_png.rf.469bd432f54bc50b72d648253ac2cf01.txt  \n",
            "  inflating: test/labels/Captura-de-pantalla-365-_png.rf.3ee6d41408ffafa51a690eee54ddbafd.txt  \n",
            "  inflating: test/labels/Captura-de-pantalla-368-_png.rf.bc776c9f7c2de21bc2b13a9ff9effbef.txt  \n",
            "  inflating: test/labels/Captura-de-pantalla-369-_png.rf.40efb0152ee5978cfe3bc0d169b7e9b5.txt  \n",
            "  inflating: test/labels/Captura-de-pantalla-370-_png.rf.1f89c175cb4d5c7ef147be5b9d78f8fc.txt  \n",
            "  inflating: test/labels/Captura-de-pantalla-386-_png.rf.2a0c87adf064e5e5217255f6680608bc.txt  \n",
            "  inflating: test/labels/Captura-de-pantalla-389-_png.rf.27ebccf0892a4b2578e2119ad4028d2a.txt  \n",
            "  inflating: test/labels/Captura-de-pantalla-401-_png.rf.fd6ea85e68686a0d1e10f7532a40f667.txt  \n",
            "  inflating: test/labels/Captura-de-pantalla-409-_png.rf.ce6fee3a6f35c77ba2344aee9551f777.txt  \n",
            "  inflating: test/labels/Captura-de-pantalla-416-_png.rf.2b3d839b34bfec8e079ffefa5c5c73c6.txt  \n",
            "  inflating: test/labels/Captura-de-pantalla-422-_png.rf.c551189963a0ff07887f0db152be62cb.txt  \n",
            "  inflating: test/labels/Captura-de-pantalla-426-_png.rf.710cba10cf0e908ba412c6b2b0cb399b.txt  \n",
            "  inflating: test/labels/Captura-de-pantalla-69-_png.rf.f262f1ee764d695c70b7673bd6d649d0.txt  \n",
            "  inflating: test/labels/Captura-de-pantalla-71-_png.rf.1aa80d2a09f9cde1731d4a34ca940f48.txt  \n",
            "  inflating: test/labels/T-34-1941-13-_png.rf.b203abd4689e720f806069dea2ba5c40.txt  \n",
            "  inflating: test/labels/T-34-1941-14-_png.rf.1cbbea5e0dd2ec78b13f6a1704077f9e.txt  \n",
            "  inflating: test/labels/T-34-1941-15-_png.rf.128d0eeece8f7227a0618147ffb535c5.txt  \n",
            "   creating: train/\n",
            "   creating: train/images/\n",
            " extracting: train/images/0890a4cc-ASU-57_6_jpg.rf.1405a3d049125bd53088d49dc7cda10b.jpg  \n",
            " extracting: train/images/0890a4cc-ASU-57_6_jpg.rf.81ad6eb00670d2ab809d4b423ba05467.jpg  \n",
            " extracting: train/images/0890a4cc-ASU-57_6_jpg.rf.94ddd6ff7de8397656834841af9b90d5.jpg  \n",
            " extracting: train/images/0b237866-ASU-57_7_jpg.rf.48aa4a2b543a4e4205325b18d8541e59.jpg  \n",
            " extracting: train/images/0b237866-ASU-57_7_jpg.rf.ad7d0b09c3e49289bc778cb52f785069.jpg  \n",
            " extracting: train/images/0b237866-ASU-57_7_jpg.rf.d3c26151f20a330b5716bf42a3b15705.jpg  \n",
            " extracting: train/images/11927214-ASU-57_jpg.rf.05794cc10144419dcbd52d88c2651229.jpg  \n",
            " extracting: train/images/11927214-ASU-57_jpg.rf.61ddc05a62eb80e7bbe57e5cf6a6c92d.jpg  \n",
            " extracting: train/images/11927214-ASU-57_jpg.rf.96bd1d86602c5082baa0acbc38a80fa7.jpg  \n",
            " extracting: train/images/32350f93-ASU-57_9_jpg.rf.664b646b90be1584172d6c560808efc7.jpg  \n",
            " extracting: train/images/32350f93-ASU-57_9_jpg.rf.83dcaaa5200a0870c2fc041ecd4038b7.jpg  \n",
            " extracting: train/images/32350f93-ASU-57_9_jpg.rf.bfedd0c00cc539c36bef3b9b4020f5de.jpg  \n",
            " extracting: train/images/3deed692-ASU-57_15_jpg.rf.80a8b28d92958a4129d8637a872d225b.jpg  \n",
            " extracting: train/images/3deed692-ASU-57_15_jpg.rf.95492936e1455f6980751ec9fcb6e2e5.jpg  \n",
            " extracting: train/images/3deed692-ASU-57_15_jpg.rf.bbe795c2f53992dacba8fb5d92dafe88.jpg  \n",
            " extracting: train/images/41b526b1-ASU-57_5_jpg.rf.59b93895b06ab39a6578f210df9398d0.jpg  \n",
            " extracting: train/images/41b526b1-ASU-57_5_jpg.rf.74683905b2d19661b469e87ade0f5943.jpg  \n",
            " extracting: train/images/41b526b1-ASU-57_5_jpg.rf.8475bdb36b4b157a121276c12370b3fe.jpg  \n",
            " extracting: train/images/61bf2fa9-ASU-57_10_jpg.rf.06a819570208d4144fbbf140864a28f6.jpg  \n",
            " extracting: train/images/61bf2fa9-ASU-57_10_jpg.rf.4e7e14e6eb8ff6d89ada3c5b17779edc.jpg  \n",
            " extracting: train/images/61bf2fa9-ASU-57_10_jpg.rf.50a8683f56832671cad83332849ea96c.jpg  \n",
            " extracting: train/images/904a5ca1-ASU-57_11_jpg.rf.76d41fd0196b3b818c07f064927d3a41.jpg  \n",
            " extracting: train/images/904a5ca1-ASU-57_11_jpg.rf.cbdb28413234e821a310d61e316f579b.jpg  \n",
            " extracting: train/images/904a5ca1-ASU-57_11_jpg.rf.e3b4ef735302aba15dd707789cff00f9.jpg  \n",
            " extracting: train/images/91a9aa41-ASU-57_13_jpg.rf.328e87117169f93eedc4010996b61500.jpg  \n",
            " extracting: train/images/91a9aa41-ASU-57_13_jpg.rf.85d4711da41be2b448e54b98bcf40016.jpg  \n",
            " extracting: train/images/91a9aa41-ASU-57_13_jpg.rf.e433f7fcc8fbdc37ea85bb7c783417ab.jpg  \n",
            " extracting: train/images/92231008-ASU-57_14_jpg.rf.37040f872e5ff661c9b062df4b58c739.jpg  \n",
            " extracting: train/images/92231008-ASU-57_14_jpg.rf.943ebc60a7f743b2072d5e5e64770449.jpg  \n",
            " extracting: train/images/92231008-ASU-57_14_jpg.rf.a0a268347b3701ca901e14a299274422.jpg  \n",
            " extracting: train/images/Captura-de-pantalla-109-_png.rf.68940972fdf76826ee7f46a5b36d8070.jpg  \n",
            " extracting: train/images/Captura-de-pantalla-109-_png.rf.6c7b6ce90043467ab1fe77c47ae12d41.jpg  \n",
            " extracting: train/images/Captura-de-pantalla-109-_png.rf.d1a746fde84112ae8aa8a5f5ddb968a9.jpg  \n",
            " extracting: train/images/Captura-de-pantalla-110-_png.rf.3e221d03b716e146b364e31a049ce101.jpg  \n",
            " extracting: train/images/Captura-de-pantalla-110-_png.rf.5d57c499379d4e8de68fb6780e0b856f.jpg  \n",
            " extracting: train/images/Captura-de-pantalla-110-_png.rf.629e5623ce6b532177c75f6188e12387.jpg  \n",
            " extracting: train/images/Captura-de-pantalla-114-_png.rf.3cd2190a0a53ee26dce141113f4aab7b.jpg  \n",
            " extracting: train/images/Captura-de-pantalla-114-_png.rf.cf684f45cbd7a3d7e1bb92e2c9b38abc.jpg  \n",
            " extracting: train/images/Captura-de-pantalla-114-_png.rf.ed83068d91be9dfa544f575b51b1b6a3.jpg  \n",
            " extracting: train/images/Captura-de-pantalla-115-_png.rf.4383debff17c41ed1fb4bcf43782f95f.jpg  \n",
            " extracting: train/images/Captura-de-pantalla-115-_png.rf.694e660012d133a498abb81d6c9d7835.jpg  \n",
            " extracting: train/images/Captura-de-pantalla-115-_png.rf.72d0bf6de9fa139f97ce5270510e7ff2.jpg  \n",
            " extracting: train/images/Captura-de-pantalla-119-_png.rf.2549af2648998fd4aa82244053a5bf29.jpg  \n",
            " extracting: train/images/Captura-de-pantalla-119-_png.rf.6f0c7663dcbb0b3252e4c2b995006b11.jpg  \n",
            " extracting: train/images/Captura-de-pantalla-119-_png.rf.fe418faa1f67708dd213406481f48d4a.jpg  \n",
            " extracting: train/images/Captura-de-pantalla-122-_png.rf.312c54896067f660409c9526c544af78.jpg  \n",
            " extracting: train/images/Captura-de-pantalla-122-_png.rf.926c0af0861346e8940434592057fc19.jpg  \n",
            " extracting: train/images/Captura-de-pantalla-122-_png.rf.aead89538a87b2382da17bd7054bd7eb.jpg  \n",
            " extracting: train/images/Captura-de-pantalla-123-_png.rf.6d39a6458afc74a4f54524b1bf2d8bb2.jpg  \n",
            " extracting: train/images/Captura-de-pantalla-123-_png.rf.6f72bc39911eea9d92476e6465f89e9d.jpg  \n",
            " extracting: train/images/Captura-de-pantalla-123-_png.rf.e98951ecc3e8046218141c7e4fe4c8f5.jpg  \n",
            " extracting: train/images/Captura-de-pantalla-124-_png.rf.18a050804f940a4c6ec34fefcb519650.jpg  \n",
            " extracting: train/images/Captura-de-pantalla-124-_png.rf.53a78be969ddecea4279ebf02c3f5a01.jpg  \n",
            " extracting: train/images/Captura-de-pantalla-124-_png.rf.911909aed01e8884e20f92a74b459345.jpg  \n",
            " extracting: train/images/Captura-de-pantalla-125-_png.rf.49105ed60bb4c94e9b2137f293bf6fde.jpg  \n",
            " extracting: train/images/Captura-de-pantalla-125-_png.rf.9722177904d13fd1600e55aa6a6ac62d.jpg  \n",
            " extracting: train/images/Captura-de-pantalla-125-_png.rf.9bfe06f8b4c0b38f4af27f0e71e30907.jpg  \n",
            " extracting: train/images/Captura-de-pantalla-126-_png.rf.68e9cd22817603ea7fb4123d9be9b6e0.jpg  \n",
            " extracting: train/images/Captura-de-pantalla-126-_png.rf.938b7a4e38a876a7a7d5c580cb05166b.jpg  \n",
            " extracting: train/images/Captura-de-pantalla-126-_png.rf.a9edcd32a1741c7ac36a9fee8c8f705b.jpg  \n",
            " extracting: train/images/Captura-de-pantalla-127-_png.rf.180e2bcc1f70eaa479d90e2953b4cf44.jpg  \n",
            " extracting: train/images/Captura-de-pantalla-127-_png.rf.376c23f647d17263fbf12690ec69e1b4.jpg  \n",
            " extracting: train/images/Captura-de-pantalla-127-_png.rf.ffaae58b56053203d767c285fe46091f.jpg  \n",
            " extracting: train/images/Captura-de-pantalla-128-_png.rf.1b8600656dc451f302b34153ef79fdd8.jpg  \n",
            " extracting: train/images/Captura-de-pantalla-128-_png.rf.747566855bbb3c0550acff16d9963e64.jpg  \n",
            " extracting: train/images/Captura-de-pantalla-128-_png.rf.be91a788a67713b3be53dffd5c0d25cc.jpg  \n",
            " extracting: train/images/Captura-de-pantalla-133-_png.rf.6b435203c7129ef924c017667d9a87d6.jpg  \n",
            " extracting: train/images/Captura-de-pantalla-133-_png.rf.9c897af78898c45fb4729c5f81e813df.jpg  \n",
            " extracting: train/images/Captura-de-pantalla-133-_png.rf.e7cfb50b525e9b22b88eb02db7698eb5.jpg  \n",
            " extracting: train/images/Captura-de-pantalla-135-_png.rf.1cea0937f5b73935afb5a6a157299132.jpg  \n",
            " extracting: train/images/Captura-de-pantalla-135-_png.rf.98795125d745179d55e3263a446de810.jpg  \n",
            " extracting: train/images/Captura-de-pantalla-135-_png.rf.e3849e020139183702faed77da9fdf2c.jpg  \n",
            " extracting: train/images/Captura-de-pantalla-139-_png.rf.4a87d684db4e2ae0471995f6c6aea6e7.jpg  \n",
            " extracting: train/images/Captura-de-pantalla-139-_png.rf.befefaa486fe43ba44cbeabce351698c.jpg  \n",
            " extracting: train/images/Captura-de-pantalla-139-_png.rf.f263776169a46b35b474f11c41c87a36.jpg  \n",
            " extracting: train/images/Captura-de-pantalla-145-_png.rf.3cf573ec4ac1c2872aadb93f8fe0f025.jpg  \n",
            " extracting: train/images/Captura-de-pantalla-145-_png.rf.68b930a3e8823b50e4077c9c5eb24a4f.jpg  \n",
            " extracting: train/images/Captura-de-pantalla-145-_png.rf.6e0d7ed580a179713b46c3ac2f13db3a.jpg  \n",
            " extracting: train/images/Captura-de-pantalla-146-_png.rf.64ec878ecb0b62e24417579b74fec53f.jpg  \n",
            " extracting: train/images/Captura-de-pantalla-146-_png.rf.8121c55008a36199f4903cdf19f9e6a5.jpg  \n",
            " extracting: train/images/Captura-de-pantalla-146-_png.rf.c0c9d39c650a239e00db3dc9298b3615.jpg  \n",
            " extracting: train/images/Captura-de-pantalla-148-_png.rf.054d8a01be4ec9d2deb7a44c1302fb07.jpg  \n",
            " extracting: train/images/Captura-de-pantalla-148-_png.rf.9230209f96d1f0663b2d8a00d578a6b8.jpg  \n",
            " extracting: train/images/Captura-de-pantalla-148-_png.rf.faae43eb6badbc71312c64a5a5aadef2.jpg  \n",
            " extracting: train/images/Captura-de-pantalla-150-_png.rf.455c9fd698576e3e4f196594d73bb49f.jpg  \n",
            " extracting: train/images/Captura-de-pantalla-150-_png.rf.6bc4ad95ca5bb52dce79cfca5689e112.jpg  \n",
            " extracting: train/images/Captura-de-pantalla-150-_png.rf.b38840fc1c451a3e127d08d43ab73ef7.jpg  \n",
            " extracting: train/images/Captura-de-pantalla-151-_png.rf.2301d7ff0c2d32c566462959619ad784.jpg  \n",
            " extracting: train/images/Captura-de-pantalla-151-_png.rf.99547fb32de50b9fa22ab27df2f1a17f.jpg  \n",
            " extracting: train/images/Captura-de-pantalla-151-_png.rf.ae293f1ac5204f26da9ad4f9d7846081.jpg  \n",
            " extracting: train/images/Captura-de-pantalla-152-_png.rf.1f8d9a82421a64dafced5664cf33b82c.jpg  \n",
            " extracting: train/images/Captura-de-pantalla-152-_png.rf.9fe35ebed0ce34e5583828da8cb53149.jpg  \n",
            " extracting: train/images/Captura-de-pantalla-152-_png.rf.b88396f6635909ee7944f8d6021db851.jpg  \n",
            " extracting: train/images/Captura-de-pantalla-154-_png.rf.91f5cc5a3ab79b55729bec28899b3d89.jpg  \n",
            " extracting: train/images/Captura-de-pantalla-154-_png.rf.97065fd607fdb0677cfaafd3dcdf423b.jpg  \n",
            " extracting: train/images/Captura-de-pantalla-154-_png.rf.dbb19ebad3802845407168220c331da1.jpg  \n",
            " extracting: train/images/Captura-de-pantalla-155-_png.rf.e5cd9b8758d886f4a3fe69070896b0c7.jpg  \n",
            " extracting: train/images/Captura-de-pantalla-155-_png.rf.ec27a722cf496746718a7294465d95b1.jpg  \n",
            " extracting: train/images/Captura-de-pantalla-155-_png.rf.f09a25909de274ca4b1dda33f497cd0e.jpg  \n",
            " extracting: train/images/Captura-de-pantalla-156-_png.rf.6b0ab06ab41fea619e578853efa0530d.jpg  \n",
            " extracting: train/images/Captura-de-pantalla-156-_png.rf.7177604ba9a000c2c11623c365e84285.jpg  \n",
            " extracting: train/images/Captura-de-pantalla-156-_png.rf.c0bfa07a0ac19e3fbec8b8aa3570595d.jpg  \n",
            " extracting: train/images/Captura-de-pantalla-158-_png.rf.6d3cba37f5c827e9a5fa47339fcae2b2.jpg  \n",
            " extracting: train/images/Captura-de-pantalla-158-_png.rf.af2b2be70ae6ea1df534cb6bc254cd99.jpg  \n",
            " extracting: train/images/Captura-de-pantalla-158-_png.rf.c9deae90951576ee5afda3df949e2739.jpg  \n",
            " extracting: train/images/Captura-de-pantalla-159-_png.rf.0010b7f261987696708c1ab645386af1.jpg  \n",
            " extracting: train/images/Captura-de-pantalla-159-_png.rf.6a5a8d42d51d470df7295672ee2282f5.jpg  \n",
            " extracting: train/images/Captura-de-pantalla-159-_png.rf.c77a724e0a4dac15e368b7d1adea1374.jpg  \n",
            " extracting: train/images/Captura-de-pantalla-160-_png.rf.023335685c87e64c43f40b088d33410b.jpg  \n",
            " extracting: train/images/Captura-de-pantalla-160-_png.rf.8d6f6cd746f825c48aaca852aa683dfd.jpg  \n",
            " extracting: train/images/Captura-de-pantalla-160-_png.rf.f665df00fe5cc95a9daf3493e6a96261.jpg  \n",
            " extracting: train/images/Captura-de-pantalla-161-_png.rf.97969177369daa2a4a389c718c99ba46.jpg  \n",
            " extracting: train/images/Captura-de-pantalla-161-_png.rf.b5b6b6b94331128f71102bd8609d200d.jpg  \n",
            " extracting: train/images/Captura-de-pantalla-161-_png.rf.f120206314d0a737344546de46770bf7.jpg  \n",
            " extracting: train/images/Captura-de-pantalla-162-_png.rf.0a5c2d71a9978d40316c17487a75123b.jpg  \n",
            " extracting: train/images/Captura-de-pantalla-162-_png.rf.256276921d64b3602723b25002c76375.jpg  \n",
            " extracting: train/images/Captura-de-pantalla-162-_png.rf.3bc2ed8abc8ca59db2286e5b4905911b.jpg  \n",
            " extracting: train/images/Captura-de-pantalla-162-_png.rf.53b543bfe46d6f37c9728cea53bfa03b.jpg  \n",
            " extracting: train/images/Captura-de-pantalla-162-_png.rf.a15b11c7173997fc7b60791899df7821.jpg  \n",
            " extracting: train/images/Captura-de-pantalla-162-_png.rf.f82aa56d6206d593b9d037c4adfdd221.jpg  \n",
            " extracting: train/images/Captura-de-pantalla-163-_png.rf.1979a974ea6c77d9e44619bb79a7fc2b.jpg  \n",
            " extracting: train/images/Captura-de-pantalla-163-_png.rf.9da35b3597b0c4d31eaa6d58c2701e8c.jpg  \n",
            " extracting: train/images/Captura-de-pantalla-163-_png.rf.c745bd04edf12e4cbd3af2abdc3305ca.jpg  \n",
            " extracting: train/images/Captura-de-pantalla-164-_png.rf.196a3f087ec185e86351f11529926c89.jpg  \n",
            " extracting: train/images/Captura-de-pantalla-164-_png.rf.7cc93b7b3cd9d2e94897609d71fcfa70.jpg  \n",
            " extracting: train/images/Captura-de-pantalla-164-_png.rf.ca15c799143fa49cd60a8696402a86b8.jpg  \n",
            " extracting: train/images/Captura-de-pantalla-165-_png.rf.6ecbfb9e5ab406f703d729ff61282657.jpg  \n",
            " extracting: train/images/Captura-de-pantalla-165-_png.rf.adcb8d4028028ed958ea5d7c348f2a49.jpg  \n",
            " extracting: train/images/Captura-de-pantalla-165-_png.rf.e9f802a31ebdd08d4ffb8ed4993bd82e.jpg  \n",
            " extracting: train/images/Captura-de-pantalla-167-_png.rf.71724767899ccb73e0ebc8aabb3e80db.jpg  \n",
            " extracting: train/images/Captura-de-pantalla-167-_png.rf.b933570b4470bbfcc127b0c182de746b.jpg  \n",
            " extracting: train/images/Captura-de-pantalla-167-_png.rf.bd8c08ba9e8d75526077b40c6caa6fc1.jpg  \n",
            " extracting: train/images/Captura-de-pantalla-168-_png.rf.05dbfb7af39e53ccf0794142cb60925b.jpg  \n",
            " extracting: train/images/Captura-de-pantalla-168-_png.rf.2667138bbcd8f6cf9fe98cdb38bd0d30.jpg  \n",
            " extracting: train/images/Captura-de-pantalla-168-_png.rf.3a17bd27e3d0a3573e9a4f6c3ef82a4c.jpg  \n",
            " extracting: train/images/Captura-de-pantalla-168-_png.rf.439e3b7398e0a9dbe2dc09d476057c04.jpg  \n",
            " extracting: train/images/Captura-de-pantalla-168-_png.rf.7de221393078d4a6581a5b2970a63b6a.jpg  \n",
            " extracting: train/images/Captura-de-pantalla-168-_png.rf.ff999e11651911fc902b93d1c2dc5b11.jpg  \n",
            " extracting: train/images/Captura-de-pantalla-169-_png.rf.0ac3475a869c72122c13c231171c49dd.jpg  \n",
            " extracting: train/images/Captura-de-pantalla-169-_png.rf.22390eaf47d804fb48db7717b458a93d.jpg  \n",
            " extracting: train/images/Captura-de-pantalla-169-_png.rf.833ca7e161e8657d70eaabb2aaf725d8.jpg  \n",
            " extracting: train/images/Captura-de-pantalla-169-_png.rf.c9086e0acfbbb0fc1c986c6016200a93.jpg  \n",
            " extracting: train/images/Captura-de-pantalla-169-_png.rf.f8ac25960222ea0be10e1c6c87b0005b.jpg  \n",
            " extracting: train/images/Captura-de-pantalla-169-_png.rf.fd7000e5c037b53690e15d0873ff0fc0.jpg  \n",
            " extracting: train/images/Captura-de-pantalla-170-_png.rf.4570c8a895fbf1e74aafce24d8da2f07.jpg  \n",
            " extracting: train/images/Captura-de-pantalla-170-_png.rf.6c9d5b6a8ac25868b6693e6bb3241d26.jpg  \n",
            " extracting: train/images/Captura-de-pantalla-170-_png.rf.c07302ba1d8982ce7cc8c33bd09ef78a.jpg  \n",
            " extracting: train/images/Captura-de-pantalla-171-_png.rf.26dbd5f68f56adeb41e07f738aae0c6f.jpg  \n",
            " extracting: train/images/Captura-de-pantalla-171-_png.rf.41cf7325b48973d55cef65a8a9e1ace9.jpg  \n",
            " extracting: train/images/Captura-de-pantalla-171-_png.rf.6af2f1782b236be3f2408859b115c2e0.jpg  \n",
            " extracting: train/images/Captura-de-pantalla-171-_png.rf.7cd96cdfc5b0f716ee978b192a229236.jpg  \n",
            " extracting: train/images/Captura-de-pantalla-171-_png.rf.8c7cc0453478d03f0671c24fdc1f9ea5.jpg  \n",
            " extracting: train/images/Captura-de-pantalla-171-_png.rf.d562fcfef14db27afd6ae5b2c8b2156d.jpg  \n",
            " extracting: train/images/Captura-de-pantalla-172-_png.rf.1603b54e0549ef5243213e88fbb2d1f7.jpg  \n",
            " extracting: train/images/Captura-de-pantalla-172-_png.rf.35b0bb1806df7dced962ec40ba416232.jpg  \n",
            " extracting: train/images/Captura-de-pantalla-172-_png.rf.63ac47fa1f42a595cfaac735d6d70e3c.jpg  \n",
            " extracting: train/images/Captura-de-pantalla-172-_png.rf.99f8e4667f72edcaf7d7122284742b2b.jpg  \n",
            " extracting: train/images/Captura-de-pantalla-172-_png.rf.9d204dd9c4ced3b05fefcbe88fab3dda.jpg  \n",
            " extracting: train/images/Captura-de-pantalla-172-_png.rf.ec11d4fc47b2720a2f959cb4c292bfe7.jpg  \n",
            " extracting: train/images/Captura-de-pantalla-173-_png.rf.441bf9291333d1a0e321050b1041cb9f.jpg  \n",
            " extracting: train/images/Captura-de-pantalla-173-_png.rf.4e219338027725d33a5c2553efa3230a.jpg  \n",
            " extracting: train/images/Captura-de-pantalla-173-_png.rf.4e6715973015f90e2a742e19e81cb79e.jpg  \n",
            " extracting: train/images/Captura-de-pantalla-173-_png.rf.a9da39f446ead4173e9b656b8a5929eb.jpg  \n",
            " extracting: train/images/Captura-de-pantalla-173-_png.rf.eb94c13127d0520578abbf62eb15b34d.jpg  \n",
            " extracting: train/images/Captura-de-pantalla-173-_png.rf.efad5e61f8ceed90379b44bdd05fe3d4.jpg  \n",
            " extracting: train/images/Captura-de-pantalla-174-_png.rf.13f4ba9340393fe9afe6827a882aa208.jpg  \n",
            " extracting: train/images/Captura-de-pantalla-174-_png.rf.348f85680f391955d49b7b1a22853be9.jpg  \n",
            " extracting: train/images/Captura-de-pantalla-174-_png.rf.34ed88834b2b1c0d52d0618defc89c46.jpg  \n",
            " extracting: train/images/Captura-de-pantalla-175-_png.rf.5e73d38caaa8e46d421ec00987fb1b0c.jpg  \n",
            " extracting: train/images/Captura-de-pantalla-175-_png.rf.a24789cfee0933d97375df9d3c196599.jpg  \n",
            " extracting: train/images/Captura-de-pantalla-175-_png.rf.b1125c65403a6f48db1926b06a78b9c5.jpg  \n",
            " extracting: train/images/Captura-de-pantalla-175-_png.rf.b4bf3089e156311f42f65baa6c4423f2.jpg  \n",
            " extracting: train/images/Captura-de-pantalla-175-_png.rf.b6f151ab2dc074a7f02a628de75b1cdc.jpg  \n",
            " extracting: train/images/Captura-de-pantalla-175-_png.rf.e730bafe60a06dc5016d9b83d3233627.jpg  \n",
            " extracting: train/images/Captura-de-pantalla-176-_png.rf.1dca1b221e1164b7be8e577db1ee5091.jpg  \n",
            " extracting: train/images/Captura-de-pantalla-176-_png.rf.64e1343f99c947cb1292e59077da2d45.jpg  \n",
            " extracting: train/images/Captura-de-pantalla-176-_png.rf.c1b818c6665ba1ccd6bc173cf9f53058.jpg  \n",
            " extracting: train/images/Captura-de-pantalla-177-_png.rf.4fb90df4c7e0eaa2aefed871da268cfd.jpg  \n",
            " extracting: train/images/Captura-de-pantalla-177-_png.rf.58e4565801565c2cbdcc65b67db6991f.jpg  \n",
            " extracting: train/images/Captura-de-pantalla-177-_png.rf.b8d55cb805b15c4819801938ab1b39e4.jpg  \n",
            " extracting: train/images/Captura-de-pantalla-178-_png.rf.4fe88200514a3445d5bb732d54b1c193.jpg  \n",
            " extracting: train/images/Captura-de-pantalla-178-_png.rf.6b2608c38f3c7ade51712dd4dbbd9bb0.jpg  \n",
            " extracting: train/images/Captura-de-pantalla-178-_png.rf.c1982ffd3df103446bc7c2d34f78799c.jpg  \n",
            " extracting: train/images/Captura-de-pantalla-179-_png.rf.10e7b4c7a16afccf8f20ac3a54b73c4b.jpg  \n",
            " extracting: train/images/Captura-de-pantalla-179-_png.rf.2672ef18525b37fa8e385a066927496e.jpg  \n",
            " extracting: train/images/Captura-de-pantalla-179-_png.rf.502c91e059c5b74bb6bc8ef16eb7650b.jpg  \n",
            " extracting: train/images/Captura-de-pantalla-180-_png.rf.42c034b9d6c32b91ea939ae9d0acd417.jpg  \n",
            " extracting: train/images/Captura-de-pantalla-180-_png.rf.4a2d965fe585cd9e7e171e59ace43da6.jpg  \n",
            " extracting: train/images/Captura-de-pantalla-180-_png.rf.4f2628f71f12bca1962d3d261c0e49c2.jpg  \n",
            " extracting: train/images/Captura-de-pantalla-180-_png.rf.896f3fd559477140c57cd6e72697a162.jpg  \n",
            " extracting: train/images/Captura-de-pantalla-180-_png.rf.a99d9471d7447894089ae3d4d33a94cd.jpg  \n",
            " extracting: train/images/Captura-de-pantalla-180-_png.rf.e8729b4f010e7fd50a0758c5f99596fc.jpg  \n",
            " extracting: train/images/Captura-de-pantalla-181-_png.rf.723af668d54ea33edb35deda1b3b162f.jpg  \n",
            " extracting: train/images/Captura-de-pantalla-181-_png.rf.8ae5b7ed748053d3b059e3a5275ef046.jpg  \n",
            " extracting: train/images/Captura-de-pantalla-181-_png.rf.c20c93f3257d5b13ca1f9319489eb411.jpg  \n",
            " extracting: train/images/Captura-de-pantalla-182-_png.rf.1b9856304b883aa00a0047899ceb88ab.jpg  \n",
            " extracting: train/images/Captura-de-pantalla-182-_png.rf.8545b1916e1c792a858daa6a395cd564.jpg  \n",
            " extracting: train/images/Captura-de-pantalla-182-_png.rf.ddeb4d3c34919e757ffb5d2c064a220b.jpg  \n",
            " extracting: train/images/Captura-de-pantalla-183-_png.rf.4725fe8f303eebfd7a1a4fb3f4bdf230.jpg  \n",
            " extracting: train/images/Captura-de-pantalla-183-_png.rf.67a0cfa6b3373121f21836314f0c2788.jpg  \n",
            " extracting: train/images/Captura-de-pantalla-183-_png.rf.cffc6f474be3bc85a96b2549692b68d4.jpg  \n",
            " extracting: train/images/Captura-de-pantalla-184-_png.rf.362176395184845c27d3a663f818fb35.jpg  \n",
            " extracting: train/images/Captura-de-pantalla-184-_png.rf.753699e20b88a9782a052bff608bf9c3.jpg  \n",
            " extracting: train/images/Captura-de-pantalla-184-_png.rf.e8ca7bd50cf570e1b61f9a9e9d77a94a.jpg  \n",
            " extracting: train/images/Captura-de-pantalla-185-_png.rf.1aec8403d7a50ca4d624ee631fb78470.jpg  \n",
            " extracting: train/images/Captura-de-pantalla-185-_png.rf.2bd380c5af9e04ebfae9d6e2d5edd53c.jpg  \n",
            " extracting: train/images/Captura-de-pantalla-185-_png.rf.3ce8c044ec7c8dc087d77ec4c971abcd.jpg  \n",
            " extracting: train/images/Captura-de-pantalla-185-_png.rf.4ec3c4cfc8e1187550e7160c64adfcb4.jpg  \n",
            " extracting: train/images/Captura-de-pantalla-185-_png.rf.74c2957231ce0ec9f19576bc8dd8cbf3.jpg  \n",
            " extracting: train/images/Captura-de-pantalla-185-_png.rf.86221d32a4134e767cc9ab6261dafc02.jpg  \n",
            " extracting: train/images/Captura-de-pantalla-186-_png.rf.0087b7dec7e092416c41a58112790b6b.jpg  \n",
            " extracting: train/images/Captura-de-pantalla-186-_png.rf.111eaece3bdc7b4365336f1aab23774e.jpg  \n",
            " extracting: train/images/Captura-de-pantalla-186-_png.rf.26d5ffabdce220cd3b9f4b7a8c3d2892.jpg  \n",
            " extracting: train/images/Captura-de-pantalla-186-_png.rf.425fcf039bec5441788e7cedb63842b9.jpg  \n",
            " extracting: train/images/Captura-de-pantalla-186-_png.rf.4ceb7372c15a2ff72dab0928ff9953e4.jpg  \n",
            " extracting: train/images/Captura-de-pantalla-186-_png.rf.b078908bacabf8289e8555d2cf3f420b.jpg  \n",
            " extracting: train/images/Captura-de-pantalla-187-_png.rf.189af5f55bb20c8ca366685841617eed.jpg  \n",
            " extracting: train/images/Captura-de-pantalla-187-_png.rf.63f175b2a799a9ff3453e687f77d912a.jpg  \n",
            " extracting: train/images/Captura-de-pantalla-187-_png.rf.655b4a0b095696cb4fa6e77c0e20cbf1.jpg  \n",
            " extracting: train/images/Captura-de-pantalla-187-_png.rf.8c1f10ade9bc1269d06de76cacd6e1b8.jpg  \n",
            " extracting: train/images/Captura-de-pantalla-187-_png.rf.a5a9dd1e6c9255bdd2ef38025a6ca577.jpg  \n",
            " extracting: train/images/Captura-de-pantalla-187-_png.rf.fbc3db257d449627d5447949035af245.jpg  \n",
            " extracting: train/images/Captura-de-pantalla-188-_png.rf.1d61b686693e5c233b83f9a8c95ee24f.jpg  \n",
            " extracting: train/images/Captura-de-pantalla-188-_png.rf.2639280a00a1da4cfad5afb1cfc56671.jpg  \n",
            " extracting: train/images/Captura-de-pantalla-188-_png.rf.4e8b192165acbe4212d5b8e2179c01b3.jpg  \n",
            " extracting: train/images/Captura-de-pantalla-189-_png.rf.074ad1ea95bb5f0efec9352a64142e5b.jpg  \n",
            " extracting: train/images/Captura-de-pantalla-189-_png.rf.512a0117be496813e93cbd921ab81a62.jpg  \n",
            " extracting: train/images/Captura-de-pantalla-189-_png.rf.ab3d43506b45342a85603e9fdd73ad29.jpg  \n",
            " extracting: train/images/Captura-de-pantalla-190-_png.rf.081829593ae740d52f304b88de1f211e.jpg  \n",
            " extracting: train/images/Captura-de-pantalla-190-_png.rf.254ede78582cd7a8782d5393bfbc128c.jpg  \n",
            " extracting: train/images/Captura-de-pantalla-190-_png.rf.5408cc03e384a81c3784a286845ae957.jpg  \n",
            " extracting: train/images/Captura-de-pantalla-190-_png.rf.5febb4e44f20c3a4b468864a4b4bcb03.jpg  \n",
            " extracting: train/images/Captura-de-pantalla-190-_png.rf.9723e0c992a10df82f0265ef48485369.jpg  \n",
            " extracting: train/images/Captura-de-pantalla-190-_png.rf.f68b74c947c916447ee5539bad7c0c6c.jpg  \n",
            " extracting: train/images/Captura-de-pantalla-191-_png.rf.146f0f8e0c12b308b5428dd531cf9179.jpg  \n",
            " extracting: train/images/Captura-de-pantalla-191-_png.rf.42d6bdc19e2cc469e150d4cfa7b2ee79.jpg  \n",
            " extracting: train/images/Captura-de-pantalla-191-_png.rf.5bb75198906a61a9d333e5b822d5e7ea.jpg  \n",
            " extracting: train/images/Captura-de-pantalla-192-_png.rf.99e5a60c17e009c08a99948214e78251.jpg  \n",
            " extracting: train/images/Captura-de-pantalla-192-_png.rf.9bf67ed01cba8a26492ce5d93c45149e.jpg  \n",
            " extracting: train/images/Captura-de-pantalla-192-_png.rf.b0873e86ae3744d1b176f33ed49eaeac.jpg  \n",
            " extracting: train/images/Captura-de-pantalla-192-_png.rf.c3d3d4fea79d233abc75fc19d3151dc0.jpg  \n",
            " extracting: train/images/Captura-de-pantalla-192-_png.rf.df6a4458557875b1558fbbe6afeaaba6.jpg  \n",
            " extracting: train/images/Captura-de-pantalla-192-_png.rf.f78f24380226d36db1c7cdee2f5abf1b.jpg  \n",
            " extracting: train/images/Captura-de-pantalla-193-_png.rf.853c48a11baafd6aaf8375541e47ee46.jpg  \n",
            " extracting: train/images/Captura-de-pantalla-193-_png.rf.eec1866bf66a1e802cc328d296928384.jpg  \n",
            " extracting: train/images/Captura-de-pantalla-193-_png.rf.fd43ed6371dc660539eb8ecdb1d51880.jpg  \n",
            " extracting: train/images/Captura-de-pantalla-194-_png.rf.1225b43f2879ab8e1d9bdd14654243eb.jpg  \n",
            " extracting: train/images/Captura-de-pantalla-194-_png.rf.3ba8a3225b046cb7a61266704aabbfaf.jpg  \n",
            " extracting: train/images/Captura-de-pantalla-194-_png.rf.4006b44cfb51fc81295c55a09da2c0b8.jpg  \n",
            " extracting: train/images/Captura-de-pantalla-195-_png.rf.2f7ba11de711e7df00b6c3b905887903.jpg  \n",
            " extracting: train/images/Captura-de-pantalla-195-_png.rf.5b6a0094b1d4df8de6386160c82391e0.jpg  \n",
            " extracting: train/images/Captura-de-pantalla-195-_png.rf.73ec8e718bffbecdcaf3f07ef801bf86.jpg  \n",
            " extracting: train/images/Captura-de-pantalla-196-_png.rf.aa7c5410714fcbcc53cdb7bb67226de1.jpg  \n",
            " extracting: train/images/Captura-de-pantalla-196-_png.rf.bc68e991654b037f78a421b2332723cf.jpg  \n",
            " extracting: train/images/Captura-de-pantalla-196-_png.rf.f03b9e14c4b022d7e4fa83aeaa903d24.jpg  \n",
            " extracting: train/images/Captura-de-pantalla-197-_png.rf.7ae4e1c308ddc36fd662205b252bc4a1.jpg  \n",
            " extracting: train/images/Captura-de-pantalla-197-_png.rf.a28ddae5f5d1154f9e766437cb12c94a.jpg  \n",
            " extracting: train/images/Captura-de-pantalla-197-_png.rf.e70bf523b3f2751e21f59893b56d8970.jpg  \n",
            " extracting: train/images/Captura-de-pantalla-198-_png.rf.237341447d8c5de66c874325203f9ea9.jpg  \n",
            " extracting: train/images/Captura-de-pantalla-198-_png.rf.441257626d7e5df6184ceeaa0aa6ceab.jpg  \n",
            " extracting: train/images/Captura-de-pantalla-198-_png.rf.9a7197910fc800873a25fdece40039d5.jpg  \n",
            " extracting: train/images/Captura-de-pantalla-199-_png.rf.580bbb85f41fe862defcc19a66a7acc1.jpg  \n",
            " extracting: train/images/Captura-de-pantalla-199-_png.rf.5eb72512302f855e71b69bb2d1e53110.jpg  \n",
            " extracting: train/images/Captura-de-pantalla-199-_png.rf.853872d1b390971b26b97be53de3164b.jpg  \n",
            " extracting: train/images/Captura-de-pantalla-200-_png.rf.04fde51858c11b27661ce8cb9732a6cf.jpg  \n",
            " extracting: train/images/Captura-de-pantalla-200-_png.rf.a65c91eee8154a071b401968b19198c1.jpg  \n",
            " extracting: train/images/Captura-de-pantalla-200-_png.rf.c6c87f1bcd5bce937adc15feaca82ba5.jpg  \n",
            " extracting: train/images/Captura-de-pantalla-201-_png.rf.8ca554b29ec2c96d3e56e3d7e3c4bc92.jpg  \n",
            " extracting: train/images/Captura-de-pantalla-201-_png.rf.bbe84aa2f44e93ef4018b08c800b5962.jpg  \n",
            " extracting: train/images/Captura-de-pantalla-201-_png.rf.bccbf46bdb1e20d07c0aa996f282689e.jpg  \n",
            " extracting: train/images/Captura-de-pantalla-202-_png.rf.62a966269c2e14c61a8316d8f8b7dfb7.jpg  \n",
            " extracting: train/images/Captura-de-pantalla-202-_png.rf.6e3d2c03d2660a1fb5a3ba173f0b9d2f.jpg  \n",
            " extracting: train/images/Captura-de-pantalla-202-_png.rf.e19340c5997d36176bbde7dfdfaaec4f.jpg  \n",
            " extracting: train/images/Captura-de-pantalla-203-_png.rf.7d630b22944e6c6d85721103975ee35f.jpg  \n",
            " extracting: train/images/Captura-de-pantalla-203-_png.rf.8256366efe5a0657c198bf9b99a5289c.jpg  \n",
            " extracting: train/images/Captura-de-pantalla-203-_png.rf.f3af0aa149c0f4bdf7c38db69ac3962c.jpg  \n",
            " extracting: train/images/Captura-de-pantalla-204-_png.rf.230819ee710766b4d67b1ccdee403502.jpg  \n",
            " extracting: train/images/Captura-de-pantalla-204-_png.rf.305884ed1a9b8725683d901670d9d8a5.jpg  \n",
            " extracting: train/images/Captura-de-pantalla-204-_png.rf.7f872ae8d7f96e73abd411dfff038b88.jpg  \n",
            " extracting: train/images/Captura-de-pantalla-205-_png.rf.583c853c4719e67c9833c729e9b0222f.jpg  \n",
            " extracting: train/images/Captura-de-pantalla-205-_png.rf.668b22122039bfe766667cedc143a353.jpg  \n",
            " extracting: train/images/Captura-de-pantalla-205-_png.rf.8e7426c3389be42fe2692b588721c002.jpg  \n",
            " extracting: train/images/Captura-de-pantalla-206-_png.rf.728c19978706d232d5a493833d154a4f.jpg  \n",
            " extracting: train/images/Captura-de-pantalla-206-_png.rf.b136558d0e67d51de40302dcf0f7e27d.jpg  \n",
            " extracting: train/images/Captura-de-pantalla-206-_png.rf.dbf9a63d643d5ccf184b17732f967ff3.jpg  \n",
            " extracting: train/images/Captura-de-pantalla-207-_png.rf.9ebb1e78e5a00099532d4a4e77a86df1.jpg  \n",
            " extracting: train/images/Captura-de-pantalla-207-_png.rf.eab8a25380ab01aa69883068972e20c2.jpg  \n",
            " extracting: train/images/Captura-de-pantalla-207-_png.rf.ecd65b41dacd9fb6bfeba7ea03e044df.jpg  \n",
            " extracting: train/images/Captura-de-pantalla-208-_png.rf.2a0c05fbb6ae97b892880afec6f8e48b.jpg  \n",
            " extracting: train/images/Captura-de-pantalla-208-_png.rf.63f0f696ce4887fa3160f93484011b4e.jpg  \n",
            " extracting: train/images/Captura-de-pantalla-208-_png.rf.bfc2836ec3a8c7f96bf2263db6f5dcf5.jpg  \n",
            " extracting: train/images/Captura-de-pantalla-209-_png.rf.0e76101ef2992093a0588fad57541180.jpg  \n",
            " extracting: train/images/Captura-de-pantalla-209-_png.rf.3a343dc601917c6238bd61d57498a5c5.jpg  \n",
            " extracting: train/images/Captura-de-pantalla-209-_png.rf.3d1ee539aab77c3234e8cd06db7d61ac.jpg  \n",
            " extracting: train/images/Captura-de-pantalla-210-_png.rf.1dc2e00321143fd667f61468c016a585.jpg  \n",
            " extracting: train/images/Captura-de-pantalla-210-_png.rf.718f54b95ebd9d925efbe9dd8529d347.jpg  \n",
            " extracting: train/images/Captura-de-pantalla-210-_png.rf.79200ac6278bcb13684519adae26debe.jpg  \n",
            " extracting: train/images/Captura-de-pantalla-211-_png.rf.816bec251a6dfbf3e842f97106718b69.jpg  \n",
            " extracting: train/images/Captura-de-pantalla-211-_png.rf.a909c89f737b5a398c879a18921370b9.jpg  \n",
            " extracting: train/images/Captura-de-pantalla-211-_png.rf.f67efdd897234a602088935207b0578a.jpg  \n",
            " extracting: train/images/Captura-de-pantalla-212-_png.rf.680c2e745c32560468188ba845ff48cf.jpg  \n",
            " extracting: train/images/Captura-de-pantalla-212-_png.rf.84e86b9a3e6396963d5f11c2e7580861.jpg  \n",
            " extracting: train/images/Captura-de-pantalla-212-_png.rf.e63a6f2aa2098a671aade6604696efe0.jpg  \n",
            " extracting: train/images/Captura-de-pantalla-213-_png.rf.0124c29af8c47140acafa513d568613e.jpg  \n",
            " extracting: train/images/Captura-de-pantalla-213-_png.rf.9fee742210f76b84be1802c23e3651d4.jpg  \n",
            " extracting: train/images/Captura-de-pantalla-213-_png.rf.fa748ac0815ca3aa2721a1c71f758e24.jpg  \n",
            " extracting: train/images/Captura-de-pantalla-214-_png.rf.2ad0c947aca3328e65e5c57947a754f5.jpg  \n",
            " extracting: train/images/Captura-de-pantalla-214-_png.rf.4f44945cc6e5b797997b05b67941e546.jpg  \n",
            " extracting: train/images/Captura-de-pantalla-214-_png.rf.81d184a923bc501d53e6c2ce4054ab86.jpg  \n",
            " extracting: train/images/Captura-de-pantalla-215-_png.rf.1193bcab09e161a6ceb85853df63986c.jpg  \n",
            " extracting: train/images/Captura-de-pantalla-215-_png.rf.3152d46ed929eb109fb0eb13b8aa2440.jpg  \n",
            " extracting: train/images/Captura-de-pantalla-215-_png.rf.e3cfd11c3afd58eec1aba26df14e312e.jpg  \n",
            " extracting: train/images/Captura-de-pantalla-216-_png.rf.1bcceb798a3b522a286719768aa8cc1c.jpg  \n",
            " extracting: train/images/Captura-de-pantalla-216-_png.rf.56d06475ede76babfd011d6ae3b60183.jpg  \n",
            " extracting: train/images/Captura-de-pantalla-216-_png.rf.9a0f2849492003b65bd1f0538e38eb95.jpg  \n",
            " extracting: train/images/Captura-de-pantalla-217-_png.rf.51b7d7331a975be365b7bae0371adfff.jpg  \n",
            " extracting: train/images/Captura-de-pantalla-217-_png.rf.7c57109335091555abc558344a3a062d.jpg  \n",
            " extracting: train/images/Captura-de-pantalla-217-_png.rf.f915801265a563c9198d7d8e5bc4dc3d.jpg  \n",
            " extracting: train/images/Captura-de-pantalla-218-_png.rf.1c44fd50913100374910b0efddab06a6.jpg  \n",
            " extracting: train/images/Captura-de-pantalla-218-_png.rf.8ad443361fd3b60ba75152fda5596b5a.jpg  \n",
            " extracting: train/images/Captura-de-pantalla-218-_png.rf.fdfba1d3925eb0d71ecdef3a01b03ed7.jpg  \n",
            " extracting: train/images/Captura-de-pantalla-219-_png.rf.271ce89f33deeef1a8fd0dc2cdf57c63.jpg  \n",
            " extracting: train/images/Captura-de-pantalla-219-_png.rf.390324f314c16ee6c056ce3a2fa9b154.jpg  \n",
            " extracting: train/images/Captura-de-pantalla-219-_png.rf.a04c9b35631c04a96039588303ddb788.jpg  \n",
            " extracting: train/images/Captura-de-pantalla-220-_png.rf.0428fed8ed8023c55f96803dd1aad9d9.jpg  \n",
            " extracting: train/images/Captura-de-pantalla-220-_png.rf.0a6e07c104925581620de60a20ea3b5e.jpg  \n",
            " extracting: train/images/Captura-de-pantalla-220-_png.rf.9b70dc3ed3a90e775335d6b9c7cc9346.jpg  \n",
            " extracting: train/images/Captura-de-pantalla-221-_png.rf.8bcabdd72d5e9f257b67376f10d4b5da.jpg  \n",
            " extracting: train/images/Captura-de-pantalla-221-_png.rf.932806b3b7ae5c5455430e96e01510cd.jpg  \n",
            " extracting: train/images/Captura-de-pantalla-221-_png.rf.d7dbaf0b20ae1559f3c26d3f1814a3af.jpg  \n",
            " extracting: train/images/Captura-de-pantalla-222-_png.rf.875d7e1c8479250177a8d2138816ccfa.jpg  \n",
            " extracting: train/images/Captura-de-pantalla-222-_png.rf.aee17c5de3814f2ac55776a9de02ff47.jpg  \n",
            " extracting: train/images/Captura-de-pantalla-222-_png.rf.fcad8f79156a0ed135980ed58a2ba9f3.jpg  \n",
            " extracting: train/images/Captura-de-pantalla-223-_png.rf.1e2cfde6237fa2207e09fffcb7a84785.jpg  \n",
            " extracting: train/images/Captura-de-pantalla-223-_png.rf.2b8ed78733f6110a28c2088c6298cb33.jpg  \n",
            " extracting: train/images/Captura-de-pantalla-223-_png.rf.308a14ee2fc2e4eefcc18c7be7c8952b.jpg  \n",
            " extracting: train/images/Captura-de-pantalla-224-_png.rf.0ec37001841ceca422340601f850cb42.jpg  \n",
            " extracting: train/images/Captura-de-pantalla-224-_png.rf.808f87e5fb768e4179a9f3e54ea3ee61.jpg  \n",
            " extracting: train/images/Captura-de-pantalla-224-_png.rf.8b94aa604e090dc1e03708d4a79a2a4d.jpg  \n",
            " extracting: train/images/Captura-de-pantalla-225-_png.rf.3a8cec697371b1c452877cce64ae1748.jpg  \n",
            " extracting: train/images/Captura-de-pantalla-225-_png.rf.772a1d8e9b0a5b3a07b26708fc022e17.jpg  \n",
            " extracting: train/images/Captura-de-pantalla-225-_png.rf.b5ab7c26bef07b026feb75f61329767f.jpg  \n",
            " extracting: train/images/Captura-de-pantalla-226-_png.rf.6b8277011f99575fc7c1b310f3d42f79.jpg  \n",
            " extracting: train/images/Captura-de-pantalla-226-_png.rf.76549aaba466997961e4aebaef419a1a.jpg  \n",
            " extracting: train/images/Captura-de-pantalla-226-_png.rf.8d98613e84d8f64e2d68c7d8f306b3f5.jpg  \n",
            " extracting: train/images/Captura-de-pantalla-227-_png.rf.3e6fbfef67a6800506fb535d5493d6dc.jpg  \n",
            " extracting: train/images/Captura-de-pantalla-227-_png.rf.4736343784f8a7aa706eddd56f85e340.jpg  \n",
            " extracting: train/images/Captura-de-pantalla-227-_png.rf.8e956dc62e591f304520347cf560d7c8.jpg  \n",
            " extracting: train/images/Captura-de-pantalla-228-_png.rf.1bc471b8ebcf64c03898655298560e19.jpg  \n",
            " extracting: train/images/Captura-de-pantalla-228-_png.rf.21930669fcd21f491cb2d94f4c9b150a.jpg  \n",
            " extracting: train/images/Captura-de-pantalla-228-_png.rf.893e9c668d7c06110bbab66d288f459b.jpg  \n",
            " extracting: train/images/Captura-de-pantalla-229-_png.rf.6b8c7ecb42c77aa0ae9d7ed13c2977fe.jpg  \n",
            " extracting: train/images/Captura-de-pantalla-229-_png.rf.a80f35697a4926d9faa16ddf6cd3545a.jpg  \n",
            " extracting: train/images/Captura-de-pantalla-229-_png.rf.e66f51c9595c3311ada5f02c3d3e902d.jpg  \n",
            " extracting: train/images/Captura-de-pantalla-230-_png.rf.8f583ee18c4ed8db0323e86030099712.jpg  \n",
            " extracting: train/images/Captura-de-pantalla-230-_png.rf.ae53da9b63f79de8acc3afc93077902f.jpg  \n",
            " extracting: train/images/Captura-de-pantalla-230-_png.rf.b4eb3aad712590620fbd89ca5fb1c7e2.jpg  \n",
            " extracting: train/images/Captura-de-pantalla-231-_png.rf.18c67be55c4f489e4aae9f850625130a.jpg  \n",
            " extracting: train/images/Captura-de-pantalla-231-_png.rf.2b62c55d7d03d35ed39833bd6739d1e8.jpg  \n",
            " extracting: train/images/Captura-de-pantalla-231-_png.rf.4730f45322b9e1e1665e327ed5a19b95.jpg  \n",
            " extracting: train/images/Captura-de-pantalla-232-_png.rf.bb6323b42ff94c266d77de1638e8acaf.jpg  \n",
            " extracting: train/images/Captura-de-pantalla-232-_png.rf.e6b10cc8d1a2e3c2c3873bc2fd038719.jpg  \n",
            " extracting: train/images/Captura-de-pantalla-232-_png.rf.f046154d36eb53de573787af61281231.jpg  \n",
            " extracting: train/images/Captura-de-pantalla-233-_png.rf.19a8e094bf684de872f0bc5845e0a030.jpg  \n",
            " extracting: train/images/Captura-de-pantalla-233-_png.rf.4d1fa3ee49d817fd46e34492e7bcd23a.jpg  \n",
            " extracting: train/images/Captura-de-pantalla-233-_png.rf.fe0cd1051d22aac98cdca39043803bcf.jpg  \n",
            " extracting: train/images/Captura-de-pantalla-234-_png.rf.719b05430326b0ff7dcc4f246d796c8b.jpg  \n",
            " extracting: train/images/Captura-de-pantalla-234-_png.rf.d17a9aa808943ab1a18ef6403c207bdd.jpg  \n",
            " extracting: train/images/Captura-de-pantalla-234-_png.rf.fc2c740665b6e806d2ebbbbd4c58e31e.jpg  \n",
            " extracting: train/images/Captura-de-pantalla-235-_png.rf.3079d1793b118a06b875abda8f8418aa.jpg  \n",
            " extracting: train/images/Captura-de-pantalla-235-_png.rf.9ad96baa36b6910a78eeade5138db271.jpg  \n",
            " extracting: train/images/Captura-de-pantalla-235-_png.rf.9ff810f7483257202479c727c5d53030.jpg  \n",
            " extracting: train/images/Captura-de-pantalla-236-_png.rf.66336cbc4fd0a5c84f60c33666f1c22c.jpg  \n",
            " extracting: train/images/Captura-de-pantalla-236-_png.rf.81e3f8458023621da4ac9f86bd4fec9b.jpg  \n",
            " extracting: train/images/Captura-de-pantalla-236-_png.rf.b199bac6c4521af49dff1a553018b347.jpg  \n",
            " extracting: train/images/Captura-de-pantalla-237-_png.rf.2f5efeffd6daee63b3b505e22a6a4757.jpg  \n",
            " extracting: train/images/Captura-de-pantalla-237-_png.rf.7fdda5109c00eaee441cf43163b08478.jpg  \n",
            " extracting: train/images/Captura-de-pantalla-237-_png.rf.a87b1169f0dd7458d873270aca41704d.jpg  \n",
            " extracting: train/images/Captura-de-pantalla-238-_png.rf.0d913073e9db699ef1d89f56c53e0503.jpg  \n",
            " extracting: train/images/Captura-de-pantalla-238-_png.rf.0e572eea85c94418ee9967999d548c0b.jpg  \n",
            " extracting: train/images/Captura-de-pantalla-238-_png.rf.7c47b8a91097c89b102fb2efdb735385.jpg  \n",
            " extracting: train/images/Captura-de-pantalla-239-_png.rf.15f0e97ea95fca96fbc9f506f645fcbe.jpg  \n",
            " extracting: train/images/Captura-de-pantalla-239-_png.rf.2704d4c1521e5eea7197ddb17157fa67.jpg  \n",
            " extracting: train/images/Captura-de-pantalla-239-_png.rf.a6b3ef98839799038ce61d2cc61a05be.jpg  \n",
            " extracting: train/images/Captura-de-pantalla-240-_png.rf.4294365670178ea6f60061aacfbcd10d.jpg  \n",
            " extracting: train/images/Captura-de-pantalla-240-_png.rf.9095d188bb8f240c21a59b5dc6c755e0.jpg  \n",
            " extracting: train/images/Captura-de-pantalla-240-_png.rf.9631c1da8aecf66aa2cbd234f907921b.jpg  \n",
            " extracting: train/images/Captura-de-pantalla-241-_png.rf.7d38fc4d90e3af8940a65aad397da47c.jpg  \n",
            " extracting: train/images/Captura-de-pantalla-241-_png.rf.abada3aa72a7d2e8af589be3a65e5913.jpg  \n",
            " extracting: train/images/Captura-de-pantalla-241-_png.rf.dbe142d09eafbed6e7ba07151f69d7ac.jpg  \n",
            " extracting: train/images/Captura-de-pantalla-242-_png.rf.15302089bbf68cb1a186513ae168cff3.jpg  \n",
            " extracting: train/images/Captura-de-pantalla-242-_png.rf.43b59956c868582378c080b54073ab1c.jpg  \n",
            " extracting: train/images/Captura-de-pantalla-242-_png.rf.8b4070848d02efb3b4bc7d13e0f2d37c.jpg  \n",
            " extracting: train/images/Captura-de-pantalla-243-_png.rf.1bb94a6bac4e7a7007536ddd5544e77c.jpg  \n",
            " extracting: train/images/Captura-de-pantalla-243-_png.rf.658c83388018ccf79eefdf62e858eed3.jpg  \n",
            " extracting: train/images/Captura-de-pantalla-243-_png.rf.6e920e321c3499488ef5c61d18378211.jpg  \n",
            " extracting: train/images/Captura-de-pantalla-244-_png.rf.1e52e8c2478edb08b8d2eb05c0d4f537.jpg  \n",
            " extracting: train/images/Captura-de-pantalla-244-_png.rf.2434d895a7c383bee39674275598522e.jpg  \n",
            " extracting: train/images/Captura-de-pantalla-244-_png.rf.f91df414fc78675fc81e9e9181d4d31b.jpg  \n",
            " extracting: train/images/Captura-de-pantalla-245-_png.rf.035b5b49af721b92c1aa9330b09c4a9e.jpg  \n",
            " extracting: train/images/Captura-de-pantalla-245-_png.rf.0bb1c4adbc54770cf7493163708eba93.jpg  \n",
            " extracting: train/images/Captura-de-pantalla-245-_png.rf.71f5ff4472a22259f28fee9fbe715acd.jpg  \n",
            " extracting: train/images/Captura-de-pantalla-246-_png.rf.0f9aa63849c6f934aa9f4f6628c31f07.jpg  \n",
            " extracting: train/images/Captura-de-pantalla-246-_png.rf.459c104815599189ed81ffd3e7a6e034.jpg  \n",
            " extracting: train/images/Captura-de-pantalla-246-_png.rf.945a54a8688cf477e56cfbdb55b689bb.jpg  \n",
            " extracting: train/images/Captura-de-pantalla-247-_png.rf.30663873072f95206c16904f0ece9354.jpg  \n",
            " extracting: train/images/Captura-de-pantalla-247-_png.rf.b9ea0a74e54127f3fc3a2a5c5540a445.jpg  \n",
            " extracting: train/images/Captura-de-pantalla-247-_png.rf.eecb0ec931521551d93a40b0ebea7cdd.jpg  \n",
            " extracting: train/images/Captura-de-pantalla-248-_png.rf.07cc5b0aa5b1b5e5ee07410b06cfec4a.jpg  \n",
            " extracting: train/images/Captura-de-pantalla-248-_png.rf.43466b92a07f82a02bc30d1a75cacbd3.jpg  \n",
            " extracting: train/images/Captura-de-pantalla-248-_png.rf.789d732bb92f52869549de0395170898.jpg  \n",
            " extracting: train/images/Captura-de-pantalla-249-_png.rf.512b6c2fc643d38b26199fa90105e557.jpg  \n",
            " extracting: train/images/Captura-de-pantalla-249-_png.rf.9f627fc8d2685b7c7ccb370172b6d127.jpg  \n",
            " extracting: train/images/Captura-de-pantalla-249-_png.rf.b14a374499c978b2dcb8dd6ab90ebe09.jpg  \n",
            " extracting: train/images/Captura-de-pantalla-250-_png.rf.0dc97288d1ac3a0595dc140075022125.jpg  \n",
            " extracting: train/images/Captura-de-pantalla-250-_png.rf.4557d785e6a7ca7a5b5acda52924933f.jpg  \n",
            " extracting: train/images/Captura-de-pantalla-250-_png.rf.5d3f128f60ac2025969b7c3976dd09c2.jpg  \n",
            " extracting: train/images/Captura-de-pantalla-251-_png.rf.001b1b2f1d771a1acfe3b20730f1a670.jpg  \n",
            " extracting: train/images/Captura-de-pantalla-251-_png.rf.6e810a4be884cd7ebf70b797eeb62056.jpg  \n",
            " extracting: train/images/Captura-de-pantalla-251-_png.rf.ade56df21ac8d8403c83633a8c8f2f28.jpg  \n",
            " extracting: train/images/Captura-de-pantalla-252-_png.rf.2b3c2c18cfe7aa052fce599e57328027.jpg  \n",
            " extracting: train/images/Captura-de-pantalla-252-_png.rf.51f758af07ea77bb9916723a916533a7.jpg  \n",
            " extracting: train/images/Captura-de-pantalla-252-_png.rf.d3d984f3a1c5d94fe3653c791065abf3.jpg  \n",
            " extracting: train/images/Captura-de-pantalla-253-_png.rf.0125b343078120439d89744b4fd4feff.jpg  \n",
            " extracting: train/images/Captura-de-pantalla-253-_png.rf.3c33ee5ce89f731b0e6e341bdc93b2f8.jpg  \n",
            " extracting: train/images/Captura-de-pantalla-253-_png.rf.c1adafc02bdebcf9a74f5203fda85405.jpg  \n",
            " extracting: train/images/Captura-de-pantalla-254-_png.rf.6834643d48c0bf1f8fd8ac000d99d27b.jpg  \n",
            " extracting: train/images/Captura-de-pantalla-254-_png.rf.7435028f2fcfa314e4d592f2abc1f65d.jpg  \n",
            " extracting: train/images/Captura-de-pantalla-254-_png.rf.c2b776a55dbe5dfe20b272f27332e0b6.jpg  \n",
            " extracting: train/images/Captura-de-pantalla-255-_png.rf.cd82e9ea29f47410ea5f2bebb423e240.jpg  \n",
            " extracting: train/images/Captura-de-pantalla-255-_png.rf.d87f4298ccf9fafbc1e98e635b4c7b07.jpg  \n",
            " extracting: train/images/Captura-de-pantalla-255-_png.rf.f8b272c0698ca1c7596017164d700d0d.jpg  \n",
            " extracting: train/images/Captura-de-pantalla-256-_png.rf.101978b93fbe33791614731b200e172b.jpg  \n",
            " extracting: train/images/Captura-de-pantalla-256-_png.rf.1e5fce046f849988aa2c6b37137c19b7.jpg  \n",
            " extracting: train/images/Captura-de-pantalla-256-_png.rf.397ac6ecd7bdb1d4f447fcce52cc63eb.jpg  \n",
            " extracting: train/images/Captura-de-pantalla-257-_png.rf.3bc98aac19fc403f45ca40e99e179322.jpg  \n",
            " extracting: train/images/Captura-de-pantalla-257-_png.rf.eb1305dc2d69bc4224240d27ad33c23d.jpg  \n",
            " extracting: train/images/Captura-de-pantalla-257-_png.rf.fea59caf17b437b6a7ec0d4f4e4b962e.jpg  \n",
            " extracting: train/images/Captura-de-pantalla-258-_png.rf.76704dc9be3aca2fcbb623330ba5684a.jpg  \n",
            " extracting: train/images/Captura-de-pantalla-258-_png.rf.817a7f4f0d11af45aa6cae8656f3ba09.jpg  \n",
            " extracting: train/images/Captura-de-pantalla-258-_png.rf.86209dbef577f79d09f93e9ca60caeac.jpg  \n",
            " extracting: train/images/Captura-de-pantalla-259-_png.rf.a0f06852a4e9b0b886d8a555c7304090.jpg  \n",
            " extracting: train/images/Captura-de-pantalla-259-_png.rf.b369aa467824acbbb777bf0a1c558ed0.jpg  \n",
            " extracting: train/images/Captura-de-pantalla-259-_png.rf.ba7454b942b402c93db909f8bd6e867d.jpg  \n",
            " extracting: train/images/Captura-de-pantalla-260-_png.rf.646823a7ecb6f61069ad3688ebd4c155.jpg  \n",
            " extracting: train/images/Captura-de-pantalla-260-_png.rf.80681497847d7d63d8a3d9c3ed3fa569.jpg  \n",
            " extracting: train/images/Captura-de-pantalla-260-_png.rf.cf40677ff8f3608b0925af09eaa04e23.jpg  \n",
            " extracting: train/images/Captura-de-pantalla-261-_png.rf.8487dceba6d2c02da8188b55178cf164.jpg  \n",
            " extracting: train/images/Captura-de-pantalla-261-_png.rf.b021eed2db564f15965b7f07c4ccfb0a.jpg  \n",
            " extracting: train/images/Captura-de-pantalla-261-_png.rf.d64499ec6978d2a86ce02fa962aa5709.jpg  \n",
            " extracting: train/images/Captura-de-pantalla-262-_png.rf.108482fb9940d5c250d3632da659aad6.jpg  \n",
            " extracting: train/images/Captura-de-pantalla-262-_png.rf.72ff026396c8f1e8d1421aa8e0354ac8.jpg  \n",
            " extracting: train/images/Captura-de-pantalla-262-_png.rf.cefbc4001e34f0dd90515e84af6ffe46.jpg  \n",
            " extracting: train/images/Captura-de-pantalla-263-_png.rf.226b003176e2aaab5d8cd116d9dff669.jpg  \n",
            " extracting: train/images/Captura-de-pantalla-263-_png.rf.2cc865c22af2b4fafffb38574a9e308c.jpg  \n",
            " extracting: train/images/Captura-de-pantalla-263-_png.rf.6c8d92f85eb1eeb8af7172c20fcc4230.jpg  \n",
            " extracting: train/images/Captura-de-pantalla-264-_png.rf.30226075cdd2a2a1c87569121de1a716.jpg  \n",
            " extracting: train/images/Captura-de-pantalla-264-_png.rf.759c14344e32464e92ca17f315056088.jpg  \n",
            " extracting: train/images/Captura-de-pantalla-264-_png.rf.b262a4d63b77ead8856d91f28655a6d0.jpg  \n",
            " extracting: train/images/Captura-de-pantalla-265-_png.rf.1b597bbbb7e9cd3dd0a36196674d7645.jpg  \n",
            " extracting: train/images/Captura-de-pantalla-265-_png.rf.44bf02458dd7e11a3be4efaf74949227.jpg  \n",
            " extracting: train/images/Captura-de-pantalla-265-_png.rf.578f2d9d7e63b1c696abc4be3804cd3b.jpg  \n",
            " extracting: train/images/Captura-de-pantalla-266-_png.rf.0d1e5fc83e7a252a4a4104f65fb5d9ec.jpg  \n",
            " extracting: train/images/Captura-de-pantalla-266-_png.rf.a4c3d6d88fe6df069088897c2de25576.jpg  \n",
            " extracting: train/images/Captura-de-pantalla-266-_png.rf.e57672baf593786d61120025b32e8bd6.jpg  \n",
            " extracting: train/images/Captura-de-pantalla-267-_png.rf.779b7444e2a2f8f9c0bdf712f65819be.jpg  \n",
            " extracting: train/images/Captura-de-pantalla-267-_png.rf.9858bf6a4e1d9d53da07473eafcb57ca.jpg  \n",
            " extracting: train/images/Captura-de-pantalla-267-_png.rf.d9f90eaef80a53d8b04b77020fa70e23.jpg  \n",
            " extracting: train/images/Captura-de-pantalla-268-_png.rf.615ff6fc67d32263e7e760ad6420b503.jpg  \n",
            " extracting: train/images/Captura-de-pantalla-268-_png.rf.8ba501f852bcde9c955828802ed82d67.jpg  \n",
            " extracting: train/images/Captura-de-pantalla-268-_png.rf.b65c35e330e6c90c8f7023110e12f8a0.jpg  \n",
            " extracting: train/images/Captura-de-pantalla-269-_png.rf.0127d081ba1acca277f8d950b5367d04.jpg  \n",
            " extracting: train/images/Captura-de-pantalla-269-_png.rf.0f2907906c75e7de13bba8d19c516a0f.jpg  \n",
            " extracting: train/images/Captura-de-pantalla-269-_png.rf.81a121244c7a7e131aea448dd8c52bbf.jpg  \n",
            " extracting: train/images/Captura-de-pantalla-270-_png.rf.1129099890e5b262dfc290cdf6ccf246.jpg  \n",
            " extracting: train/images/Captura-de-pantalla-270-_png.rf.57afd51349935fbe5b39e7517989eb94.jpg  \n",
            " extracting: train/images/Captura-de-pantalla-270-_png.rf.7fd2d0e4eaa7fe664f294645dd0981ea.jpg  \n",
            " extracting: train/images/Captura-de-pantalla-271-_png.rf.4e63a4edda60e208f4ae2e373063f2a6.jpg  \n",
            " extracting: train/images/Captura-de-pantalla-271-_png.rf.8b4f4fdfbebe84e310b877b1101feb18.jpg  \n",
            " extracting: train/images/Captura-de-pantalla-271-_png.rf.f6e5da8083308144fb069b8bc7fd687c.jpg  \n",
            " extracting: train/images/Captura-de-pantalla-272-_png.rf.a59a98c573622711f5ab9eb517c95226.jpg  \n",
            " extracting: train/images/Captura-de-pantalla-272-_png.rf.eda3eb5fbbe573d5b8419f742137f6c5.jpg  \n",
            " extracting: train/images/Captura-de-pantalla-272-_png.rf.f2e70d217e645e3c6777b17f632c213c.jpg  \n",
            " extracting: train/images/Captura-de-pantalla-273-_png.rf.a6f476d45c7926c303c62a83e222bcc1.jpg  \n",
            " extracting: train/images/Captura-de-pantalla-273-_png.rf.aaf7ccaa271c53f3ef3c9c439f470556.jpg  \n",
            " extracting: train/images/Captura-de-pantalla-273-_png.rf.da4b9969a7c1680451d3b6358a3b9aa4.jpg  \n",
            " extracting: train/images/Captura-de-pantalla-274-_png.rf.265470fb361d5fd38cfdd9a1a4bef80d.jpg  \n",
            " extracting: train/images/Captura-de-pantalla-274-_png.rf.2ba9f150072f1b991f47e6f4764cc2b9.jpg  \n",
            " extracting: train/images/Captura-de-pantalla-274-_png.rf.681a5cf2bb62408b3a1ce495db7e80fd.jpg  \n",
            " extracting: train/images/Captura-de-pantalla-275-_png.rf.1b21b9e2efd35d8397708c5bda1b2e71.jpg  \n",
            " extracting: train/images/Captura-de-pantalla-275-_png.rf.738d52a4175d396c99b268c604ea205d.jpg  \n",
            " extracting: train/images/Captura-de-pantalla-275-_png.rf.fec875d566a363911c71e9245389c95f.jpg  \n",
            " extracting: train/images/Captura-de-pantalla-276-_png.rf.3726246423a37c902eb82690f05082b4.jpg  \n",
            " extracting: train/images/Captura-de-pantalla-276-_png.rf.562a47e01c0ec299b255d4efdb2007d4.jpg  \n",
            " extracting: train/images/Captura-de-pantalla-276-_png.rf.c420e457b03acfd949150dd6457ed778.jpg  \n",
            " extracting: train/images/Captura-de-pantalla-277-_png.rf.32d2af5676867559429ae175ae0af8af.jpg  \n",
            " extracting: train/images/Captura-de-pantalla-277-_png.rf.813699ab94fc56e64d621baf10d62ac0.jpg  \n",
            " extracting: train/images/Captura-de-pantalla-277-_png.rf.afb8ac0df9206ef72e425871e1da2c8a.jpg  \n",
            " extracting: train/images/Captura-de-pantalla-278-_png.rf.30c40c94cd79c6e9340ebc111342e3df.jpg  \n",
            " extracting: train/images/Captura-de-pantalla-278-_png.rf.43e764c137311c476503f66dbdc155ab.jpg  \n",
            " extracting: train/images/Captura-de-pantalla-278-_png.rf.53168c2eef129d71e9cf8e8b40bc19f6.jpg  \n",
            " extracting: train/images/Captura-de-pantalla-279-_png.rf.22df28111a30d7ab716f401b4c51c7fb.jpg  \n",
            " extracting: train/images/Captura-de-pantalla-279-_png.rf.3dadd875c67389724a97d3c53b98ff91.jpg  \n",
            " extracting: train/images/Captura-de-pantalla-279-_png.rf.ad1e38b4508a822473e9ddacdfff7e2d.jpg  \n",
            " extracting: train/images/Captura-de-pantalla-280-_png.rf.4d58ca6389050fe4bbc54c202f0fe57a.jpg  \n",
            " extracting: train/images/Captura-de-pantalla-280-_png.rf.6b6558c453dfab885a3c871ade8d3249.jpg  \n",
            " extracting: train/images/Captura-de-pantalla-280-_png.rf.fca44bc2331f2b04bf0fbcb6e2ecc4d0.jpg  \n",
            " extracting: train/images/Captura-de-pantalla-281-_png.rf.c544e5b0e2c8465d61b63230489e03cf.jpg  \n",
            " extracting: train/images/Captura-de-pantalla-281-_png.rf.decd1ec86847b7f9be9a2327920b49a0.jpg  \n",
            " extracting: train/images/Captura-de-pantalla-281-_png.rf.edfb5d0578683784bfa92b66c0b48241.jpg  \n",
            " extracting: train/images/Captura-de-pantalla-282-_png.rf.5170cf0ee9b4ec77d3785103df1a52bd.jpg  \n",
            " extracting: train/images/Captura-de-pantalla-282-_png.rf.81bd6bf565ff6c11ed0386b55a16a97c.jpg  \n",
            " extracting: train/images/Captura-de-pantalla-282-_png.rf.e5df1538bcae699cb8951ba9909e1f52.jpg  \n",
            " extracting: train/images/Captura-de-pantalla-283-_png.rf.11dcf7c1dc2f43a8d77ab6a71dbf971b.jpg  \n",
            " extracting: train/images/Captura-de-pantalla-283-_png.rf.41bbd736590014fd06336a0d80231f7c.jpg  \n",
            " extracting: train/images/Captura-de-pantalla-283-_png.rf.d5474f257aca3128375682718de5800c.jpg  \n",
            " extracting: train/images/Captura-de-pantalla-285-_png.rf.2a96bc5d09a72ad378b4164ef0308a5c.jpg  \n",
            " extracting: train/images/Captura-de-pantalla-285-_png.rf.9007317fd2d7478723a0c6c6db48bee3.jpg  \n",
            " extracting: train/images/Captura-de-pantalla-285-_png.rf.f8aa3276908e3f21ad3596e7f6c91709.jpg  \n",
            " extracting: train/images/Captura-de-pantalla-286-_png.rf.4139dcd2d0ce089edd3fcdb03317e70a.jpg  \n",
            " extracting: train/images/Captura-de-pantalla-286-_png.rf.96fb4cdb9c61f2cc7b0f4bf66d59bee8.jpg  \n",
            " extracting: train/images/Captura-de-pantalla-286-_png.rf.eb7a87a577b9628750f5ce906c4c6256.jpg  \n",
            " extracting: train/images/Captura-de-pantalla-287-_png.rf.816fa183cccfa3134fe79a9465818157.jpg  \n",
            " extracting: train/images/Captura-de-pantalla-287-_png.rf.af51ffc7f0ee807770cd74ef46403283.jpg  \n",
            " extracting: train/images/Captura-de-pantalla-287-_png.rf.d7733fc5f01897a7d10e5a11f28245a8.jpg  \n",
            " extracting: train/images/Captura-de-pantalla-288-_png.rf.9187ffcee452db08f91e0122c9b668eb.jpg  \n",
            " extracting: train/images/Captura-de-pantalla-288-_png.rf.a22c691abff5d0d7c12ae0b6b97b09e8.jpg  \n",
            " extracting: train/images/Captura-de-pantalla-288-_png.rf.c60b64d493a533ffcaff401c1787d8b2.jpg  \n",
            " extracting: train/images/Captura-de-pantalla-289-_png.rf.0dcbfafa92f08ba2a26d32b4bce31fa0.jpg  \n",
            " extracting: train/images/Captura-de-pantalla-289-_png.rf.20352545af2473756405bbe375c4ec71.jpg  \n",
            " extracting: train/images/Captura-de-pantalla-289-_png.rf.ea8636a30f8f06fe24274d5513295670.jpg  \n",
            " extracting: train/images/Captura-de-pantalla-290-_png.rf.0496a3a510aaaa3fdb605b95f360071b.jpg  \n",
            " extracting: train/images/Captura-de-pantalla-290-_png.rf.a1a1045f6b842600a9622b8cc980b806.jpg  \n",
            " extracting: train/images/Captura-de-pantalla-290-_png.rf.a5f511e3b8d7790e2d57c5aa5778f59d.jpg  \n",
            " extracting: train/images/Captura-de-pantalla-292-_png.rf.0902393de82f9ffc88f41537ab830a2b.jpg  \n",
            " extracting: train/images/Captura-de-pantalla-292-_png.rf.2dfd9080d74d22ebd4c292e8855dd7db.jpg  \n",
            " extracting: train/images/Captura-de-pantalla-292-_png.rf.b96c69517623abc58fe9bf6b0c1b1e14.jpg  \n",
            " extracting: train/images/Captura-de-pantalla-293-_png.rf.22a3d53c67eb61c56b17b0751fc7dde0.jpg  \n",
            " extracting: train/images/Captura-de-pantalla-293-_png.rf.a74861f14283f84d9c9b21bf45d27adc.jpg  \n",
            " extracting: train/images/Captura-de-pantalla-293-_png.rf.fc4d5135b7fb8ee062c6ebe025a76450.jpg  \n",
            " extracting: train/images/Captura-de-pantalla-294-_png.rf.32b7d39c5d770718391266b4a2944824.jpg  \n",
            " extracting: train/images/Captura-de-pantalla-294-_png.rf.a7ba2323a623d590d31d1ba91f58fd3c.jpg  \n",
            " extracting: train/images/Captura-de-pantalla-294-_png.rf.f55808d207100e9cc9d48b54c9bb0c32.jpg  \n",
            " extracting: train/images/Captura-de-pantalla-296-_png.rf.014617f2c0c4b6a1fe41859c18527b7e.jpg  \n",
            " extracting: train/images/Captura-de-pantalla-296-_png.rf.cda7191675b20d98ceaa3585a6f9bf35.jpg  \n",
            " extracting: train/images/Captura-de-pantalla-296-_png.rf.e14abc0bc74d29c49e2e3c572d038655.jpg  \n",
            " extracting: train/images/Captura-de-pantalla-297-_png.rf.03e7d2288e6dd9a05b9c81e5eb837d42.jpg  \n",
            " extracting: train/images/Captura-de-pantalla-297-_png.rf.8f2cdb0d20cc79e3e86b8ae6f30f79c1.jpg  \n",
            " extracting: train/images/Captura-de-pantalla-297-_png.rf.b248c1f01e4a3ad09afe54edd52d3707.jpg  \n",
            " extracting: train/images/Captura-de-pantalla-298-_png.rf.587dea75dedc49b54912ef3cb2321a7c.jpg  \n",
            " extracting: train/images/Captura-de-pantalla-298-_png.rf.951717589965aa6e92a6b24214f05311.jpg  \n",
            " extracting: train/images/Captura-de-pantalla-298-_png.rf.b46d2624b1994c4e3d5f162c1c1c4711.jpg  \n",
            " extracting: train/images/Captura-de-pantalla-299-_png.rf.05b449dcad0a4092f58bee37f0a4cd2b.jpg  \n",
            " extracting: train/images/Captura-de-pantalla-299-_png.rf.2c9516c3c12d5c092d6f8204ddd2c2ce.jpg  \n",
            " extracting: train/images/Captura-de-pantalla-299-_png.rf.cb09935a6b29ed276234297bdf6145a3.jpg  \n",
            " extracting: train/images/Captura-de-pantalla-30-_png.rf.73aa2df44838aaa6a73dbd79cf113739.jpg  \n",
            " extracting: train/images/Captura-de-pantalla-30-_png.rf.aa544f6e88e9e862c35833a503e9f748.jpg  \n",
            " extracting: train/images/Captura-de-pantalla-30-_png.rf.bb4a0c875ab2d7038386a39ae6d72361.jpg  \n",
            " extracting: train/images/Captura-de-pantalla-300-_png.rf.0ac62aa5927e58428ba4acea1e595c62.jpg  \n",
            " extracting: train/images/Captura-de-pantalla-300-_png.rf.55def4e0f5536c28bfb61cb796e63f18.jpg  \n",
            " extracting: train/images/Captura-de-pantalla-300-_png.rf.c7a7d9d07992870d814ba24bc54b16ba.jpg  \n",
            " extracting: train/images/Captura-de-pantalla-301-_png.rf.1bc8ebc899ec9d2ca400efec62b1f6fc.jpg  \n",
            " extracting: train/images/Captura-de-pantalla-301-_png.rf.5a388c1c6fe3f87ffe2ab466b72e46d6.jpg  \n",
            " extracting: train/images/Captura-de-pantalla-301-_png.rf.7e9eca5c45dfa1d9b97a3d4ed7f30457.jpg  \n",
            " extracting: train/images/Captura-de-pantalla-302-_png.rf.520ec8ae1a1bd9ea8c26af58790cfa0e.jpg  \n",
            " extracting: train/images/Captura-de-pantalla-302-_png.rf.dbcfc9e8a0780568e1fd92c15525ed51.jpg  \n",
            " extracting: train/images/Captura-de-pantalla-302-_png.rf.ecd66594e47a3f625750b66ca93ec36f.jpg  \n",
            " extracting: train/images/Captura-de-pantalla-303-_png.rf.0db9dbd13193f9ef3424b4dbc7971d78.jpg  \n",
            " extracting: train/images/Captura-de-pantalla-303-_png.rf.a28254e4b5bfbd5d670154e7faf794b6.jpg  \n",
            " extracting: train/images/Captura-de-pantalla-303-_png.rf.ddff3e321e6460684da80a0d84eeb863.jpg  \n",
            " extracting: train/images/Captura-de-pantalla-304-_png.rf.3704b24057bfdec64eccf647ac0b3987.jpg  \n",
            " extracting: train/images/Captura-de-pantalla-304-_png.rf.5f4f5ab82752bd2e85232ae4e558b683.jpg  \n",
            " extracting: train/images/Captura-de-pantalla-304-_png.rf.a3b16341384da0d4a20b5af18870f5cd.jpg  \n",
            " extracting: train/images/Captura-de-pantalla-305-_png.rf.0e038fdb519316301457e379c771e67c.jpg  \n",
            " extracting: train/images/Captura-de-pantalla-305-_png.rf.5a04ea0aa89e336521919a293e7a3ec8.jpg  \n",
            " extracting: train/images/Captura-de-pantalla-305-_png.rf.88f6f4cdc3520790584ff4e62596ce74.jpg  \n",
            " extracting: train/images/Captura-de-pantalla-306-_png.rf.0099b3ffff7c9eb12f4c87575f5240d4.jpg  \n",
            " extracting: train/images/Captura-de-pantalla-306-_png.rf.a848fbf276af0bd6cbda11a28488cd49.jpg  \n",
            " extracting: train/images/Captura-de-pantalla-306-_png.rf.bb237234dcfd8206499d326f496a86be.jpg  \n",
            " extracting: train/images/Captura-de-pantalla-307-_png.rf.1b31c6b883e8e5eaea43475405357f84.jpg  \n",
            " extracting: train/images/Captura-de-pantalla-307-_png.rf.4c91560e4831fb540d2d6695a858dfff.jpg  \n",
            " extracting: train/images/Captura-de-pantalla-307-_png.rf.6b17ac4c4aa75477c2e735ab82528f6e.jpg  \n",
            " extracting: train/images/Captura-de-pantalla-308-_png.rf.0d241680ccd1572c376704e39ce7c0fa.jpg  \n",
            " extracting: train/images/Captura-de-pantalla-308-_png.rf.17306f4473789711025673581dbef3b9.jpg  \n",
            " extracting: train/images/Captura-de-pantalla-308-_png.rf.a5ca3aeb8e692c22d9c0a0ae515a3c14.jpg  \n",
            " extracting: train/images/Captura-de-pantalla-309-_png.rf.6ddabb4b37b0cd4fcce4ddfa351c0e49.jpg  \n",
            " extracting: train/images/Captura-de-pantalla-309-_png.rf.fb42e26b5b238b68b117dbcada72a742.jpg  \n",
            " extracting: train/images/Captura-de-pantalla-309-_png.rf.fe59e8cd0993ada4621c7441f75f34fa.jpg  \n",
            " extracting: train/images/Captura-de-pantalla-31-_png.rf.761efe34d7661675b8996b837235f870.jpg  \n",
            " extracting: train/images/Captura-de-pantalla-31-_png.rf.7c3baf3af92810ac58ebbe28874e2bb6.jpg  \n",
            " extracting: train/images/Captura-de-pantalla-31-_png.rf.de2851fac66e4cf4f25097217ed29744.jpg  \n",
            " extracting: train/images/Captura-de-pantalla-310-_png.rf.31703d434e6892102f035769a2bbb903.jpg  \n",
            " extracting: train/images/Captura-de-pantalla-310-_png.rf.5219b2d73e93595c02692ffc22ce4b87.jpg  \n",
            " extracting: train/images/Captura-de-pantalla-310-_png.rf.df6e6102791c6ffb09ea1fedba8d3289.jpg  \n",
            " extracting: train/images/Captura-de-pantalla-311-_png.rf.45d9b78ebabc0c678df16f16de014a18.jpg  \n",
            " extracting: train/images/Captura-de-pantalla-311-_png.rf.4cc5ba7af22460c1ad94a8a77a981f0c.jpg  \n",
            " extracting: train/images/Captura-de-pantalla-311-_png.rf.bdd427a7f32d44a0f1df4ca93893f3c9.jpg  \n",
            " extracting: train/images/Captura-de-pantalla-312-_png.rf.3925a7a57af422e7ba6888f9198c0956.jpg  \n",
            " extracting: train/images/Captura-de-pantalla-312-_png.rf.3edce7395ae01b7527a91c8688d0c362.jpg  \n",
            " extracting: train/images/Captura-de-pantalla-312-_png.rf.d2d34b8f46dd2924f84e8d0391bd4932.jpg  \n",
            " extracting: train/images/Captura-de-pantalla-313-_png.rf.b1ac46fe7fa6e1f96feea3d1f445c743.jpg  \n",
            " extracting: train/images/Captura-de-pantalla-313-_png.rf.b36e8986207b7cce4524af132b337ac9.jpg  \n",
            " extracting: train/images/Captura-de-pantalla-313-_png.rf.cef7e08d221e97489b690d5d26659872.jpg  \n",
            " extracting: train/images/Captura-de-pantalla-314-_png.rf.8a78468bbcbedd59e583c2beebf25d3f.jpg  \n",
            " extracting: train/images/Captura-de-pantalla-314-_png.rf.ccea321431ec893ab6477b26cb3cd417.jpg  \n",
            " extracting: train/images/Captura-de-pantalla-314-_png.rf.dc548b20f0c99f8d3410614227f839fa.jpg  \n",
            " extracting: train/images/Captura-de-pantalla-315-_png.rf.3bde0ebe5de1255e716f4d68fe937c0b.jpg  \n",
            " extracting: train/images/Captura-de-pantalla-315-_png.rf.51bb1a0bd4cc2a597af7c761c96954ff.jpg  \n",
            " extracting: train/images/Captura-de-pantalla-315-_png.rf.a34704eda0d3f9ce9bc5789ffa4c951b.jpg  \n",
            " extracting: train/images/Captura-de-pantalla-316-_png.rf.0b95ae92f923911b252cc76f4c6e44dc.jpg  \n",
            " extracting: train/images/Captura-de-pantalla-316-_png.rf.1724913e9480b9f0fca84e9d62a64671.jpg  \n",
            " extracting: train/images/Captura-de-pantalla-316-_png.rf.8df98e5bbdedb0d9381650d38b23fb47.jpg  \n",
            " extracting: train/images/Captura-de-pantalla-317-_png.rf.4f9fd6f580ccc160b5ed573445087324.jpg  \n",
            " extracting: train/images/Captura-de-pantalla-317-_png.rf.67005f92a25fe068208ebf721b254c8d.jpg  \n",
            " extracting: train/images/Captura-de-pantalla-317-_png.rf.eb21ed26d46988e10c11fa95d5f44f87.jpg  \n",
            " extracting: train/images/Captura-de-pantalla-318-_png.rf.1aedc9974045324defb052d9680e497b.jpg  \n",
            " extracting: train/images/Captura-de-pantalla-318-_png.rf.4d357f4352202b2b60f884363c14b71b.jpg  \n",
            " extracting: train/images/Captura-de-pantalla-318-_png.rf.dcb872d8cbec0feee10499d322f94303.jpg  \n",
            " extracting: train/images/Captura-de-pantalla-319-_png.rf.33b8fb615aac798a2f621ae22db76717.jpg  \n",
            " extracting: train/images/Captura-de-pantalla-319-_png.rf.4b8fbe0056b49c7e9b42d659722ffc6c.jpg  \n",
            " extracting: train/images/Captura-de-pantalla-319-_png.rf.dcf09511f244cbb55d917d4b8d8a2f3e.jpg  \n",
            " extracting: train/images/Captura-de-pantalla-32-_png.rf.43270fe3167555d69cc61401d1056745.jpg  \n",
            " extracting: train/images/Captura-de-pantalla-32-_png.rf.7b7e25fdee8efcbc4ae75fd3d21b6bfe.jpg  \n",
            " extracting: train/images/Captura-de-pantalla-32-_png.rf.82ea4c5243a57dd769d22e9891311b43.jpg  \n",
            " extracting: train/images/Captura-de-pantalla-320-_png.rf.28729c015f2781294ceedd1c2f18c1cf.jpg  \n",
            " extracting: train/images/Captura-de-pantalla-320-_png.rf.2be1d732f2df76cc9ab4758e3864c5ac.jpg  \n",
            " extracting: train/images/Captura-de-pantalla-320-_png.rf.3e6db4ff8cefbbf2b17c822f1309f4e4.jpg  \n",
            " extracting: train/images/Captura-de-pantalla-321-_png.rf.884d8beb29c52ecfc36fabebbcfd75f6.jpg  \n",
            " extracting: train/images/Captura-de-pantalla-321-_png.rf.9a9208832491ed327406995c899bae63.jpg  \n",
            " extracting: train/images/Captura-de-pantalla-321-_png.rf.d9e39b3758c792012f7e4c6b04e103cb.jpg  \n",
            " extracting: train/images/Captura-de-pantalla-322-_png.rf.0cbb66a74cefc9e0b6d6cbaae45bfaf7.jpg  \n",
            " extracting: train/images/Captura-de-pantalla-322-_png.rf.8fd1e70ceab8278f3eebf999fe7c9083.jpg  \n",
            " extracting: train/images/Captura-de-pantalla-322-_png.rf.e4e6bfd27bdabc297461505b89656373.jpg  \n",
            " extracting: train/images/Captura-de-pantalla-323-_png.rf.01ae617ea89fef1c1e1b8d61b251bdce.jpg  \n",
            " extracting: train/images/Captura-de-pantalla-323-_png.rf.2843b43c632f97165a5696b4828ea79c.jpg  \n",
            " extracting: train/images/Captura-de-pantalla-323-_png.rf.e43a064e16305acd290bf35b6260d6fd.jpg  \n",
            " extracting: train/images/Captura-de-pantalla-324-_png.rf.3c446c11fddab5d37522f1e621dce4a9.jpg  \n",
            " extracting: train/images/Captura-de-pantalla-324-_png.rf.6d8569484e60bcb2187d4b1e6d93150f.jpg  \n",
            " extracting: train/images/Captura-de-pantalla-324-_png.rf.8b6418f1447c28045d9b108452c893e1.jpg  \n",
            " extracting: train/images/Captura-de-pantalla-325-_png.rf.52de954da27e286c531c5088c66308a7.jpg  \n",
            " extracting: train/images/Captura-de-pantalla-325-_png.rf.acabcbf382971694ea367bc9a3264f10.jpg  \n",
            " extracting: train/images/Captura-de-pantalla-325-_png.rf.c13e7da3918d37b393cb19b113e40e69.jpg  \n",
            " extracting: train/images/Captura-de-pantalla-326-_png.rf.4c6fdfc4e2be1503328afefd0ee5ad9b.jpg  \n",
            " extracting: train/images/Captura-de-pantalla-326-_png.rf.80bcd503ce2c14c2c1a4748b02a2df81.jpg  \n",
            " extracting: train/images/Captura-de-pantalla-326-_png.rf.a347ec0b51906a2b015c5f94faa16285.jpg  \n",
            " extracting: train/images/Captura-de-pantalla-327-_png.rf.6a4ef226a291a3adec8c80d6914f4f68.jpg  \n",
            " extracting: train/images/Captura-de-pantalla-327-_png.rf.7b1ff5103361887f219274119203b9db.jpg  \n",
            " extracting: train/images/Captura-de-pantalla-327-_png.rf.d8df74650742579393db15acf9fba592.jpg  \n",
            " extracting: train/images/Captura-de-pantalla-328-_png.rf.2cf57d5ef13b66afc0d01a3026f790b4.jpg  \n",
            " extracting: train/images/Captura-de-pantalla-328-_png.rf.38e9b85c0f1e40b3f9f72435a52ec783.jpg  \n",
            " extracting: train/images/Captura-de-pantalla-328-_png.rf.d33c34bc4cf117f254e2cd7eb684433c.jpg  \n",
            " extracting: train/images/Captura-de-pantalla-329-_png.rf.718f62f29b444392770457d87cddc745.jpg  \n",
            " extracting: train/images/Captura-de-pantalla-329-_png.rf.76123434f4c40c810c52a8799f7b21f3.jpg  \n",
            " extracting: train/images/Captura-de-pantalla-329-_png.rf.90f9f8b4a08c97ce5dea715cc9ebaa3a.jpg  \n",
            " extracting: train/images/Captura-de-pantalla-330-_png.rf.3196dc68c0784c3339927f372b6eca3d.jpg  \n",
            " extracting: train/images/Captura-de-pantalla-330-_png.rf.4b0315705a0422a7cbe55f657100e7ff.jpg  \n",
            " extracting: train/images/Captura-de-pantalla-330-_png.rf.6d29ab98d7b97ff8f96e787dae91e868.jpg  \n",
            " extracting: train/images/Captura-de-pantalla-331-_png.rf.b17b074192ab4c4d0361e80b4fd16ef8.jpg  \n",
            " extracting: train/images/Captura-de-pantalla-331-_png.rf.f52a500fbf86924b723dcc452f23f9cd.jpg  \n",
            " extracting: train/images/Captura-de-pantalla-331-_png.rf.f80909d3e306b0c871691278a44fe761.jpg  \n",
            " extracting: train/images/Captura-de-pantalla-332-_png.rf.043c8014bbe114df8c3bfbf1e294e255.jpg  \n",
            " extracting: train/images/Captura-de-pantalla-332-_png.rf.309fa831cc770d302cbd33d4ca19fdff.jpg  \n",
            " extracting: train/images/Captura-de-pantalla-332-_png.rf.a7a73078904594cceb758e9c61a84672.jpg  \n",
            " extracting: train/images/Captura-de-pantalla-333-_png.rf.6f21d993a02cd4af12b6025443c6d3bd.jpg  \n",
            " extracting: train/images/Captura-de-pantalla-333-_png.rf.ad2da26c16a155761aad216548a4821c.jpg  \n",
            " extracting: train/images/Captura-de-pantalla-333-_png.rf.c75a22dd7809d0966d0fe0c31828a6d1.jpg  \n",
            " extracting: train/images/Captura-de-pantalla-335-_png.rf.700954bce878b6511665418b90498636.jpg  \n",
            " extracting: train/images/Captura-de-pantalla-335-_png.rf.87d36b19e1575d9efb412fed53c7a35a.jpg  \n",
            " extracting: train/images/Captura-de-pantalla-335-_png.rf.b7d7e1343eb877f084e3e41f0162acca.jpg  \n",
            " extracting: train/images/Captura-de-pantalla-336-_png.rf.127dce2c01254a895a2f469f078b52ce.jpg  \n",
            " extracting: train/images/Captura-de-pantalla-336-_png.rf.852e134bdf5353fbed4ec87a2ec9a9b5.jpg  \n",
            " extracting: train/images/Captura-de-pantalla-336-_png.rf.c62f18672d99ea8a1076a5ae10a62e62.jpg  \n",
            " extracting: train/images/Captura-de-pantalla-337-_png.rf.600e60c1cc30b31410c70043e8398528.jpg  \n",
            " extracting: train/images/Captura-de-pantalla-337-_png.rf.d93544ec6472fbd5ad9b15207d3b0a48.jpg  \n",
            " extracting: train/images/Captura-de-pantalla-337-_png.rf.fec725c8855c8c7b7e3e234b14e361fb.jpg  \n",
            " extracting: train/images/Captura-de-pantalla-338-_png.rf.45421fb9bfb80627e13b7dbf883ec68f.jpg  \n",
            " extracting: train/images/Captura-de-pantalla-338-_png.rf.b9b7d9688be81d5bb06a07b51eaf5500.jpg  \n",
            " extracting: train/images/Captura-de-pantalla-338-_png.rf.c4419987ac77c18900141a137280227d.jpg  \n",
            " extracting: train/images/Captura-de-pantalla-339-_png.rf.26f3356f5388e18a40a61f3f52123052.jpg  \n",
            " extracting: train/images/Captura-de-pantalla-339-_png.rf.33435eb9eeccd349f9a5dfadcc8dd4d3.jpg  \n",
            " extracting: train/images/Captura-de-pantalla-339-_png.rf.7666f3851888fd997fbafa8c231b9425.jpg  \n",
            " extracting: train/images/Captura-de-pantalla-340-_png.rf.3d674702b19c690ffe03f0c7fc966a51.jpg  \n",
            " extracting: train/images/Captura-de-pantalla-340-_png.rf.467d84d0f36bff4d4ff16378e508c71f.jpg  \n",
            " extracting: train/images/Captura-de-pantalla-340-_png.rf.ecca68edb76972fdab30d01e417dd8b0.jpg  \n",
            " extracting: train/images/Captura-de-pantalla-341-_png.rf.4fc8f10499069ce9efdfbdc5ee6aff22.jpg  \n",
            " extracting: train/images/Captura-de-pantalla-341-_png.rf.7718573950f570fba8eefc135c0d0ca2.jpg  \n",
            " extracting: train/images/Captura-de-pantalla-341-_png.rf.a785a92b546e16a8c475642ab22f87ce.jpg  \n",
            " extracting: train/images/Captura-de-pantalla-342-_png.rf.6b4545cc29fba2a958aa2dad74915d6e.jpg  \n",
            " extracting: train/images/Captura-de-pantalla-342-_png.rf.96818e758d4aa304e36ca2c224f9214d.jpg  \n",
            " extracting: train/images/Captura-de-pantalla-342-_png.rf.b99a8f2e68d0729dd3a8252c9c3a6ecb.jpg  \n",
            " extracting: train/images/Captura-de-pantalla-343-_png.rf.3e94afae1651252a55aeec9dcc18d080.jpg  \n",
            " extracting: train/images/Captura-de-pantalla-343-_png.rf.b4f6e8b5d7b80564cbd6854434591334.jpg  \n",
            " extracting: train/images/Captura-de-pantalla-343-_png.rf.c9a75bf28cc12d9050315a3b3b62accd.jpg  \n",
            " extracting: train/images/Captura-de-pantalla-344-_png.rf.79f566725597d67995ffe337d6d23424.jpg  \n",
            " extracting: train/images/Captura-de-pantalla-344-_png.rf.855aea118e54cd7002eafc6086b0ddaf.jpg  \n",
            " extracting: train/images/Captura-de-pantalla-344-_png.rf.e95f555a2da7c6a8dfc79975db4067a0.jpg  \n",
            " extracting: train/images/Captura-de-pantalla-345-_png.rf.7773d86323aa805ce0c5c1a002c98bb9.jpg  \n",
            " extracting: train/images/Captura-de-pantalla-345-_png.rf.94f9a1c88e2c8732af83f047880bf398.jpg  \n",
            " extracting: train/images/Captura-de-pantalla-345-_png.rf.d79e08f5d191c0b10db090fdaad0c7fc.jpg  \n",
            " extracting: train/images/Captura-de-pantalla-346-_png.rf.5fdefe4ba5eed1a18ab9442079d7ef50.jpg  \n",
            " extracting: train/images/Captura-de-pantalla-346-_png.rf.b7b0b332cb9c76b8dc4c420a6e22d82e.jpg  \n",
            " extracting: train/images/Captura-de-pantalla-346-_png.rf.daef1ef5dd678676bb25aa9e405a5982.jpg  \n",
            " extracting: train/images/Captura-de-pantalla-347-_png.rf.03b6a249c59289e4741af04c15ce607d.jpg  \n",
            " extracting: train/images/Captura-de-pantalla-347-_png.rf.ce76c92aa004121fdd220b1091ab6cd4.jpg  \n",
            " extracting: train/images/Captura-de-pantalla-347-_png.rf.f626df947c5e460b9d5bb0b121409d59.jpg  \n",
            " extracting: train/images/Captura-de-pantalla-348-_png.rf.568ddcb6f4488b18baa0642a03c87ab3.jpg  \n",
            " extracting: train/images/Captura-de-pantalla-348-_png.rf.7d20dd8ad631e3694f996a9bd2670432.jpg  \n",
            " extracting: train/images/Captura-de-pantalla-348-_png.rf.e981ccb7145f3a3ac545d17054fed25b.jpg  \n",
            " extracting: train/images/Captura-de-pantalla-349-_png.rf.2bceb3faf21dab3b6eb86e2ef4c75c9e.jpg  \n",
            " extracting: train/images/Captura-de-pantalla-349-_png.rf.f8570ad009c35203a284e78ee117e1a1.jpg  \n",
            " extracting: train/images/Captura-de-pantalla-349-_png.rf.fabf762289844d32b5bcee73be99b6e9.jpg  \n",
            " extracting: train/images/Captura-de-pantalla-35-_png.rf.28faadba229cbdd56483d96f9f0ac421.jpg  \n",
            " extracting: train/images/Captura-de-pantalla-35-_png.rf.94625524fd894536b473cde4c69f65ec.jpg  \n",
            " extracting: train/images/Captura-de-pantalla-35-_png.rf.f4edd1ae0750e0f274142ddde383343e.jpg  \n",
            " extracting: train/images/Captura-de-pantalla-350-_png.rf.82f8671d464f71af2730561adfa3ba99.jpg  \n",
            " extracting: train/images/Captura-de-pantalla-350-_png.rf.87b990c486656c1a396720f19a17e5a7.jpg  \n",
            " extracting: train/images/Captura-de-pantalla-350-_png.rf.b104708905c05d70280ebf25579804e2.jpg  \n",
            " extracting: train/images/Captura-de-pantalla-351-_png.rf.22bb3ee6d1ded81351d1ed090b6d6629.jpg  \n",
            " extracting: train/images/Captura-de-pantalla-351-_png.rf.8ada8e2567878072301cc76dd051a265.jpg  \n",
            " extracting: train/images/Captura-de-pantalla-351-_png.rf.e24dd0608da6715d9fe052c87ec39633.jpg  \n",
            " extracting: train/images/Captura-de-pantalla-352-_png.rf.d138defbc795f9c0163ea58db99b5576.jpg  \n",
            " extracting: train/images/Captura-de-pantalla-352-_png.rf.d697befa58f1b0c7e4b1fb5e21c8453f.jpg  \n",
            " extracting: train/images/Captura-de-pantalla-352-_png.rf.e76e828f2977945e401b10fdd119da87.jpg  \n",
            " extracting: train/images/Captura-de-pantalla-353-_png.rf.0cf1f77f61f21926d6ff2928b5a0db4a.jpg  \n",
            " extracting: train/images/Captura-de-pantalla-353-_png.rf.e412afb587ea563dd162d884353b8f1c.jpg  \n",
            " extracting: train/images/Captura-de-pantalla-353-_png.rf.ebb8f0a3e1ee66c823e251c5695c868f.jpg  \n",
            " extracting: train/images/Captura-de-pantalla-354-_png.rf.4d18b7872e92aa3cb1e9c2160ab663b5.jpg  \n",
            " extracting: train/images/Captura-de-pantalla-354-_png.rf.81c43fec38028f6588dc158d819c3494.jpg  \n",
            " extracting: train/images/Captura-de-pantalla-354-_png.rf.8ca6febf6bd468b3461463e8d1ec7295.jpg  \n",
            " extracting: train/images/Captura-de-pantalla-355-_png.rf.a6a1ce5b356a78c485da30f1b68b0671.jpg  \n",
            " extracting: train/images/Captura-de-pantalla-355-_png.rf.ac7c99f86f94d8f0e8e12217261509e8.jpg  \n",
            " extracting: train/images/Captura-de-pantalla-355-_png.rf.c1cfe4ab8ef7f0e139c7210345e41cba.jpg  \n",
            " extracting: train/images/Captura-de-pantalla-356-_png.rf.b392b354e4722b16805ef6768ffbed38.jpg  \n",
            " extracting: train/images/Captura-de-pantalla-356-_png.rf.bfecd9a0f81924a3cb80408a14d65b4c.jpg  \n",
            " extracting: train/images/Captura-de-pantalla-356-_png.rf.d15ae95fc20996a038934d9cbc62d1a5.jpg  \n",
            " extracting: train/images/Captura-de-pantalla-357-_png.rf.378bafc3985580e415baaf1261b0a6d5.jpg  \n",
            " extracting: train/images/Captura-de-pantalla-357-_png.rf.7687fdd32a14c278eb9fc838739c7d63.jpg  \n",
            " extracting: train/images/Captura-de-pantalla-357-_png.rf.efac836822ec628c078e109e5d3fd305.jpg  \n",
            " extracting: train/images/Captura-de-pantalla-358-_png.rf.3cdfcfdcc8b400ce35dabc5b8397c0f1.jpg  \n",
            " extracting: train/images/Captura-de-pantalla-358-_png.rf.6fc7b36c0d0f1b8129c1717ff43ac86c.jpg  \n",
            " extracting: train/images/Captura-de-pantalla-358-_png.rf.e3e415e39e6a1c090b5365a3f202d4a2.jpg  \n",
            " extracting: train/images/Captura-de-pantalla-359-_png.rf.50a667aec56a8cd870770916ed8f96cf.jpg  \n",
            " extracting: train/images/Captura-de-pantalla-359-_png.rf.5ae570afa0ee9120c926a6b3dc56eb13.jpg  \n",
            " extracting: train/images/Captura-de-pantalla-359-_png.rf.d3466fc7349d216bfc3e01560fb6ebca.jpg  \n",
            " extracting: train/images/Captura-de-pantalla-36-_png.rf.1ad249012efffcdd2f3db23eeeb5b90b.jpg  \n",
            " extracting: train/images/Captura-de-pantalla-36-_png.rf.b307d560a35c905b0904a3eea2100021.jpg  \n",
            " extracting: train/images/Captura-de-pantalla-36-_png.rf.d90b4462d8248ce418dd2f3093428504.jpg  \n",
            " extracting: train/images/Captura-de-pantalla-360-_png.rf.13f60abf61ab0c1998f652461b08907b.jpg  \n",
            " extracting: train/images/Captura-de-pantalla-360-_png.rf.6f004d83cf4a8adb09c97c27002ee2ea.jpg  \n",
            " extracting: train/images/Captura-de-pantalla-360-_png.rf.98710f1f23d6f498c5277a03e9de5d68.jpg  \n",
            " extracting: train/images/Captura-de-pantalla-367-_png.rf.00589a3e03c21e8ddefcfb2421663ff2.jpg  \n",
            " extracting: train/images/Captura-de-pantalla-367-_png.rf.36227ccda82978f0063b729b638843e8.jpg  \n",
            " extracting: train/images/Captura-de-pantalla-367-_png.rf.5a32615db10f109fe3eea9e1c202e180.jpg  \n",
            " extracting: train/images/Captura-de-pantalla-37-_png.rf.1bee8ad58fc3ad786efaa4dd991e653d.jpg  \n",
            " extracting: train/images/Captura-de-pantalla-37-_png.rf.291504707bff152f602cde1505a99af7.jpg  \n",
            " extracting: train/images/Captura-de-pantalla-37-_png.rf.edbca85174d8679e6c3e1bc41f86ebe8.jpg  \n",
            " extracting: train/images/Captura-de-pantalla-371-_png.rf.6c8c7b436c8a08d330aa4451d33bbaed.jpg  \n",
            " extracting: train/images/Captura-de-pantalla-371-_png.rf.df87c8dcfba79b44ae46c4404c3d4ec8.jpg  \n",
            " extracting: train/images/Captura-de-pantalla-371-_png.rf.f2e7f971abcaee284fce45fd8b1031b3.jpg  \n",
            " extracting: train/images/Captura-de-pantalla-372-_png.rf.27d1b251d71aa0d8f9009ecdfaf8dc6f.jpg  \n",
            " extracting: train/images/Captura-de-pantalla-372-_png.rf.456f66cd8b0000d4287a7a2fc4cf42df.jpg  \n",
            " extracting: train/images/Captura-de-pantalla-372-_png.rf.67febe2c83248ab07ec39f7d7cb7da29.jpg  \n",
            " extracting: train/images/Captura-de-pantalla-373-_png.rf.325aea7ab4fe13642ff5e6e235e4befa.jpg  \n",
            " extracting: train/images/Captura-de-pantalla-373-_png.rf.7697d8d84f97d88ebedb8d7bc4dd4157.jpg  \n",
            " extracting: train/images/Captura-de-pantalla-373-_png.rf.b268bd2e2b612582416c2d276081c970.jpg  \n",
            " extracting: train/images/Captura-de-pantalla-374-_png.rf.50990fae86566c0aaa32105ebb3b9b8f.jpg  \n",
            " extracting: train/images/Captura-de-pantalla-374-_png.rf.50fbf75425906391514f731f404b1092.jpg  \n",
            " extracting: train/images/Captura-de-pantalla-374-_png.rf.64414c1cca320c4f47de17d675bfccfe.jpg  \n",
            " extracting: train/images/Captura-de-pantalla-375-_png.rf.1c1d4a103ea4db2dc0cfa19ca297d8ea.jpg  \n",
            " extracting: train/images/Captura-de-pantalla-375-_png.rf.43c90bd117767ddfe64e5bbbe2d4bf97.jpg  \n",
            " extracting: train/images/Captura-de-pantalla-375-_png.rf.87cbde40242de1b7a433d69d4dcac614.jpg  \n",
            " extracting: train/images/Captura-de-pantalla-376-_png.rf.656f8f089584eb294a2b04c367e2bf3c.jpg  \n",
            " extracting: train/images/Captura-de-pantalla-376-_png.rf.c5162b683eea327fe74b72419bafbc86.jpg  \n",
            " extracting: train/images/Captura-de-pantalla-376-_png.rf.ddb1892fc56c4399f11c6493fd375b96.jpg  \n",
            " extracting: train/images/Captura-de-pantalla-377-_png.rf.64ff542f47a6251cfc7aa37179560790.jpg  \n",
            " extracting: train/images/Captura-de-pantalla-377-_png.rf.68c5a397b5834ab0479c3ad0433af39b.jpg  \n",
            " extracting: train/images/Captura-de-pantalla-377-_png.rf.f42a9ec17dd2a4e03ff9163f4ef99096.jpg  \n",
            " extracting: train/images/Captura-de-pantalla-379-_png.rf.1e2a79d26a61bc7394dcb0b92ca94e65.jpg  \n",
            " extracting: train/images/Captura-de-pantalla-379-_png.rf.511cb2ddf298899b2c160d709e941722.jpg  \n",
            " extracting: train/images/Captura-de-pantalla-379-_png.rf.62350a5c91c1921827b1a7b9111ffca6.jpg  \n",
            " extracting: train/images/Captura-de-pantalla-38-_png.rf.8523452d14b79eeadee2b9cfa92ef9b8.jpg  \n",
            " extracting: train/images/Captura-de-pantalla-38-_png.rf.b00adfcbac8a63d27821d94b847759ca.jpg  \n",
            " extracting: train/images/Captura-de-pantalla-38-_png.rf.c0e6106698fd1d53788ca5634f5cd819.jpg  \n",
            " extracting: train/images/Captura-de-pantalla-380-_png.rf.6280ae5878e600b2b96df14d8531b752.jpg  \n",
            " extracting: train/images/Captura-de-pantalla-380-_png.rf.bf8c4d14fc52399dfdb35f8badef6e9c.jpg  \n",
            " extracting: train/images/Captura-de-pantalla-380-_png.rf.c7e142ad9a9c123b41a96f523f837d23.jpg  \n",
            " extracting: train/images/Captura-de-pantalla-383-_png.rf.4a37d313440b89d926a95242aef31862.jpg  \n",
            " extracting: train/images/Captura-de-pantalla-383-_png.rf.e37984609ee59360f5002fd2f523622b.jpg  \n",
            " extracting: train/images/Captura-de-pantalla-383-_png.rf.e57173409fe563bbe43440950892d617.jpg  \n",
            " extracting: train/images/Captura-de-pantalla-384-_png.rf.1205742bbafd76646468ce86dbed67ee.jpg  \n",
            " extracting: train/images/Captura-de-pantalla-384-_png.rf.446f60636bd029e11b8724c764547104.jpg  \n",
            " extracting: train/images/Captura-de-pantalla-384-_png.rf.a02fa7af53dc74e3a46ae7542cff1932.jpg  \n",
            " extracting: train/images/Captura-de-pantalla-385-_png.rf.03a89d6307c8a500bc4382e27068bc53.jpg  \n",
            " extracting: train/images/Captura-de-pantalla-385-_png.rf.58c41e40e67d0593246c28adc283db39.jpg  \n",
            " extracting: train/images/Captura-de-pantalla-385-_png.rf.66f25a4048a6aa74bc95c27117272105.jpg  \n",
            " extracting: train/images/Captura-de-pantalla-387-_png.rf.8b3801b9326af29e3e23a284bbd09307.jpg  \n",
            " extracting: train/images/Captura-de-pantalla-387-_png.rf.9caf45bb2d35bfe10562358708bf2351.jpg  \n",
            " extracting: train/images/Captura-de-pantalla-387-_png.rf.cc5b1067015e5c39f153e5e1b2c698b9.jpg  \n",
            " extracting: train/images/Captura-de-pantalla-388-_png.rf.74149437a36b31f4dac5256db5b7d4e4.jpg  \n",
            " extracting: train/images/Captura-de-pantalla-388-_png.rf.75937f49574ae7e000500f71cb562c4e.jpg  \n",
            " extracting: train/images/Captura-de-pantalla-388-_png.rf.8e8619560d308b2b8a784c9875cf17c3.jpg  \n",
            " extracting: train/images/Captura-de-pantalla-39-_png.rf.51dd2d66b1090d15bb26826eed9016ff.jpg  \n",
            " extracting: train/images/Captura-de-pantalla-39-_png.rf.6c17e5d76fdb8fd9eb3b53762a60dc94.jpg  \n",
            " extracting: train/images/Captura-de-pantalla-39-_png.rf.92dfc6c95cbcb18658113ef6b7e3048d.jpg  \n",
            " extracting: train/images/Captura-de-pantalla-390-_png.rf.557c148c0174d10e417b4830da9dcce7.jpg  \n",
            " extracting: train/images/Captura-de-pantalla-390-_png.rf.6ce0240dddba2b9c2d7e000f11899152.jpg  \n",
            " extracting: train/images/Captura-de-pantalla-390-_png.rf.894e8553216a1bd52b5911a9b4bb5dac.jpg  \n",
            " extracting: train/images/Captura-de-pantalla-391-_png.rf.32fdeb3d1e6a18ad2178614f4d9030cc.jpg  \n",
            " extracting: train/images/Captura-de-pantalla-391-_png.rf.5f4590932d00ba13b9eee7fb15317065.jpg  \n",
            " extracting: train/images/Captura-de-pantalla-391-_png.rf.e46b18b6772c43659a92a5207d51a9ac.jpg  \n",
            " extracting: train/images/Captura-de-pantalla-393-_png.rf.0425825f8358afa16dcba950af2d11c0.jpg  \n",
            " extracting: train/images/Captura-de-pantalla-393-_png.rf.0c644a0684f8a10bcc4180c316537648.jpg  \n",
            " extracting: train/images/Captura-de-pantalla-393-_png.rf.af111c011108a782e646d7c409e2014f.jpg  \n",
            " extracting: train/images/Captura-de-pantalla-394-_png.rf.3640ad47d8092bae7eed93d8e062787e.jpg  \n",
            " extracting: train/images/Captura-de-pantalla-394-_png.rf.753eb907ead28728c40db55e6e3e14f8.jpg  \n",
            " extracting: train/images/Captura-de-pantalla-394-_png.rf.ef40efb689bfcc2c73a11b8973b17a40.jpg  \n",
            " extracting: train/images/Captura-de-pantalla-395-_png.rf.09795e6fe287188edbf36a63b7eab0fc.jpg  \n",
            " extracting: train/images/Captura-de-pantalla-395-_png.rf.22291320a0893e5ebbcb90ae6dc90c86.jpg  \n",
            " extracting: train/images/Captura-de-pantalla-395-_png.rf.62be7318ebbe86a4515950494b257ff0.jpg  \n",
            " extracting: train/images/Captura-de-pantalla-397-_png.rf.6e2de02412416e1586b471b0fc314f8d.jpg  \n",
            " extracting: train/images/Captura-de-pantalla-397-_png.rf.6f316ed86505fd3a33cc84a362d8ee54.jpg  \n",
            " extracting: train/images/Captura-de-pantalla-397-_png.rf.be9f38a58e763e672613378c24f3030f.jpg  \n",
            " extracting: train/images/Captura-de-pantalla-398-_png.rf.0a4ba1594ac1fb1997f700dc3429c558.jpg  \n",
            " extracting: train/images/Captura-de-pantalla-398-_png.rf.1e78b4f4699813ca4342bddf8f23766c.jpg  \n",
            " extracting: train/images/Captura-de-pantalla-398-_png.rf.6b08f40f1f2d20bff9d319ccda10b30e.jpg  \n",
            " extracting: train/images/Captura-de-pantalla-399-_png.rf.96c7cf3990265d3dfaa1d8e1604f5296.jpg  \n",
            " extracting: train/images/Captura-de-pantalla-399-_png.rf.a71a5067608901dc770936c40b79ec06.jpg  \n",
            " extracting: train/images/Captura-de-pantalla-399-_png.rf.a8e7c98eef6b29fd00b6025e64a4f955.jpg  \n",
            " extracting: train/images/Captura-de-pantalla-40-_png.rf.a1e694f7ecbfaaaab3806aa4046721dd.jpg  \n",
            " extracting: train/images/Captura-de-pantalla-40-_png.rf.aef341602bfd483ec314b6546c2561e2.jpg  \n",
            " extracting: train/images/Captura-de-pantalla-40-_png.rf.c9e483360618452d050389e4a063b475.jpg  \n",
            " extracting: train/images/Captura-de-pantalla-400-_png.rf.1dc336481c5436a5ce927b33ba93466e.jpg  \n",
            " extracting: train/images/Captura-de-pantalla-400-_png.rf.3662d3df79dd83c7f21b5aba408c5550.jpg  \n",
            " extracting: train/images/Captura-de-pantalla-400-_png.rf.900a8d64e7ab084dfd2ac9fe82ad9320.jpg  \n",
            " extracting: train/images/Captura-de-pantalla-402-_png.rf.0a992a960d45acc0a68a3949ea450ee5.jpg  \n",
            " extracting: train/images/Captura-de-pantalla-402-_png.rf.1da5dd57d36bd4a003b6eb57322ed189.jpg  \n",
            " extracting: train/images/Captura-de-pantalla-402-_png.rf.cf0db62d6deb06afc6865c23d5c66e2c.jpg  \n",
            " extracting: train/images/Captura-de-pantalla-403-_png.rf.8f23119565f3499d4f2f6eed38bd5c4e.jpg  \n",
            " extracting: train/images/Captura-de-pantalla-403-_png.rf.a183925a67f63023123f8d08be8160fe.jpg  \n",
            " extracting: train/images/Captura-de-pantalla-403-_png.rf.ac32bd972b32b29a0bc1fdec2839c850.jpg  \n",
            " extracting: train/images/Captura-de-pantalla-404-_png.rf.2ad437faf1d718378af2089f2b49971e.jpg  \n",
            " extracting: train/images/Captura-de-pantalla-404-_png.rf.3739cf705db3744c11834fbde85e8ba7.jpg  \n",
            " extracting: train/images/Captura-de-pantalla-404-_png.rf.cafd3c2a9f605af36a9ec028922fe838.jpg  \n",
            " extracting: train/images/Captura-de-pantalla-405-_png.rf.b08f1b60418c2bcab408d97dd27e1997.jpg  \n",
            " extracting: train/images/Captura-de-pantalla-405-_png.rf.d18337aad65228e1f3d7ed6315fd1e4d.jpg  \n",
            " extracting: train/images/Captura-de-pantalla-405-_png.rf.f280706e984ef903191ac1552a39eaeb.jpg  \n",
            " extracting: train/images/Captura-de-pantalla-406-_png.rf.3b3c818da259b1cb88ff979de8098506.jpg  \n",
            " extracting: train/images/Captura-de-pantalla-406-_png.rf.3c393e823e349d27333c57b087687689.jpg  \n",
            " extracting: train/images/Captura-de-pantalla-406-_png.rf.fe167d6bdb08262be6ebfbe7580f41bb.jpg  \n",
            " extracting: train/images/Captura-de-pantalla-408-_png.rf.0e832c571b91f25034191468da450bd8.jpg  \n",
            " extracting: train/images/Captura-de-pantalla-408-_png.rf.38dd0e6877dfcdf62b4f84feb7060aac.jpg  \n",
            " extracting: train/images/Captura-de-pantalla-408-_png.rf.3bc59c2fa71792bcb38f7658620f021f.jpg  \n",
            " extracting: train/images/Captura-de-pantalla-41-_png.rf.060fbb11ae3a523fb70dd08b6cafe383.jpg  \n",
            " extracting: train/images/Captura-de-pantalla-41-_png.rf.8390acf23aa3bb1d8ded7cf9a23f7d00.jpg  \n",
            " extracting: train/images/Captura-de-pantalla-41-_png.rf.e5c39160348cf7fb6cdbd383bdf3a9ed.jpg  \n",
            " extracting: train/images/Captura-de-pantalla-410-_png.rf.3c2dd5f48b3e438370cce8588c8f8a1c.jpg  \n",
            " extracting: train/images/Captura-de-pantalla-410-_png.rf.4254e1faca08be87bfa7af39dede9bb8.jpg  \n",
            " extracting: train/images/Captura-de-pantalla-410-_png.rf.4f0fb50b3b093a0eb91215c426c648ae.jpg  \n",
            " extracting: train/images/Captura-de-pantalla-411-_png.rf.169db9a05136060a9d0a2c7823f4072a.jpg  \n",
            " extracting: train/images/Captura-de-pantalla-411-_png.rf.35be50a2090b12a871646d89c2606c15.jpg  \n",
            " extracting: train/images/Captura-de-pantalla-411-_png.rf.711504053aea074c8e1dd2db16147cc5.jpg  \n",
            " extracting: train/images/Captura-de-pantalla-412-_png.rf.480ea9aaaddf340f439231f4db13ce91.jpg  \n",
            " extracting: train/images/Captura-de-pantalla-412-_png.rf.6d332709caeeb9f56019c2abc4b2af1a.jpg  \n",
            " extracting: train/images/Captura-de-pantalla-412-_png.rf.d57b5ab6f99522eab6a0898ac184546c.jpg  \n",
            " extracting: train/images/Captura-de-pantalla-413-_png.rf.784773a734c2a8daf5308a39f9f56cdd.jpg  \n",
            " extracting: train/images/Captura-de-pantalla-413-_png.rf.ae0d5b78795aa6e37c9858e733d1a0ac.jpg  \n",
            " extracting: train/images/Captura-de-pantalla-413-_png.rf.d0080bd42cf3f79e070ec557913f3947.jpg  \n",
            " extracting: train/images/Captura-de-pantalla-415-_png.rf.2281799b0aad56e7f1c7f35985aeaaf2.jpg  \n",
            " extracting: train/images/Captura-de-pantalla-415-_png.rf.2cf17d0fcc87b51ef438f575c73de40c.jpg  \n",
            " extracting: train/images/Captura-de-pantalla-415-_png.rf.8f3a93b3028a44a5d6e46214bc8edcad.jpg  \n",
            " extracting: train/images/Captura-de-pantalla-418-_png.rf.0bbadb4bc2b10b1667eb2809dfd6f61f.jpg  \n",
            " extracting: train/images/Captura-de-pantalla-418-_png.rf.3db96b451bea95f70ed5cb392e7a566d.jpg  \n",
            " extracting: train/images/Captura-de-pantalla-418-_png.rf.d67b61fa7f16ab0d6bbd000fa6706b04.jpg  \n",
            " extracting: train/images/Captura-de-pantalla-419-_png.rf.39b2b23f5c4b749f9de7760ab1692a9e.jpg  \n",
            " extracting: train/images/Captura-de-pantalla-419-_png.rf.a77ae63f1a9c080d828ec8ca049c415b.jpg  \n",
            " extracting: train/images/Captura-de-pantalla-419-_png.rf.ddd1841207f14e1b852f148f3ef1665c.jpg  \n",
            " extracting: train/images/Captura-de-pantalla-420-_png.rf.32e87ce5eb7c02eb55df2631ce8786f9.jpg  \n",
            " extracting: train/images/Captura-de-pantalla-420-_png.rf.43d5782a2e4508708f6a0a5d07259d5f.jpg  \n",
            " extracting: train/images/Captura-de-pantalla-420-_png.rf.d4a3c5c82c0d6f5608f0fb138fc2ab7e.jpg  \n",
            " extracting: train/images/Captura-de-pantalla-423-_png.rf.175b4b35c82d07ad5846de60d252988b.jpg  \n",
            " extracting: train/images/Captura-de-pantalla-423-_png.rf.57c034ed7e211653518a95a2d0ac09f2.jpg  \n",
            " extracting: train/images/Captura-de-pantalla-423-_png.rf.ca67ee35c3849fd4446692cb18e361f6.jpg  \n",
            " extracting: train/images/Captura-de-pantalla-424-_png.rf.50282df4a812df154aa260136332d6f3.jpg  \n",
            " extracting: train/images/Captura-de-pantalla-424-_png.rf.6217116626e6aeca14e20a4f3e9975d1.jpg  \n",
            " extracting: train/images/Captura-de-pantalla-424-_png.rf.ac8a55a5e2251104174919eed1a97ff0.jpg  \n",
            " extracting: train/images/Captura-de-pantalla-425-_png.rf.7adb4a74c06bfd4d01b18676f7bc749a.jpg  \n",
            " extracting: train/images/Captura-de-pantalla-425-_png.rf.870130c86ad125f3b8b284d0f4848481.jpg  \n",
            " extracting: train/images/Captura-de-pantalla-425-_png.rf.9fcd5eb8e0bb388ee4e7eab8337235f9.jpg  \n",
            " extracting: train/images/Captura-de-pantalla-427-_png.rf.36e2a5dd2ef427fdb460fd0854fbf1c9.jpg  \n",
            " extracting: train/images/Captura-de-pantalla-427-_png.rf.415d188ce439ded8c2d478381b46334e.jpg  \n",
            " extracting: train/images/Captura-de-pantalla-427-_png.rf.70016046238ef123aef2a90061fac901.jpg  \n",
            " extracting: train/images/Captura-de-pantalla-428-_png.rf.373ad5f91c134b28452c957f9845c637.jpg  \n",
            " extracting: train/images/Captura-de-pantalla-428-_png.rf.b5a54f8075f1e0055737abdb2e2b057d.jpg  \n",
            " extracting: train/images/Captura-de-pantalla-428-_png.rf.f60205035c3294b1d72c8194ce8eca21.jpg  \n",
            " extracting: train/images/Captura-de-pantalla-429-_png.rf.b5092418bd9cf0080eae98907ed19bd4.jpg  \n",
            " extracting: train/images/Captura-de-pantalla-429-_png.rf.d5d4f4825b3ca1cd69e7ad729187e3e5.jpg  \n",
            " extracting: train/images/Captura-de-pantalla-429-_png.rf.fa8cf97675811f1d051c7af6f328e3a3.jpg  \n",
            " extracting: train/images/Captura-de-pantalla-430-_png.rf.409be360709962f48cff16fa0107f4ae.jpg  \n",
            " extracting: train/images/Captura-de-pantalla-430-_png.rf.a3016826cdfa80df9540e8f64e64d381.jpg  \n",
            " extracting: train/images/Captura-de-pantalla-430-_png.rf.d6174a1d701a8068b615aa405269934e.jpg  \n",
            " extracting: train/images/Captura-de-pantalla-436-_png.rf.5fbdd88a150d65355088426f065ecb97.jpg  \n",
            " extracting: train/images/Captura-de-pantalla-436-_png.rf.649434227e4d9bef2208d69c7f7c0191.jpg  \n",
            " extracting: train/images/Captura-de-pantalla-436-_png.rf.94ac3c68ad48892b1f218e0ca457998c.jpg  \n",
            " extracting: train/images/Captura-de-pantalla-437-_png.rf.2c4aedf7af4c7a76d410c32c0674c50e.jpg  \n",
            " extracting: train/images/Captura-de-pantalla-437-_png.rf.aaeaea569bf953562256636a7a21e764.jpg  \n",
            " extracting: train/images/Captura-de-pantalla-437-_png.rf.bcf3af029b2a610775ed9420d08774fb.jpg  \n",
            " extracting: train/images/Captura-de-pantalla-438-_png.rf.444dd9863575c16422aba6efe746adbb.jpg  \n",
            " extracting: train/images/Captura-de-pantalla-438-_png.rf.91113891f5b742de27797dc8d862a084.jpg  \n",
            " extracting: train/images/Captura-de-pantalla-438-_png.rf.d0f867117641eaa507fab177824cfab9.jpg  \n",
            " extracting: train/images/Captura-de-pantalla-439-_png.rf.156fee614f9365996ce0864007ebc141.jpg  \n",
            " extracting: train/images/Captura-de-pantalla-439-_png.rf.16a6ec6f42886793d3ead9cd6c195af1.jpg  \n",
            " extracting: train/images/Captura-de-pantalla-439-_png.rf.3568a4c66f4404f065c3721cb0b920d3.jpg  \n",
            " extracting: train/images/Captura-de-pantalla-440-_png.rf.4884404ba70a9e68b7dfc50b02520e0a.jpg  \n",
            " extracting: train/images/Captura-de-pantalla-440-_png.rf.a299fcb342befa85f8f57689b2cf45aa.jpg  \n",
            " extracting: train/images/Captura-de-pantalla-440-_png.rf.fac72b8be1a87b849d40f5eedbf62f25.jpg  \n",
            " extracting: train/images/Captura-de-pantalla-441-_png.rf.7fbf2bbdae7e2266e38dc0849366fc78.jpg  \n",
            " extracting: train/images/Captura-de-pantalla-441-_png.rf.ae690c3f9bc76df7ec0f6f37b226ae59.jpg  \n",
            " extracting: train/images/Captura-de-pantalla-441-_png.rf.af98cb6e82ef10c96fef11fb734a720e.jpg  \n",
            " extracting: train/images/Captura-de-pantalla-442-_png.rf.0cf0b2f006090835b9a1eac182a88cb5.jpg  \n",
            " extracting: train/images/Captura-de-pantalla-442-_png.rf.4639930af63bf58df7011e2ebb1a55f9.jpg  \n",
            " extracting: train/images/Captura-de-pantalla-442-_png.rf.a0ddde7897c81765817096c4bfe38d3f.jpg  \n",
            " extracting: train/images/Captura-de-pantalla-443-_png.rf.40812d4af3f3f9105cfb1bc300f1880d.jpg  \n",
            " extracting: train/images/Captura-de-pantalla-443-_png.rf.ebc423abc5be2951c0162c195f3d58d6.jpg  \n",
            " extracting: train/images/Captura-de-pantalla-443-_png.rf.f27c86467fa3e2b784dd271d240a82ed.jpg  \n",
            " extracting: train/images/Captura-de-pantalla-444-_png.rf.569600d5c68f530a64ec79c16d64eb3c.jpg  \n",
            " extracting: train/images/Captura-de-pantalla-444-_png.rf.b206da0582c879bad9e12936e3e9868f.jpg  \n",
            " extracting: train/images/Captura-de-pantalla-444-_png.rf.e8af6ff1991815275dc443a44a675eb0.jpg  \n",
            " extracting: train/images/Captura-de-pantalla-445-_png.rf.04085f950e91f2ac9721ce2178f9d65e.jpg  \n",
            " extracting: train/images/Captura-de-pantalla-445-_png.rf.2695c6a2007c1e1972368fd38f1c98ed.jpg  \n",
            " extracting: train/images/Captura-de-pantalla-445-_png.rf.3e8bd218a3c8d3a6eadeea2af37a9155.jpg  \n",
            " extracting: train/images/Captura-de-pantalla-446-_png.rf.6a293f37f9a71dc2e0c5703f3a4d9770.jpg  \n",
            " extracting: train/images/Captura-de-pantalla-446-_png.rf.9ab4fad7a0b7316c47b324a82915caca.jpg  \n",
            " extracting: train/images/Captura-de-pantalla-446-_png.rf.f0a2a3ad502c771df0de6a13fca1fdde.jpg  \n",
            " extracting: train/images/Captura-de-pantalla-447-_png.rf.5bb856be113f299da7029b69f6dc8dec.jpg  \n",
            " extracting: train/images/Captura-de-pantalla-447-_png.rf.72d7cef32f6a828ac83d3a107cd82158.jpg  \n",
            " extracting: train/images/Captura-de-pantalla-447-_png.rf.9f5e1b6d5ee6d460934d3400f813fb9e.jpg  \n",
            " extracting: train/images/Captura-de-pantalla-448-_png.rf.1c85791c4cebfeff0af9d51cb7c7da5f.jpg  \n",
            " extracting: train/images/Captura-de-pantalla-448-_png.rf.2f2ab7b0dd94f5f7db0167473ed3d0dc.jpg  \n",
            " extracting: train/images/Captura-de-pantalla-448-_png.rf.cee7b818e69597eb2d55b90061ddfc1b.jpg  \n",
            " extracting: train/images/Captura-de-pantalla-449-_png.rf.1a75bbce15a3dbb907c9e5f9686a3f08.jpg  \n",
            " extracting: train/images/Captura-de-pantalla-449-_png.rf.c1e63193d7965fc516cd174a932ecbdb.jpg  \n",
            " extracting: train/images/Captura-de-pantalla-449-_png.rf.de4ace2cd29e3d2eb32ba2c886feeaf8.jpg  \n",
            " extracting: train/images/Captura-de-pantalla-45-_png.rf.00dac163ecccc3c0ece9f8014df99c54.jpg  \n",
            " extracting: train/images/Captura-de-pantalla-45-_png.rf.30f73d20832552ef94ae16a7c4d586f8.jpg  \n",
            " extracting: train/images/Captura-de-pantalla-45-_png.rf.3f36f8cda9479416dbb480fff3baf08d.jpg  \n",
            " extracting: train/images/Captura-de-pantalla-450-_png.rf.26f0796050d1361a1e10374cac8f13ba.jpg  \n",
            " extracting: train/images/Captura-de-pantalla-450-_png.rf.f00ed521adabeccdc3f725643487b75a.jpg  \n",
            " extracting: train/images/Captura-de-pantalla-450-_png.rf.f0e8fe6d4052341f761261c31fca62f3.jpg  \n",
            " extracting: train/images/Captura-de-pantalla-451-_png.rf.18550e13ad8e65f212fdc6cb57ce20ce.jpg  \n",
            " extracting: train/images/Captura-de-pantalla-451-_png.rf.7b908a3fd34d31ecebe5ebd70097335a.jpg  \n",
            " extracting: train/images/Captura-de-pantalla-451-_png.rf.e85c6a9c0d65530f3a1021b175047d3f.jpg  \n",
            " extracting: train/images/Captura-de-pantalla-452-_png.rf.0a3e1f0db08d0eab557dce9826dd354d.jpg  \n",
            " extracting: train/images/Captura-de-pantalla-452-_png.rf.6b8f304e207ca32ff77a246526302eac.jpg  \n",
            " extracting: train/images/Captura-de-pantalla-452-_png.rf.a9406a0da0e592c43031a8fbae33f354.jpg  \n",
            " extracting: train/images/Captura-de-pantalla-453-_png.rf.517cd8a90d48f3147f24f7f970bcafff.jpg  \n",
            " extracting: train/images/Captura-de-pantalla-453-_png.rf.e3b7de85e22070dd2961073dea9efc28.jpg  \n",
            " extracting: train/images/Captura-de-pantalla-453-_png.rf.ef42f988fe5008cecd10bbf21bb516ee.jpg  \n",
            " extracting: train/images/Captura-de-pantalla-454-_png.rf.1c4e3b22368002116ae7aeee22b2e529.jpg  \n",
            " extracting: train/images/Captura-de-pantalla-454-_png.rf.1d2c36e9204ef6b460fb0762c359b04d.jpg  \n",
            " extracting: train/images/Captura-de-pantalla-454-_png.rf.4c6c3cc13206f13fc4053150a0792224.jpg  \n",
            " extracting: train/images/Captura-de-pantalla-455-_png.rf.23c6ddfaa67034aa2c14703d77112baa.jpg  \n",
            " extracting: train/images/Captura-de-pantalla-455-_png.rf.5717df4caace66b520b7203265bb9706.jpg  \n",
            " extracting: train/images/Captura-de-pantalla-455-_png.rf.e0af925b11c593681a1e036b0fbc1c82.jpg  \n",
            " extracting: train/images/Captura-de-pantalla-456-_png.rf.030a4fc37b8287934e01191f054f9573.jpg  \n",
            " extracting: train/images/Captura-de-pantalla-456-_png.rf.5e15413d4e050f1498d7241dff06b1f4.jpg  \n",
            " extracting: train/images/Captura-de-pantalla-456-_png.rf.ad93acd716b83a4efd0b7de131734c02.jpg  \n",
            " extracting: train/images/Captura-de-pantalla-457-_png.rf.1f3f524d0019572cbb5e5860ddae5110.jpg  \n",
            " extracting: train/images/Captura-de-pantalla-457-_png.rf.983c0637869aefe78a2abe310fd65819.jpg  \n",
            " extracting: train/images/Captura-de-pantalla-457-_png.rf.ee9a52d3198c9ad90e6851eaedcadfd7.jpg  \n",
            " extracting: train/images/Captura-de-pantalla-458-_png.rf.06b6b9607a2306b968df48bd87e42474.jpg  \n",
            " extracting: train/images/Captura-de-pantalla-458-_png.rf.a67a9ca756f9c0ae573f00e7536d87f0.jpg  \n",
            " extracting: train/images/Captura-de-pantalla-458-_png.rf.eabf57876e0c9c96785d26b92d9085a5.jpg  \n",
            " extracting: train/images/Captura-de-pantalla-459-_png.rf.55f448c0608002851f9eab4746924dc6.jpg  \n",
            " extracting: train/images/Captura-de-pantalla-459-_png.rf.83bd74f1658dad841df3821cd3ce4dad.jpg  \n",
            " extracting: train/images/Captura-de-pantalla-459-_png.rf.a722ea96a470481220aa70d67cbe3e70.jpg  \n",
            " extracting: train/images/Captura-de-pantalla-46-_png.rf.9d0d82ab54ca8872443d855c19a34644.jpg  \n",
            " extracting: train/images/Captura-de-pantalla-46-_png.rf.ec3233eee3cc83a2c20df0b877512a2a.jpg  \n",
            " extracting: train/images/Captura-de-pantalla-46-_png.rf.ed9e1dadf79506636cc2c17579f40a65.jpg  \n",
            " extracting: train/images/Captura-de-pantalla-460-_png.rf.47676b58fbe1b9a24052ffce48513fa4.jpg  \n",
            " extracting: train/images/Captura-de-pantalla-460-_png.rf.5dbf565814ebf7621a57d4221b1190b0.jpg  \n",
            " extracting: train/images/Captura-de-pantalla-460-_png.rf.f61243522242e27d194f48aecdd18a7a.jpg  \n",
            " extracting: train/images/Captura-de-pantalla-461-_png.rf.09e8baf956171f910b5b18b856c03d86.jpg  \n",
            " extracting: train/images/Captura-de-pantalla-461-_png.rf.128aabf0374f24925c361264ce857c5f.jpg  \n",
            " extracting: train/images/Captura-de-pantalla-461-_png.rf.54d4c9b02a27136f580e8332dbdd5142.jpg  \n",
            " extracting: train/images/Captura-de-pantalla-462-_png.rf.1fc5cce2358772def49f989e340f6db7.jpg  \n",
            " extracting: train/images/Captura-de-pantalla-462-_png.rf.74c197e14a815aec19f8d2e3f06971f6.jpg  \n",
            " extracting: train/images/Captura-de-pantalla-462-_png.rf.d560ba9ad1d8fc4358b69aa9d3a81b30.jpg  \n",
            " extracting: train/images/Captura-de-pantalla-463-_png.rf.a80b5d9f48b6da8f42cb87dd748968e0.jpg  \n",
            " extracting: train/images/Captura-de-pantalla-463-_png.rf.b522757dac3da3f74b067f4a1b2521bc.jpg  \n",
            " extracting: train/images/Captura-de-pantalla-463-_png.rf.cd3595c779fb959a324036334155661b.jpg  \n",
            " extracting: train/images/Captura-de-pantalla-464-_png.rf.0f800ca6bbaf5c63fe780b57923fec7b.jpg  \n",
            " extracting: train/images/Captura-de-pantalla-464-_png.rf.512441ee913a4a9fcc99ec8037a44a89.jpg  \n",
            " extracting: train/images/Captura-de-pantalla-464-_png.rf.c2fb39ccfec2bb1d3cefe2877b3ebf2c.jpg  \n",
            " extracting: train/images/Captura-de-pantalla-465-_png.rf.d537d3afac31e42628340577df85cafd.jpg  \n",
            " extracting: train/images/Captura-de-pantalla-465-_png.rf.d5b5277bd62306954d6479c407df1fb8.jpg  \n",
            " extracting: train/images/Captura-de-pantalla-465-_png.rf.f48185c71b084746cb314b919d9bf752.jpg  \n",
            " extracting: train/images/Captura-de-pantalla-466-_png.rf.2a8272eeb7dac01a68e92053a2da063b.jpg  \n",
            " extracting: train/images/Captura-de-pantalla-466-_png.rf.6cd79e30a2e0ac4afa7b77d279c1328f.jpg  \n",
            " extracting: train/images/Captura-de-pantalla-466-_png.rf.c99da8af6c6e13e0726575c07f769cd5.jpg  \n",
            " extracting: train/images/Captura-de-pantalla-467-_png.rf.5f6d2283374a660ca5177a43fdc34c69.jpg  \n",
            " extracting: train/images/Captura-de-pantalla-467-_png.rf.db93fcfd4f0384240a38b98c23359b41.jpg  \n",
            " extracting: train/images/Captura-de-pantalla-467-_png.rf.e5d8ec4975442ffbaec9f141a67b14cc.jpg  \n",
            " extracting: train/images/Captura-de-pantalla-468-_png.rf.80f46bd0e5014da4b1d6ebfe3bf88979.jpg  \n",
            " extracting: train/images/Captura-de-pantalla-468-_png.rf.9654d8b18a4f7ee9ef0d3f54b5fa74e0.jpg  \n",
            " extracting: train/images/Captura-de-pantalla-468-_png.rf.9bf7e268b5d3099e70bcff7311326367.jpg  \n",
            " extracting: train/images/Captura-de-pantalla-469-_png.rf.2eb4a5f105efa619f861854128eb14e9.jpg  \n",
            " extracting: train/images/Captura-de-pantalla-469-_png.rf.6d6160603e118524f8b70695263dd51d.jpg  \n",
            " extracting: train/images/Captura-de-pantalla-469-_png.rf.dec78e5a062c9ad5a88cd63d802cd35a.jpg  \n",
            " extracting: train/images/Captura-de-pantalla-47-_png.rf.28dc0d45cf7b6147dcc8b064ecc7dd68.jpg  \n",
            " extracting: train/images/Captura-de-pantalla-47-_png.rf.3b017ae7e639f04c46bb6767f4c237ff.jpg  \n",
            " extracting: train/images/Captura-de-pantalla-47-_png.rf.99cae74c15e0e0a758a3a333b64bf25d.jpg  \n",
            " extracting: train/images/Captura-de-pantalla-470-_png.rf.339f330a0e7285a625b8adb2224d19dc.jpg  \n",
            " extracting: train/images/Captura-de-pantalla-470-_png.rf.44d2a6a92d856073f8d40f0fd9783feb.jpg  \n",
            " extracting: train/images/Captura-de-pantalla-470-_png.rf.56a47efecbd185cc09557c31a793d847.jpg  \n",
            " extracting: train/images/Captura-de-pantalla-471-_png.rf.052cad7b7f7d01db63c0af7440e77ebb.jpg  \n",
            " extracting: train/images/Captura-de-pantalla-471-_png.rf.3ee50e9f064ed398fb08833afc5e237a.jpg  \n",
            " extracting: train/images/Captura-de-pantalla-471-_png.rf.48edc5f95b578048ffe4f921fdf04413.jpg  \n",
            " extracting: train/images/Captura-de-pantalla-472-_png.rf.358a13709c0f872811d4be602d890f8c.jpg  \n",
            " extracting: train/images/Captura-de-pantalla-472-_png.rf.afc29d951703ddd9f41d3af4607c5c94.jpg  \n",
            " extracting: train/images/Captura-de-pantalla-472-_png.rf.c6cf8747f64d725c13e67f5b5d1880ed.jpg  \n",
            " extracting: train/images/Captura-de-pantalla-48-_png.rf.011c7e5e0878812803ba6d72ad92e8aa.jpg  \n",
            " extracting: train/images/Captura-de-pantalla-48-_png.rf.5f7a2cd6c752f800a637ecce6f6dc774.jpg  \n",
            " extracting: train/images/Captura-de-pantalla-48-_png.rf.cc2f9d03624c2a6d5b8e48f6d4228608.jpg  \n",
            " extracting: train/images/Captura-de-pantalla-49-_png.rf.359700bf03d6ea5c794403919257c574.jpg  \n",
            " extracting: train/images/Captura-de-pantalla-49-_png.rf.3fc10899b126f636c6d59b2ee0a31eba.jpg  \n",
            " extracting: train/images/Captura-de-pantalla-49-_png.rf.93fc3bfa6bf07bd6917c921db66f84da.jpg  \n",
            " extracting: train/images/Captura-de-pantalla-50-_png.rf.395e0f75fa44e9efbfd401a2e9856e00.jpg  \n",
            " extracting: train/images/Captura-de-pantalla-50-_png.rf.c4388974a585334c2777610b80d96345.jpg  \n",
            " extracting: train/images/Captura-de-pantalla-50-_png.rf.fe62ec9a795355e6f2dbc7e456d38bb3.jpg  \n",
            " extracting: train/images/Captura-de-pantalla-52-_png.rf.8ea114694295f6c1f81031c725c90a09.jpg  \n",
            " extracting: train/images/Captura-de-pantalla-52-_png.rf.9b3b2087a29bc1a7c26053ee7c11f36e.jpg  \n",
            " extracting: train/images/Captura-de-pantalla-52-_png.rf.e3f1b60e0561fa19c1eb4897a8dcf502.jpg  \n",
            " extracting: train/images/Captura-de-pantalla-55-_png.rf.0df9ca7efb781ea82c7f890b0e95c09f.jpg  \n",
            " extracting: train/images/Captura-de-pantalla-55-_png.rf.70b35651153fc0e6df73ea370ec53258.jpg  \n",
            " extracting: train/images/Captura-de-pantalla-55-_png.rf.be88d399a83e2cdd1bb5df5eebd0a14e.jpg  \n",
            " extracting: train/images/Captura-de-pantalla-56-_png.rf.1bbc2ca963be17a2c9a4828feb7515af.jpg  \n",
            " extracting: train/images/Captura-de-pantalla-56-_png.rf.69695eddc07ee4c1e4ae5c269e47f9c4.jpg  \n",
            " extracting: train/images/Captura-de-pantalla-56-_png.rf.7f9eb1c203d385c0980e65b06b581473.jpg  \n",
            " extracting: train/images/Captura-de-pantalla-57-_png.rf.2961226b9aa795ef269f002bdf0e0742.jpg  \n",
            " extracting: train/images/Captura-de-pantalla-57-_png.rf.7374d4ef4204e527b0dfa1cd398891fa.jpg  \n",
            " extracting: train/images/Captura-de-pantalla-57-_png.rf.c207ef63cf52ab2504508b966893ae1c.jpg  \n",
            " extracting: train/images/Captura-de-pantalla-61-_png.rf.1afa98d69cf2d84b2d24122192be4361.jpg  \n",
            " extracting: train/images/Captura-de-pantalla-61-_png.rf.1c3fd87ef028b09c470ea737640462b1.jpg  \n",
            " extracting: train/images/Captura-de-pantalla-61-_png.rf.7817c41df46f7779677c6372c1fa2efb.jpg  \n",
            " extracting: train/images/Captura-de-pantalla-62-_png.rf.185a194ee779cb69886d422516602572.jpg  \n",
            " extracting: train/images/Captura-de-pantalla-62-_png.rf.76253030080f776f2621456b610d2d97.jpg  \n",
            " extracting: train/images/Captura-de-pantalla-62-_png.rf.b844cc0df7cd9ef95e80f063dd83bf21.jpg  \n",
            " extracting: train/images/Captura-de-pantalla-63-_png.rf.5e186abace588b06fc0abac63ce75dd9.jpg  \n",
            " extracting: train/images/Captura-de-pantalla-63-_png.rf.9b8cbc2037e1e89af8967bd1fbcd9682.jpg  \n",
            " extracting: train/images/Captura-de-pantalla-63-_png.rf.a25030b4c070e816de80f81f8bb7892c.jpg  \n",
            " extracting: train/images/Captura-de-pantalla-64-_png.rf.81c214a0fcebf1bc9e2f15b63c8df652.jpg  \n",
            " extracting: train/images/Captura-de-pantalla-64-_png.rf.be36bdada20a73fc392cd39e0abbfb3d.jpg  \n",
            " extracting: train/images/Captura-de-pantalla-64-_png.rf.d6eb7a4685cbd1c547199fbc8f6bce2f.jpg  \n",
            " extracting: train/images/Captura-de-pantalla-66-_png.rf.71926a44d1181f3d27340a27326536c5.jpg  \n",
            " extracting: train/images/Captura-de-pantalla-66-_png.rf.ddae09250ea3d46db22866a865b0236d.jpg  \n",
            " extracting: train/images/Captura-de-pantalla-66-_png.rf.ed866097ae3005ba9c5a8566b5386779.jpg  \n",
            " extracting: train/images/Captura-de-pantalla-67-_png.rf.8370c35f37b1e3d3ab0266268924f1a3.jpg  \n",
            " extracting: train/images/Captura-de-pantalla-67-_png.rf.87677f457036c2bb5cea3ff4d954edbb.jpg  \n",
            " extracting: train/images/Captura-de-pantalla-67-_png.rf.9582b6a569e6ae38bf726e00994f1c62.jpg  \n",
            " extracting: train/images/Captura-de-pantalla-68-_png.rf.132052e053734fbe57ba009c0e2d29d4.jpg  \n",
            " extracting: train/images/Captura-de-pantalla-68-_png.rf.77384e9f8107f2bd633bd0da6001080b.jpg  \n",
            " extracting: train/images/Captura-de-pantalla-68-_png.rf.b8e3db0fe1a7734fd4bb179c9b835f9c.jpg  \n",
            " extracting: train/images/Captura-de-pantalla-70-_png.rf.5af01708aab5381db074815139c6f626.jpg  \n",
            " extracting: train/images/Captura-de-pantalla-70-_png.rf.6f50aee0441ccf001f0b1550352db4ba.jpg  \n",
            " extracting: train/images/Captura-de-pantalla-70-_png.rf.dc89a2d0043d65d934af92359f88d10f.jpg  \n",
            " extracting: train/images/Captura-de-pantalla-72-_png.rf.960275168aab404ead3d8f167ac593d7.jpg  \n",
            " extracting: train/images/Captura-de-pantalla-72-_png.rf.ce32dbb7122310ad6059fab3d96bd119.jpg  \n",
            " extracting: train/images/Captura-de-pantalla-72-_png.rf.f0cd81d5cba259dad7a8493ba2258e12.jpg  \n",
            " extracting: train/images/Captura-de-pantalla-73-_png.rf.0be693593a97771916b441093b2bb2a5.jpg  \n",
            " extracting: train/images/Captura-de-pantalla-73-_png.rf.40820033f471df720beb90bd9d468321.jpg  \n",
            " extracting: train/images/Captura-de-pantalla-73-_png.rf.8c4086e5d18c9bfb4336b99234ae94d4.jpg  \n",
            " extracting: train/images/T-34-1941-10-_png.rf.2263f313e5faaa332769691531675345.jpg  \n",
            " extracting: train/images/T-34-1941-10-_png.rf.7dda317f2153b8ec7752f9ba0a6919c8.jpg  \n",
            " extracting: train/images/T-34-1941-10-_png.rf.859e58b74cbba8704f4210d323d80dce.jpg  \n",
            " extracting: train/images/T-34-1941-11-_png.rf.0d592b9b53fa8c245ec659a28b365c58.jpg  \n",
            " extracting: train/images/T-34-1941-11-_png.rf.7fd80c20cd7b790f4bc965226647cf2b.jpg  \n",
            " extracting: train/images/T-34-1941-11-_png.rf.bb8a52f7b8b9fca567d733d4693343e5.jpg  \n",
            " extracting: train/images/T-34-1941-12-_png.rf.10bd12401a9e7f8a14243000d65f9a26.jpg  \n",
            " extracting: train/images/T-34-1941-12-_png.rf.50bcabe691a5a561953e5474cbf1fa13.jpg  \n",
            " extracting: train/images/T-34-1941-12-_png.rf.55f881ef76ec0752027bd00c18c6d4f9.jpg  \n",
            " extracting: train/images/T-34-1941-12-_png.rf.a085b6460dec7675e07832b913e7ab7c.jpg  \n",
            " extracting: train/images/T-34-1941-12-_png.rf.ccaf924c6d8c31d25c1046f7dfbb2f5f.jpg  \n",
            " extracting: train/images/T-34-1941-12-_png.rf.ef242e6b597121672e1d8b066f50c197.jpg  \n",
            " extracting: train/images/T-34-1941-13-_png.rf.159d2967490fd24b4d4467f21a3d8153.jpg  \n",
            " extracting: train/images/T-34-1941-13-_png.rf.766d6540e1ea7d94150e9579ab939f62.jpg  \n",
            " extracting: train/images/T-34-1941-13-_png.rf.fbd479c47bd3baad54c9b05c10d0d240.jpg  \n",
            " extracting: train/images/T-34-1941-14-_png.rf.14fd4491df6aad08cbaae2648ef1fae1.jpg  \n",
            " extracting: train/images/T-34-1941-14-_png.rf.6a59d51c68aaadbbe1045aa92e98bd70.jpg  \n",
            " extracting: train/images/T-34-1941-14-_png.rf.ca027c46b55aa7347ede1282b8f26b6f.jpg  \n",
            " extracting: train/images/T-34-1941-15-_png.rf.28c6fad668d32206501612749426b574.jpg  \n",
            " extracting: train/images/T-34-1941-15-_png.rf.70824dcccc21ac5de5289331a90fe88b.jpg  \n",
            " extracting: train/images/T-34-1941-15-_png.rf.79a8bcdc04473ca645905f0d1b4693b5.jpg  \n",
            " extracting: train/images/T-34-1941-2-_png.rf.1ecc9081eecea6ac3795fe038c557137.jpg  \n",
            " extracting: train/images/T-34-1941-2-_png.rf.3886a390fe09da9d890d529924700e66.jpg  \n",
            " extracting: train/images/T-34-1941-2-_png.rf.76c6162195c0412f961631f04b785c99.jpg  \n",
            " extracting: train/images/T-34-1941-2-_png.rf.9cd2f5be6578faed855fa7f700a72b09.jpg  \n",
            " extracting: train/images/T-34-1941-2-_png.rf.aa5c32e483905b9c088fbbe9868b816a.jpg  \n",
            " extracting: train/images/T-34-1941-2-_png.rf.eef299e40f6877aaf67e4e21467e251f.jpg  \n",
            " extracting: train/images/T-34-1941-3-_png.rf.2eddf0fdf957e60a1cb0f320007afc50.jpg  \n",
            " extracting: train/images/T-34-1941-3-_png.rf.68088f50e32fa79910632c5d3818c88c.jpg  \n",
            " extracting: train/images/T-34-1941-3-_png.rf.6c50609ad4b507fd2adccd5da4e04ddd.jpg  \n",
            " extracting: train/images/T-34-1941-3-_png.rf.78aa331be9d398097e39c345e4566974.jpg  \n",
            " extracting: train/images/T-34-1941-3-_png.rf.8427041d3cafd8783f7d827ffc415565.jpg  \n",
            " extracting: train/images/T-34-1941-3-_png.rf.f746eac87b822bc005179f619f410ab7.jpg  \n",
            " extracting: train/images/T-34-1941-4-_png.rf.21b9ea0507f1289cde2d874f3413deed.jpg  \n",
            " extracting: train/images/T-34-1941-4-_png.rf.730739c92813eef987209811c76411d3.jpg  \n",
            " extracting: train/images/T-34-1941-4-_png.rf.7c7060a18ef889e1ce56990a6c055fe9.jpg  \n",
            " extracting: train/images/T-34-1941-4-_png.rf.8be34d93701b525f2155cefad46492bf.jpg  \n",
            " extracting: train/images/T-34-1941-4-_png.rf.9ab1e4eaa1ae523af3e3ec5715d09b63.jpg  \n",
            " extracting: train/images/T-34-1941-4-_png.rf.e0a6c3a72abdcc37341123ee47a6b2ff.jpg  \n",
            " extracting: train/images/T-34-1941-5-_png.rf.0734c9aee193a9dbca9f95ff06fc37b7.jpg  \n",
            " extracting: train/images/T-34-1941-5-_png.rf.3e0d307d570a45b294fe392182f2edf3.jpg  \n",
            " extracting: train/images/T-34-1941-5-_png.rf.51867e0e2e3572d9729a9d8e0098ad36.jpg  \n",
            " extracting: train/images/T-34-1941-5-_png.rf.af7f2136b72da2b31246f650ca50435f.jpg  \n",
            " extracting: train/images/T-34-1941-5-_png.rf.c9b983f1fd055ce5c1bc8f74ee18de85.jpg  \n",
            " extracting: train/images/T-34-1941-5-_png.rf.ff828cf06def32364bee890ebb40c9bd.jpg  \n",
            " extracting: train/images/T-34-1941-6-_png.rf.1fbef734c8201d3644e7a4ecde8bf9d9.jpg  \n",
            " extracting: train/images/T-34-1941-6-_png.rf.636f1e12ddeb2ff3e942bda0df653ff9.jpg  \n",
            " extracting: train/images/T-34-1941-6-_png.rf.d76d3c6c6dba9d308ff347811231d073.jpg  \n",
            " extracting: train/images/T-34-1941-7-_png.rf.3822f68b151865db117f477f4a4f8341.jpg  \n",
            " extracting: train/images/T-34-1941-7-_png.rf.795206f8331b8de21ab0f4cca2a0a1cb.jpg  \n",
            " extracting: train/images/T-34-1941-7-_png.rf.eccb8ca88fadc6f10a6bce749a23535f.jpg  \n",
            " extracting: train/images/T-34-1941-8-_png.rf.474c7448bd08b0afb701019c9c7826aa.jpg  \n",
            " extracting: train/images/T-34-1941-8-_png.rf.8c2790541c28a4ceeb0204dbe15fb535.jpg  \n",
            " extracting: train/images/T-34-1941-8-_png.rf.c37c4f217dcc75fc8750308059c96aea.jpg  \n",
            " extracting: train/images/T-34-1941-9-_png.rf.26c52090fc872dcd8ad2e37b105441a7.jpg  \n",
            " extracting: train/images/T-34-1941-9-_png.rf.2fb7691bcfa74d8b6e1e0dd8c3b13278.jpg  \n",
            " extracting: train/images/T-34-1941-9-_png.rf.d87c9313c465ea289a5604a412622cd3.jpg  \n",
            " extracting: train/images/T-34-1941_png.rf.5b7b8d1763c9b91735df27d15f77061a.jpg  \n",
            " extracting: train/images/T-34-1941_png.rf.6fde3a97d3531b6ce5f9d32710bac0c2.jpg  \n",
            " extracting: train/images/T-34-1941_png.rf.707f84559d1f02c7116f8f8b85ba1f50.jpg  \n",
            " extracting: train/images/T-34-1941_png.rf.86a2bffd0cdc7674a57f0efabb97eede.jpg  \n",
            " extracting: train/images/T-34-1941_png.rf.8747481c5cd59d4e8a287096473f3945.jpg  \n",
            " extracting: train/images/T-34-1941_png.rf.fe7fc4f7475fd1365454d7a8e86c2d72.jpg  \n",
            " extracting: train/images/ead87299-ASU-57_16_jpg.rf.854e41099fc7cfe96219e25b5eb105f0.jpg  \n",
            " extracting: train/images/ead87299-ASU-57_16_jpg.rf.c3fd6098416217438150813cf403dfc0.jpg  \n",
            " extracting: train/images/ead87299-ASU-57_16_jpg.rf.cc3d772eda1cb427d12f3c20e59fc45c.jpg  \n",
            "   creating: train/labels/\n",
            "  inflating: train/labels/0890a4cc-ASU-57_6_jpg.rf.1405a3d049125bd53088d49dc7cda10b.txt  \n",
            "  inflating: train/labels/0890a4cc-ASU-57_6_jpg.rf.81ad6eb00670d2ab809d4b423ba05467.txt  \n",
            "  inflating: train/labels/0890a4cc-ASU-57_6_jpg.rf.94ddd6ff7de8397656834841af9b90d5.txt  \n",
            "  inflating: train/labels/0b237866-ASU-57_7_jpg.rf.48aa4a2b543a4e4205325b18d8541e59.txt  \n",
            "  inflating: train/labels/0b237866-ASU-57_7_jpg.rf.ad7d0b09c3e49289bc778cb52f785069.txt  \n",
            "  inflating: train/labels/0b237866-ASU-57_7_jpg.rf.d3c26151f20a330b5716bf42a3b15705.txt  \n",
            "  inflating: train/labels/11927214-ASU-57_jpg.rf.05794cc10144419dcbd52d88c2651229.txt  \n",
            "  inflating: train/labels/11927214-ASU-57_jpg.rf.61ddc05a62eb80e7bbe57e5cf6a6c92d.txt  \n",
            "  inflating: train/labels/11927214-ASU-57_jpg.rf.96bd1d86602c5082baa0acbc38a80fa7.txt  \n",
            "  inflating: train/labels/32350f93-ASU-57_9_jpg.rf.664b646b90be1584172d6c560808efc7.txt  \n",
            "  inflating: train/labels/32350f93-ASU-57_9_jpg.rf.83dcaaa5200a0870c2fc041ecd4038b7.txt  \n",
            "  inflating: train/labels/32350f93-ASU-57_9_jpg.rf.bfedd0c00cc539c36bef3b9b4020f5de.txt  \n",
            "  inflating: train/labels/3deed692-ASU-57_15_jpg.rf.80a8b28d92958a4129d8637a872d225b.txt  \n",
            "  inflating: train/labels/3deed692-ASU-57_15_jpg.rf.95492936e1455f6980751ec9fcb6e2e5.txt  \n",
            "  inflating: train/labels/3deed692-ASU-57_15_jpg.rf.bbe795c2f53992dacba8fb5d92dafe88.txt  \n",
            "  inflating: train/labels/41b526b1-ASU-57_5_jpg.rf.59b93895b06ab39a6578f210df9398d0.txt  \n",
            "  inflating: train/labels/41b526b1-ASU-57_5_jpg.rf.74683905b2d19661b469e87ade0f5943.txt  \n",
            "  inflating: train/labels/41b526b1-ASU-57_5_jpg.rf.8475bdb36b4b157a121276c12370b3fe.txt  \n",
            "  inflating: train/labels/61bf2fa9-ASU-57_10_jpg.rf.06a819570208d4144fbbf140864a28f6.txt  \n",
            " extracting: train/labels/61bf2fa9-ASU-57_10_jpg.rf.4e7e14e6eb8ff6d89ada3c5b17779edc.txt  \n",
            "  inflating: train/labels/61bf2fa9-ASU-57_10_jpg.rf.50a8683f56832671cad83332849ea96c.txt  \n",
            "  inflating: train/labels/904a5ca1-ASU-57_11_jpg.rf.76d41fd0196b3b818c07f064927d3a41.txt  \n",
            "  inflating: train/labels/904a5ca1-ASU-57_11_jpg.rf.cbdb28413234e821a310d61e316f579b.txt  \n",
            "  inflating: train/labels/904a5ca1-ASU-57_11_jpg.rf.e3b4ef735302aba15dd707789cff00f9.txt  \n",
            "  inflating: train/labels/91a9aa41-ASU-57_13_jpg.rf.328e87117169f93eedc4010996b61500.txt  \n",
            "  inflating: train/labels/91a9aa41-ASU-57_13_jpg.rf.85d4711da41be2b448e54b98bcf40016.txt  \n",
            "  inflating: train/labels/91a9aa41-ASU-57_13_jpg.rf.e433f7fcc8fbdc37ea85bb7c783417ab.txt  \n",
            "  inflating: train/labels/92231008-ASU-57_14_jpg.rf.37040f872e5ff661c9b062df4b58c739.txt  \n",
            "  inflating: train/labels/92231008-ASU-57_14_jpg.rf.943ebc60a7f743b2072d5e5e64770449.txt  \n",
            "  inflating: train/labels/92231008-ASU-57_14_jpg.rf.a0a268347b3701ca901e14a299274422.txt  \n",
            "  inflating: train/labels/Captura-de-pantalla-109-_png.rf.68940972fdf76826ee7f46a5b36d8070.txt  \n",
            "  inflating: train/labels/Captura-de-pantalla-109-_png.rf.6c7b6ce90043467ab1fe77c47ae12d41.txt  \n",
            "  inflating: train/labels/Captura-de-pantalla-109-_png.rf.d1a746fde84112ae8aa8a5f5ddb968a9.txt  \n",
            "  inflating: train/labels/Captura-de-pantalla-110-_png.rf.3e221d03b716e146b364e31a049ce101.txt  \n",
            "  inflating: train/labels/Captura-de-pantalla-110-_png.rf.5d57c499379d4e8de68fb6780e0b856f.txt  \n",
            "  inflating: train/labels/Captura-de-pantalla-110-_png.rf.629e5623ce6b532177c75f6188e12387.txt  \n",
            "  inflating: train/labels/Captura-de-pantalla-114-_png.rf.3cd2190a0a53ee26dce141113f4aab7b.txt  \n",
            "  inflating: train/labels/Captura-de-pantalla-114-_png.rf.cf684f45cbd7a3d7e1bb92e2c9b38abc.txt  \n",
            "  inflating: train/labels/Captura-de-pantalla-114-_png.rf.ed83068d91be9dfa544f575b51b1b6a3.txt  \n",
            "  inflating: train/labels/Captura-de-pantalla-115-_png.rf.4383debff17c41ed1fb4bcf43782f95f.txt  \n",
            "  inflating: train/labels/Captura-de-pantalla-115-_png.rf.694e660012d133a498abb81d6c9d7835.txt  \n",
            "  inflating: train/labels/Captura-de-pantalla-115-_png.rf.72d0bf6de9fa139f97ce5270510e7ff2.txt  \n",
            "  inflating: train/labels/Captura-de-pantalla-119-_png.rf.2549af2648998fd4aa82244053a5bf29.txt  \n",
            "  inflating: train/labels/Captura-de-pantalla-119-_png.rf.6f0c7663dcbb0b3252e4c2b995006b11.txt  \n",
            "  inflating: train/labels/Captura-de-pantalla-119-_png.rf.fe418faa1f67708dd213406481f48d4a.txt  \n",
            "  inflating: train/labels/Captura-de-pantalla-122-_png.rf.312c54896067f660409c9526c544af78.txt  \n",
            "  inflating: train/labels/Captura-de-pantalla-122-_png.rf.926c0af0861346e8940434592057fc19.txt  \n",
            "  inflating: train/labels/Captura-de-pantalla-122-_png.rf.aead89538a87b2382da17bd7054bd7eb.txt  \n",
            "  inflating: train/labels/Captura-de-pantalla-123-_png.rf.6d39a6458afc74a4f54524b1bf2d8bb2.txt  \n",
            "  inflating: train/labels/Captura-de-pantalla-123-_png.rf.6f72bc39911eea9d92476e6465f89e9d.txt  \n",
            "  inflating: train/labels/Captura-de-pantalla-123-_png.rf.e98951ecc3e8046218141c7e4fe4c8f5.txt  \n",
            "  inflating: train/labels/Captura-de-pantalla-124-_png.rf.18a050804f940a4c6ec34fefcb519650.txt  \n",
            "  inflating: train/labels/Captura-de-pantalla-124-_png.rf.53a78be969ddecea4279ebf02c3f5a01.txt  \n",
            "  inflating: train/labels/Captura-de-pantalla-124-_png.rf.911909aed01e8884e20f92a74b459345.txt  \n",
            "  inflating: train/labels/Captura-de-pantalla-125-_png.rf.49105ed60bb4c94e9b2137f293bf6fde.txt  \n",
            "  inflating: train/labels/Captura-de-pantalla-125-_png.rf.9722177904d13fd1600e55aa6a6ac62d.txt  \n",
            "  inflating: train/labels/Captura-de-pantalla-125-_png.rf.9bfe06f8b4c0b38f4af27f0e71e30907.txt  \n",
            "  inflating: train/labels/Captura-de-pantalla-126-_png.rf.68e9cd22817603ea7fb4123d9be9b6e0.txt  \n",
            "  inflating: train/labels/Captura-de-pantalla-126-_png.rf.938b7a4e38a876a7a7d5c580cb05166b.txt  \n",
            "  inflating: train/labels/Captura-de-pantalla-126-_png.rf.a9edcd32a1741c7ac36a9fee8c8f705b.txt  \n",
            "  inflating: train/labels/Captura-de-pantalla-127-_png.rf.180e2bcc1f70eaa479d90e2953b4cf44.txt  \n",
            "  inflating: train/labels/Captura-de-pantalla-127-_png.rf.376c23f647d17263fbf12690ec69e1b4.txt  \n",
            "  inflating: train/labels/Captura-de-pantalla-127-_png.rf.ffaae58b56053203d767c285fe46091f.txt  \n",
            "  inflating: train/labels/Captura-de-pantalla-128-_png.rf.1b8600656dc451f302b34153ef79fdd8.txt  \n",
            "  inflating: train/labels/Captura-de-pantalla-128-_png.rf.747566855bbb3c0550acff16d9963e64.txt  \n",
            "  inflating: train/labels/Captura-de-pantalla-128-_png.rf.be91a788a67713b3be53dffd5c0d25cc.txt  \n",
            "  inflating: train/labels/Captura-de-pantalla-133-_png.rf.6b435203c7129ef924c017667d9a87d6.txt  \n",
            "  inflating: train/labels/Captura-de-pantalla-133-_png.rf.9c897af78898c45fb4729c5f81e813df.txt  \n",
            "  inflating: train/labels/Captura-de-pantalla-133-_png.rf.e7cfb50b525e9b22b88eb02db7698eb5.txt  \n",
            "  inflating: train/labels/Captura-de-pantalla-135-_png.rf.1cea0937f5b73935afb5a6a157299132.txt  \n",
            "  inflating: train/labels/Captura-de-pantalla-135-_png.rf.98795125d745179d55e3263a446de810.txt  \n",
            "  inflating: train/labels/Captura-de-pantalla-135-_png.rf.e3849e020139183702faed77da9fdf2c.txt  \n",
            "  inflating: train/labels/Captura-de-pantalla-139-_png.rf.4a87d684db4e2ae0471995f6c6aea6e7.txt  \n",
            "  inflating: train/labels/Captura-de-pantalla-139-_png.rf.befefaa486fe43ba44cbeabce351698c.txt  \n",
            "  inflating: train/labels/Captura-de-pantalla-139-_png.rf.f263776169a46b35b474f11c41c87a36.txt  \n",
            "  inflating: train/labels/Captura-de-pantalla-145-_png.rf.3cf573ec4ac1c2872aadb93f8fe0f025.txt  \n",
            "  inflating: train/labels/Captura-de-pantalla-145-_png.rf.68b930a3e8823b50e4077c9c5eb24a4f.txt  \n",
            "  inflating: train/labels/Captura-de-pantalla-145-_png.rf.6e0d7ed580a179713b46c3ac2f13db3a.txt  \n",
            "  inflating: train/labels/Captura-de-pantalla-146-_png.rf.64ec878ecb0b62e24417579b74fec53f.txt  \n",
            "  inflating: train/labels/Captura-de-pantalla-146-_png.rf.8121c55008a36199f4903cdf19f9e6a5.txt  \n",
            "  inflating: train/labels/Captura-de-pantalla-146-_png.rf.c0c9d39c650a239e00db3dc9298b3615.txt  \n",
            "  inflating: train/labels/Captura-de-pantalla-148-_png.rf.054d8a01be4ec9d2deb7a44c1302fb07.txt  \n",
            "  inflating: train/labels/Captura-de-pantalla-148-_png.rf.9230209f96d1f0663b2d8a00d578a6b8.txt  \n",
            "  inflating: train/labels/Captura-de-pantalla-148-_png.rf.faae43eb6badbc71312c64a5a5aadef2.txt  \n",
            "  inflating: train/labels/Captura-de-pantalla-150-_png.rf.455c9fd698576e3e4f196594d73bb49f.txt  \n",
            "  inflating: train/labels/Captura-de-pantalla-150-_png.rf.6bc4ad95ca5bb52dce79cfca5689e112.txt  \n",
            "  inflating: train/labels/Captura-de-pantalla-150-_png.rf.b38840fc1c451a3e127d08d43ab73ef7.txt  \n",
            "  inflating: train/labels/Captura-de-pantalla-151-_png.rf.2301d7ff0c2d32c566462959619ad784.txt  \n",
            "  inflating: train/labels/Captura-de-pantalla-151-_png.rf.99547fb32de50b9fa22ab27df2f1a17f.txt  \n",
            "  inflating: train/labels/Captura-de-pantalla-151-_png.rf.ae293f1ac5204f26da9ad4f9d7846081.txt  \n",
            "  inflating: train/labels/Captura-de-pantalla-152-_png.rf.1f8d9a82421a64dafced5664cf33b82c.txt  \n",
            "  inflating: train/labels/Captura-de-pantalla-152-_png.rf.9fe35ebed0ce34e5583828da8cb53149.txt  \n",
            "  inflating: train/labels/Captura-de-pantalla-152-_png.rf.b88396f6635909ee7944f8d6021db851.txt  \n",
            "  inflating: train/labels/Captura-de-pantalla-154-_png.rf.91f5cc5a3ab79b55729bec28899b3d89.txt  \n",
            "  inflating: train/labels/Captura-de-pantalla-154-_png.rf.97065fd607fdb0677cfaafd3dcdf423b.txt  \n",
            "  inflating: train/labels/Captura-de-pantalla-154-_png.rf.dbb19ebad3802845407168220c331da1.txt  \n",
            "  inflating: train/labels/Captura-de-pantalla-155-_png.rf.e5cd9b8758d886f4a3fe69070896b0c7.txt  \n",
            " extracting: train/labels/Captura-de-pantalla-155-_png.rf.ec27a722cf496746718a7294465d95b1.txt  \n",
            "  inflating: train/labels/Captura-de-pantalla-155-_png.rf.f09a25909de274ca4b1dda33f497cd0e.txt  \n",
            "  inflating: train/labels/Captura-de-pantalla-156-_png.rf.6b0ab06ab41fea619e578853efa0530d.txt  \n",
            " extracting: train/labels/Captura-de-pantalla-156-_png.rf.7177604ba9a000c2c11623c365e84285.txt  \n",
            "  inflating: train/labels/Captura-de-pantalla-156-_png.rf.c0bfa07a0ac19e3fbec8b8aa3570595d.txt  \n",
            "  inflating: train/labels/Captura-de-pantalla-158-_png.rf.6d3cba37f5c827e9a5fa47339fcae2b2.txt  \n",
            "  inflating: train/labels/Captura-de-pantalla-158-_png.rf.af2b2be70ae6ea1df534cb6bc254cd99.txt  \n",
            "  inflating: train/labels/Captura-de-pantalla-158-_png.rf.c9deae90951576ee5afda3df949e2739.txt  \n",
            "  inflating: train/labels/Captura-de-pantalla-159-_png.rf.0010b7f261987696708c1ab645386af1.txt  \n",
            "  inflating: train/labels/Captura-de-pantalla-159-_png.rf.6a5a8d42d51d470df7295672ee2282f5.txt  \n",
            "  inflating: train/labels/Captura-de-pantalla-159-_png.rf.c77a724e0a4dac15e368b7d1adea1374.txt  \n",
            "  inflating: train/labels/Captura-de-pantalla-160-_png.rf.023335685c87e64c43f40b088d33410b.txt  \n",
            "  inflating: train/labels/Captura-de-pantalla-160-_png.rf.8d6f6cd746f825c48aaca852aa683dfd.txt  \n",
            "  inflating: train/labels/Captura-de-pantalla-160-_png.rf.f665df00fe5cc95a9daf3493e6a96261.txt  \n",
            "  inflating: train/labels/Captura-de-pantalla-161-_png.rf.97969177369daa2a4a389c718c99ba46.txt  \n",
            "  inflating: train/labels/Captura-de-pantalla-161-_png.rf.b5b6b6b94331128f71102bd8609d200d.txt  \n",
            "  inflating: train/labels/Captura-de-pantalla-161-_png.rf.f120206314d0a737344546de46770bf7.txt  \n",
            "  inflating: train/labels/Captura-de-pantalla-162-_png.rf.0a5c2d71a9978d40316c17487a75123b.txt  \n",
            "  inflating: train/labels/Captura-de-pantalla-162-_png.rf.256276921d64b3602723b25002c76375.txt  \n",
            "  inflating: train/labels/Captura-de-pantalla-162-_png.rf.3bc2ed8abc8ca59db2286e5b4905911b.txt  \n",
            "  inflating: train/labels/Captura-de-pantalla-162-_png.rf.53b543bfe46d6f37c9728cea53bfa03b.txt  \n",
            "  inflating: train/labels/Captura-de-pantalla-162-_png.rf.a15b11c7173997fc7b60791899df7821.txt  \n",
            "  inflating: train/labels/Captura-de-pantalla-162-_png.rf.f82aa56d6206d593b9d037c4adfdd221.txt  \n",
            "  inflating: train/labels/Captura-de-pantalla-163-_png.rf.1979a974ea6c77d9e44619bb79a7fc2b.txt  \n",
            "  inflating: train/labels/Captura-de-pantalla-163-_png.rf.9da35b3597b0c4d31eaa6d58c2701e8c.txt  \n",
            "  inflating: train/labels/Captura-de-pantalla-163-_png.rf.c745bd04edf12e4cbd3af2abdc3305ca.txt  \n",
            "  inflating: train/labels/Captura-de-pantalla-164-_png.rf.196a3f087ec185e86351f11529926c89.txt  \n",
            "  inflating: train/labels/Captura-de-pantalla-164-_png.rf.7cc93b7b3cd9d2e94897609d71fcfa70.txt  \n",
            "  inflating: train/labels/Captura-de-pantalla-164-_png.rf.ca15c799143fa49cd60a8696402a86b8.txt  \n",
            "  inflating: train/labels/Captura-de-pantalla-165-_png.rf.6ecbfb9e5ab406f703d729ff61282657.txt  \n",
            "  inflating: train/labels/Captura-de-pantalla-165-_png.rf.adcb8d4028028ed958ea5d7c348f2a49.txt  \n",
            "  inflating: train/labels/Captura-de-pantalla-165-_png.rf.e9f802a31ebdd08d4ffb8ed4993bd82e.txt  \n",
            "  inflating: train/labels/Captura-de-pantalla-167-_png.rf.71724767899ccb73e0ebc8aabb3e80db.txt  \n",
            "  inflating: train/labels/Captura-de-pantalla-167-_png.rf.b933570b4470bbfcc127b0c182de746b.txt  \n",
            " extracting: train/labels/Captura-de-pantalla-167-_png.rf.bd8c08ba9e8d75526077b40c6caa6fc1.txt  \n",
            "  inflating: train/labels/Captura-de-pantalla-168-_png.rf.05dbfb7af39e53ccf0794142cb60925b.txt  \n",
            "  inflating: train/labels/Captura-de-pantalla-168-_png.rf.2667138bbcd8f6cf9fe98cdb38bd0d30.txt  \n",
            "  inflating: train/labels/Captura-de-pantalla-168-_png.rf.3a17bd27e3d0a3573e9a4f6c3ef82a4c.txt  \n",
            "  inflating: train/labels/Captura-de-pantalla-168-_png.rf.439e3b7398e0a9dbe2dc09d476057c04.txt  \n",
            "  inflating: train/labels/Captura-de-pantalla-168-_png.rf.7de221393078d4a6581a5b2970a63b6a.txt  \n",
            "  inflating: train/labels/Captura-de-pantalla-168-_png.rf.ff999e11651911fc902b93d1c2dc5b11.txt  \n",
            "  inflating: train/labels/Captura-de-pantalla-169-_png.rf.0ac3475a869c72122c13c231171c49dd.txt  \n",
            "  inflating: train/labels/Captura-de-pantalla-169-_png.rf.22390eaf47d804fb48db7717b458a93d.txt  \n",
            "  inflating: train/labels/Captura-de-pantalla-169-_png.rf.833ca7e161e8657d70eaabb2aaf725d8.txt  \n",
            "  inflating: train/labels/Captura-de-pantalla-169-_png.rf.c9086e0acfbbb0fc1c986c6016200a93.txt  \n",
            "  inflating: train/labels/Captura-de-pantalla-169-_png.rf.f8ac25960222ea0be10e1c6c87b0005b.txt  \n",
            "  inflating: train/labels/Captura-de-pantalla-169-_png.rf.fd7000e5c037b53690e15d0873ff0fc0.txt  \n",
            "  inflating: train/labels/Captura-de-pantalla-170-_png.rf.4570c8a895fbf1e74aafce24d8da2f07.txt  \n",
            "  inflating: train/labels/Captura-de-pantalla-170-_png.rf.6c9d5b6a8ac25868b6693e6bb3241d26.txt  \n",
            "  inflating: train/labels/Captura-de-pantalla-170-_png.rf.c07302ba1d8982ce7cc8c33bd09ef78a.txt  \n",
            "  inflating: train/labels/Captura-de-pantalla-171-_png.rf.26dbd5f68f56adeb41e07f738aae0c6f.txt  \n",
            "  inflating: train/labels/Captura-de-pantalla-171-_png.rf.41cf7325b48973d55cef65a8a9e1ace9.txt  \n",
            "  inflating: train/labels/Captura-de-pantalla-171-_png.rf.6af2f1782b236be3f2408859b115c2e0.txt  \n",
            "  inflating: train/labels/Captura-de-pantalla-171-_png.rf.7cd96cdfc5b0f716ee978b192a229236.txt  \n",
            "  inflating: train/labels/Captura-de-pantalla-171-_png.rf.8c7cc0453478d03f0671c24fdc1f9ea5.txt  \n",
            "  inflating: train/labels/Captura-de-pantalla-171-_png.rf.d562fcfef14db27afd6ae5b2c8b2156d.txt  \n",
            "  inflating: train/labels/Captura-de-pantalla-172-_png.rf.1603b54e0549ef5243213e88fbb2d1f7.txt  \n",
            "  inflating: train/labels/Captura-de-pantalla-172-_png.rf.35b0bb1806df7dced962ec40ba416232.txt  \n",
            "  inflating: train/labels/Captura-de-pantalla-172-_png.rf.63ac47fa1f42a595cfaac735d6d70e3c.txt  \n",
            "  inflating: train/labels/Captura-de-pantalla-172-_png.rf.99f8e4667f72edcaf7d7122284742b2b.txt  \n",
            "  inflating: train/labels/Captura-de-pantalla-172-_png.rf.9d204dd9c4ced3b05fefcbe88fab3dda.txt  \n",
            "  inflating: train/labels/Captura-de-pantalla-172-_png.rf.ec11d4fc47b2720a2f959cb4c292bfe7.txt  \n",
            "  inflating: train/labels/Captura-de-pantalla-173-_png.rf.441bf9291333d1a0e321050b1041cb9f.txt  \n",
            "  inflating: train/labels/Captura-de-pantalla-173-_png.rf.4e219338027725d33a5c2553efa3230a.txt  \n",
            "  inflating: train/labels/Captura-de-pantalla-173-_png.rf.4e6715973015f90e2a742e19e81cb79e.txt  \n",
            "  inflating: train/labels/Captura-de-pantalla-173-_png.rf.a9da39f446ead4173e9b656b8a5929eb.txt  \n",
            "  inflating: train/labels/Captura-de-pantalla-173-_png.rf.eb94c13127d0520578abbf62eb15b34d.txt  \n",
            "  inflating: train/labels/Captura-de-pantalla-173-_png.rf.efad5e61f8ceed90379b44bdd05fe3d4.txt  \n",
            "  inflating: train/labels/Captura-de-pantalla-174-_png.rf.13f4ba9340393fe9afe6827a882aa208.txt  \n",
            "  inflating: train/labels/Captura-de-pantalla-174-_png.rf.348f85680f391955d49b7b1a22853be9.txt  \n",
            "  inflating: train/labels/Captura-de-pantalla-174-_png.rf.34ed88834b2b1c0d52d0618defc89c46.txt  \n",
            "  inflating: train/labels/Captura-de-pantalla-175-_png.rf.5e73d38caaa8e46d421ec00987fb1b0c.txt  \n",
            "  inflating: train/labels/Captura-de-pantalla-175-_png.rf.a24789cfee0933d97375df9d3c196599.txt  \n",
            "  inflating: train/labels/Captura-de-pantalla-175-_png.rf.b1125c65403a6f48db1926b06a78b9c5.txt  \n",
            "  inflating: train/labels/Captura-de-pantalla-175-_png.rf.b4bf3089e156311f42f65baa6c4423f2.txt  \n",
            "  inflating: train/labels/Captura-de-pantalla-175-_png.rf.b6f151ab2dc074a7f02a628de75b1cdc.txt  \n",
            "  inflating: train/labels/Captura-de-pantalla-175-_png.rf.e730bafe60a06dc5016d9b83d3233627.txt  \n",
            "  inflating: train/labels/Captura-de-pantalla-176-_png.rf.1dca1b221e1164b7be8e577db1ee5091.txt  \n",
            "  inflating: train/labels/Captura-de-pantalla-176-_png.rf.64e1343f99c947cb1292e59077da2d45.txt  \n",
            "  inflating: train/labels/Captura-de-pantalla-176-_png.rf.c1b818c6665ba1ccd6bc173cf9f53058.txt  \n",
            "  inflating: train/labels/Captura-de-pantalla-177-_png.rf.4fb90df4c7e0eaa2aefed871da268cfd.txt  \n",
            "  inflating: train/labels/Captura-de-pantalla-177-_png.rf.58e4565801565c2cbdcc65b67db6991f.txt  \n",
            "  inflating: train/labels/Captura-de-pantalla-177-_png.rf.b8d55cb805b15c4819801938ab1b39e4.txt  \n",
            "  inflating: train/labels/Captura-de-pantalla-178-_png.rf.4fe88200514a3445d5bb732d54b1c193.txt  \n",
            "  inflating: train/labels/Captura-de-pantalla-178-_png.rf.6b2608c38f3c7ade51712dd4dbbd9bb0.txt  \n",
            "  inflating: train/labels/Captura-de-pantalla-178-_png.rf.c1982ffd3df103446bc7c2d34f78799c.txt  \n",
            "  inflating: train/labels/Captura-de-pantalla-179-_png.rf.10e7b4c7a16afccf8f20ac3a54b73c4b.txt  \n",
            "  inflating: train/labels/Captura-de-pantalla-179-_png.rf.2672ef18525b37fa8e385a066927496e.txt  \n",
            "  inflating: train/labels/Captura-de-pantalla-179-_png.rf.502c91e059c5b74bb6bc8ef16eb7650b.txt  \n",
            "  inflating: train/labels/Captura-de-pantalla-180-_png.rf.42c034b9d6c32b91ea939ae9d0acd417.txt  \n",
            "  inflating: train/labels/Captura-de-pantalla-180-_png.rf.4a2d965fe585cd9e7e171e59ace43da6.txt  \n",
            "  inflating: train/labels/Captura-de-pantalla-180-_png.rf.4f2628f71f12bca1962d3d261c0e49c2.txt  \n",
            "  inflating: train/labels/Captura-de-pantalla-180-_png.rf.896f3fd559477140c57cd6e72697a162.txt  \n",
            "  inflating: train/labels/Captura-de-pantalla-180-_png.rf.a99d9471d7447894089ae3d4d33a94cd.txt  \n",
            "  inflating: train/labels/Captura-de-pantalla-180-_png.rf.e8729b4f010e7fd50a0758c5f99596fc.txt  \n",
            "  inflating: train/labels/Captura-de-pantalla-181-_png.rf.723af668d54ea33edb35deda1b3b162f.txt  \n",
            "  inflating: train/labels/Captura-de-pantalla-181-_png.rf.8ae5b7ed748053d3b059e3a5275ef046.txt  \n",
            "  inflating: train/labels/Captura-de-pantalla-181-_png.rf.c20c93f3257d5b13ca1f9319489eb411.txt  \n",
            "  inflating: train/labels/Captura-de-pantalla-182-_png.rf.1b9856304b883aa00a0047899ceb88ab.txt  \n",
            "  inflating: train/labels/Captura-de-pantalla-182-_png.rf.8545b1916e1c792a858daa6a395cd564.txt  \n",
            "  inflating: train/labels/Captura-de-pantalla-182-_png.rf.ddeb4d3c34919e757ffb5d2c064a220b.txt  \n",
            "  inflating: train/labels/Captura-de-pantalla-183-_png.rf.4725fe8f303eebfd7a1a4fb3f4bdf230.txt  \n",
            "  inflating: train/labels/Captura-de-pantalla-183-_png.rf.67a0cfa6b3373121f21836314f0c2788.txt  \n",
            "  inflating: train/labels/Captura-de-pantalla-183-_png.rf.cffc6f474be3bc85a96b2549692b68d4.txt  \n",
            "  inflating: train/labels/Captura-de-pantalla-184-_png.rf.362176395184845c27d3a663f818fb35.txt  \n",
            "  inflating: train/labels/Captura-de-pantalla-184-_png.rf.753699e20b88a9782a052bff608bf9c3.txt  \n",
            "  inflating: train/labels/Captura-de-pantalla-184-_png.rf.e8ca7bd50cf570e1b61f9a9e9d77a94a.txt  \n",
            "  inflating: train/labels/Captura-de-pantalla-185-_png.rf.1aec8403d7a50ca4d624ee631fb78470.txt  \n",
            "  inflating: train/labels/Captura-de-pantalla-185-_png.rf.2bd380c5af9e04ebfae9d6e2d5edd53c.txt  \n",
            "  inflating: train/labels/Captura-de-pantalla-185-_png.rf.3ce8c044ec7c8dc087d77ec4c971abcd.txt  \n",
            "  inflating: train/labels/Captura-de-pantalla-185-_png.rf.4ec3c4cfc8e1187550e7160c64adfcb4.txt  \n",
            "  inflating: train/labels/Captura-de-pantalla-185-_png.rf.74c2957231ce0ec9f19576bc8dd8cbf3.txt  \n",
            "  inflating: train/labels/Captura-de-pantalla-185-_png.rf.86221d32a4134e767cc9ab6261dafc02.txt  \n",
            "  inflating: train/labels/Captura-de-pantalla-186-_png.rf.0087b7dec7e092416c41a58112790b6b.txt  \n",
            "  inflating: train/labels/Captura-de-pantalla-186-_png.rf.111eaece3bdc7b4365336f1aab23774e.txt  \n",
            "  inflating: train/labels/Captura-de-pantalla-186-_png.rf.26d5ffabdce220cd3b9f4b7a8c3d2892.txt  \n",
            "  inflating: train/labels/Captura-de-pantalla-186-_png.rf.425fcf039bec5441788e7cedb63842b9.txt  \n",
            "  inflating: train/labels/Captura-de-pantalla-186-_png.rf.4ceb7372c15a2ff72dab0928ff9953e4.txt  \n",
            "  inflating: train/labels/Captura-de-pantalla-186-_png.rf.b078908bacabf8289e8555d2cf3f420b.txt  \n",
            "  inflating: train/labels/Captura-de-pantalla-187-_png.rf.189af5f55bb20c8ca366685841617eed.txt  \n",
            "  inflating: train/labels/Captura-de-pantalla-187-_png.rf.63f175b2a799a9ff3453e687f77d912a.txt  \n",
            "  inflating: train/labels/Captura-de-pantalla-187-_png.rf.655b4a0b095696cb4fa6e77c0e20cbf1.txt  \n",
            "  inflating: train/labels/Captura-de-pantalla-187-_png.rf.8c1f10ade9bc1269d06de76cacd6e1b8.txt  \n",
            "  inflating: train/labels/Captura-de-pantalla-187-_png.rf.a5a9dd1e6c9255bdd2ef38025a6ca577.txt  \n",
            "  inflating: train/labels/Captura-de-pantalla-187-_png.rf.fbc3db257d449627d5447949035af245.txt  \n",
            "  inflating: train/labels/Captura-de-pantalla-188-_png.rf.1d61b686693e5c233b83f9a8c95ee24f.txt  \n",
            "  inflating: train/labels/Captura-de-pantalla-188-_png.rf.2639280a00a1da4cfad5afb1cfc56671.txt  \n",
            "  inflating: train/labels/Captura-de-pantalla-188-_png.rf.4e8b192165acbe4212d5b8e2179c01b3.txt  \n",
            "  inflating: train/labels/Captura-de-pantalla-189-_png.rf.074ad1ea95bb5f0efec9352a64142e5b.txt  \n",
            "  inflating: train/labels/Captura-de-pantalla-189-_png.rf.512a0117be496813e93cbd921ab81a62.txt  \n",
            "  inflating: train/labels/Captura-de-pantalla-189-_png.rf.ab3d43506b45342a85603e9fdd73ad29.txt  \n",
            "  inflating: train/labels/Captura-de-pantalla-190-_png.rf.081829593ae740d52f304b88de1f211e.txt  \n",
            "  inflating: train/labels/Captura-de-pantalla-190-_png.rf.254ede78582cd7a8782d5393bfbc128c.txt  \n",
            "  inflating: train/labels/Captura-de-pantalla-190-_png.rf.5408cc03e384a81c3784a286845ae957.txt  \n",
            "  inflating: train/labels/Captura-de-pantalla-190-_png.rf.5febb4e44f20c3a4b468864a4b4bcb03.txt  \n",
            "  inflating: train/labels/Captura-de-pantalla-190-_png.rf.9723e0c992a10df82f0265ef48485369.txt  \n",
            "  inflating: train/labels/Captura-de-pantalla-190-_png.rf.f68b74c947c916447ee5539bad7c0c6c.txt  \n",
            "  inflating: train/labels/Captura-de-pantalla-191-_png.rf.146f0f8e0c12b308b5428dd531cf9179.txt  \n",
            "  inflating: train/labels/Captura-de-pantalla-191-_png.rf.42d6bdc19e2cc469e150d4cfa7b2ee79.txt  \n",
            "  inflating: train/labels/Captura-de-pantalla-191-_png.rf.5bb75198906a61a9d333e5b822d5e7ea.txt  \n",
            "  inflating: train/labels/Captura-de-pantalla-192-_png.rf.99e5a60c17e009c08a99948214e78251.txt  \n",
            "  inflating: train/labels/Captura-de-pantalla-192-_png.rf.9bf67ed01cba8a26492ce5d93c45149e.txt  \n",
            "  inflating: train/labels/Captura-de-pantalla-192-_png.rf.b0873e86ae3744d1b176f33ed49eaeac.txt  \n",
            "  inflating: train/labels/Captura-de-pantalla-192-_png.rf.c3d3d4fea79d233abc75fc19d3151dc0.txt  \n",
            "  inflating: train/labels/Captura-de-pantalla-192-_png.rf.df6a4458557875b1558fbbe6afeaaba6.txt  \n",
            "  inflating: train/labels/Captura-de-pantalla-192-_png.rf.f78f24380226d36db1c7cdee2f5abf1b.txt  \n",
            "  inflating: train/labels/Captura-de-pantalla-193-_png.rf.853c48a11baafd6aaf8375541e47ee46.txt  \n",
            "  inflating: train/labels/Captura-de-pantalla-193-_png.rf.eec1866bf66a1e802cc328d296928384.txt  \n",
            "  inflating: train/labels/Captura-de-pantalla-193-_png.rf.fd43ed6371dc660539eb8ecdb1d51880.txt  \n",
            "  inflating: train/labels/Captura-de-pantalla-194-_png.rf.1225b43f2879ab8e1d9bdd14654243eb.txt  \n",
            "  inflating: train/labels/Captura-de-pantalla-194-_png.rf.3ba8a3225b046cb7a61266704aabbfaf.txt  \n",
            "  inflating: train/labels/Captura-de-pantalla-194-_png.rf.4006b44cfb51fc81295c55a09da2c0b8.txt  \n",
            "  inflating: train/labels/Captura-de-pantalla-195-_png.rf.2f7ba11de711e7df00b6c3b905887903.txt  \n",
            "  inflating: train/labels/Captura-de-pantalla-195-_png.rf.5b6a0094b1d4df8de6386160c82391e0.txt  \n",
            "  inflating: train/labels/Captura-de-pantalla-195-_png.rf.73ec8e718bffbecdcaf3f07ef801bf86.txt  \n",
            "  inflating: train/labels/Captura-de-pantalla-196-_png.rf.aa7c5410714fcbcc53cdb7bb67226de1.txt  \n",
            "  inflating: train/labels/Captura-de-pantalla-196-_png.rf.bc68e991654b037f78a421b2332723cf.txt  \n",
            "  inflating: train/labels/Captura-de-pantalla-196-_png.rf.f03b9e14c4b022d7e4fa83aeaa903d24.txt  \n",
            "  inflating: train/labels/Captura-de-pantalla-197-_png.rf.7ae4e1c308ddc36fd662205b252bc4a1.txt  \n",
            "  inflating: train/labels/Captura-de-pantalla-197-_png.rf.a28ddae5f5d1154f9e766437cb12c94a.txt  \n",
            "  inflating: train/labels/Captura-de-pantalla-197-_png.rf.e70bf523b3f2751e21f59893b56d8970.txt  \n",
            "  inflating: train/labels/Captura-de-pantalla-198-_png.rf.237341447d8c5de66c874325203f9ea9.txt  \n",
            "  inflating: train/labels/Captura-de-pantalla-198-_png.rf.441257626d7e5df6184ceeaa0aa6ceab.txt  \n",
            "  inflating: train/labels/Captura-de-pantalla-198-_png.rf.9a7197910fc800873a25fdece40039d5.txt  \n",
            "  inflating: train/labels/Captura-de-pantalla-199-_png.rf.580bbb85f41fe862defcc19a66a7acc1.txt  \n",
            "  inflating: train/labels/Captura-de-pantalla-199-_png.rf.5eb72512302f855e71b69bb2d1e53110.txt  \n",
            "  inflating: train/labels/Captura-de-pantalla-199-_png.rf.853872d1b390971b26b97be53de3164b.txt  \n",
            "  inflating: train/labels/Captura-de-pantalla-200-_png.rf.04fde51858c11b27661ce8cb9732a6cf.txt  \n",
            "  inflating: train/labels/Captura-de-pantalla-200-_png.rf.a65c91eee8154a071b401968b19198c1.txt  \n",
            "  inflating: train/labels/Captura-de-pantalla-200-_png.rf.c6c87f1bcd5bce937adc15feaca82ba5.txt  \n",
            "  inflating: train/labels/Captura-de-pantalla-201-_png.rf.8ca554b29ec2c96d3e56e3d7e3c4bc92.txt  \n",
            "  inflating: train/labels/Captura-de-pantalla-201-_png.rf.bbe84aa2f44e93ef4018b08c800b5962.txt  \n",
            "  inflating: train/labels/Captura-de-pantalla-201-_png.rf.bccbf46bdb1e20d07c0aa996f282689e.txt  \n",
            "  inflating: train/labels/Captura-de-pantalla-202-_png.rf.62a966269c2e14c61a8316d8f8b7dfb7.txt  \n",
            "  inflating: train/labels/Captura-de-pantalla-202-_png.rf.6e3d2c03d2660a1fb5a3ba173f0b9d2f.txt  \n",
            "  inflating: train/labels/Captura-de-pantalla-202-_png.rf.e19340c5997d36176bbde7dfdfaaec4f.txt  \n",
            "  inflating: train/labels/Captura-de-pantalla-203-_png.rf.7d630b22944e6c6d85721103975ee35f.txt  \n",
            "  inflating: train/labels/Captura-de-pantalla-203-_png.rf.8256366efe5a0657c198bf9b99a5289c.txt  \n",
            "  inflating: train/labels/Captura-de-pantalla-203-_png.rf.f3af0aa149c0f4bdf7c38db69ac3962c.txt  \n",
            "  inflating: train/labels/Captura-de-pantalla-204-_png.rf.230819ee710766b4d67b1ccdee403502.txt  \n",
            "  inflating: train/labels/Captura-de-pantalla-204-_png.rf.305884ed1a9b8725683d901670d9d8a5.txt  \n",
            "  inflating: train/labels/Captura-de-pantalla-204-_png.rf.7f872ae8d7f96e73abd411dfff038b88.txt  \n",
            "  inflating: train/labels/Captura-de-pantalla-205-_png.rf.583c853c4719e67c9833c729e9b0222f.txt  \n",
            "  inflating: train/labels/Captura-de-pantalla-205-_png.rf.668b22122039bfe766667cedc143a353.txt  \n",
            "  inflating: train/labels/Captura-de-pantalla-205-_png.rf.8e7426c3389be42fe2692b588721c002.txt  \n",
            "  inflating: train/labels/Captura-de-pantalla-206-_png.rf.728c19978706d232d5a493833d154a4f.txt  \n",
            "  inflating: train/labels/Captura-de-pantalla-206-_png.rf.b136558d0e67d51de40302dcf0f7e27d.txt  \n",
            "  inflating: train/labels/Captura-de-pantalla-206-_png.rf.dbf9a63d643d5ccf184b17732f967ff3.txt  \n",
            "  inflating: train/labels/Captura-de-pantalla-207-_png.rf.9ebb1e78e5a00099532d4a4e77a86df1.txt  \n",
            "  inflating: train/labels/Captura-de-pantalla-207-_png.rf.eab8a25380ab01aa69883068972e20c2.txt  \n",
            "  inflating: train/labels/Captura-de-pantalla-207-_png.rf.ecd65b41dacd9fb6bfeba7ea03e044df.txt  \n",
            "  inflating: train/labels/Captura-de-pantalla-208-_png.rf.2a0c05fbb6ae97b892880afec6f8e48b.txt  \n",
            "  inflating: train/labels/Captura-de-pantalla-208-_png.rf.63f0f696ce4887fa3160f93484011b4e.txt  \n",
            "  inflating: train/labels/Captura-de-pantalla-208-_png.rf.bfc2836ec3a8c7f96bf2263db6f5dcf5.txt  \n",
            "  inflating: train/labels/Captura-de-pantalla-209-_png.rf.0e76101ef2992093a0588fad57541180.txt  \n",
            "  inflating: train/labels/Captura-de-pantalla-209-_png.rf.3a343dc601917c6238bd61d57498a5c5.txt  \n",
            "  inflating: train/labels/Captura-de-pantalla-209-_png.rf.3d1ee539aab77c3234e8cd06db7d61ac.txt  \n",
            "  inflating: train/labels/Captura-de-pantalla-210-_png.rf.1dc2e00321143fd667f61468c016a585.txt  \n",
            "  inflating: train/labels/Captura-de-pantalla-210-_png.rf.718f54b95ebd9d925efbe9dd8529d347.txt  \n",
            "  inflating: train/labels/Captura-de-pantalla-210-_png.rf.79200ac6278bcb13684519adae26debe.txt  \n",
            "  inflating: train/labels/Captura-de-pantalla-211-_png.rf.816bec251a6dfbf3e842f97106718b69.txt  \n",
            "  inflating: train/labels/Captura-de-pantalla-211-_png.rf.a909c89f737b5a398c879a18921370b9.txt  \n",
            "  inflating: train/labels/Captura-de-pantalla-211-_png.rf.f67efdd897234a602088935207b0578a.txt  \n",
            "  inflating: train/labels/Captura-de-pantalla-212-_png.rf.680c2e745c32560468188ba845ff48cf.txt  \n",
            "  inflating: train/labels/Captura-de-pantalla-212-_png.rf.84e86b9a3e6396963d5f11c2e7580861.txt  \n",
            "  inflating: train/labels/Captura-de-pantalla-212-_png.rf.e63a6f2aa2098a671aade6604696efe0.txt  \n",
            "  inflating: train/labels/Captura-de-pantalla-213-_png.rf.0124c29af8c47140acafa513d568613e.txt  \n",
            "  inflating: train/labels/Captura-de-pantalla-213-_png.rf.9fee742210f76b84be1802c23e3651d4.txt  \n",
            "  inflating: train/labels/Captura-de-pantalla-213-_png.rf.fa748ac0815ca3aa2721a1c71f758e24.txt  \n",
            "  inflating: train/labels/Captura-de-pantalla-214-_png.rf.2ad0c947aca3328e65e5c57947a754f5.txt  \n",
            "  inflating: train/labels/Captura-de-pantalla-214-_png.rf.4f44945cc6e5b797997b05b67941e546.txt  \n",
            "  inflating: train/labels/Captura-de-pantalla-214-_png.rf.81d184a923bc501d53e6c2ce4054ab86.txt  \n",
            "  inflating: train/labels/Captura-de-pantalla-215-_png.rf.1193bcab09e161a6ceb85853df63986c.txt  \n",
            "  inflating: train/labels/Captura-de-pantalla-215-_png.rf.3152d46ed929eb109fb0eb13b8aa2440.txt  \n",
            "  inflating: train/labels/Captura-de-pantalla-215-_png.rf.e3cfd11c3afd58eec1aba26df14e312e.txt  \n",
            "  inflating: train/labels/Captura-de-pantalla-216-_png.rf.1bcceb798a3b522a286719768aa8cc1c.txt  \n",
            "  inflating: train/labels/Captura-de-pantalla-216-_png.rf.56d06475ede76babfd011d6ae3b60183.txt  \n",
            "  inflating: train/labels/Captura-de-pantalla-216-_png.rf.9a0f2849492003b65bd1f0538e38eb95.txt  \n",
            "  inflating: train/labels/Captura-de-pantalla-217-_png.rf.51b7d7331a975be365b7bae0371adfff.txt  \n",
            "  inflating: train/labels/Captura-de-pantalla-217-_png.rf.7c57109335091555abc558344a3a062d.txt  \n",
            "  inflating: train/labels/Captura-de-pantalla-217-_png.rf.f915801265a563c9198d7d8e5bc4dc3d.txt  \n",
            "  inflating: train/labels/Captura-de-pantalla-218-_png.rf.1c44fd50913100374910b0efddab06a6.txt  \n",
            "  inflating: train/labels/Captura-de-pantalla-218-_png.rf.8ad443361fd3b60ba75152fda5596b5a.txt  \n",
            "  inflating: train/labels/Captura-de-pantalla-218-_png.rf.fdfba1d3925eb0d71ecdef3a01b03ed7.txt  \n",
            "  inflating: train/labels/Captura-de-pantalla-219-_png.rf.271ce89f33deeef1a8fd0dc2cdf57c63.txt  \n",
            "  inflating: train/labels/Captura-de-pantalla-219-_png.rf.390324f314c16ee6c056ce3a2fa9b154.txt  \n",
            "  inflating: train/labels/Captura-de-pantalla-219-_png.rf.a04c9b35631c04a96039588303ddb788.txt  \n",
            "  inflating: train/labels/Captura-de-pantalla-220-_png.rf.0428fed8ed8023c55f96803dd1aad9d9.txt  \n",
            "  inflating: train/labels/Captura-de-pantalla-220-_png.rf.0a6e07c104925581620de60a20ea3b5e.txt  \n",
            " extracting: train/labels/Captura-de-pantalla-220-_png.rf.9b70dc3ed3a90e775335d6b9c7cc9346.txt  \n",
            "  inflating: train/labels/Captura-de-pantalla-221-_png.rf.8bcabdd72d5e9f257b67376f10d4b5da.txt  \n",
            "  inflating: train/labels/Captura-de-pantalla-221-_png.rf.932806b3b7ae5c5455430e96e01510cd.txt  \n",
            "  inflating: train/labels/Captura-de-pantalla-221-_png.rf.d7dbaf0b20ae1559f3c26d3f1814a3af.txt  \n",
            "  inflating: train/labels/Captura-de-pantalla-222-_png.rf.875d7e1c8479250177a8d2138816ccfa.txt  \n",
            "  inflating: train/labels/Captura-de-pantalla-222-_png.rf.aee17c5de3814f2ac55776a9de02ff47.txt  \n",
            "  inflating: train/labels/Captura-de-pantalla-222-_png.rf.fcad8f79156a0ed135980ed58a2ba9f3.txt  \n",
            "  inflating: train/labels/Captura-de-pantalla-223-_png.rf.1e2cfde6237fa2207e09fffcb7a84785.txt  \n",
            "  inflating: train/labels/Captura-de-pantalla-223-_png.rf.2b8ed78733f6110a28c2088c6298cb33.txt  \n",
            "  inflating: train/labels/Captura-de-pantalla-223-_png.rf.308a14ee2fc2e4eefcc18c7be7c8952b.txt  \n",
            "  inflating: train/labels/Captura-de-pantalla-224-_png.rf.0ec37001841ceca422340601f850cb42.txt  \n",
            "  inflating: train/labels/Captura-de-pantalla-224-_png.rf.808f87e5fb768e4179a9f3e54ea3ee61.txt  \n",
            "  inflating: train/labels/Captura-de-pantalla-224-_png.rf.8b94aa604e090dc1e03708d4a79a2a4d.txt  \n",
            "  inflating: train/labels/Captura-de-pantalla-225-_png.rf.3a8cec697371b1c452877cce64ae1748.txt  \n",
            "  inflating: train/labels/Captura-de-pantalla-225-_png.rf.772a1d8e9b0a5b3a07b26708fc022e17.txt  \n",
            "  inflating: train/labels/Captura-de-pantalla-225-_png.rf.b5ab7c26bef07b026feb75f61329767f.txt  \n",
            "  inflating: train/labels/Captura-de-pantalla-226-_png.rf.6b8277011f99575fc7c1b310f3d42f79.txt  \n",
            "  inflating: train/labels/Captura-de-pantalla-226-_png.rf.76549aaba466997961e4aebaef419a1a.txt  \n",
            "  inflating: train/labels/Captura-de-pantalla-226-_png.rf.8d98613e84d8f64e2d68c7d8f306b3f5.txt  \n",
            "  inflating: train/labels/Captura-de-pantalla-227-_png.rf.3e6fbfef67a6800506fb535d5493d6dc.txt  \n",
            "  inflating: train/labels/Captura-de-pantalla-227-_png.rf.4736343784f8a7aa706eddd56f85e340.txt  \n",
            "  inflating: train/labels/Captura-de-pantalla-227-_png.rf.8e956dc62e591f304520347cf560d7c8.txt  \n",
            "  inflating: train/labels/Captura-de-pantalla-228-_png.rf.1bc471b8ebcf64c03898655298560e19.txt  \n",
            "  inflating: train/labels/Captura-de-pantalla-228-_png.rf.21930669fcd21f491cb2d94f4c9b150a.txt  \n",
            "  inflating: train/labels/Captura-de-pantalla-228-_png.rf.893e9c668d7c06110bbab66d288f459b.txt  \n",
            "  inflating: train/labels/Captura-de-pantalla-229-_png.rf.6b8c7ecb42c77aa0ae9d7ed13c2977fe.txt  \n",
            "  inflating: train/labels/Captura-de-pantalla-229-_png.rf.a80f35697a4926d9faa16ddf6cd3545a.txt  \n",
            "  inflating: train/labels/Captura-de-pantalla-229-_png.rf.e66f51c9595c3311ada5f02c3d3e902d.txt  \n",
            "  inflating: train/labels/Captura-de-pantalla-230-_png.rf.8f583ee18c4ed8db0323e86030099712.txt  \n",
            "  inflating: train/labels/Captura-de-pantalla-230-_png.rf.ae53da9b63f79de8acc3afc93077902f.txt  \n",
            "  inflating: train/labels/Captura-de-pantalla-230-_png.rf.b4eb3aad712590620fbd89ca5fb1c7e2.txt  \n",
            "  inflating: train/labels/Captura-de-pantalla-231-_png.rf.18c67be55c4f489e4aae9f850625130a.txt  \n",
            "  inflating: train/labels/Captura-de-pantalla-231-_png.rf.2b62c55d7d03d35ed39833bd6739d1e8.txt  \n",
            "  inflating: train/labels/Captura-de-pantalla-231-_png.rf.4730f45322b9e1e1665e327ed5a19b95.txt  \n",
            "  inflating: train/labels/Captura-de-pantalla-232-_png.rf.bb6323b42ff94c266d77de1638e8acaf.txt  \n",
            "  inflating: train/labels/Captura-de-pantalla-232-_png.rf.e6b10cc8d1a2e3c2c3873bc2fd038719.txt  \n",
            " extracting: train/labels/Captura-de-pantalla-232-_png.rf.f046154d36eb53de573787af61281231.txt  \n",
            "  inflating: train/labels/Captura-de-pantalla-233-_png.rf.19a8e094bf684de872f0bc5845e0a030.txt  \n",
            "  inflating: train/labels/Captura-de-pantalla-233-_png.rf.4d1fa3ee49d817fd46e34492e7bcd23a.txt  \n",
            "  inflating: train/labels/Captura-de-pantalla-233-_png.rf.fe0cd1051d22aac98cdca39043803bcf.txt  \n",
            "  inflating: train/labels/Captura-de-pantalla-234-_png.rf.719b05430326b0ff7dcc4f246d796c8b.txt  \n",
            "  inflating: train/labels/Captura-de-pantalla-234-_png.rf.d17a9aa808943ab1a18ef6403c207bdd.txt  \n",
            "  inflating: train/labels/Captura-de-pantalla-234-_png.rf.fc2c740665b6e806d2ebbbbd4c58e31e.txt  \n",
            "  inflating: train/labels/Captura-de-pantalla-235-_png.rf.3079d1793b118a06b875abda8f8418aa.txt  \n",
            "  inflating: train/labels/Captura-de-pantalla-235-_png.rf.9ad96baa36b6910a78eeade5138db271.txt  \n",
            "  inflating: train/labels/Captura-de-pantalla-235-_png.rf.9ff810f7483257202479c727c5d53030.txt  \n",
            "  inflating: train/labels/Captura-de-pantalla-236-_png.rf.66336cbc4fd0a5c84f60c33666f1c22c.txt  \n",
            " extracting: train/labels/Captura-de-pantalla-236-_png.rf.81e3f8458023621da4ac9f86bd4fec9b.txt  \n",
            "  inflating: train/labels/Captura-de-pantalla-236-_png.rf.b199bac6c4521af49dff1a553018b347.txt  \n",
            "  inflating: train/labels/Captura-de-pantalla-237-_png.rf.2f5efeffd6daee63b3b505e22a6a4757.txt  \n",
            "  inflating: train/labels/Captura-de-pantalla-237-_png.rf.7fdda5109c00eaee441cf43163b08478.txt  \n",
            "  inflating: train/labels/Captura-de-pantalla-237-_png.rf.a87b1169f0dd7458d873270aca41704d.txt  \n",
            "  inflating: train/labels/Captura-de-pantalla-238-_png.rf.0d913073e9db699ef1d89f56c53e0503.txt  \n",
            "  inflating: train/labels/Captura-de-pantalla-238-_png.rf.0e572eea85c94418ee9967999d548c0b.txt  \n",
            "  inflating: train/labels/Captura-de-pantalla-238-_png.rf.7c47b8a91097c89b102fb2efdb735385.txt  \n",
            "  inflating: train/labels/Captura-de-pantalla-239-_png.rf.15f0e97ea95fca96fbc9f506f645fcbe.txt  \n",
            "  inflating: train/labels/Captura-de-pantalla-239-_png.rf.2704d4c1521e5eea7197ddb17157fa67.txt  \n",
            "  inflating: train/labels/Captura-de-pantalla-239-_png.rf.a6b3ef98839799038ce61d2cc61a05be.txt  \n",
            "  inflating: train/labels/Captura-de-pantalla-240-_png.rf.4294365670178ea6f60061aacfbcd10d.txt  \n",
            "  inflating: train/labels/Captura-de-pantalla-240-_png.rf.9095d188bb8f240c21a59b5dc6c755e0.txt  \n",
            "  inflating: train/labels/Captura-de-pantalla-240-_png.rf.9631c1da8aecf66aa2cbd234f907921b.txt  \n",
            "  inflating: train/labels/Captura-de-pantalla-241-_png.rf.7d38fc4d90e3af8940a65aad397da47c.txt  \n",
            "  inflating: train/labels/Captura-de-pantalla-241-_png.rf.abada3aa72a7d2e8af589be3a65e5913.txt  \n",
            "  inflating: train/labels/Captura-de-pantalla-241-_png.rf.dbe142d09eafbed6e7ba07151f69d7ac.txt  \n",
            "  inflating: train/labels/Captura-de-pantalla-242-_png.rf.15302089bbf68cb1a186513ae168cff3.txt  \n",
            "  inflating: train/labels/Captura-de-pantalla-242-_png.rf.43b59956c868582378c080b54073ab1c.txt  \n",
            "  inflating: train/labels/Captura-de-pantalla-242-_png.rf.8b4070848d02efb3b4bc7d13e0f2d37c.txt  \n",
            "  inflating: train/labels/Captura-de-pantalla-243-_png.rf.1bb94a6bac4e7a7007536ddd5544e77c.txt  \n",
            "  inflating: train/labels/Captura-de-pantalla-243-_png.rf.658c83388018ccf79eefdf62e858eed3.txt  \n",
            "  inflating: train/labels/Captura-de-pantalla-243-_png.rf.6e920e321c3499488ef5c61d18378211.txt  \n",
            "  inflating: train/labels/Captura-de-pantalla-244-_png.rf.1e52e8c2478edb08b8d2eb05c0d4f537.txt  \n",
            "  inflating: train/labels/Captura-de-pantalla-244-_png.rf.2434d895a7c383bee39674275598522e.txt  \n",
            "  inflating: train/labels/Captura-de-pantalla-244-_png.rf.f91df414fc78675fc81e9e9181d4d31b.txt  \n",
            "  inflating: train/labels/Captura-de-pantalla-245-_png.rf.035b5b49af721b92c1aa9330b09c4a9e.txt  \n",
            "  inflating: train/labels/Captura-de-pantalla-245-_png.rf.0bb1c4adbc54770cf7493163708eba93.txt  \n",
            "  inflating: train/labels/Captura-de-pantalla-245-_png.rf.71f5ff4472a22259f28fee9fbe715acd.txt  \n",
            "  inflating: train/labels/Captura-de-pantalla-246-_png.rf.0f9aa63849c6f934aa9f4f6628c31f07.txt  \n",
            "  inflating: train/labels/Captura-de-pantalla-246-_png.rf.459c104815599189ed81ffd3e7a6e034.txt  \n",
            "  inflating: train/labels/Captura-de-pantalla-246-_png.rf.945a54a8688cf477e56cfbdb55b689bb.txt  \n",
            "  inflating: train/labels/Captura-de-pantalla-247-_png.rf.30663873072f95206c16904f0ece9354.txt  \n",
            "  inflating: train/labels/Captura-de-pantalla-247-_png.rf.b9ea0a74e54127f3fc3a2a5c5540a445.txt  \n",
            "  inflating: train/labels/Captura-de-pantalla-247-_png.rf.eecb0ec931521551d93a40b0ebea7cdd.txt  \n",
            "  inflating: train/labels/Captura-de-pantalla-248-_png.rf.07cc5b0aa5b1b5e5ee07410b06cfec4a.txt  \n",
            "  inflating: train/labels/Captura-de-pantalla-248-_png.rf.43466b92a07f82a02bc30d1a75cacbd3.txt  \n",
            "  inflating: train/labels/Captura-de-pantalla-248-_png.rf.789d732bb92f52869549de0395170898.txt  \n",
            "  inflating: train/labels/Captura-de-pantalla-249-_png.rf.512b6c2fc643d38b26199fa90105e557.txt  \n",
            "  inflating: train/labels/Captura-de-pantalla-249-_png.rf.9f627fc8d2685b7c7ccb370172b6d127.txt  \n",
            "  inflating: train/labels/Captura-de-pantalla-249-_png.rf.b14a374499c978b2dcb8dd6ab90ebe09.txt  \n",
            "  inflating: train/labels/Captura-de-pantalla-250-_png.rf.0dc97288d1ac3a0595dc140075022125.txt  \n",
            "  inflating: train/labels/Captura-de-pantalla-250-_png.rf.4557d785e6a7ca7a5b5acda52924933f.txt  \n",
            "  inflating: train/labels/Captura-de-pantalla-250-_png.rf.5d3f128f60ac2025969b7c3976dd09c2.txt  \n",
            "  inflating: train/labels/Captura-de-pantalla-251-_png.rf.001b1b2f1d771a1acfe3b20730f1a670.txt  \n",
            "  inflating: train/labels/Captura-de-pantalla-251-_png.rf.6e810a4be884cd7ebf70b797eeb62056.txt  \n",
            "  inflating: train/labels/Captura-de-pantalla-251-_png.rf.ade56df21ac8d8403c83633a8c8f2f28.txt  \n",
            "  inflating: train/labels/Captura-de-pantalla-252-_png.rf.2b3c2c18cfe7aa052fce599e57328027.txt  \n",
            "  inflating: train/labels/Captura-de-pantalla-252-_png.rf.51f758af07ea77bb9916723a916533a7.txt  \n",
            "  inflating: train/labels/Captura-de-pantalla-252-_png.rf.d3d984f3a1c5d94fe3653c791065abf3.txt  \n",
            "  inflating: train/labels/Captura-de-pantalla-253-_png.rf.0125b343078120439d89744b4fd4feff.txt  \n",
            "  inflating: train/labels/Captura-de-pantalla-253-_png.rf.3c33ee5ce89f731b0e6e341bdc93b2f8.txt  \n",
            "  inflating: train/labels/Captura-de-pantalla-253-_png.rf.c1adafc02bdebcf9a74f5203fda85405.txt  \n",
            "  inflating: train/labels/Captura-de-pantalla-254-_png.rf.6834643d48c0bf1f8fd8ac000d99d27b.txt  \n",
            "  inflating: train/labels/Captura-de-pantalla-254-_png.rf.7435028f2fcfa314e4d592f2abc1f65d.txt  \n",
            "  inflating: train/labels/Captura-de-pantalla-254-_png.rf.c2b776a55dbe5dfe20b272f27332e0b6.txt  \n",
            "  inflating: train/labels/Captura-de-pantalla-255-_png.rf.cd82e9ea29f47410ea5f2bebb423e240.txt  \n",
            "  inflating: train/labels/Captura-de-pantalla-255-_png.rf.d87f4298ccf9fafbc1e98e635b4c7b07.txt  \n",
            "  inflating: train/labels/Captura-de-pantalla-255-_png.rf.f8b272c0698ca1c7596017164d700d0d.txt  \n",
            "  inflating: train/labels/Captura-de-pantalla-256-_png.rf.101978b93fbe33791614731b200e172b.txt  \n",
            "  inflating: train/labels/Captura-de-pantalla-256-_png.rf.1e5fce046f849988aa2c6b37137c19b7.txt  \n",
            " extracting: train/labels/Captura-de-pantalla-256-_png.rf.397ac6ecd7bdb1d4f447fcce52cc63eb.txt  \n",
            "  inflating: train/labels/Captura-de-pantalla-257-_png.rf.3bc98aac19fc403f45ca40e99e179322.txt  \n",
            "  inflating: train/labels/Captura-de-pantalla-257-_png.rf.eb1305dc2d69bc4224240d27ad33c23d.txt  \n",
            "  inflating: train/labels/Captura-de-pantalla-257-_png.rf.fea59caf17b437b6a7ec0d4f4e4b962e.txt  \n",
            "  inflating: train/labels/Captura-de-pantalla-258-_png.rf.76704dc9be3aca2fcbb623330ba5684a.txt  \n",
            "  inflating: train/labels/Captura-de-pantalla-258-_png.rf.817a7f4f0d11af45aa6cae8656f3ba09.txt  \n",
            "  inflating: train/labels/Captura-de-pantalla-258-_png.rf.86209dbef577f79d09f93e9ca60caeac.txt  \n",
            "  inflating: train/labels/Captura-de-pantalla-259-_png.rf.a0f06852a4e9b0b886d8a555c7304090.txt  \n",
            "  inflating: train/labels/Captura-de-pantalla-259-_png.rf.b369aa467824acbbb777bf0a1c558ed0.txt  \n",
            "  inflating: train/labels/Captura-de-pantalla-259-_png.rf.ba7454b942b402c93db909f8bd6e867d.txt  \n",
            "  inflating: train/labels/Captura-de-pantalla-260-_png.rf.646823a7ecb6f61069ad3688ebd4c155.txt  \n",
            "  inflating: train/labels/Captura-de-pantalla-260-_png.rf.80681497847d7d63d8a3d9c3ed3fa569.txt  \n",
            "  inflating: train/labels/Captura-de-pantalla-260-_png.rf.cf40677ff8f3608b0925af09eaa04e23.txt  \n",
            "  inflating: train/labels/Captura-de-pantalla-261-_png.rf.8487dceba6d2c02da8188b55178cf164.txt  \n",
            "  inflating: train/labels/Captura-de-pantalla-261-_png.rf.b021eed2db564f15965b7f07c4ccfb0a.txt  \n",
            "  inflating: train/labels/Captura-de-pantalla-261-_png.rf.d64499ec6978d2a86ce02fa962aa5709.txt  \n",
            "  inflating: train/labels/Captura-de-pantalla-262-_png.rf.108482fb9940d5c250d3632da659aad6.txt  \n",
            "  inflating: train/labels/Captura-de-pantalla-262-_png.rf.72ff026396c8f1e8d1421aa8e0354ac8.txt  \n",
            "  inflating: train/labels/Captura-de-pantalla-262-_png.rf.cefbc4001e34f0dd90515e84af6ffe46.txt  \n",
            "  inflating: train/labels/Captura-de-pantalla-263-_png.rf.226b003176e2aaab5d8cd116d9dff669.txt  \n",
            "  inflating: train/labels/Captura-de-pantalla-263-_png.rf.2cc865c22af2b4fafffb38574a9e308c.txt  \n",
            "  inflating: train/labels/Captura-de-pantalla-263-_png.rf.6c8d92f85eb1eeb8af7172c20fcc4230.txt  \n",
            "  inflating: train/labels/Captura-de-pantalla-264-_png.rf.30226075cdd2a2a1c87569121de1a716.txt  \n",
            "  inflating: train/labels/Captura-de-pantalla-264-_png.rf.759c14344e32464e92ca17f315056088.txt  \n",
            "  inflating: train/labels/Captura-de-pantalla-264-_png.rf.b262a4d63b77ead8856d91f28655a6d0.txt  \n",
            "  inflating: train/labels/Captura-de-pantalla-265-_png.rf.1b597bbbb7e9cd3dd0a36196674d7645.txt  \n",
            "  inflating: train/labels/Captura-de-pantalla-265-_png.rf.44bf02458dd7e11a3be4efaf74949227.txt  \n",
            "  inflating: train/labels/Captura-de-pantalla-265-_png.rf.578f2d9d7e63b1c696abc4be3804cd3b.txt  \n",
            "  inflating: train/labels/Captura-de-pantalla-266-_png.rf.0d1e5fc83e7a252a4a4104f65fb5d9ec.txt  \n",
            "  inflating: train/labels/Captura-de-pantalla-266-_png.rf.a4c3d6d88fe6df069088897c2de25576.txt  \n",
            "  inflating: train/labels/Captura-de-pantalla-266-_png.rf.e57672baf593786d61120025b32e8bd6.txt  \n",
            "  inflating: train/labels/Captura-de-pantalla-267-_png.rf.779b7444e2a2f8f9c0bdf712f65819be.txt  \n",
            "  inflating: train/labels/Captura-de-pantalla-267-_png.rf.9858bf6a4e1d9d53da07473eafcb57ca.txt  \n",
            "  inflating: train/labels/Captura-de-pantalla-267-_png.rf.d9f90eaef80a53d8b04b77020fa70e23.txt  \n",
            "  inflating: train/labels/Captura-de-pantalla-268-_png.rf.615ff6fc67d32263e7e760ad6420b503.txt  \n",
            "  inflating: train/labels/Captura-de-pantalla-268-_png.rf.8ba501f852bcde9c955828802ed82d67.txt  \n",
            "  inflating: train/labels/Captura-de-pantalla-268-_png.rf.b65c35e330e6c90c8f7023110e12f8a0.txt  \n",
            "  inflating: train/labels/Captura-de-pantalla-269-_png.rf.0127d081ba1acca277f8d950b5367d04.txt  \n",
            "  inflating: train/labels/Captura-de-pantalla-269-_png.rf.0f2907906c75e7de13bba8d19c516a0f.txt  \n",
            "  inflating: train/labels/Captura-de-pantalla-269-_png.rf.81a121244c7a7e131aea448dd8c52bbf.txt  \n",
            "  inflating: train/labels/Captura-de-pantalla-270-_png.rf.1129099890e5b262dfc290cdf6ccf246.txt  \n",
            "  inflating: train/labels/Captura-de-pantalla-270-_png.rf.57afd51349935fbe5b39e7517989eb94.txt  \n",
            "  inflating: train/labels/Captura-de-pantalla-270-_png.rf.7fd2d0e4eaa7fe664f294645dd0981ea.txt  \n",
            "  inflating: train/labels/Captura-de-pantalla-271-_png.rf.4e63a4edda60e208f4ae2e373063f2a6.txt  \n",
            "  inflating: train/labels/Captura-de-pantalla-271-_png.rf.8b4f4fdfbebe84e310b877b1101feb18.txt  \n",
            "  inflating: train/labels/Captura-de-pantalla-271-_png.rf.f6e5da8083308144fb069b8bc7fd687c.txt  \n",
            "  inflating: train/labels/Captura-de-pantalla-272-_png.rf.a59a98c573622711f5ab9eb517c95226.txt  \n",
            "  inflating: train/labels/Captura-de-pantalla-272-_png.rf.eda3eb5fbbe573d5b8419f742137f6c5.txt  \n",
            "  inflating: train/labels/Captura-de-pantalla-272-_png.rf.f2e70d217e645e3c6777b17f632c213c.txt  \n",
            "  inflating: train/labels/Captura-de-pantalla-273-_png.rf.a6f476d45c7926c303c62a83e222bcc1.txt  \n",
            "  inflating: train/labels/Captura-de-pantalla-273-_png.rf.aaf7ccaa271c53f3ef3c9c439f470556.txt  \n",
            "  inflating: train/labels/Captura-de-pantalla-273-_png.rf.da4b9969a7c1680451d3b6358a3b9aa4.txt  \n",
            "  inflating: train/labels/Captura-de-pantalla-274-_png.rf.265470fb361d5fd38cfdd9a1a4bef80d.txt  \n",
            "  inflating: train/labels/Captura-de-pantalla-274-_png.rf.2ba9f150072f1b991f47e6f4764cc2b9.txt  \n",
            "  inflating: train/labels/Captura-de-pantalla-274-_png.rf.681a5cf2bb62408b3a1ce495db7e80fd.txt  \n",
            "  inflating: train/labels/Captura-de-pantalla-275-_png.rf.1b21b9e2efd35d8397708c5bda1b2e71.txt  \n",
            "  inflating: train/labels/Captura-de-pantalla-275-_png.rf.738d52a4175d396c99b268c604ea205d.txt  \n",
            "  inflating: train/labels/Captura-de-pantalla-275-_png.rf.fec875d566a363911c71e9245389c95f.txt  \n",
            "  inflating: train/labels/Captura-de-pantalla-276-_png.rf.3726246423a37c902eb82690f05082b4.txt  \n",
            "  inflating: train/labels/Captura-de-pantalla-276-_png.rf.562a47e01c0ec299b255d4efdb2007d4.txt  \n",
            "  inflating: train/labels/Captura-de-pantalla-276-_png.rf.c420e457b03acfd949150dd6457ed778.txt  \n",
            "  inflating: train/labels/Captura-de-pantalla-277-_png.rf.32d2af5676867559429ae175ae0af8af.txt  \n",
            "  inflating: train/labels/Captura-de-pantalla-277-_png.rf.813699ab94fc56e64d621baf10d62ac0.txt  \n",
            "  inflating: train/labels/Captura-de-pantalla-277-_png.rf.afb8ac0df9206ef72e425871e1da2c8a.txt  \n",
            "  inflating: train/labels/Captura-de-pantalla-278-_png.rf.30c40c94cd79c6e9340ebc111342e3df.txt  \n",
            "  inflating: train/labels/Captura-de-pantalla-278-_png.rf.43e764c137311c476503f66dbdc155ab.txt  \n",
            "  inflating: train/labels/Captura-de-pantalla-278-_png.rf.53168c2eef129d71e9cf8e8b40bc19f6.txt  \n",
            "  inflating: train/labels/Captura-de-pantalla-279-_png.rf.22df28111a30d7ab716f401b4c51c7fb.txt  \n",
            "  inflating: train/labels/Captura-de-pantalla-279-_png.rf.3dadd875c67389724a97d3c53b98ff91.txt  \n",
            "  inflating: train/labels/Captura-de-pantalla-279-_png.rf.ad1e38b4508a822473e9ddacdfff7e2d.txt  \n",
            "  inflating: train/labels/Captura-de-pantalla-280-_png.rf.4d58ca6389050fe4bbc54c202f0fe57a.txt  \n",
            "  inflating: train/labels/Captura-de-pantalla-280-_png.rf.6b6558c453dfab885a3c871ade8d3249.txt  \n",
            "  inflating: train/labels/Captura-de-pantalla-280-_png.rf.fca44bc2331f2b04bf0fbcb6e2ecc4d0.txt  \n",
            "  inflating: train/labels/Captura-de-pantalla-281-_png.rf.c544e5b0e2c8465d61b63230489e03cf.txt  \n",
            "  inflating: train/labels/Captura-de-pantalla-281-_png.rf.decd1ec86847b7f9be9a2327920b49a0.txt  \n",
            "  inflating: train/labels/Captura-de-pantalla-281-_png.rf.edfb5d0578683784bfa92b66c0b48241.txt  \n",
            "  inflating: train/labels/Captura-de-pantalla-282-_png.rf.5170cf0ee9b4ec77d3785103df1a52bd.txt  \n",
            "  inflating: train/labels/Captura-de-pantalla-282-_png.rf.81bd6bf565ff6c11ed0386b55a16a97c.txt  \n",
            "  inflating: train/labels/Captura-de-pantalla-282-_png.rf.e5df1538bcae699cb8951ba9909e1f52.txt  \n",
            "  inflating: train/labels/Captura-de-pantalla-283-_png.rf.11dcf7c1dc2f43a8d77ab6a71dbf971b.txt  \n",
            "  inflating: train/labels/Captura-de-pantalla-283-_png.rf.41bbd736590014fd06336a0d80231f7c.txt  \n",
            "  inflating: train/labels/Captura-de-pantalla-283-_png.rf.d5474f257aca3128375682718de5800c.txt  \n",
            "  inflating: train/labels/Captura-de-pantalla-285-_png.rf.2a96bc5d09a72ad378b4164ef0308a5c.txt  \n",
            "  inflating: train/labels/Captura-de-pantalla-285-_png.rf.9007317fd2d7478723a0c6c6db48bee3.txt  \n",
            "  inflating: train/labels/Captura-de-pantalla-285-_png.rf.f8aa3276908e3f21ad3596e7f6c91709.txt  \n",
            "  inflating: train/labels/Captura-de-pantalla-286-_png.rf.4139dcd2d0ce089edd3fcdb03317e70a.txt  \n",
            "  inflating: train/labels/Captura-de-pantalla-286-_png.rf.96fb4cdb9c61f2cc7b0f4bf66d59bee8.txt  \n",
            "  inflating: train/labels/Captura-de-pantalla-286-_png.rf.eb7a87a577b9628750f5ce906c4c6256.txt  \n",
            "  inflating: train/labels/Captura-de-pantalla-287-_png.rf.816fa183cccfa3134fe79a9465818157.txt  \n",
            "  inflating: train/labels/Captura-de-pantalla-287-_png.rf.af51ffc7f0ee807770cd74ef46403283.txt  \n",
            "  inflating: train/labels/Captura-de-pantalla-287-_png.rf.d7733fc5f01897a7d10e5a11f28245a8.txt  \n",
            "  inflating: train/labels/Captura-de-pantalla-288-_png.rf.9187ffcee452db08f91e0122c9b668eb.txt  \n",
            "  inflating: train/labels/Captura-de-pantalla-288-_png.rf.a22c691abff5d0d7c12ae0b6b97b09e8.txt  \n",
            "  inflating: train/labels/Captura-de-pantalla-288-_png.rf.c60b64d493a533ffcaff401c1787d8b2.txt  \n",
            "  inflating: train/labels/Captura-de-pantalla-289-_png.rf.0dcbfafa92f08ba2a26d32b4bce31fa0.txt  \n",
            "  inflating: train/labels/Captura-de-pantalla-289-_png.rf.20352545af2473756405bbe375c4ec71.txt  \n",
            "  inflating: train/labels/Captura-de-pantalla-289-_png.rf.ea8636a30f8f06fe24274d5513295670.txt  \n",
            "  inflating: train/labels/Captura-de-pantalla-290-_png.rf.0496a3a510aaaa3fdb605b95f360071b.txt  \n",
            "  inflating: train/labels/Captura-de-pantalla-290-_png.rf.a1a1045f6b842600a9622b8cc980b806.txt  \n",
            "  inflating: train/labels/Captura-de-pantalla-290-_png.rf.a5f511e3b8d7790e2d57c5aa5778f59d.txt  \n",
            "  inflating: train/labels/Captura-de-pantalla-292-_png.rf.0902393de82f9ffc88f41537ab830a2b.txt  \n",
            "  inflating: train/labels/Captura-de-pantalla-292-_png.rf.2dfd9080d74d22ebd4c292e8855dd7db.txt  \n",
            "  inflating: train/labels/Captura-de-pantalla-292-_png.rf.b96c69517623abc58fe9bf6b0c1b1e14.txt  \n",
            "  inflating: train/labels/Captura-de-pantalla-293-_png.rf.22a3d53c67eb61c56b17b0751fc7dde0.txt  \n",
            "  inflating: train/labels/Captura-de-pantalla-293-_png.rf.a74861f14283f84d9c9b21bf45d27adc.txt  \n",
            "  inflating: train/labels/Captura-de-pantalla-293-_png.rf.fc4d5135b7fb8ee062c6ebe025a76450.txt  \n",
            "  inflating: train/labels/Captura-de-pantalla-294-_png.rf.32b7d39c5d770718391266b4a2944824.txt  \n",
            "  inflating: train/labels/Captura-de-pantalla-294-_png.rf.a7ba2323a623d590d31d1ba91f58fd3c.txt  \n",
            "  inflating: train/labels/Captura-de-pantalla-294-_png.rf.f55808d207100e9cc9d48b54c9bb0c32.txt  \n",
            "  inflating: train/labels/Captura-de-pantalla-296-_png.rf.014617f2c0c4b6a1fe41859c18527b7e.txt  \n",
            "  inflating: train/labels/Captura-de-pantalla-296-_png.rf.cda7191675b20d98ceaa3585a6f9bf35.txt  \n",
            "  inflating: train/labels/Captura-de-pantalla-296-_png.rf.e14abc0bc74d29c49e2e3c572d038655.txt  \n",
            "  inflating: train/labels/Captura-de-pantalla-297-_png.rf.03e7d2288e6dd9a05b9c81e5eb837d42.txt  \n",
            "  inflating: train/labels/Captura-de-pantalla-297-_png.rf.8f2cdb0d20cc79e3e86b8ae6f30f79c1.txt  \n",
            "  inflating: train/labels/Captura-de-pantalla-297-_png.rf.b248c1f01e4a3ad09afe54edd52d3707.txt  \n",
            "  inflating: train/labels/Captura-de-pantalla-298-_png.rf.587dea75dedc49b54912ef3cb2321a7c.txt  \n",
            "  inflating: train/labels/Captura-de-pantalla-298-_png.rf.951717589965aa6e92a6b24214f05311.txt  \n",
            "  inflating: train/labels/Captura-de-pantalla-298-_png.rf.b46d2624b1994c4e3d5f162c1c1c4711.txt  \n",
            "  inflating: train/labels/Captura-de-pantalla-299-_png.rf.05b449dcad0a4092f58bee37f0a4cd2b.txt  \n",
            "  inflating: train/labels/Captura-de-pantalla-299-_png.rf.2c9516c3c12d5c092d6f8204ddd2c2ce.txt  \n",
            "  inflating: train/labels/Captura-de-pantalla-299-_png.rf.cb09935a6b29ed276234297bdf6145a3.txt  \n",
            "  inflating: train/labels/Captura-de-pantalla-30-_png.rf.73aa2df44838aaa6a73dbd79cf113739.txt  \n",
            "  inflating: train/labels/Captura-de-pantalla-30-_png.rf.aa544f6e88e9e862c35833a503e9f748.txt  \n",
            "  inflating: train/labels/Captura-de-pantalla-30-_png.rf.bb4a0c875ab2d7038386a39ae6d72361.txt  \n",
            "  inflating: train/labels/Captura-de-pantalla-300-_png.rf.0ac62aa5927e58428ba4acea1e595c62.txt  \n",
            "  inflating: train/labels/Captura-de-pantalla-300-_png.rf.55def4e0f5536c28bfb61cb796e63f18.txt  \n",
            "  inflating: train/labels/Captura-de-pantalla-300-_png.rf.c7a7d9d07992870d814ba24bc54b16ba.txt  \n",
            "  inflating: train/labels/Captura-de-pantalla-301-_png.rf.1bc8ebc899ec9d2ca400efec62b1f6fc.txt  \n",
            "  inflating: train/labels/Captura-de-pantalla-301-_png.rf.5a388c1c6fe3f87ffe2ab466b72e46d6.txt  \n",
            "  inflating: train/labels/Captura-de-pantalla-301-_png.rf.7e9eca5c45dfa1d9b97a3d4ed7f30457.txt  \n",
            "  inflating: train/labels/Captura-de-pantalla-302-_png.rf.520ec8ae1a1bd9ea8c26af58790cfa0e.txt  \n",
            "  inflating: train/labels/Captura-de-pantalla-302-_png.rf.dbcfc9e8a0780568e1fd92c15525ed51.txt  \n",
            "  inflating: train/labels/Captura-de-pantalla-302-_png.rf.ecd66594e47a3f625750b66ca93ec36f.txt  \n",
            "  inflating: train/labels/Captura-de-pantalla-303-_png.rf.0db9dbd13193f9ef3424b4dbc7971d78.txt  \n",
            "  inflating: train/labels/Captura-de-pantalla-303-_png.rf.a28254e4b5bfbd5d670154e7faf794b6.txt  \n",
            "  inflating: train/labels/Captura-de-pantalla-303-_png.rf.ddff3e321e6460684da80a0d84eeb863.txt  \n",
            "  inflating: train/labels/Captura-de-pantalla-304-_png.rf.3704b24057bfdec64eccf647ac0b3987.txt  \n",
            "  inflating: train/labels/Captura-de-pantalla-304-_png.rf.5f4f5ab82752bd2e85232ae4e558b683.txt  \n",
            "  inflating: train/labels/Captura-de-pantalla-304-_png.rf.a3b16341384da0d4a20b5af18870f5cd.txt  \n",
            "  inflating: train/labels/Captura-de-pantalla-305-_png.rf.0e038fdb519316301457e379c771e67c.txt  \n",
            "  inflating: train/labels/Captura-de-pantalla-305-_png.rf.5a04ea0aa89e336521919a293e7a3ec8.txt  \n",
            "  inflating: train/labels/Captura-de-pantalla-305-_png.rf.88f6f4cdc3520790584ff4e62596ce74.txt  \n",
            "  inflating: train/labels/Captura-de-pantalla-306-_png.rf.0099b3ffff7c9eb12f4c87575f5240d4.txt  \n",
            "  inflating: train/labels/Captura-de-pantalla-306-_png.rf.a848fbf276af0bd6cbda11a28488cd49.txt  \n",
            "  inflating: train/labels/Captura-de-pantalla-306-_png.rf.bb237234dcfd8206499d326f496a86be.txt  \n",
            "  inflating: train/labels/Captura-de-pantalla-307-_png.rf.1b31c6b883e8e5eaea43475405357f84.txt  \n",
            "  inflating: train/labels/Captura-de-pantalla-307-_png.rf.4c91560e4831fb540d2d6695a858dfff.txt  \n",
            "  inflating: train/labels/Captura-de-pantalla-307-_png.rf.6b17ac4c4aa75477c2e735ab82528f6e.txt  \n",
            "  inflating: train/labels/Captura-de-pantalla-308-_png.rf.0d241680ccd1572c376704e39ce7c0fa.txt  \n",
            "  inflating: train/labels/Captura-de-pantalla-308-_png.rf.17306f4473789711025673581dbef3b9.txt  \n",
            "  inflating: train/labels/Captura-de-pantalla-308-_png.rf.a5ca3aeb8e692c22d9c0a0ae515a3c14.txt  \n",
            "  inflating: train/labels/Captura-de-pantalla-309-_png.rf.6ddabb4b37b0cd4fcce4ddfa351c0e49.txt  \n",
            "  inflating: train/labels/Captura-de-pantalla-309-_png.rf.fb42e26b5b238b68b117dbcada72a742.txt  \n",
            "  inflating: train/labels/Captura-de-pantalla-309-_png.rf.fe59e8cd0993ada4621c7441f75f34fa.txt  \n",
            "  inflating: train/labels/Captura-de-pantalla-31-_png.rf.761efe34d7661675b8996b837235f870.txt  \n",
            "  inflating: train/labels/Captura-de-pantalla-31-_png.rf.7c3baf3af92810ac58ebbe28874e2bb6.txt  \n",
            "  inflating: train/labels/Captura-de-pantalla-31-_png.rf.de2851fac66e4cf4f25097217ed29744.txt  \n",
            "  inflating: train/labels/Captura-de-pantalla-310-_png.rf.31703d434e6892102f035769a2bbb903.txt  \n",
            "  inflating: train/labels/Captura-de-pantalla-310-_png.rf.5219b2d73e93595c02692ffc22ce4b87.txt  \n",
            "  inflating: train/labels/Captura-de-pantalla-310-_png.rf.df6e6102791c6ffb09ea1fedba8d3289.txt  \n",
            "  inflating: train/labels/Captura-de-pantalla-311-_png.rf.45d9b78ebabc0c678df16f16de014a18.txt  \n",
            "  inflating: train/labels/Captura-de-pantalla-311-_png.rf.4cc5ba7af22460c1ad94a8a77a981f0c.txt  \n",
            "  inflating: train/labels/Captura-de-pantalla-311-_png.rf.bdd427a7f32d44a0f1df4ca93893f3c9.txt  \n",
            "  inflating: train/labels/Captura-de-pantalla-312-_png.rf.3925a7a57af422e7ba6888f9198c0956.txt  \n",
            "  inflating: train/labels/Captura-de-pantalla-312-_png.rf.3edce7395ae01b7527a91c8688d0c362.txt  \n",
            "  inflating: train/labels/Captura-de-pantalla-312-_png.rf.d2d34b8f46dd2924f84e8d0391bd4932.txt  \n",
            "  inflating: train/labels/Captura-de-pantalla-313-_png.rf.b1ac46fe7fa6e1f96feea3d1f445c743.txt  \n",
            "  inflating: train/labels/Captura-de-pantalla-313-_png.rf.b36e8986207b7cce4524af132b337ac9.txt  \n",
            "  inflating: train/labels/Captura-de-pantalla-313-_png.rf.cef7e08d221e97489b690d5d26659872.txt  \n",
            "  inflating: train/labels/Captura-de-pantalla-314-_png.rf.8a78468bbcbedd59e583c2beebf25d3f.txt  \n",
            "  inflating: train/labels/Captura-de-pantalla-314-_png.rf.ccea321431ec893ab6477b26cb3cd417.txt  \n",
            "  inflating: train/labels/Captura-de-pantalla-314-_png.rf.dc548b20f0c99f8d3410614227f839fa.txt  \n",
            "  inflating: train/labels/Captura-de-pantalla-315-_png.rf.3bde0ebe5de1255e716f4d68fe937c0b.txt  \n",
            "  inflating: train/labels/Captura-de-pantalla-315-_png.rf.51bb1a0bd4cc2a597af7c761c96954ff.txt  \n",
            "  inflating: train/labels/Captura-de-pantalla-315-_png.rf.a34704eda0d3f9ce9bc5789ffa4c951b.txt  \n",
            "  inflating: train/labels/Captura-de-pantalla-316-_png.rf.0b95ae92f923911b252cc76f4c6e44dc.txt  \n",
            "  inflating: train/labels/Captura-de-pantalla-316-_png.rf.1724913e9480b9f0fca84e9d62a64671.txt  \n",
            "  inflating: train/labels/Captura-de-pantalla-316-_png.rf.8df98e5bbdedb0d9381650d38b23fb47.txt  \n",
            "  inflating: train/labels/Captura-de-pantalla-317-_png.rf.4f9fd6f580ccc160b5ed573445087324.txt  \n",
            "  inflating: train/labels/Captura-de-pantalla-317-_png.rf.67005f92a25fe068208ebf721b254c8d.txt  \n",
            "  inflating: train/labels/Captura-de-pantalla-317-_png.rf.eb21ed26d46988e10c11fa95d5f44f87.txt  \n",
            "  inflating: train/labels/Captura-de-pantalla-318-_png.rf.1aedc9974045324defb052d9680e497b.txt  \n",
            "  inflating: train/labels/Captura-de-pantalla-318-_png.rf.4d357f4352202b2b60f884363c14b71b.txt  \n",
            "  inflating: train/labels/Captura-de-pantalla-318-_png.rf.dcb872d8cbec0feee10499d322f94303.txt  \n",
            "  inflating: train/labels/Captura-de-pantalla-319-_png.rf.33b8fb615aac798a2f621ae22db76717.txt  \n",
            "  inflating: train/labels/Captura-de-pantalla-319-_png.rf.4b8fbe0056b49c7e9b42d659722ffc6c.txt  \n",
            "  inflating: train/labels/Captura-de-pantalla-319-_png.rf.dcf09511f244cbb55d917d4b8d8a2f3e.txt  \n",
            "  inflating: train/labels/Captura-de-pantalla-32-_png.rf.43270fe3167555d69cc61401d1056745.txt  \n",
            "  inflating: train/labels/Captura-de-pantalla-32-_png.rf.7b7e25fdee8efcbc4ae75fd3d21b6bfe.txt  \n",
            "  inflating: train/labels/Captura-de-pantalla-32-_png.rf.82ea4c5243a57dd769d22e9891311b43.txt  \n",
            "  inflating: train/labels/Captura-de-pantalla-320-_png.rf.28729c015f2781294ceedd1c2f18c1cf.txt  \n",
            "  inflating: train/labels/Captura-de-pantalla-320-_png.rf.2be1d732f2df76cc9ab4758e3864c5ac.txt  \n",
            "  inflating: train/labels/Captura-de-pantalla-320-_png.rf.3e6db4ff8cefbbf2b17c822f1309f4e4.txt  \n",
            "  inflating: train/labels/Captura-de-pantalla-321-_png.rf.884d8beb29c52ecfc36fabebbcfd75f6.txt  \n",
            "  inflating: train/labels/Captura-de-pantalla-321-_png.rf.9a9208832491ed327406995c899bae63.txt  \n",
            "  inflating: train/labels/Captura-de-pantalla-321-_png.rf.d9e39b3758c792012f7e4c6b04e103cb.txt  \n",
            "  inflating: train/labels/Captura-de-pantalla-322-_png.rf.0cbb66a74cefc9e0b6d6cbaae45bfaf7.txt  \n",
            "  inflating: train/labels/Captura-de-pantalla-322-_png.rf.8fd1e70ceab8278f3eebf999fe7c9083.txt  \n",
            "  inflating: train/labels/Captura-de-pantalla-322-_png.rf.e4e6bfd27bdabc297461505b89656373.txt  \n",
            "  inflating: train/labels/Captura-de-pantalla-323-_png.rf.01ae617ea89fef1c1e1b8d61b251bdce.txt  \n",
            "  inflating: train/labels/Captura-de-pantalla-323-_png.rf.2843b43c632f97165a5696b4828ea79c.txt  \n",
            "  inflating: train/labels/Captura-de-pantalla-323-_png.rf.e43a064e16305acd290bf35b6260d6fd.txt  \n",
            "  inflating: train/labels/Captura-de-pantalla-324-_png.rf.3c446c11fddab5d37522f1e621dce4a9.txt  \n",
            "  inflating: train/labels/Captura-de-pantalla-324-_png.rf.6d8569484e60bcb2187d4b1e6d93150f.txt  \n",
            "  inflating: train/labels/Captura-de-pantalla-324-_png.rf.8b6418f1447c28045d9b108452c893e1.txt  \n",
            "  inflating: train/labels/Captura-de-pantalla-325-_png.rf.52de954da27e286c531c5088c66308a7.txt  \n",
            "  inflating: train/labels/Captura-de-pantalla-325-_png.rf.acabcbf382971694ea367bc9a3264f10.txt  \n",
            "  inflating: train/labels/Captura-de-pantalla-325-_png.rf.c13e7da3918d37b393cb19b113e40e69.txt  \n",
            "  inflating: train/labels/Captura-de-pantalla-326-_png.rf.4c6fdfc4e2be1503328afefd0ee5ad9b.txt  \n",
            "  inflating: train/labels/Captura-de-pantalla-326-_png.rf.80bcd503ce2c14c2c1a4748b02a2df81.txt  \n",
            "  inflating: train/labels/Captura-de-pantalla-326-_png.rf.a347ec0b51906a2b015c5f94faa16285.txt  \n",
            "  inflating: train/labels/Captura-de-pantalla-327-_png.rf.6a4ef226a291a3adec8c80d6914f4f68.txt  \n",
            "  inflating: train/labels/Captura-de-pantalla-327-_png.rf.7b1ff5103361887f219274119203b9db.txt  \n",
            "  inflating: train/labels/Captura-de-pantalla-327-_png.rf.d8df74650742579393db15acf9fba592.txt  \n",
            "  inflating: train/labels/Captura-de-pantalla-328-_png.rf.2cf57d5ef13b66afc0d01a3026f790b4.txt  \n",
            "  inflating: train/labels/Captura-de-pantalla-328-_png.rf.38e9b85c0f1e40b3f9f72435a52ec783.txt  \n",
            "  inflating: train/labels/Captura-de-pantalla-328-_png.rf.d33c34bc4cf117f254e2cd7eb684433c.txt  \n",
            "  inflating: train/labels/Captura-de-pantalla-329-_png.rf.718f62f29b444392770457d87cddc745.txt  \n",
            "  inflating: train/labels/Captura-de-pantalla-329-_png.rf.76123434f4c40c810c52a8799f7b21f3.txt  \n",
            "  inflating: train/labels/Captura-de-pantalla-329-_png.rf.90f9f8b4a08c97ce5dea715cc9ebaa3a.txt  \n",
            "  inflating: train/labels/Captura-de-pantalla-330-_png.rf.3196dc68c0784c3339927f372b6eca3d.txt  \n",
            "  inflating: train/labels/Captura-de-pantalla-330-_png.rf.4b0315705a0422a7cbe55f657100e7ff.txt  \n",
            "  inflating: train/labels/Captura-de-pantalla-330-_png.rf.6d29ab98d7b97ff8f96e787dae91e868.txt  \n",
            "  inflating: train/labels/Captura-de-pantalla-331-_png.rf.b17b074192ab4c4d0361e80b4fd16ef8.txt  \n",
            "  inflating: train/labels/Captura-de-pantalla-331-_png.rf.f52a500fbf86924b723dcc452f23f9cd.txt  \n",
            "  inflating: train/labels/Captura-de-pantalla-331-_png.rf.f80909d3e306b0c871691278a44fe761.txt  \n",
            "  inflating: train/labels/Captura-de-pantalla-332-_png.rf.043c8014bbe114df8c3bfbf1e294e255.txt  \n",
            "  inflating: train/labels/Captura-de-pantalla-332-_png.rf.309fa831cc770d302cbd33d4ca19fdff.txt  \n",
            "  inflating: train/labels/Captura-de-pantalla-332-_png.rf.a7a73078904594cceb758e9c61a84672.txt  \n",
            "  inflating: train/labels/Captura-de-pantalla-333-_png.rf.6f21d993a02cd4af12b6025443c6d3bd.txt  \n",
            "  inflating: train/labels/Captura-de-pantalla-333-_png.rf.ad2da26c16a155761aad216548a4821c.txt  \n",
            "  inflating: train/labels/Captura-de-pantalla-333-_png.rf.c75a22dd7809d0966d0fe0c31828a6d1.txt  \n",
            "  inflating: train/labels/Captura-de-pantalla-335-_png.rf.700954bce878b6511665418b90498636.txt  \n",
            "  inflating: train/labels/Captura-de-pantalla-335-_png.rf.87d36b19e1575d9efb412fed53c7a35a.txt  \n",
            "  inflating: train/labels/Captura-de-pantalla-335-_png.rf.b7d7e1343eb877f084e3e41f0162acca.txt  \n",
            "  inflating: train/labels/Captura-de-pantalla-336-_png.rf.127dce2c01254a895a2f469f078b52ce.txt  \n",
            "  inflating: train/labels/Captura-de-pantalla-336-_png.rf.852e134bdf5353fbed4ec87a2ec9a9b5.txt  \n",
            "  inflating: train/labels/Captura-de-pantalla-336-_png.rf.c62f18672d99ea8a1076a5ae10a62e62.txt  \n",
            "  inflating: train/labels/Captura-de-pantalla-337-_png.rf.600e60c1cc30b31410c70043e8398528.txt  \n",
            "  inflating: train/labels/Captura-de-pantalla-337-_png.rf.d93544ec6472fbd5ad9b15207d3b0a48.txt  \n",
            "  inflating: train/labels/Captura-de-pantalla-337-_png.rf.fec725c8855c8c7b7e3e234b14e361fb.txt  \n",
            "  inflating: train/labels/Captura-de-pantalla-338-_png.rf.45421fb9bfb80627e13b7dbf883ec68f.txt  \n",
            "  inflating: train/labels/Captura-de-pantalla-338-_png.rf.b9b7d9688be81d5bb06a07b51eaf5500.txt  \n",
            "  inflating: train/labels/Captura-de-pantalla-338-_png.rf.c4419987ac77c18900141a137280227d.txt  \n",
            "  inflating: train/labels/Captura-de-pantalla-339-_png.rf.26f3356f5388e18a40a61f3f52123052.txt  \n",
            "  inflating: train/labels/Captura-de-pantalla-339-_png.rf.33435eb9eeccd349f9a5dfadcc8dd4d3.txt  \n",
            "  inflating: train/labels/Captura-de-pantalla-339-_png.rf.7666f3851888fd997fbafa8c231b9425.txt  \n",
            "  inflating: train/labels/Captura-de-pantalla-340-_png.rf.3d674702b19c690ffe03f0c7fc966a51.txt  \n",
            "  inflating: train/labels/Captura-de-pantalla-340-_png.rf.467d84d0f36bff4d4ff16378e508c71f.txt  \n",
            "  inflating: train/labels/Captura-de-pantalla-340-_png.rf.ecca68edb76972fdab30d01e417dd8b0.txt  \n",
            "  inflating: train/labels/Captura-de-pantalla-341-_png.rf.4fc8f10499069ce9efdfbdc5ee6aff22.txt  \n",
            "  inflating: train/labels/Captura-de-pantalla-341-_png.rf.7718573950f570fba8eefc135c0d0ca2.txt  \n",
            "  inflating: train/labels/Captura-de-pantalla-341-_png.rf.a785a92b546e16a8c475642ab22f87ce.txt  \n",
            "  inflating: train/labels/Captura-de-pantalla-342-_png.rf.6b4545cc29fba2a958aa2dad74915d6e.txt  \n",
            "  inflating: train/labels/Captura-de-pantalla-342-_png.rf.96818e758d4aa304e36ca2c224f9214d.txt  \n",
            "  inflating: train/labels/Captura-de-pantalla-342-_png.rf.b99a8f2e68d0729dd3a8252c9c3a6ecb.txt  \n",
            "  inflating: train/labels/Captura-de-pantalla-343-_png.rf.3e94afae1651252a55aeec9dcc18d080.txt  \n",
            "  inflating: train/labels/Captura-de-pantalla-343-_png.rf.b4f6e8b5d7b80564cbd6854434591334.txt  \n",
            "  inflating: train/labels/Captura-de-pantalla-343-_png.rf.c9a75bf28cc12d9050315a3b3b62accd.txt  \n",
            "  inflating: train/labels/Captura-de-pantalla-344-_png.rf.79f566725597d67995ffe337d6d23424.txt  \n",
            "  inflating: train/labels/Captura-de-pantalla-344-_png.rf.855aea118e54cd7002eafc6086b0ddaf.txt  \n",
            "  inflating: train/labels/Captura-de-pantalla-344-_png.rf.e95f555a2da7c6a8dfc79975db4067a0.txt  \n",
            "  inflating: train/labels/Captura-de-pantalla-345-_png.rf.7773d86323aa805ce0c5c1a002c98bb9.txt  \n",
            "  inflating: train/labels/Captura-de-pantalla-345-_png.rf.94f9a1c88e2c8732af83f047880bf398.txt  \n",
            "  inflating: train/labels/Captura-de-pantalla-345-_png.rf.d79e08f5d191c0b10db090fdaad0c7fc.txt  \n",
            "  inflating: train/labels/Captura-de-pantalla-346-_png.rf.5fdefe4ba5eed1a18ab9442079d7ef50.txt  \n",
            "  inflating: train/labels/Captura-de-pantalla-346-_png.rf.b7b0b332cb9c76b8dc4c420a6e22d82e.txt  \n",
            "  inflating: train/labels/Captura-de-pantalla-346-_png.rf.daef1ef5dd678676bb25aa9e405a5982.txt  \n",
            "  inflating: train/labels/Captura-de-pantalla-347-_png.rf.03b6a249c59289e4741af04c15ce607d.txt  \n",
            "  inflating: train/labels/Captura-de-pantalla-347-_png.rf.ce76c92aa004121fdd220b1091ab6cd4.txt  \n",
            "  inflating: train/labels/Captura-de-pantalla-347-_png.rf.f626df947c5e460b9d5bb0b121409d59.txt  \n",
            "  inflating: train/labels/Captura-de-pantalla-348-_png.rf.568ddcb6f4488b18baa0642a03c87ab3.txt  \n",
            "  inflating: train/labels/Captura-de-pantalla-348-_png.rf.7d20dd8ad631e3694f996a9bd2670432.txt  \n",
            "  inflating: train/labels/Captura-de-pantalla-348-_png.rf.e981ccb7145f3a3ac545d17054fed25b.txt  \n",
            "  inflating: train/labels/Captura-de-pantalla-349-_png.rf.2bceb3faf21dab3b6eb86e2ef4c75c9e.txt  \n",
            "  inflating: train/labels/Captura-de-pantalla-349-_png.rf.f8570ad009c35203a284e78ee117e1a1.txt  \n",
            "  inflating: train/labels/Captura-de-pantalla-349-_png.rf.fabf762289844d32b5bcee73be99b6e9.txt  \n",
            "  inflating: train/labels/Captura-de-pantalla-35-_png.rf.28faadba229cbdd56483d96f9f0ac421.txt  \n",
            "  inflating: train/labels/Captura-de-pantalla-35-_png.rf.94625524fd894536b473cde4c69f65ec.txt  \n",
            "  inflating: train/labels/Captura-de-pantalla-35-_png.rf.f4edd1ae0750e0f274142ddde383343e.txt  \n",
            "  inflating: train/labels/Captura-de-pantalla-350-_png.rf.82f8671d464f71af2730561adfa3ba99.txt  \n",
            "  inflating: train/labels/Captura-de-pantalla-350-_png.rf.87b990c486656c1a396720f19a17e5a7.txt  \n",
            "  inflating: train/labels/Captura-de-pantalla-350-_png.rf.b104708905c05d70280ebf25579804e2.txt  \n",
            "  inflating: train/labels/Captura-de-pantalla-351-_png.rf.22bb3ee6d1ded81351d1ed090b6d6629.txt  \n",
            "  inflating: train/labels/Captura-de-pantalla-351-_png.rf.8ada8e2567878072301cc76dd051a265.txt  \n",
            "  inflating: train/labels/Captura-de-pantalla-351-_png.rf.e24dd0608da6715d9fe052c87ec39633.txt  \n",
            "  inflating: train/labels/Captura-de-pantalla-352-_png.rf.d138defbc795f9c0163ea58db99b5576.txt  \n",
            "  inflating: train/labels/Captura-de-pantalla-352-_png.rf.d697befa58f1b0c7e4b1fb5e21c8453f.txt  \n",
            "  inflating: train/labels/Captura-de-pantalla-352-_png.rf.e76e828f2977945e401b10fdd119da87.txt  \n",
            "  inflating: train/labels/Captura-de-pantalla-353-_png.rf.0cf1f77f61f21926d6ff2928b5a0db4a.txt  \n",
            "  inflating: train/labels/Captura-de-pantalla-353-_png.rf.e412afb587ea563dd162d884353b8f1c.txt  \n",
            "  inflating: train/labels/Captura-de-pantalla-353-_png.rf.ebb8f0a3e1ee66c823e251c5695c868f.txt  \n",
            "  inflating: train/labels/Captura-de-pantalla-354-_png.rf.4d18b7872e92aa3cb1e9c2160ab663b5.txt  \n",
            "  inflating: train/labels/Captura-de-pantalla-354-_png.rf.81c43fec38028f6588dc158d819c3494.txt  \n",
            "  inflating: train/labels/Captura-de-pantalla-354-_png.rf.8ca6febf6bd468b3461463e8d1ec7295.txt  \n",
            "  inflating: train/labels/Captura-de-pantalla-355-_png.rf.a6a1ce5b356a78c485da30f1b68b0671.txt  \n",
            "  inflating: train/labels/Captura-de-pantalla-355-_png.rf.ac7c99f86f94d8f0e8e12217261509e8.txt  \n",
            "  inflating: train/labels/Captura-de-pantalla-355-_png.rf.c1cfe4ab8ef7f0e139c7210345e41cba.txt  \n",
            "  inflating: train/labels/Captura-de-pantalla-356-_png.rf.b392b354e4722b16805ef6768ffbed38.txt  \n",
            "  inflating: train/labels/Captura-de-pantalla-356-_png.rf.bfecd9a0f81924a3cb80408a14d65b4c.txt  \n",
            "  inflating: train/labels/Captura-de-pantalla-356-_png.rf.d15ae95fc20996a038934d9cbc62d1a5.txt  \n",
            "  inflating: train/labels/Captura-de-pantalla-357-_png.rf.378bafc3985580e415baaf1261b0a6d5.txt  \n",
            "  inflating: train/labels/Captura-de-pantalla-357-_png.rf.7687fdd32a14c278eb9fc838739c7d63.txt  \n",
            "  inflating: train/labels/Captura-de-pantalla-357-_png.rf.efac836822ec628c078e109e5d3fd305.txt  \n",
            "  inflating: train/labels/Captura-de-pantalla-358-_png.rf.3cdfcfdcc8b400ce35dabc5b8397c0f1.txt  \n",
            "  inflating: train/labels/Captura-de-pantalla-358-_png.rf.6fc7b36c0d0f1b8129c1717ff43ac86c.txt  \n",
            "  inflating: train/labels/Captura-de-pantalla-358-_png.rf.e3e415e39e6a1c090b5365a3f202d4a2.txt  \n",
            "  inflating: train/labels/Captura-de-pantalla-359-_png.rf.50a667aec56a8cd870770916ed8f96cf.txt  \n",
            "  inflating: train/labels/Captura-de-pantalla-359-_png.rf.5ae570afa0ee9120c926a6b3dc56eb13.txt  \n",
            "  inflating: train/labels/Captura-de-pantalla-359-_png.rf.d3466fc7349d216bfc3e01560fb6ebca.txt  \n",
            "  inflating: train/labels/Captura-de-pantalla-36-_png.rf.1ad249012efffcdd2f3db23eeeb5b90b.txt  \n",
            "  inflating: train/labels/Captura-de-pantalla-36-_png.rf.b307d560a35c905b0904a3eea2100021.txt  \n",
            "  inflating: train/labels/Captura-de-pantalla-36-_png.rf.d90b4462d8248ce418dd2f3093428504.txt  \n",
            "  inflating: train/labels/Captura-de-pantalla-360-_png.rf.13f60abf61ab0c1998f652461b08907b.txt  \n",
            "  inflating: train/labels/Captura-de-pantalla-360-_png.rf.6f004d83cf4a8adb09c97c27002ee2ea.txt  \n",
            "  inflating: train/labels/Captura-de-pantalla-360-_png.rf.98710f1f23d6f498c5277a03e9de5d68.txt  \n",
            "  inflating: train/labels/Captura-de-pantalla-367-_png.rf.00589a3e03c21e8ddefcfb2421663ff2.txt  \n",
            "  inflating: train/labels/Captura-de-pantalla-367-_png.rf.36227ccda82978f0063b729b638843e8.txt  \n",
            "  inflating: train/labels/Captura-de-pantalla-367-_png.rf.5a32615db10f109fe3eea9e1c202e180.txt  \n",
            "  inflating: train/labels/Captura-de-pantalla-37-_png.rf.1bee8ad58fc3ad786efaa4dd991e653d.txt  \n",
            "  inflating: train/labels/Captura-de-pantalla-37-_png.rf.291504707bff152f602cde1505a99af7.txt  \n",
            "  inflating: train/labels/Captura-de-pantalla-37-_png.rf.edbca85174d8679e6c3e1bc41f86ebe8.txt  \n",
            "  inflating: train/labels/Captura-de-pantalla-371-_png.rf.6c8c7b436c8a08d330aa4451d33bbaed.txt  \n",
            "  inflating: train/labels/Captura-de-pantalla-371-_png.rf.df87c8dcfba79b44ae46c4404c3d4ec8.txt  \n",
            "  inflating: train/labels/Captura-de-pantalla-371-_png.rf.f2e7f971abcaee284fce45fd8b1031b3.txt  \n",
            "  inflating: train/labels/Captura-de-pantalla-372-_png.rf.27d1b251d71aa0d8f9009ecdfaf8dc6f.txt  \n",
            "  inflating: train/labels/Captura-de-pantalla-372-_png.rf.456f66cd8b0000d4287a7a2fc4cf42df.txt  \n",
            "  inflating: train/labels/Captura-de-pantalla-372-_png.rf.67febe2c83248ab07ec39f7d7cb7da29.txt  \n",
            "  inflating: train/labels/Captura-de-pantalla-373-_png.rf.325aea7ab4fe13642ff5e6e235e4befa.txt  \n",
            "  inflating: train/labels/Captura-de-pantalla-373-_png.rf.7697d8d84f97d88ebedb8d7bc4dd4157.txt  \n",
            "  inflating: train/labels/Captura-de-pantalla-373-_png.rf.b268bd2e2b612582416c2d276081c970.txt  \n",
            "  inflating: train/labels/Captura-de-pantalla-374-_png.rf.50990fae86566c0aaa32105ebb3b9b8f.txt  \n",
            "  inflating: train/labels/Captura-de-pantalla-374-_png.rf.50fbf75425906391514f731f404b1092.txt  \n",
            "  inflating: train/labels/Captura-de-pantalla-374-_png.rf.64414c1cca320c4f47de17d675bfccfe.txt  \n",
            "  inflating: train/labels/Captura-de-pantalla-375-_png.rf.1c1d4a103ea4db2dc0cfa19ca297d8ea.txt  \n",
            "  inflating: train/labels/Captura-de-pantalla-375-_png.rf.43c90bd117767ddfe64e5bbbe2d4bf97.txt  \n",
            "  inflating: train/labels/Captura-de-pantalla-375-_png.rf.87cbde40242de1b7a433d69d4dcac614.txt  \n",
            "  inflating: train/labels/Captura-de-pantalla-376-_png.rf.656f8f089584eb294a2b04c367e2bf3c.txt  \n",
            "  inflating: train/labels/Captura-de-pantalla-376-_png.rf.c5162b683eea327fe74b72419bafbc86.txt  \n",
            "  inflating: train/labels/Captura-de-pantalla-376-_png.rf.ddb1892fc56c4399f11c6493fd375b96.txt  \n",
            "  inflating: train/labels/Captura-de-pantalla-377-_png.rf.64ff542f47a6251cfc7aa37179560790.txt  \n",
            "  inflating: train/labels/Captura-de-pantalla-377-_png.rf.68c5a397b5834ab0479c3ad0433af39b.txt  \n",
            "  inflating: train/labels/Captura-de-pantalla-377-_png.rf.f42a9ec17dd2a4e03ff9163f4ef99096.txt  \n",
            "  inflating: train/labels/Captura-de-pantalla-379-_png.rf.1e2a79d26a61bc7394dcb0b92ca94e65.txt  \n",
            "  inflating: train/labels/Captura-de-pantalla-379-_png.rf.511cb2ddf298899b2c160d709e941722.txt  \n",
            "  inflating: train/labels/Captura-de-pantalla-379-_png.rf.62350a5c91c1921827b1a7b9111ffca6.txt  \n",
            "  inflating: train/labels/Captura-de-pantalla-38-_png.rf.8523452d14b79eeadee2b9cfa92ef9b8.txt  \n",
            "  inflating: train/labels/Captura-de-pantalla-38-_png.rf.b00adfcbac8a63d27821d94b847759ca.txt  \n",
            "  inflating: train/labels/Captura-de-pantalla-38-_png.rf.c0e6106698fd1d53788ca5634f5cd819.txt  \n",
            "  inflating: train/labels/Captura-de-pantalla-380-_png.rf.6280ae5878e600b2b96df14d8531b752.txt  \n",
            "  inflating: train/labels/Captura-de-pantalla-380-_png.rf.bf8c4d14fc52399dfdb35f8badef6e9c.txt  \n",
            "  inflating: train/labels/Captura-de-pantalla-380-_png.rf.c7e142ad9a9c123b41a96f523f837d23.txt  \n",
            "  inflating: train/labels/Captura-de-pantalla-383-_png.rf.4a37d313440b89d926a95242aef31862.txt  \n",
            "  inflating: train/labels/Captura-de-pantalla-383-_png.rf.e37984609ee59360f5002fd2f523622b.txt  \n",
            "  inflating: train/labels/Captura-de-pantalla-383-_png.rf.e57173409fe563bbe43440950892d617.txt  \n",
            "  inflating: train/labels/Captura-de-pantalla-384-_png.rf.1205742bbafd76646468ce86dbed67ee.txt  \n",
            "  inflating: train/labels/Captura-de-pantalla-384-_png.rf.446f60636bd029e11b8724c764547104.txt  \n",
            "  inflating: train/labels/Captura-de-pantalla-384-_png.rf.a02fa7af53dc74e3a46ae7542cff1932.txt  \n",
            "  inflating: train/labels/Captura-de-pantalla-385-_png.rf.03a89d6307c8a500bc4382e27068bc53.txt  \n",
            "  inflating: train/labels/Captura-de-pantalla-385-_png.rf.58c41e40e67d0593246c28adc283db39.txt  \n",
            "  inflating: train/labels/Captura-de-pantalla-385-_png.rf.66f25a4048a6aa74bc95c27117272105.txt  \n",
            "  inflating: train/labels/Captura-de-pantalla-387-_png.rf.8b3801b9326af29e3e23a284bbd09307.txt  \n",
            "  inflating: train/labels/Captura-de-pantalla-387-_png.rf.9caf45bb2d35bfe10562358708bf2351.txt  \n",
            "  inflating: train/labels/Captura-de-pantalla-387-_png.rf.cc5b1067015e5c39f153e5e1b2c698b9.txt  \n",
            "  inflating: train/labels/Captura-de-pantalla-388-_png.rf.74149437a36b31f4dac5256db5b7d4e4.txt  \n",
            "  inflating: train/labels/Captura-de-pantalla-388-_png.rf.75937f49574ae7e000500f71cb562c4e.txt  \n",
            "  inflating: train/labels/Captura-de-pantalla-388-_png.rf.8e8619560d308b2b8a784c9875cf17c3.txt  \n",
            "  inflating: train/labels/Captura-de-pantalla-39-_png.rf.51dd2d66b1090d15bb26826eed9016ff.txt  \n",
            "  inflating: train/labels/Captura-de-pantalla-39-_png.rf.6c17e5d76fdb8fd9eb3b53762a60dc94.txt  \n",
            "  inflating: train/labels/Captura-de-pantalla-39-_png.rf.92dfc6c95cbcb18658113ef6b7e3048d.txt  \n",
            "  inflating: train/labels/Captura-de-pantalla-390-_png.rf.557c148c0174d10e417b4830da9dcce7.txt  \n",
            "  inflating: train/labels/Captura-de-pantalla-390-_png.rf.6ce0240dddba2b9c2d7e000f11899152.txt  \n",
            "  inflating: train/labels/Captura-de-pantalla-390-_png.rf.894e8553216a1bd52b5911a9b4bb5dac.txt  \n",
            "  inflating: train/labels/Captura-de-pantalla-391-_png.rf.32fdeb3d1e6a18ad2178614f4d9030cc.txt  \n",
            "  inflating: train/labels/Captura-de-pantalla-391-_png.rf.5f4590932d00ba13b9eee7fb15317065.txt  \n",
            "  inflating: train/labels/Captura-de-pantalla-391-_png.rf.e46b18b6772c43659a92a5207d51a9ac.txt  \n",
            "  inflating: train/labels/Captura-de-pantalla-393-_png.rf.0425825f8358afa16dcba950af2d11c0.txt  \n",
            "  inflating: train/labels/Captura-de-pantalla-393-_png.rf.0c644a0684f8a10bcc4180c316537648.txt  \n",
            "  inflating: train/labels/Captura-de-pantalla-393-_png.rf.af111c011108a782e646d7c409e2014f.txt  \n",
            "  inflating: train/labels/Captura-de-pantalla-394-_png.rf.3640ad47d8092bae7eed93d8e062787e.txt  \n",
            "  inflating: train/labels/Captura-de-pantalla-394-_png.rf.753eb907ead28728c40db55e6e3e14f8.txt  \n",
            "  inflating: train/labels/Captura-de-pantalla-394-_png.rf.ef40efb689bfcc2c73a11b8973b17a40.txt  \n",
            "  inflating: train/labels/Captura-de-pantalla-395-_png.rf.09795e6fe287188edbf36a63b7eab0fc.txt  \n",
            "  inflating: train/labels/Captura-de-pantalla-395-_png.rf.22291320a0893e5ebbcb90ae6dc90c86.txt  \n",
            "  inflating: train/labels/Captura-de-pantalla-395-_png.rf.62be7318ebbe86a4515950494b257ff0.txt  \n",
            "  inflating: train/labels/Captura-de-pantalla-397-_png.rf.6e2de02412416e1586b471b0fc314f8d.txt  \n",
            "  inflating: train/labels/Captura-de-pantalla-397-_png.rf.6f316ed86505fd3a33cc84a362d8ee54.txt  \n",
            "  inflating: train/labels/Captura-de-pantalla-397-_png.rf.be9f38a58e763e672613378c24f3030f.txt  \n",
            "  inflating: train/labels/Captura-de-pantalla-398-_png.rf.0a4ba1594ac1fb1997f700dc3429c558.txt  \n",
            "  inflating: train/labels/Captura-de-pantalla-398-_png.rf.1e78b4f4699813ca4342bddf8f23766c.txt  \n",
            "  inflating: train/labels/Captura-de-pantalla-398-_png.rf.6b08f40f1f2d20bff9d319ccda10b30e.txt  \n",
            "  inflating: train/labels/Captura-de-pantalla-399-_png.rf.96c7cf3990265d3dfaa1d8e1604f5296.txt  \n",
            "  inflating: train/labels/Captura-de-pantalla-399-_png.rf.a71a5067608901dc770936c40b79ec06.txt  \n",
            "  inflating: train/labels/Captura-de-pantalla-399-_png.rf.a8e7c98eef6b29fd00b6025e64a4f955.txt  \n",
            "  inflating: train/labels/Captura-de-pantalla-40-_png.rf.a1e694f7ecbfaaaab3806aa4046721dd.txt  \n",
            "  inflating: train/labels/Captura-de-pantalla-40-_png.rf.aef341602bfd483ec314b6546c2561e2.txt  \n",
            "  inflating: train/labels/Captura-de-pantalla-40-_png.rf.c9e483360618452d050389e4a063b475.txt  \n",
            "  inflating: train/labels/Captura-de-pantalla-400-_png.rf.1dc336481c5436a5ce927b33ba93466e.txt  \n",
            "  inflating: train/labels/Captura-de-pantalla-400-_png.rf.3662d3df79dd83c7f21b5aba408c5550.txt  \n",
            "  inflating: train/labels/Captura-de-pantalla-400-_png.rf.900a8d64e7ab084dfd2ac9fe82ad9320.txt  \n",
            "  inflating: train/labels/Captura-de-pantalla-402-_png.rf.0a992a960d45acc0a68a3949ea450ee5.txt  \n",
            "  inflating: train/labels/Captura-de-pantalla-402-_png.rf.1da5dd57d36bd4a003b6eb57322ed189.txt  \n",
            "  inflating: train/labels/Captura-de-pantalla-402-_png.rf.cf0db62d6deb06afc6865c23d5c66e2c.txt  \n",
            "  inflating: train/labels/Captura-de-pantalla-403-_png.rf.8f23119565f3499d4f2f6eed38bd5c4e.txt  \n",
            "  inflating: train/labels/Captura-de-pantalla-403-_png.rf.a183925a67f63023123f8d08be8160fe.txt  \n",
            "  inflating: train/labels/Captura-de-pantalla-403-_png.rf.ac32bd972b32b29a0bc1fdec2839c850.txt  \n",
            "  inflating: train/labels/Captura-de-pantalla-404-_png.rf.2ad437faf1d718378af2089f2b49971e.txt  \n",
            "  inflating: train/labels/Captura-de-pantalla-404-_png.rf.3739cf705db3744c11834fbde85e8ba7.txt  \n",
            "  inflating: train/labels/Captura-de-pantalla-404-_png.rf.cafd3c2a9f605af36a9ec028922fe838.txt  \n",
            "  inflating: train/labels/Captura-de-pantalla-405-_png.rf.b08f1b60418c2bcab408d97dd27e1997.txt  \n",
            "  inflating: train/labels/Captura-de-pantalla-405-_png.rf.d18337aad65228e1f3d7ed6315fd1e4d.txt  \n",
            "  inflating: train/labels/Captura-de-pantalla-405-_png.rf.f280706e984ef903191ac1552a39eaeb.txt  \n",
            "  inflating: train/labels/Captura-de-pantalla-406-_png.rf.3b3c818da259b1cb88ff979de8098506.txt  \n",
            "  inflating: train/labels/Captura-de-pantalla-406-_png.rf.3c393e823e349d27333c57b087687689.txt  \n",
            "  inflating: train/labels/Captura-de-pantalla-406-_png.rf.fe167d6bdb08262be6ebfbe7580f41bb.txt  \n",
            "  inflating: train/labels/Captura-de-pantalla-408-_png.rf.0e832c571b91f25034191468da450bd8.txt  \n",
            "  inflating: train/labels/Captura-de-pantalla-408-_png.rf.38dd0e6877dfcdf62b4f84feb7060aac.txt  \n",
            "  inflating: train/labels/Captura-de-pantalla-408-_png.rf.3bc59c2fa71792bcb38f7658620f021f.txt  \n",
            "  inflating: train/labels/Captura-de-pantalla-41-_png.rf.060fbb11ae3a523fb70dd08b6cafe383.txt  \n",
            "  inflating: train/labels/Captura-de-pantalla-41-_png.rf.8390acf23aa3bb1d8ded7cf9a23f7d00.txt  \n",
            "  inflating: train/labels/Captura-de-pantalla-41-_png.rf.e5c39160348cf7fb6cdbd383bdf3a9ed.txt  \n",
            "  inflating: train/labels/Captura-de-pantalla-410-_png.rf.3c2dd5f48b3e438370cce8588c8f8a1c.txt  \n",
            "  inflating: train/labels/Captura-de-pantalla-410-_png.rf.4254e1faca08be87bfa7af39dede9bb8.txt  \n",
            "  inflating: train/labels/Captura-de-pantalla-410-_png.rf.4f0fb50b3b093a0eb91215c426c648ae.txt  \n",
            "  inflating: train/labels/Captura-de-pantalla-411-_png.rf.169db9a05136060a9d0a2c7823f4072a.txt  \n",
            "  inflating: train/labels/Captura-de-pantalla-411-_png.rf.35be50a2090b12a871646d89c2606c15.txt  \n",
            "  inflating: train/labels/Captura-de-pantalla-411-_png.rf.711504053aea074c8e1dd2db16147cc5.txt  \n",
            "  inflating: train/labels/Captura-de-pantalla-412-_png.rf.480ea9aaaddf340f439231f4db13ce91.txt  \n",
            "  inflating: train/labels/Captura-de-pantalla-412-_png.rf.6d332709caeeb9f56019c2abc4b2af1a.txt  \n",
            "  inflating: train/labels/Captura-de-pantalla-412-_png.rf.d57b5ab6f99522eab6a0898ac184546c.txt  \n",
            "  inflating: train/labels/Captura-de-pantalla-413-_png.rf.784773a734c2a8daf5308a39f9f56cdd.txt  \n",
            "  inflating: train/labels/Captura-de-pantalla-413-_png.rf.ae0d5b78795aa6e37c9858e733d1a0ac.txt  \n",
            "  inflating: train/labels/Captura-de-pantalla-413-_png.rf.d0080bd42cf3f79e070ec557913f3947.txt  \n",
            "  inflating: train/labels/Captura-de-pantalla-415-_png.rf.2281799b0aad56e7f1c7f35985aeaaf2.txt  \n",
            "  inflating: train/labels/Captura-de-pantalla-415-_png.rf.2cf17d0fcc87b51ef438f575c73de40c.txt  \n",
            "  inflating: train/labels/Captura-de-pantalla-415-_png.rf.8f3a93b3028a44a5d6e46214bc8edcad.txt  \n",
            "  inflating: train/labels/Captura-de-pantalla-418-_png.rf.0bbadb4bc2b10b1667eb2809dfd6f61f.txt  \n",
            "  inflating: train/labels/Captura-de-pantalla-418-_png.rf.3db96b451bea95f70ed5cb392e7a566d.txt  \n",
            "  inflating: train/labels/Captura-de-pantalla-418-_png.rf.d67b61fa7f16ab0d6bbd000fa6706b04.txt  \n",
            "  inflating: train/labels/Captura-de-pantalla-419-_png.rf.39b2b23f5c4b749f9de7760ab1692a9e.txt  \n",
            "  inflating: train/labels/Captura-de-pantalla-419-_png.rf.a77ae63f1a9c080d828ec8ca049c415b.txt  \n",
            "  inflating: train/labels/Captura-de-pantalla-419-_png.rf.ddd1841207f14e1b852f148f3ef1665c.txt  \n",
            "  inflating: train/labels/Captura-de-pantalla-420-_png.rf.32e87ce5eb7c02eb55df2631ce8786f9.txt  \n",
            "  inflating: train/labels/Captura-de-pantalla-420-_png.rf.43d5782a2e4508708f6a0a5d07259d5f.txt  \n",
            "  inflating: train/labels/Captura-de-pantalla-420-_png.rf.d4a3c5c82c0d6f5608f0fb138fc2ab7e.txt  \n",
            "  inflating: train/labels/Captura-de-pantalla-423-_png.rf.175b4b35c82d07ad5846de60d252988b.txt  \n",
            "  inflating: train/labels/Captura-de-pantalla-423-_png.rf.57c034ed7e211653518a95a2d0ac09f2.txt  \n",
            "  inflating: train/labels/Captura-de-pantalla-423-_png.rf.ca67ee35c3849fd4446692cb18e361f6.txt  \n",
            "  inflating: train/labels/Captura-de-pantalla-424-_png.rf.50282df4a812df154aa260136332d6f3.txt  \n",
            "  inflating: train/labels/Captura-de-pantalla-424-_png.rf.6217116626e6aeca14e20a4f3e9975d1.txt  \n",
            "  inflating: train/labels/Captura-de-pantalla-424-_png.rf.ac8a55a5e2251104174919eed1a97ff0.txt  \n",
            "  inflating: train/labels/Captura-de-pantalla-425-_png.rf.7adb4a74c06bfd4d01b18676f7bc749a.txt  \n",
            "  inflating: train/labels/Captura-de-pantalla-425-_png.rf.870130c86ad125f3b8b284d0f4848481.txt  \n",
            "  inflating: train/labels/Captura-de-pantalla-425-_png.rf.9fcd5eb8e0bb388ee4e7eab8337235f9.txt  \n",
            "  inflating: train/labels/Captura-de-pantalla-427-_png.rf.36e2a5dd2ef427fdb460fd0854fbf1c9.txt  \n",
            "  inflating: train/labels/Captura-de-pantalla-427-_png.rf.415d188ce439ded8c2d478381b46334e.txt  \n",
            "  inflating: train/labels/Captura-de-pantalla-427-_png.rf.70016046238ef123aef2a90061fac901.txt  \n",
            "  inflating: train/labels/Captura-de-pantalla-428-_png.rf.373ad5f91c134b28452c957f9845c637.txt  \n",
            "  inflating: train/labels/Captura-de-pantalla-428-_png.rf.b5a54f8075f1e0055737abdb2e2b057d.txt  \n",
            "  inflating: train/labels/Captura-de-pantalla-428-_png.rf.f60205035c3294b1d72c8194ce8eca21.txt  \n",
            "  inflating: train/labels/Captura-de-pantalla-429-_png.rf.b5092418bd9cf0080eae98907ed19bd4.txt  \n",
            "  inflating: train/labels/Captura-de-pantalla-429-_png.rf.d5d4f4825b3ca1cd69e7ad729187e3e5.txt  \n",
            "  inflating: train/labels/Captura-de-pantalla-429-_png.rf.fa8cf97675811f1d051c7af6f328e3a3.txt  \n",
            "  inflating: train/labels/Captura-de-pantalla-430-_png.rf.409be360709962f48cff16fa0107f4ae.txt  \n",
            "  inflating: train/labels/Captura-de-pantalla-430-_png.rf.a3016826cdfa80df9540e8f64e64d381.txt  \n",
            "  inflating: train/labels/Captura-de-pantalla-430-_png.rf.d6174a1d701a8068b615aa405269934e.txt  \n",
            "  inflating: train/labels/Captura-de-pantalla-436-_png.rf.5fbdd88a150d65355088426f065ecb97.txt  \n",
            "  inflating: train/labels/Captura-de-pantalla-436-_png.rf.649434227e4d9bef2208d69c7f7c0191.txt  \n",
            "  inflating: train/labels/Captura-de-pantalla-436-_png.rf.94ac3c68ad48892b1f218e0ca457998c.txt  \n",
            "  inflating: train/labels/Captura-de-pantalla-437-_png.rf.2c4aedf7af4c7a76d410c32c0674c50e.txt  \n",
            "  inflating: train/labels/Captura-de-pantalla-437-_png.rf.aaeaea569bf953562256636a7a21e764.txt  \n",
            "  inflating: train/labels/Captura-de-pantalla-437-_png.rf.bcf3af029b2a610775ed9420d08774fb.txt  \n",
            "  inflating: train/labels/Captura-de-pantalla-438-_png.rf.444dd9863575c16422aba6efe746adbb.txt  \n",
            "  inflating: train/labels/Captura-de-pantalla-438-_png.rf.91113891f5b742de27797dc8d862a084.txt  \n",
            "  inflating: train/labels/Captura-de-pantalla-438-_png.rf.d0f867117641eaa507fab177824cfab9.txt  \n",
            "  inflating: train/labels/Captura-de-pantalla-439-_png.rf.156fee614f9365996ce0864007ebc141.txt  \n",
            "  inflating: train/labels/Captura-de-pantalla-439-_png.rf.16a6ec6f42886793d3ead9cd6c195af1.txt  \n",
            "  inflating: train/labels/Captura-de-pantalla-439-_png.rf.3568a4c66f4404f065c3721cb0b920d3.txt  \n",
            "  inflating: train/labels/Captura-de-pantalla-440-_png.rf.4884404ba70a9e68b7dfc50b02520e0a.txt  \n",
            "  inflating: train/labels/Captura-de-pantalla-440-_png.rf.a299fcb342befa85f8f57689b2cf45aa.txt  \n",
            "  inflating: train/labels/Captura-de-pantalla-440-_png.rf.fac72b8be1a87b849d40f5eedbf62f25.txt  \n",
            "  inflating: train/labels/Captura-de-pantalla-441-_png.rf.7fbf2bbdae7e2266e38dc0849366fc78.txt  \n",
            "  inflating: train/labels/Captura-de-pantalla-441-_png.rf.ae690c3f9bc76df7ec0f6f37b226ae59.txt  \n",
            "  inflating: train/labels/Captura-de-pantalla-441-_png.rf.af98cb6e82ef10c96fef11fb734a720e.txt  \n",
            "  inflating: train/labels/Captura-de-pantalla-442-_png.rf.0cf0b2f006090835b9a1eac182a88cb5.txt  \n",
            "  inflating: train/labels/Captura-de-pantalla-442-_png.rf.4639930af63bf58df7011e2ebb1a55f9.txt  \n",
            "  inflating: train/labels/Captura-de-pantalla-442-_png.rf.a0ddde7897c81765817096c4bfe38d3f.txt  \n",
            "  inflating: train/labels/Captura-de-pantalla-443-_png.rf.40812d4af3f3f9105cfb1bc300f1880d.txt  \n",
            "  inflating: train/labels/Captura-de-pantalla-443-_png.rf.ebc423abc5be2951c0162c195f3d58d6.txt  \n",
            "  inflating: train/labels/Captura-de-pantalla-443-_png.rf.f27c86467fa3e2b784dd271d240a82ed.txt  \n",
            "  inflating: train/labels/Captura-de-pantalla-444-_png.rf.569600d5c68f530a64ec79c16d64eb3c.txt  \n",
            "  inflating: train/labels/Captura-de-pantalla-444-_png.rf.b206da0582c879bad9e12936e3e9868f.txt  \n",
            "  inflating: train/labels/Captura-de-pantalla-444-_png.rf.e8af6ff1991815275dc443a44a675eb0.txt  \n",
            "  inflating: train/labels/Captura-de-pantalla-445-_png.rf.04085f950e91f2ac9721ce2178f9d65e.txt  \n",
            "  inflating: train/labels/Captura-de-pantalla-445-_png.rf.2695c6a2007c1e1972368fd38f1c98ed.txt  \n",
            "  inflating: train/labels/Captura-de-pantalla-445-_png.rf.3e8bd218a3c8d3a6eadeea2af37a9155.txt  \n",
            "  inflating: train/labels/Captura-de-pantalla-446-_png.rf.6a293f37f9a71dc2e0c5703f3a4d9770.txt  \n",
            "  inflating: train/labels/Captura-de-pantalla-446-_png.rf.9ab4fad7a0b7316c47b324a82915caca.txt  \n",
            "  inflating: train/labels/Captura-de-pantalla-446-_png.rf.f0a2a3ad502c771df0de6a13fca1fdde.txt  \n",
            "  inflating: train/labels/Captura-de-pantalla-447-_png.rf.5bb856be113f299da7029b69f6dc8dec.txt  \n",
            "  inflating: train/labels/Captura-de-pantalla-447-_png.rf.72d7cef32f6a828ac83d3a107cd82158.txt  \n",
            "  inflating: train/labels/Captura-de-pantalla-447-_png.rf.9f5e1b6d5ee6d460934d3400f813fb9e.txt  \n",
            "  inflating: train/labels/Captura-de-pantalla-448-_png.rf.1c85791c4cebfeff0af9d51cb7c7da5f.txt  \n",
            "  inflating: train/labels/Captura-de-pantalla-448-_png.rf.2f2ab7b0dd94f5f7db0167473ed3d0dc.txt  \n",
            "  inflating: train/labels/Captura-de-pantalla-448-_png.rf.cee7b818e69597eb2d55b90061ddfc1b.txt  \n",
            "  inflating: train/labels/Captura-de-pantalla-449-_png.rf.1a75bbce15a3dbb907c9e5f9686a3f08.txt  \n",
            "  inflating: train/labels/Captura-de-pantalla-449-_png.rf.c1e63193d7965fc516cd174a932ecbdb.txt  \n",
            "  inflating: train/labels/Captura-de-pantalla-449-_png.rf.de4ace2cd29e3d2eb32ba2c886feeaf8.txt  \n",
            "  inflating: train/labels/Captura-de-pantalla-45-_png.rf.00dac163ecccc3c0ece9f8014df99c54.txt  \n",
            "  inflating: train/labels/Captura-de-pantalla-45-_png.rf.30f73d20832552ef94ae16a7c4d586f8.txt  \n",
            "  inflating: train/labels/Captura-de-pantalla-45-_png.rf.3f36f8cda9479416dbb480fff3baf08d.txt  \n",
            "  inflating: train/labels/Captura-de-pantalla-450-_png.rf.26f0796050d1361a1e10374cac8f13ba.txt  \n",
            "  inflating: train/labels/Captura-de-pantalla-450-_png.rf.f00ed521adabeccdc3f725643487b75a.txt  \n",
            "  inflating: train/labels/Captura-de-pantalla-450-_png.rf.f0e8fe6d4052341f761261c31fca62f3.txt  \n",
            "  inflating: train/labels/Captura-de-pantalla-451-_png.rf.18550e13ad8e65f212fdc6cb57ce20ce.txt  \n",
            "  inflating: train/labels/Captura-de-pantalla-451-_png.rf.7b908a3fd34d31ecebe5ebd70097335a.txt  \n",
            "  inflating: train/labels/Captura-de-pantalla-451-_png.rf.e85c6a9c0d65530f3a1021b175047d3f.txt  \n",
            "  inflating: train/labels/Captura-de-pantalla-452-_png.rf.0a3e1f0db08d0eab557dce9826dd354d.txt  \n",
            "  inflating: train/labels/Captura-de-pantalla-452-_png.rf.6b8f304e207ca32ff77a246526302eac.txt  \n",
            "  inflating: train/labels/Captura-de-pantalla-452-_png.rf.a9406a0da0e592c43031a8fbae33f354.txt  \n",
            "  inflating: train/labels/Captura-de-pantalla-453-_png.rf.517cd8a90d48f3147f24f7f970bcafff.txt  \n",
            "  inflating: train/labels/Captura-de-pantalla-453-_png.rf.e3b7de85e22070dd2961073dea9efc28.txt  \n",
            "  inflating: train/labels/Captura-de-pantalla-453-_png.rf.ef42f988fe5008cecd10bbf21bb516ee.txt  \n",
            "  inflating: train/labels/Captura-de-pantalla-454-_png.rf.1c4e3b22368002116ae7aeee22b2e529.txt  \n",
            "  inflating: train/labels/Captura-de-pantalla-454-_png.rf.1d2c36e9204ef6b460fb0762c359b04d.txt  \n",
            "  inflating: train/labels/Captura-de-pantalla-454-_png.rf.4c6c3cc13206f13fc4053150a0792224.txt  \n",
            "  inflating: train/labels/Captura-de-pantalla-455-_png.rf.23c6ddfaa67034aa2c14703d77112baa.txt  \n",
            "  inflating: train/labels/Captura-de-pantalla-455-_png.rf.5717df4caace66b520b7203265bb9706.txt  \n",
            "  inflating: train/labels/Captura-de-pantalla-455-_png.rf.e0af925b11c593681a1e036b0fbc1c82.txt  \n",
            "  inflating: train/labels/Captura-de-pantalla-456-_png.rf.030a4fc37b8287934e01191f054f9573.txt  \n",
            "  inflating: train/labels/Captura-de-pantalla-456-_png.rf.5e15413d4e050f1498d7241dff06b1f4.txt  \n",
            "  inflating: train/labels/Captura-de-pantalla-456-_png.rf.ad93acd716b83a4efd0b7de131734c02.txt  \n",
            "  inflating: train/labels/Captura-de-pantalla-457-_png.rf.1f3f524d0019572cbb5e5860ddae5110.txt  \n",
            "  inflating: train/labels/Captura-de-pantalla-457-_png.rf.983c0637869aefe78a2abe310fd65819.txt  \n",
            "  inflating: train/labels/Captura-de-pantalla-457-_png.rf.ee9a52d3198c9ad90e6851eaedcadfd7.txt  \n",
            "  inflating: train/labels/Captura-de-pantalla-458-_png.rf.06b6b9607a2306b968df48bd87e42474.txt  \n",
            "  inflating: train/labels/Captura-de-pantalla-458-_png.rf.a67a9ca756f9c0ae573f00e7536d87f0.txt  \n",
            "  inflating: train/labels/Captura-de-pantalla-458-_png.rf.eabf57876e0c9c96785d26b92d9085a5.txt  \n",
            "  inflating: train/labels/Captura-de-pantalla-459-_png.rf.55f448c0608002851f9eab4746924dc6.txt  \n",
            "  inflating: train/labels/Captura-de-pantalla-459-_png.rf.83bd74f1658dad841df3821cd3ce4dad.txt  \n",
            "  inflating: train/labels/Captura-de-pantalla-459-_png.rf.a722ea96a470481220aa70d67cbe3e70.txt  \n",
            "  inflating: train/labels/Captura-de-pantalla-46-_png.rf.9d0d82ab54ca8872443d855c19a34644.txt  \n",
            "  inflating: train/labels/Captura-de-pantalla-46-_png.rf.ec3233eee3cc83a2c20df0b877512a2a.txt  \n",
            "  inflating: train/labels/Captura-de-pantalla-46-_png.rf.ed9e1dadf79506636cc2c17579f40a65.txt  \n",
            "  inflating: train/labels/Captura-de-pantalla-460-_png.rf.47676b58fbe1b9a24052ffce48513fa4.txt  \n",
            "  inflating: train/labels/Captura-de-pantalla-460-_png.rf.5dbf565814ebf7621a57d4221b1190b0.txt  \n",
            "  inflating: train/labels/Captura-de-pantalla-460-_png.rf.f61243522242e27d194f48aecdd18a7a.txt  \n",
            "  inflating: train/labels/Captura-de-pantalla-461-_png.rf.09e8baf956171f910b5b18b856c03d86.txt  \n",
            "  inflating: train/labels/Captura-de-pantalla-461-_png.rf.128aabf0374f24925c361264ce857c5f.txt  \n",
            "  inflating: train/labels/Captura-de-pantalla-461-_png.rf.54d4c9b02a27136f580e8332dbdd5142.txt  \n",
            "  inflating: train/labels/Captura-de-pantalla-462-_png.rf.1fc5cce2358772def49f989e340f6db7.txt  \n",
            "  inflating: train/labels/Captura-de-pantalla-462-_png.rf.74c197e14a815aec19f8d2e3f06971f6.txt  \n",
            "  inflating: train/labels/Captura-de-pantalla-462-_png.rf.d560ba9ad1d8fc4358b69aa9d3a81b30.txt  \n",
            "  inflating: train/labels/Captura-de-pantalla-463-_png.rf.a80b5d9f48b6da8f42cb87dd748968e0.txt  \n",
            "  inflating: train/labels/Captura-de-pantalla-463-_png.rf.b522757dac3da3f74b067f4a1b2521bc.txt  \n",
            "  inflating: train/labels/Captura-de-pantalla-463-_png.rf.cd3595c779fb959a324036334155661b.txt  \n",
            "  inflating: train/labels/Captura-de-pantalla-464-_png.rf.0f800ca6bbaf5c63fe780b57923fec7b.txt  \n",
            "  inflating: train/labels/Captura-de-pantalla-464-_png.rf.512441ee913a4a9fcc99ec8037a44a89.txt  \n",
            "  inflating: train/labels/Captura-de-pantalla-464-_png.rf.c2fb39ccfec2bb1d3cefe2877b3ebf2c.txt  \n",
            "  inflating: train/labels/Captura-de-pantalla-465-_png.rf.d537d3afac31e42628340577df85cafd.txt  \n",
            "  inflating: train/labels/Captura-de-pantalla-465-_png.rf.d5b5277bd62306954d6479c407df1fb8.txt  \n",
            "  inflating: train/labels/Captura-de-pantalla-465-_png.rf.f48185c71b084746cb314b919d9bf752.txt  \n",
            "  inflating: train/labels/Captura-de-pantalla-466-_png.rf.2a8272eeb7dac01a68e92053a2da063b.txt  \n",
            "  inflating: train/labels/Captura-de-pantalla-466-_png.rf.6cd79e30a2e0ac4afa7b77d279c1328f.txt  \n",
            "  inflating: train/labels/Captura-de-pantalla-466-_png.rf.c99da8af6c6e13e0726575c07f769cd5.txt  \n",
            "  inflating: train/labels/Captura-de-pantalla-467-_png.rf.5f6d2283374a660ca5177a43fdc34c69.txt  \n",
            "  inflating: train/labels/Captura-de-pantalla-467-_png.rf.db93fcfd4f0384240a38b98c23359b41.txt  \n",
            "  inflating: train/labels/Captura-de-pantalla-467-_png.rf.e5d8ec4975442ffbaec9f141a67b14cc.txt  \n",
            "  inflating: train/labels/Captura-de-pantalla-468-_png.rf.80f46bd0e5014da4b1d6ebfe3bf88979.txt  \n",
            "  inflating: train/labels/Captura-de-pantalla-468-_png.rf.9654d8b18a4f7ee9ef0d3f54b5fa74e0.txt  \n",
            "  inflating: train/labels/Captura-de-pantalla-468-_png.rf.9bf7e268b5d3099e70bcff7311326367.txt  \n",
            "  inflating: train/labels/Captura-de-pantalla-469-_png.rf.2eb4a5f105efa619f861854128eb14e9.txt  \n",
            "  inflating: train/labels/Captura-de-pantalla-469-_png.rf.6d6160603e118524f8b70695263dd51d.txt  \n",
            "  inflating: train/labels/Captura-de-pantalla-469-_png.rf.dec78e5a062c9ad5a88cd63d802cd35a.txt  \n",
            "  inflating: train/labels/Captura-de-pantalla-47-_png.rf.28dc0d45cf7b6147dcc8b064ecc7dd68.txt  \n",
            "  inflating: train/labels/Captura-de-pantalla-47-_png.rf.3b017ae7e639f04c46bb6767f4c237ff.txt  \n",
            "  inflating: train/labels/Captura-de-pantalla-47-_png.rf.99cae74c15e0e0a758a3a333b64bf25d.txt  \n",
            "  inflating: train/labels/Captura-de-pantalla-470-_png.rf.339f330a0e7285a625b8adb2224d19dc.txt  \n",
            "  inflating: train/labels/Captura-de-pantalla-470-_png.rf.44d2a6a92d856073f8d40f0fd9783feb.txt  \n",
            "  inflating: train/labels/Captura-de-pantalla-470-_png.rf.56a47efecbd185cc09557c31a793d847.txt  \n",
            "  inflating: train/labels/Captura-de-pantalla-471-_png.rf.052cad7b7f7d01db63c0af7440e77ebb.txt  \n",
            "  inflating: train/labels/Captura-de-pantalla-471-_png.rf.3ee50e9f064ed398fb08833afc5e237a.txt  \n",
            "  inflating: train/labels/Captura-de-pantalla-471-_png.rf.48edc5f95b578048ffe4f921fdf04413.txt  \n",
            "  inflating: train/labels/Captura-de-pantalla-472-_png.rf.358a13709c0f872811d4be602d890f8c.txt  \n",
            "  inflating: train/labels/Captura-de-pantalla-472-_png.rf.afc29d951703ddd9f41d3af4607c5c94.txt  \n",
            "  inflating: train/labels/Captura-de-pantalla-472-_png.rf.c6cf8747f64d725c13e67f5b5d1880ed.txt  \n",
            "  inflating: train/labels/Captura-de-pantalla-48-_png.rf.011c7e5e0878812803ba6d72ad92e8aa.txt  \n",
            "  inflating: train/labels/Captura-de-pantalla-48-_png.rf.5f7a2cd6c752f800a637ecce6f6dc774.txt  \n",
            "  inflating: train/labels/Captura-de-pantalla-48-_png.rf.cc2f9d03624c2a6d5b8e48f6d4228608.txt  \n",
            "  inflating: train/labels/Captura-de-pantalla-49-_png.rf.359700bf03d6ea5c794403919257c574.txt  \n",
            "  inflating: train/labels/Captura-de-pantalla-49-_png.rf.3fc10899b126f636c6d59b2ee0a31eba.txt  \n",
            "  inflating: train/labels/Captura-de-pantalla-49-_png.rf.93fc3bfa6bf07bd6917c921db66f84da.txt  \n",
            "  inflating: train/labels/Captura-de-pantalla-50-_png.rf.395e0f75fa44e9efbfd401a2e9856e00.txt  \n",
            "  inflating: train/labels/Captura-de-pantalla-50-_png.rf.c4388974a585334c2777610b80d96345.txt  \n",
            "  inflating: train/labels/Captura-de-pantalla-50-_png.rf.fe62ec9a795355e6f2dbc7e456d38bb3.txt  \n",
            "  inflating: train/labels/Captura-de-pantalla-52-_png.rf.8ea114694295f6c1f81031c725c90a09.txt  \n",
            "  inflating: train/labels/Captura-de-pantalla-52-_png.rf.9b3b2087a29bc1a7c26053ee7c11f36e.txt  \n",
            "  inflating: train/labels/Captura-de-pantalla-52-_png.rf.e3f1b60e0561fa19c1eb4897a8dcf502.txt  \n",
            "  inflating: train/labels/Captura-de-pantalla-55-_png.rf.0df9ca7efb781ea82c7f890b0e95c09f.txt  \n",
            "  inflating: train/labels/Captura-de-pantalla-55-_png.rf.70b35651153fc0e6df73ea370ec53258.txt  \n",
            "  inflating: train/labels/Captura-de-pantalla-55-_png.rf.be88d399a83e2cdd1bb5df5eebd0a14e.txt  \n",
            "  inflating: train/labels/Captura-de-pantalla-56-_png.rf.1bbc2ca963be17a2c9a4828feb7515af.txt  \n",
            "  inflating: train/labels/Captura-de-pantalla-56-_png.rf.69695eddc07ee4c1e4ae5c269e47f9c4.txt  \n",
            "  inflating: train/labels/Captura-de-pantalla-56-_png.rf.7f9eb1c203d385c0980e65b06b581473.txt  \n",
            "  inflating: train/labels/Captura-de-pantalla-57-_png.rf.2961226b9aa795ef269f002bdf0e0742.txt  \n",
            "  inflating: train/labels/Captura-de-pantalla-57-_png.rf.7374d4ef4204e527b0dfa1cd398891fa.txt  \n",
            "  inflating: train/labels/Captura-de-pantalla-57-_png.rf.c207ef63cf52ab2504508b966893ae1c.txt  \n",
            "  inflating: train/labels/Captura-de-pantalla-61-_png.rf.1afa98d69cf2d84b2d24122192be4361.txt  \n",
            "  inflating: train/labels/Captura-de-pantalla-61-_png.rf.1c3fd87ef028b09c470ea737640462b1.txt  \n",
            " extracting: train/labels/Captura-de-pantalla-61-_png.rf.7817c41df46f7779677c6372c1fa2efb.txt  \n",
            "  inflating: train/labels/Captura-de-pantalla-62-_png.rf.185a194ee779cb69886d422516602572.txt  \n",
            "  inflating: train/labels/Captura-de-pantalla-62-_png.rf.76253030080f776f2621456b610d2d97.txt  \n",
            "  inflating: train/labels/Captura-de-pantalla-62-_png.rf.b844cc0df7cd9ef95e80f063dd83bf21.txt  \n",
            "  inflating: train/labels/Captura-de-pantalla-63-_png.rf.5e186abace588b06fc0abac63ce75dd9.txt  \n",
            "  inflating: train/labels/Captura-de-pantalla-63-_png.rf.9b8cbc2037e1e89af8967bd1fbcd9682.txt  \n",
            "  inflating: train/labels/Captura-de-pantalla-63-_png.rf.a25030b4c070e816de80f81f8bb7892c.txt  \n",
            "  inflating: train/labels/Captura-de-pantalla-64-_png.rf.81c214a0fcebf1bc9e2f15b63c8df652.txt  \n",
            "  inflating: train/labels/Captura-de-pantalla-64-_png.rf.be36bdada20a73fc392cd39e0abbfb3d.txt  \n",
            "  inflating: train/labels/Captura-de-pantalla-64-_png.rf.d6eb7a4685cbd1c547199fbc8f6bce2f.txt  \n",
            "  inflating: train/labels/Captura-de-pantalla-66-_png.rf.71926a44d1181f3d27340a27326536c5.txt  \n",
            "  inflating: train/labels/Captura-de-pantalla-66-_png.rf.ddae09250ea3d46db22866a865b0236d.txt  \n",
            "  inflating: train/labels/Captura-de-pantalla-66-_png.rf.ed866097ae3005ba9c5a8566b5386779.txt  \n",
            "  inflating: train/labels/Captura-de-pantalla-67-_png.rf.8370c35f37b1e3d3ab0266268924f1a3.txt  \n",
            "  inflating: train/labels/Captura-de-pantalla-67-_png.rf.87677f457036c2bb5cea3ff4d954edbb.txt  \n",
            "  inflating: train/labels/Captura-de-pantalla-67-_png.rf.9582b6a569e6ae38bf726e00994f1c62.txt  \n",
            "  inflating: train/labels/Captura-de-pantalla-68-_png.rf.132052e053734fbe57ba009c0e2d29d4.txt  \n",
            "  inflating: train/labels/Captura-de-pantalla-68-_png.rf.77384e9f8107f2bd633bd0da6001080b.txt  \n",
            "  inflating: train/labels/Captura-de-pantalla-68-_png.rf.b8e3db0fe1a7734fd4bb179c9b835f9c.txt  \n",
            "  inflating: train/labels/Captura-de-pantalla-70-_png.rf.5af01708aab5381db074815139c6f626.txt  \n",
            "  inflating: train/labels/Captura-de-pantalla-70-_png.rf.6f50aee0441ccf001f0b1550352db4ba.txt  \n",
            "  inflating: train/labels/Captura-de-pantalla-70-_png.rf.dc89a2d0043d65d934af92359f88d10f.txt  \n",
            "  inflating: train/labels/Captura-de-pantalla-72-_png.rf.960275168aab404ead3d8f167ac593d7.txt  \n",
            "  inflating: train/labels/Captura-de-pantalla-72-_png.rf.ce32dbb7122310ad6059fab3d96bd119.txt  \n",
            "  inflating: train/labels/Captura-de-pantalla-72-_png.rf.f0cd81d5cba259dad7a8493ba2258e12.txt  \n",
            "  inflating: train/labels/Captura-de-pantalla-73-_png.rf.0be693593a97771916b441093b2bb2a5.txt  \n",
            "  inflating: train/labels/Captura-de-pantalla-73-_png.rf.40820033f471df720beb90bd9d468321.txt  \n",
            "  inflating: train/labels/Captura-de-pantalla-73-_png.rf.8c4086e5d18c9bfb4336b99234ae94d4.txt  \n",
            "  inflating: train/labels/T-34-1941-10-_png.rf.2263f313e5faaa332769691531675345.txt  \n",
            "  inflating: train/labels/T-34-1941-10-_png.rf.7dda317f2153b8ec7752f9ba0a6919c8.txt  \n",
            "  inflating: train/labels/T-34-1941-10-_png.rf.859e58b74cbba8704f4210d323d80dce.txt  \n",
            "  inflating: train/labels/T-34-1941-11-_png.rf.0d592b9b53fa8c245ec659a28b365c58.txt  \n",
            "  inflating: train/labels/T-34-1941-11-_png.rf.7fd80c20cd7b790f4bc965226647cf2b.txt  \n",
            "  inflating: train/labels/T-34-1941-11-_png.rf.bb8a52f7b8b9fca567d733d4693343e5.txt  \n",
            "  inflating: train/labels/T-34-1941-12-_png.rf.10bd12401a9e7f8a14243000d65f9a26.txt  \n",
            "  inflating: train/labels/T-34-1941-12-_png.rf.50bcabe691a5a561953e5474cbf1fa13.txt  \n",
            "  inflating: train/labels/T-34-1941-12-_png.rf.55f881ef76ec0752027bd00c18c6d4f9.txt  \n",
            "  inflating: train/labels/T-34-1941-12-_png.rf.a085b6460dec7675e07832b913e7ab7c.txt  \n",
            "  inflating: train/labels/T-34-1941-12-_png.rf.ccaf924c6d8c31d25c1046f7dfbb2f5f.txt  \n",
            "  inflating: train/labels/T-34-1941-12-_png.rf.ef242e6b597121672e1d8b066f50c197.txt  \n",
            "  inflating: train/labels/T-34-1941-13-_png.rf.159d2967490fd24b4d4467f21a3d8153.txt  \n",
            "  inflating: train/labels/T-34-1941-13-_png.rf.766d6540e1ea7d94150e9579ab939f62.txt  \n",
            " extracting: train/labels/T-34-1941-13-_png.rf.fbd479c47bd3baad54c9b05c10d0d240.txt  \n",
            "  inflating: train/labels/T-34-1941-14-_png.rf.14fd4491df6aad08cbaae2648ef1fae1.txt  \n",
            "  inflating: train/labels/T-34-1941-14-_png.rf.6a59d51c68aaadbbe1045aa92e98bd70.txt  \n",
            "  inflating: train/labels/T-34-1941-14-_png.rf.ca027c46b55aa7347ede1282b8f26b6f.txt  \n",
            "  inflating: train/labels/T-34-1941-15-_png.rf.28c6fad668d32206501612749426b574.txt  \n",
            "  inflating: train/labels/T-34-1941-15-_png.rf.70824dcccc21ac5de5289331a90fe88b.txt  \n",
            "  inflating: train/labels/T-34-1941-15-_png.rf.79a8bcdc04473ca645905f0d1b4693b5.txt  \n",
            "  inflating: train/labels/T-34-1941-2-_png.rf.1ecc9081eecea6ac3795fe038c557137.txt  \n",
            "  inflating: train/labels/T-34-1941-2-_png.rf.3886a390fe09da9d890d529924700e66.txt  \n",
            " extracting: train/labels/T-34-1941-2-_png.rf.76c6162195c0412f961631f04b785c99.txt  \n",
            "  inflating: train/labels/T-34-1941-2-_png.rf.9cd2f5be6578faed855fa7f700a72b09.txt  \n",
            "  inflating: train/labels/T-34-1941-2-_png.rf.aa5c32e483905b9c088fbbe9868b816a.txt  \n",
            "  inflating: train/labels/T-34-1941-2-_png.rf.eef299e40f6877aaf67e4e21467e251f.txt  \n",
            "  inflating: train/labels/T-34-1941-3-_png.rf.2eddf0fdf957e60a1cb0f320007afc50.txt  \n",
            "  inflating: train/labels/T-34-1941-3-_png.rf.68088f50e32fa79910632c5d3818c88c.txt  \n",
            "  inflating: train/labels/T-34-1941-3-_png.rf.6c50609ad4b507fd2adccd5da4e04ddd.txt  \n",
            "  inflating: train/labels/T-34-1941-3-_png.rf.78aa331be9d398097e39c345e4566974.txt  \n",
            "  inflating: train/labels/T-34-1941-3-_png.rf.8427041d3cafd8783f7d827ffc415565.txt  \n",
            "  inflating: train/labels/T-34-1941-3-_png.rf.f746eac87b822bc005179f619f410ab7.txt  \n",
            "  inflating: train/labels/T-34-1941-4-_png.rf.21b9ea0507f1289cde2d874f3413deed.txt  \n",
            "  inflating: train/labels/T-34-1941-4-_png.rf.730739c92813eef987209811c76411d3.txt  \n",
            "  inflating: train/labels/T-34-1941-4-_png.rf.7c7060a18ef889e1ce56990a6c055fe9.txt  \n",
            "  inflating: train/labels/T-34-1941-4-_png.rf.8be34d93701b525f2155cefad46492bf.txt  \n",
            "  inflating: train/labels/T-34-1941-4-_png.rf.9ab1e4eaa1ae523af3e3ec5715d09b63.txt  \n",
            "  inflating: train/labels/T-34-1941-4-_png.rf.e0a6c3a72abdcc37341123ee47a6b2ff.txt  \n",
            "  inflating: train/labels/T-34-1941-5-_png.rf.0734c9aee193a9dbca9f95ff06fc37b7.txt  \n",
            "  inflating: train/labels/T-34-1941-5-_png.rf.3e0d307d570a45b294fe392182f2edf3.txt  \n",
            "  inflating: train/labels/T-34-1941-5-_png.rf.51867e0e2e3572d9729a9d8e0098ad36.txt  \n",
            "  inflating: train/labels/T-34-1941-5-_png.rf.af7f2136b72da2b31246f650ca50435f.txt  \n",
            "  inflating: train/labels/T-34-1941-5-_png.rf.c9b983f1fd055ce5c1bc8f74ee18de85.txt  \n",
            "  inflating: train/labels/T-34-1941-5-_png.rf.ff828cf06def32364bee890ebb40c9bd.txt  \n",
            "  inflating: train/labels/T-34-1941-6-_png.rf.1fbef734c8201d3644e7a4ecde8bf9d9.txt  \n",
            "  inflating: train/labels/T-34-1941-6-_png.rf.636f1e12ddeb2ff3e942bda0df653ff9.txt  \n",
            "  inflating: train/labels/T-34-1941-6-_png.rf.d76d3c6c6dba9d308ff347811231d073.txt  \n",
            "  inflating: train/labels/T-34-1941-7-_png.rf.3822f68b151865db117f477f4a4f8341.txt  \n",
            "  inflating: train/labels/T-34-1941-7-_png.rf.795206f8331b8de21ab0f4cca2a0a1cb.txt  \n",
            "  inflating: train/labels/T-34-1941-7-_png.rf.eccb8ca88fadc6f10a6bce749a23535f.txt  \n",
            "  inflating: train/labels/T-34-1941-8-_png.rf.474c7448bd08b0afb701019c9c7826aa.txt  \n",
            "  inflating: train/labels/T-34-1941-8-_png.rf.8c2790541c28a4ceeb0204dbe15fb535.txt  \n",
            "  inflating: train/labels/T-34-1941-8-_png.rf.c37c4f217dcc75fc8750308059c96aea.txt  \n",
            "  inflating: train/labels/T-34-1941-9-_png.rf.26c52090fc872dcd8ad2e37b105441a7.txt  \n",
            "  inflating: train/labels/T-34-1941-9-_png.rf.2fb7691bcfa74d8b6e1e0dd8c3b13278.txt  \n",
            "  inflating: train/labels/T-34-1941-9-_png.rf.d87c9313c465ea289a5604a412622cd3.txt  \n",
            "  inflating: train/labels/T-34-1941_png.rf.5b7b8d1763c9b91735df27d15f77061a.txt  \n",
            "  inflating: train/labels/T-34-1941_png.rf.6fde3a97d3531b6ce5f9d32710bac0c2.txt  \n",
            "  inflating: train/labels/T-34-1941_png.rf.707f84559d1f02c7116f8f8b85ba1f50.txt  \n",
            "  inflating: train/labels/T-34-1941_png.rf.86a2bffd0cdc7674a57f0efabb97eede.txt  \n",
            "  inflating: train/labels/T-34-1941_png.rf.8747481c5cd59d4e8a287096473f3945.txt  \n",
            "  inflating: train/labels/T-34-1941_png.rf.fe7fc4f7475fd1365454d7a8e86c2d72.txt  \n",
            "  inflating: train/labels/ead87299-ASU-57_16_jpg.rf.854e41099fc7cfe96219e25b5eb105f0.txt  \n",
            "  inflating: train/labels/ead87299-ASU-57_16_jpg.rf.c3fd6098416217438150813cf403dfc0.txt  \n",
            "  inflating: train/labels/ead87299-ASU-57_16_jpg.rf.cc3d772eda1cb427d12f3c20e59fc45c.txt  \n",
            "   creating: valid/\n",
            "   creating: valid/images/\n",
            " extracting: valid/images/Captura-de-pantalla-113-_png.rf.92627331b25f9c8d7e32e726c1e88288.jpg  \n",
            " extracting: valid/images/Captura-de-pantalla-131-_png.rf.a2e8bac58fbfc9801d8c4ba44ea17168.jpg  \n",
            " extracting: valid/images/Captura-de-pantalla-142-_png.rf.f6e3ca833391499d340f42db3460db49.jpg  \n",
            " extracting: valid/images/Captura-de-pantalla-154-_png.rf.21af4d00171b6f66f58f8bc9b2b7d512.jpg  \n",
            " extracting: valid/images/Captura-de-pantalla-155-_png.rf.d430875996b7eca281ac6d0e1cb5b443.jpg  \n",
            " extracting: valid/images/Captura-de-pantalla-156-_png.rf.6b10c55a99caee987e3d23a31cea4ed2.jpg  \n",
            " extracting: valid/images/Captura-de-pantalla-157-_png.rf.937a4db52069954f9c8e5b3688aa23b0.jpg  \n",
            " extracting: valid/images/Captura-de-pantalla-158-_png.rf.995bc493bc90ef72001bec07fc16f6e4.jpg  \n",
            " extracting: valid/images/Captura-de-pantalla-167-_png.rf.17d9a4d087910893705d907f2011d0e2.jpg  \n",
            " extracting: valid/images/Captura-de-pantalla-174-_png.rf.19b94be70f0ad1f218fa465736127da8.jpg  \n",
            " extracting: valid/images/Captura-de-pantalla-178-_png.rf.9add969c0451cd025c7f28f330885e84.jpg  \n",
            " extracting: valid/images/Captura-de-pantalla-179-_png.rf.bb026075b664f9ea8ae56b78f35c5298.jpg  \n",
            " extracting: valid/images/Captura-de-pantalla-181-_png.rf.798e081e1a714e7ed0a45aed139c9c11.jpg  \n",
            " extracting: valid/images/Captura-de-pantalla-182-_png.rf.eed503c4e6cd7d34815a9ff7af6ab03f.jpg  \n",
            " extracting: valid/images/Captura-de-pantalla-183-_png.rf.4f948bda9bc2e1b08d1aaa7ce29082cc.jpg  \n",
            " extracting: valid/images/Captura-de-pantalla-184-_png.rf.539eac82df7f2fd8f443977d9ea38d41.jpg  \n",
            " extracting: valid/images/Captura-de-pantalla-188-_png.rf.fa74abe3477995faf8a89f851600469a.jpg  \n",
            " extracting: valid/images/Captura-de-pantalla-189-_png.rf.37fe99724920f2f6b99d2965eb448146.jpg  \n",
            " extracting: valid/images/Captura-de-pantalla-191-_png.rf.a19ccdfdc21d44b47db8a312bacaa2de.jpg  \n",
            " extracting: valid/images/Captura-de-pantalla-193-_png.rf.93337c050e5195f0637ea2d125e55c15.jpg  \n",
            " extracting: valid/images/Captura-de-pantalla-33-_png.rf.6f5c9de392f6f1a29918c149f1fb3f49.jpg  \n",
            " extracting: valid/images/Captura-de-pantalla-366-_png.rf.cf4a25243173e2f768ea2dce1a5bd3f0.jpg  \n",
            " extracting: valid/images/Captura-de-pantalla-378-_png.rf.cd0addd3e8078d5190a18abe74bedfa4.jpg  \n",
            " extracting: valid/images/Captura-de-pantalla-381-_png.rf.aae51110acaaa9b3be0bd71460e3e2f4.jpg  \n",
            " extracting: valid/images/Captura-de-pantalla-382-_png.rf.e15ad15ad8d2f6fc701bc1fb0f7324fe.jpg  \n",
            " extracting: valid/images/Captura-de-pantalla-392-_png.rf.38d3b674b3b627785f26c4652cc17f91.jpg  \n",
            " extracting: valid/images/Captura-de-pantalla-396-_png.rf.0aebb0af0773f4a242529f2ec6dbb151.jpg  \n",
            " extracting: valid/images/Captura-de-pantalla-407-_png.rf.23a9d3ac9c300ed8b0b990a3b01071d5.jpg  \n",
            " extracting: valid/images/Captura-de-pantalla-414-_png.rf.2b78770e275bf37f3d5631237325e57e.jpg  \n",
            " extracting: valid/images/Captura-de-pantalla-417-_png.rf.97441a9875eaf3752a082bd22c212b65.jpg  \n",
            " extracting: valid/images/Captura-de-pantalla-421-_png.rf.ac0f73ed8c9b3c3de57328e6b0683e36.jpg  \n",
            " extracting: valid/images/Captura-de-pantalla-431-_png.rf.7362e7c43fc778aac3cc5bc49d06c45e.jpg  \n",
            " extracting: valid/images/Captura-de-pantalla-51-_png.rf.1575112b3cd06e8970d7e268fdee46de.jpg  \n",
            " extracting: valid/images/Captura-de-pantalla-53-_png.rf.30f95e06d82f506638752775ec584228.jpg  \n",
            " extracting: valid/images/Captura-de-pantalla-54-_png.rf.51bb258cd53789283c58b7b5a2471cac.jpg  \n",
            " extracting: valid/images/Captura-de-pantalla-65-_png.rf.c8130551d6a8e2ff806001cb5c377a1b.jpg  \n",
            " extracting: valid/images/T-34-1941-10-_png.rf.03bb87358e13125cfa8f829f8848b70a.jpg  \n",
            " extracting: valid/images/T-34-1941-11-_png.rf.1545eeb50d67bc9bf8dfe54aed6cc256.jpg  \n",
            " extracting: valid/images/T-34-1941-6-_png.rf.f3fdeecf88f8efcb36cb16aa04771c55.jpg  \n",
            " extracting: valid/images/T-34-1941-7-_png.rf.53341feabd53cc9ad4ffda6e99a5f524.jpg  \n",
            " extracting: valid/images/T-34-1941-8-_png.rf.b23207527d42ad0a0e4b5f2dc6e5a222.jpg  \n",
            " extracting: valid/images/T-34-1941-9-_png.rf.ea2737584a41109fe2f518e04e546a25.jpg  \n",
            " extracting: valid/images/b4febe37-ASU-57_12_jpg.rf.5b6fc21f02394977006900447e0a7269.jpg  \n",
            " extracting: valid/images/ba6f2ab5-ASU-57_3_jpg.rf.5fd189003e3e336a08b5f41ee839a0a9.jpg  \n",
            " extracting: valid/images/bffd70cd-ASU-57_4_jpg.rf.db506e313c2536c25f2661c6945c9e9a.jpg  \n",
            " extracting: valid/images/e722b1ba-ASU-57_8_jpg.rf.ebfbd6ccee04f24c31cdb0d9463025bd.jpg  \n",
            "   creating: valid/labels/\n",
            "  inflating: valid/labels/Captura-de-pantalla-113-_png.rf.92627331b25f9c8d7e32e726c1e88288.txt  \n",
            "  inflating: valid/labels/Captura-de-pantalla-131-_png.rf.a2e8bac58fbfc9801d8c4ba44ea17168.txt  \n",
            "  inflating: valid/labels/Captura-de-pantalla-142-_png.rf.f6e3ca833391499d340f42db3460db49.txt  \n",
            "  inflating: valid/labels/Captura-de-pantalla-154-_png.rf.21af4d00171b6f66f58f8bc9b2b7d512.txt  \n",
            "  inflating: valid/labels/Captura-de-pantalla-155-_png.rf.d430875996b7eca281ac6d0e1cb5b443.txt  \n",
            "  inflating: valid/labels/Captura-de-pantalla-156-_png.rf.6b10c55a99caee987e3d23a31cea4ed2.txt  \n",
            "  inflating: valid/labels/Captura-de-pantalla-157-_png.rf.937a4db52069954f9c8e5b3688aa23b0.txt  \n",
            "  inflating: valid/labels/Captura-de-pantalla-158-_png.rf.995bc493bc90ef72001bec07fc16f6e4.txt  \n",
            "  inflating: valid/labels/Captura-de-pantalla-167-_png.rf.17d9a4d087910893705d907f2011d0e2.txt  \n",
            "  inflating: valid/labels/Captura-de-pantalla-174-_png.rf.19b94be70f0ad1f218fa465736127da8.txt  \n",
            "  inflating: valid/labels/Captura-de-pantalla-178-_png.rf.9add969c0451cd025c7f28f330885e84.txt  \n",
            "  inflating: valid/labels/Captura-de-pantalla-179-_png.rf.bb026075b664f9ea8ae56b78f35c5298.txt  \n",
            "  inflating: valid/labels/Captura-de-pantalla-181-_png.rf.798e081e1a714e7ed0a45aed139c9c11.txt  \n",
            "  inflating: valid/labels/Captura-de-pantalla-182-_png.rf.eed503c4e6cd7d34815a9ff7af6ab03f.txt  \n",
            "  inflating: valid/labels/Captura-de-pantalla-183-_png.rf.4f948bda9bc2e1b08d1aaa7ce29082cc.txt  \n",
            "  inflating: valid/labels/Captura-de-pantalla-184-_png.rf.539eac82df7f2fd8f443977d9ea38d41.txt  \n",
            "  inflating: valid/labels/Captura-de-pantalla-188-_png.rf.fa74abe3477995faf8a89f851600469a.txt  \n",
            "  inflating: valid/labels/Captura-de-pantalla-189-_png.rf.37fe99724920f2f6b99d2965eb448146.txt  \n",
            "  inflating: valid/labels/Captura-de-pantalla-191-_png.rf.a19ccdfdc21d44b47db8a312bacaa2de.txt  \n",
            "  inflating: valid/labels/Captura-de-pantalla-193-_png.rf.93337c050e5195f0637ea2d125e55c15.txt  \n",
            "  inflating: valid/labels/Captura-de-pantalla-33-_png.rf.6f5c9de392f6f1a29918c149f1fb3f49.txt  \n",
            "  inflating: valid/labels/Captura-de-pantalla-366-_png.rf.cf4a25243173e2f768ea2dce1a5bd3f0.txt  \n",
            " extracting: valid/labels/Captura-de-pantalla-378-_png.rf.cd0addd3e8078d5190a18abe74bedfa4.txt  \n",
            "  inflating: valid/labels/Captura-de-pantalla-381-_png.rf.aae51110acaaa9b3be0bd71460e3e2f4.txt  \n",
            "  inflating: valid/labels/Captura-de-pantalla-382-_png.rf.e15ad15ad8d2f6fc701bc1fb0f7324fe.txt  \n",
            "  inflating: valid/labels/Captura-de-pantalla-392-_png.rf.38d3b674b3b627785f26c4652cc17f91.txt  \n",
            "  inflating: valid/labels/Captura-de-pantalla-396-_png.rf.0aebb0af0773f4a242529f2ec6dbb151.txt  \n",
            "  inflating: valid/labels/Captura-de-pantalla-407-_png.rf.23a9d3ac9c300ed8b0b990a3b01071d5.txt  \n",
            "  inflating: valid/labels/Captura-de-pantalla-414-_png.rf.2b78770e275bf37f3d5631237325e57e.txt  \n",
            "  inflating: valid/labels/Captura-de-pantalla-417-_png.rf.97441a9875eaf3752a082bd22c212b65.txt  \n",
            "  inflating: valid/labels/Captura-de-pantalla-421-_png.rf.ac0f73ed8c9b3c3de57328e6b0683e36.txt  \n",
            "  inflating: valid/labels/Captura-de-pantalla-431-_png.rf.7362e7c43fc778aac3cc5bc49d06c45e.txt  \n",
            "  inflating: valid/labels/Captura-de-pantalla-51-_png.rf.1575112b3cd06e8970d7e268fdee46de.txt  \n",
            "  inflating: valid/labels/Captura-de-pantalla-53-_png.rf.30f95e06d82f506638752775ec584228.txt  \n",
            "  inflating: valid/labels/Captura-de-pantalla-54-_png.rf.51bb258cd53789283c58b7b5a2471cac.txt  \n",
            "  inflating: valid/labels/Captura-de-pantalla-65-_png.rf.c8130551d6a8e2ff806001cb5c377a1b.txt  \n",
            "  inflating: valid/labels/T-34-1941-10-_png.rf.03bb87358e13125cfa8f829f8848b70a.txt  \n",
            "  inflating: valid/labels/T-34-1941-11-_png.rf.1545eeb50d67bc9bf8dfe54aed6cc256.txt  \n",
            "  inflating: valid/labels/T-34-1941-6-_png.rf.f3fdeecf88f8efcb36cb16aa04771c55.txt  \n",
            "  inflating: valid/labels/T-34-1941-7-_png.rf.53341feabd53cc9ad4ffda6e99a5f524.txt  \n",
            "  inflating: valid/labels/T-34-1941-8-_png.rf.b23207527d42ad0a0e4b5f2dc6e5a222.txt  \n",
            "  inflating: valid/labels/T-34-1941-9-_png.rf.ea2737584a41109fe2f518e04e546a25.txt  \n",
            "  inflating: valid/labels/b4febe37-ASU-57_12_jpg.rf.5b6fc21f02394977006900447e0a7269.txt  \n",
            "  inflating: valid/labels/ba6f2ab5-ASU-57_3_jpg.rf.5fd189003e3e336a08b5f41ee839a0a9.txt  \n",
            "  inflating: valid/labels/bffd70cd-ASU-57_4_jpg.rf.db506e313c2536c25f2661c6945c9e9a.txt  \n",
            "  inflating: valid/labels/e722b1ba-ASU-57_8_jpg.rf.ebfbd6ccee04f24c31cdb0d9463025bd.txt  \n"
          ]
        }
      ],
      "source": [
        "!unzip \"/content/drive/MyDrive/Dataset WarThunder/WT Dataset-80-10-10.yolov8.zip\""
      ]
    },
    {
      "cell_type": "code",
      "execution_count": 1,
      "metadata": {
        "colab": {
          "base_uri": "https://localhost:8080/"
        },
        "id": "nJEAMS3pWPnS",
        "outputId": "485feb79-61bb-429e-d544-ab052a411279"
      },
      "outputs": [
        {
          "output_type": "stream",
          "name": "stdout",
          "text": [
            "Collecting ultralytics\n",
            "  Downloading ultralytics-8.3.52-py3-none-any.whl.metadata (35 kB)\n",
            "Requirement already satisfied: numpy>=1.23.0 in /usr/local/lib/python3.10/dist-packages (from ultralytics) (1.26.4)\n",
            "Requirement already satisfied: matplotlib>=3.3.0 in /usr/local/lib/python3.10/dist-packages (from ultralytics) (3.8.0)\n",
            "Requirement already satisfied: opencv-python>=4.6.0 in /usr/local/lib/python3.10/dist-packages (from ultralytics) (4.10.0.84)\n",
            "Requirement already satisfied: pillow>=7.1.2 in /usr/local/lib/python3.10/dist-packages (from ultralytics) (11.0.0)\n",
            "Requirement already satisfied: pyyaml>=5.3.1 in /usr/local/lib/python3.10/dist-packages (from ultralytics) (6.0.2)\n",
            "Requirement already satisfied: requests>=2.23.0 in /usr/local/lib/python3.10/dist-packages (from ultralytics) (2.32.3)\n",
            "Requirement already satisfied: scipy>=1.4.1 in /usr/local/lib/python3.10/dist-packages (from ultralytics) (1.13.1)\n",
            "Requirement already satisfied: torch>=1.8.0 in /usr/local/lib/python3.10/dist-packages (from ultralytics) (2.5.1+cu121)\n",
            "Requirement already satisfied: torchvision>=0.9.0 in /usr/local/lib/python3.10/dist-packages (from ultralytics) (0.20.1+cu121)\n",
            "Requirement already satisfied: tqdm>=4.64.0 in /usr/local/lib/python3.10/dist-packages (from ultralytics) (4.67.1)\n",
            "Requirement already satisfied: psutil in /usr/local/lib/python3.10/dist-packages (from ultralytics) (5.9.5)\n",
            "Requirement already satisfied: py-cpuinfo in /usr/local/lib/python3.10/dist-packages (from ultralytics) (9.0.0)\n",
            "Requirement already satisfied: pandas>=1.1.4 in /usr/local/lib/python3.10/dist-packages (from ultralytics) (2.2.2)\n",
            "Requirement already satisfied: seaborn>=0.11.0 in /usr/local/lib/python3.10/dist-packages (from ultralytics) (0.13.2)\n",
            "Collecting ultralytics-thop>=2.0.0 (from ultralytics)\n",
            "  Downloading ultralytics_thop-2.0.13-py3-none-any.whl.metadata (9.4 kB)\n",
            "Requirement already satisfied: contourpy>=1.0.1 in /usr/local/lib/python3.10/dist-packages (from matplotlib>=3.3.0->ultralytics) (1.3.1)\n",
            "Requirement already satisfied: cycler>=0.10 in /usr/local/lib/python3.10/dist-packages (from matplotlib>=3.3.0->ultralytics) (0.12.1)\n",
            "Requirement already satisfied: fonttools>=4.22.0 in /usr/local/lib/python3.10/dist-packages (from matplotlib>=3.3.0->ultralytics) (4.55.3)\n",
            "Requirement already satisfied: kiwisolver>=1.0.1 in /usr/local/lib/python3.10/dist-packages (from matplotlib>=3.3.0->ultralytics) (1.4.7)\n",
            "Requirement already satisfied: packaging>=20.0 in /usr/local/lib/python3.10/dist-packages (from matplotlib>=3.3.0->ultralytics) (24.2)\n",
            "Requirement already satisfied: pyparsing>=2.3.1 in /usr/local/lib/python3.10/dist-packages (from matplotlib>=3.3.0->ultralytics) (3.2.0)\n",
            "Requirement already satisfied: python-dateutil>=2.7 in /usr/local/lib/python3.10/dist-packages (from matplotlib>=3.3.0->ultralytics) (2.8.2)\n",
            "Requirement already satisfied: pytz>=2020.1 in /usr/local/lib/python3.10/dist-packages (from pandas>=1.1.4->ultralytics) (2024.2)\n",
            "Requirement already satisfied: tzdata>=2022.7 in /usr/local/lib/python3.10/dist-packages (from pandas>=1.1.4->ultralytics) (2024.2)\n",
            "Requirement already satisfied: charset-normalizer<4,>=2 in /usr/local/lib/python3.10/dist-packages (from requests>=2.23.0->ultralytics) (3.4.0)\n",
            "Requirement already satisfied: idna<4,>=2.5 in /usr/local/lib/python3.10/dist-packages (from requests>=2.23.0->ultralytics) (3.10)\n",
            "Requirement already satisfied: urllib3<3,>=1.21.1 in /usr/local/lib/python3.10/dist-packages (from requests>=2.23.0->ultralytics) (2.2.3)\n",
            "Requirement already satisfied: certifi>=2017.4.17 in /usr/local/lib/python3.10/dist-packages (from requests>=2.23.0->ultralytics) (2024.12.14)\n",
            "Requirement already satisfied: filelock in /usr/local/lib/python3.10/dist-packages (from torch>=1.8.0->ultralytics) (3.16.1)\n",
            "Requirement already satisfied: typing-extensions>=4.8.0 in /usr/local/lib/python3.10/dist-packages (from torch>=1.8.0->ultralytics) (4.12.2)\n",
            "Requirement already satisfied: networkx in /usr/local/lib/python3.10/dist-packages (from torch>=1.8.0->ultralytics) (3.4.2)\n",
            "Requirement already satisfied: jinja2 in /usr/local/lib/python3.10/dist-packages (from torch>=1.8.0->ultralytics) (3.1.4)\n",
            "Requirement already satisfied: fsspec in /usr/local/lib/python3.10/dist-packages (from torch>=1.8.0->ultralytics) (2024.10.0)\n",
            "Requirement already satisfied: sympy==1.13.1 in /usr/local/lib/python3.10/dist-packages (from torch>=1.8.0->ultralytics) (1.13.1)\n",
            "Requirement already satisfied: mpmath<1.4,>=1.1.0 in /usr/local/lib/python3.10/dist-packages (from sympy==1.13.1->torch>=1.8.0->ultralytics) (1.3.0)\n",
            "Requirement already satisfied: six>=1.5 in /usr/local/lib/python3.10/dist-packages (from python-dateutil>=2.7->matplotlib>=3.3.0->ultralytics) (1.17.0)\n",
            "Requirement already satisfied: MarkupSafe>=2.0 in /usr/local/lib/python3.10/dist-packages (from jinja2->torch>=1.8.0->ultralytics) (3.0.2)\n",
            "Downloading ultralytics-8.3.52-py3-none-any.whl (901 kB)\n",
            "\u001b[2K   \u001b[90m━━━━━━━━━━━━━━━━━━━━━━━━━━━━━━━━━━━━━━━━\u001b[0m \u001b[32m901.7/901.7 kB\u001b[0m \u001b[31m10.7 MB/s\u001b[0m eta \u001b[36m0:00:00\u001b[0m\n",
            "\u001b[?25hDownloading ultralytics_thop-2.0.13-py3-none-any.whl (26 kB)\n",
            "Installing collected packages: ultralytics-thop, ultralytics\n",
            "Successfully installed ultralytics-8.3.52 ultralytics-thop-2.0.13\n"
          ]
        }
      ],
      "source": [
        "\n",
        "!pip install ultralytics"
      ]
    },
    {
      "cell_type": "code",
      "execution_count": 2,
      "metadata": {
        "id": "ahXygd4FXRYy",
        "outputId": "9225aed7-f687-424d-85d2-fdb823445886",
        "colab": {
          "base_uri": "https://localhost:8080/"
        }
      },
      "outputs": [
        {
          "output_type": "stream",
          "name": "stdout",
          "text": [
            "Creating new Ultralytics Settings v0.0.6 file ✅ \n",
            "View Ultralytics Settings with 'yolo settings' or at '/root/.config/Ultralytics/settings.json'\n",
            "Update Settings with 'yolo settings key=value', i.e. 'yolo settings runs_dir=path/to/dir'. For help see https://docs.ultralytics.com/quickstart/#ultralytics-settings.\n"
          ]
        }
      ],
      "source": [
        "from ultralytics import YOLO\n",
        "from PIL import Image\n",
        "import matplotlib.pyplot as plt\n",
        "import cv2"
      ]
    },
    {
      "cell_type": "code",
      "execution_count": 3,
      "metadata": {
        "id": "AxkQFxZX80eQ"
      },
      "outputs": [],
      "source": [
        "# Importar modelo desde archivo .pt (Para cargar modelo personalizado ya entrenado)\n",
        "model = YOLO('/app/models/best.pt')"
      ]
    },
    {
      "cell_type": "code",
      "execution_count": null,
      "metadata": {
        "id": "bdAq1HvSXYRb",
        "colab": {
          "base_uri": "https://localhost:8080/"
        },
        "outputId": "3428892b-85d3-40ee-d355-f341add6f88b"
      },
      "outputs": [
        {
          "output_type": "stream",
          "name": "stdout",
          "text": [
            "Downloading https://github.com/ultralytics/assets/releases/download/v8.3.0/yolov8s.pt to 'yolov8s.pt'...\n"
          ]
        },
        {
          "output_type": "stream",
          "name": "stderr",
          "text": [
            "100%|██████████| 21.5M/21.5M [00:00<00:00, 209MB/s]\n"
          ]
        }
      ],
      "source": [
        "#  Cargar modelo nuevo (Solo si se quiere entrenar un nuevo modelo)\n",
        "model = YOLO(task='detect', model=\"yolov8s.pt\")\n"
      ]
    },
    {
      "cell_type": "code",
      "execution_count": null,
      "metadata": {
        "colab": {
          "base_uri": "https://localhost:8080/"
        },
        "id": "wE8AUyBH2k4J",
        "outputId": "fcbab44d-e785-469a-94c9-e17994c4db53"
      },
      "outputs": [
        {
          "output_type": "stream",
          "name": "stdout",
          "text": [
            "Ultralytics 8.3.50 🚀 Python-3.10.12 torch-2.5.1+cu121 CUDA:0 (Tesla T4, 15102MiB)\n",
            "\u001b[34m\u001b[1mengine/trainer: \u001b[0mtask=detect, mode=train, model=yolov8s.pt, data=/content/data.yaml, epochs=75, time=None, patience=100, batch=16, imgsz=640, save=True, save_period=-1, cache=False, device=cuda, workers=8, project=None, name=train, exist_ok=False, pretrained=True, optimizer=auto, verbose=True, seed=0, deterministic=True, single_cls=False, rect=False, cos_lr=False, close_mosaic=10, resume=False, amp=True, fraction=1.0, profile=False, freeze=10, multi_scale=False, overlap_mask=True, mask_ratio=4, dropout=0.2, val=True, split=val, save_json=False, save_hybrid=False, conf=None, iou=0.5, max_det=300, half=False, dnn=False, plots=True, source=None, vid_stride=1, stream_buffer=False, visualize=False, augment=False, agnostic_nms=False, classes=None, retina_masks=False, embed=None, show=False, save_frames=False, save_txt=False, save_conf=False, save_crop=False, show_labels=True, show_conf=True, show_boxes=True, line_width=None, format=torchscript, keras=False, optimize=False, int8=False, dynamic=False, simplify=True, opset=None, workspace=None, nms=False, lr0=0.005, lrf=0.2, momentum=0.95, weight_decay=0.0003, warmup_epochs=5.0, warmup_momentum=0.8, warmup_bias_lr=0.1, box=7.5, cls=0.5, dfl=1.5, pose=12.0, kobj=1.0, nbs=64, hsv_h=0.015, hsv_s=0.7, hsv_v=0.4, degrees=0.0, translate=0.1, scale=0.5, shear=0.0, perspective=0.0, flipud=0.0, fliplr=0.5, bgr=0.0, mosaic=0.2, mixup=0.0, copy_paste=0.0, copy_paste_mode=flip, auto_augment=randaugment, erasing=0.4, crop_fraction=1.0, cfg=None, tracker=botsort.yaml, save_dir=runs/detect/train\n",
            "Downloading https://ultralytics.com/assets/Arial.ttf to '/root/.config/Ultralytics/Arial.ttf'...\n"
          ]
        },
        {
          "output_type": "stream",
          "name": "stderr",
          "text": [
            "100%|██████████| 755k/755k [00:00<00:00, 26.8MB/s]\n"
          ]
        },
        {
          "output_type": "stream",
          "name": "stdout",
          "text": [
            "Overriding model.yaml nc=80 with nc=5\n",
            "\n",
            "                   from  n    params  module                                       arguments                     \n",
            "  0                  -1  1       928  ultralytics.nn.modules.conv.Conv             [3, 32, 3, 2]                 \n",
            "  1                  -1  1     18560  ultralytics.nn.modules.conv.Conv             [32, 64, 3, 2]                \n",
            "  2                  -1  1     29056  ultralytics.nn.modules.block.C2f             [64, 64, 1, True]             \n",
            "  3                  -1  1     73984  ultralytics.nn.modules.conv.Conv             [64, 128, 3, 2]               \n",
            "  4                  -1  2    197632  ultralytics.nn.modules.block.C2f             [128, 128, 2, True]           \n",
            "  5                  -1  1    295424  ultralytics.nn.modules.conv.Conv             [128, 256, 3, 2]              \n",
            "  6                  -1  2    788480  ultralytics.nn.modules.block.C2f             [256, 256, 2, True]           \n",
            "  7                  -1  1   1180672  ultralytics.nn.modules.conv.Conv             [256, 512, 3, 2]              \n",
            "  8                  -1  1   1838080  ultralytics.nn.modules.block.C2f             [512, 512, 1, True]           \n",
            "  9                  -1  1    656896  ultralytics.nn.modules.block.SPPF            [512, 512, 5]                 \n",
            " 10                  -1  1         0  torch.nn.modules.upsampling.Upsample         [None, 2, 'nearest']          \n",
            " 11             [-1, 6]  1         0  ultralytics.nn.modules.conv.Concat           [1]                           \n",
            " 12                  -1  1    591360  ultralytics.nn.modules.block.C2f             [768, 256, 1]                 \n",
            " 13                  -1  1         0  torch.nn.modules.upsampling.Upsample         [None, 2, 'nearest']          \n",
            " 14             [-1, 4]  1         0  ultralytics.nn.modules.conv.Concat           [1]                           \n",
            " 15                  -1  1    148224  ultralytics.nn.modules.block.C2f             [384, 128, 1]                 \n",
            " 16                  -1  1    147712  ultralytics.nn.modules.conv.Conv             [128, 128, 3, 2]              \n",
            " 17            [-1, 12]  1         0  ultralytics.nn.modules.conv.Concat           [1]                           \n",
            " 18                  -1  1    493056  ultralytics.nn.modules.block.C2f             [384, 256, 1]                 \n",
            " 19                  -1  1    590336  ultralytics.nn.modules.conv.Conv             [256, 256, 3, 2]              \n",
            " 20             [-1, 9]  1         0  ultralytics.nn.modules.conv.Concat           [1]                           \n",
            " 21                  -1  1   1969152  ultralytics.nn.modules.block.C2f             [768, 512, 1]                 \n",
            " 22        [15, 18, 21]  1   2117983  ultralytics.nn.modules.head.Detect           [5, [128, 256, 512]]          \n",
            "Model summary: 225 layers, 11,137,535 parameters, 11,137,519 gradients, 28.7 GFLOPs\n",
            "\n",
            "Transferred 349/355 items from pretrained weights\n",
            "\u001b[34m\u001b[1mTensorBoard: \u001b[0mStart with 'tensorboard --logdir runs/detect/train', view at http://localhost:6006/\n",
            "Freezing layer 'model.0.conv.weight'\n",
            "Freezing layer 'model.0.bn.weight'\n",
            "Freezing layer 'model.0.bn.bias'\n",
            "Freezing layer 'model.1.conv.weight'\n",
            "Freezing layer 'model.1.bn.weight'\n",
            "Freezing layer 'model.1.bn.bias'\n",
            "Freezing layer 'model.2.cv1.conv.weight'\n",
            "Freezing layer 'model.2.cv1.bn.weight'\n",
            "Freezing layer 'model.2.cv1.bn.bias'\n",
            "Freezing layer 'model.2.cv2.conv.weight'\n",
            "Freezing layer 'model.2.cv2.bn.weight'\n",
            "Freezing layer 'model.2.cv2.bn.bias'\n",
            "Freezing layer 'model.2.m.0.cv1.conv.weight'\n",
            "Freezing layer 'model.2.m.0.cv1.bn.weight'\n",
            "Freezing layer 'model.2.m.0.cv1.bn.bias'\n",
            "Freezing layer 'model.2.m.0.cv2.conv.weight'\n",
            "Freezing layer 'model.2.m.0.cv2.bn.weight'\n",
            "Freezing layer 'model.2.m.0.cv2.bn.bias'\n",
            "Freezing layer 'model.3.conv.weight'\n",
            "Freezing layer 'model.3.bn.weight'\n",
            "Freezing layer 'model.3.bn.bias'\n",
            "Freezing layer 'model.4.cv1.conv.weight'\n",
            "Freezing layer 'model.4.cv1.bn.weight'\n",
            "Freezing layer 'model.4.cv1.bn.bias'\n",
            "Freezing layer 'model.4.cv2.conv.weight'\n",
            "Freezing layer 'model.4.cv2.bn.weight'\n",
            "Freezing layer 'model.4.cv2.bn.bias'\n",
            "Freezing layer 'model.4.m.0.cv1.conv.weight'\n",
            "Freezing layer 'model.4.m.0.cv1.bn.weight'\n",
            "Freezing layer 'model.4.m.0.cv1.bn.bias'\n",
            "Freezing layer 'model.4.m.0.cv2.conv.weight'\n",
            "Freezing layer 'model.4.m.0.cv2.bn.weight'\n",
            "Freezing layer 'model.4.m.0.cv2.bn.bias'\n",
            "Freezing layer 'model.4.m.1.cv1.conv.weight'\n",
            "Freezing layer 'model.4.m.1.cv1.bn.weight'\n",
            "Freezing layer 'model.4.m.1.cv1.bn.bias'\n",
            "Freezing layer 'model.4.m.1.cv2.conv.weight'\n",
            "Freezing layer 'model.4.m.1.cv2.bn.weight'\n",
            "Freezing layer 'model.4.m.1.cv2.bn.bias'\n",
            "Freezing layer 'model.5.conv.weight'\n",
            "Freezing layer 'model.5.bn.weight'\n",
            "Freezing layer 'model.5.bn.bias'\n",
            "Freezing layer 'model.6.cv1.conv.weight'\n",
            "Freezing layer 'model.6.cv1.bn.weight'\n",
            "Freezing layer 'model.6.cv1.bn.bias'\n",
            "Freezing layer 'model.6.cv2.conv.weight'\n",
            "Freezing layer 'model.6.cv2.bn.weight'\n",
            "Freezing layer 'model.6.cv2.bn.bias'\n",
            "Freezing layer 'model.6.m.0.cv1.conv.weight'\n",
            "Freezing layer 'model.6.m.0.cv1.bn.weight'\n",
            "Freezing layer 'model.6.m.0.cv1.bn.bias'\n",
            "Freezing layer 'model.6.m.0.cv2.conv.weight'\n",
            "Freezing layer 'model.6.m.0.cv2.bn.weight'\n",
            "Freezing layer 'model.6.m.0.cv2.bn.bias'\n",
            "Freezing layer 'model.6.m.1.cv1.conv.weight'\n",
            "Freezing layer 'model.6.m.1.cv1.bn.weight'\n",
            "Freezing layer 'model.6.m.1.cv1.bn.bias'\n",
            "Freezing layer 'model.6.m.1.cv2.conv.weight'\n",
            "Freezing layer 'model.6.m.1.cv2.bn.weight'\n",
            "Freezing layer 'model.6.m.1.cv2.bn.bias'\n",
            "Freezing layer 'model.7.conv.weight'\n",
            "Freezing layer 'model.7.bn.weight'\n",
            "Freezing layer 'model.7.bn.bias'\n",
            "Freezing layer 'model.8.cv1.conv.weight'\n",
            "Freezing layer 'model.8.cv1.bn.weight'\n",
            "Freezing layer 'model.8.cv1.bn.bias'\n",
            "Freezing layer 'model.8.cv2.conv.weight'\n",
            "Freezing layer 'model.8.cv2.bn.weight'\n",
            "Freezing layer 'model.8.cv2.bn.bias'\n",
            "Freezing layer 'model.8.m.0.cv1.conv.weight'\n",
            "Freezing layer 'model.8.m.0.cv1.bn.weight'\n",
            "Freezing layer 'model.8.m.0.cv1.bn.bias'\n",
            "Freezing layer 'model.8.m.0.cv2.conv.weight'\n",
            "Freezing layer 'model.8.m.0.cv2.bn.weight'\n",
            "Freezing layer 'model.8.m.0.cv2.bn.bias'\n",
            "Freezing layer 'model.9.cv1.conv.weight'\n",
            "Freezing layer 'model.9.cv1.bn.weight'\n",
            "Freezing layer 'model.9.cv1.bn.bias'\n",
            "Freezing layer 'model.9.cv2.conv.weight'\n",
            "Freezing layer 'model.9.cv2.bn.weight'\n",
            "Freezing layer 'model.9.cv2.bn.bias'\n",
            "Freezing layer 'model.22.dfl.conv.weight'\n",
            "\u001b[34m\u001b[1mAMP: \u001b[0mrunning Automatic Mixed Precision (AMP) checks...\n",
            "Downloading https://github.com/ultralytics/assets/releases/download/v8.3.0/yolo11n.pt to 'yolo11n.pt'...\n"
          ]
        },
        {
          "output_type": "stream",
          "name": "stderr",
          "text": [
            "100%|██████████| 5.35M/5.35M [00:00<00:00, 113MB/s]\n"
          ]
        },
        {
          "output_type": "stream",
          "name": "stdout",
          "text": [
            "\u001b[34m\u001b[1mAMP: \u001b[0mchecks passed ✅\n"
          ]
        },
        {
          "output_type": "stream",
          "name": "stderr",
          "text": [
            "\u001b[34m\u001b[1mtrain: \u001b[0mScanning /content/train/labels... 1137 images, 4 backgrounds, 0 corrupt: 100%|██████████| 1137/1137 [00:00<00:00, 1530.22it/s]"
          ]
        },
        {
          "output_type": "stream",
          "name": "stdout",
          "text": [
            "\u001b[34m\u001b[1mtrain: \u001b[0mNew cache created: /content/train/labels.cache\n"
          ]
        },
        {
          "output_type": "stream",
          "name": "stderr",
          "text": [
            "\n"
          ]
        },
        {
          "output_type": "stream",
          "name": "stdout",
          "text": [
            "\u001b[34m\u001b[1malbumentations: \u001b[0mBlur(p=0.01, blur_limit=(3, 7)), MedianBlur(p=0.01, blur_limit=(3, 7)), ToGray(p=0.01, num_output_channels=3, method='weighted_average'), CLAHE(p=0.01, clip_limit=(1.0, 4.0), tile_grid_size=(8, 8))\n"
          ]
        },
        {
          "output_type": "stream",
          "name": "stderr",
          "text": [
            "/usr/local/lib/python3.10/dist-packages/albumentations/__init__.py:24: UserWarning: A new version of Albumentations is available: 1.4.22 (you have 1.4.20). Upgrade using: pip install -U albumentations. To disable automatic update checks, set the environment variable NO_ALBUMENTATIONS_UPDATE to 1.\n",
            "  check_for_updates()\n",
            "\u001b[34m\u001b[1mval: \u001b[0mScanning /content/valid/labels... 46 images, 0 backgrounds, 0 corrupt: 100%|██████████| 46/46 [00:00<00:00, 1106.87it/s]"
          ]
        },
        {
          "output_type": "stream",
          "name": "stdout",
          "text": [
            "\u001b[34m\u001b[1mval: \u001b[0mNew cache created: /content/valid/labels.cache\n"
          ]
        },
        {
          "output_type": "stream",
          "name": "stderr",
          "text": [
            "\n"
          ]
        },
        {
          "output_type": "stream",
          "name": "stdout",
          "text": [
            "Plotting labels to runs/detect/train/labels.jpg... \n",
            "\u001b[34m\u001b[1moptimizer:\u001b[0m 'optimizer=auto' found, ignoring 'lr0=0.005' and 'momentum=0.95' and determining best 'optimizer', 'lr0' and 'momentum' automatically... \n",
            "\u001b[34m\u001b[1moptimizer:\u001b[0m AdamW(lr=0.001111, momentum=0.9) with parameter groups 57 weight(decay=0.0), 64 weight(decay=0.0003), 63 bias(decay=0.0)\n",
            "\u001b[34m\u001b[1mTensorBoard: \u001b[0mmodel graph visualization added ✅\n",
            "Image sizes 640 train, 640 val\n",
            "Using 2 dataloader workers\n",
            "Logging results to \u001b[1mruns/detect/train\u001b[0m\n",
            "Starting training for 75 epochs...\n",
            "\n",
            "      Epoch    GPU_mem   box_loss   cls_loss   dfl_loss  Instances       Size\n"
          ]
        },
        {
          "output_type": "stream",
          "name": "stderr",
          "text": [
            "       1/75      1.99G      1.954      3.913      1.555          5        640: 100%|██████████| 72/72 [00:23<00:00,  3.12it/s]\n",
            "                 Class     Images  Instances      Box(P          R      mAP50  mAP50-95): 100%|██████████| 2/2 [00:02<00:00,  1.28s/it]"
          ]
        },
        {
          "output_type": "stream",
          "name": "stdout",
          "text": [
            "                   all         46         85      0.624      0.244      0.293      0.146\n"
          ]
        },
        {
          "output_type": "stream",
          "name": "stderr",
          "text": [
            "\n"
          ]
        },
        {
          "output_type": "stream",
          "name": "stdout",
          "text": [
            "\n",
            "      Epoch    GPU_mem   box_loss   cls_loss   dfl_loss  Instances       Size\n"
          ]
        },
        {
          "output_type": "stream",
          "name": "stderr",
          "text": [
            "       2/75      1.76G      1.834      2.577      1.433          7        640: 100%|██████████| 72/72 [00:21<00:00,  3.32it/s]\n",
            "                 Class     Images  Instances      Box(P          R      mAP50  mAP50-95): 100%|██████████| 2/2 [00:00<00:00,  3.99it/s]"
          ]
        },
        {
          "output_type": "stream",
          "name": "stdout",
          "text": [
            "                   all         46         85      0.631      0.353      0.373      0.163\n"
          ]
        },
        {
          "output_type": "stream",
          "name": "stderr",
          "text": [
            "\n"
          ]
        },
        {
          "output_type": "stream",
          "name": "stdout",
          "text": [
            "\n",
            "      Epoch    GPU_mem   box_loss   cls_loss   dfl_loss  Instances       Size\n"
          ]
        },
        {
          "output_type": "stream",
          "name": "stderr",
          "text": [
            "       3/75      1.94G      1.794      2.329      1.438          1        640: 100%|██████████| 72/72 [00:20<00:00,  3.49it/s]\n",
            "                 Class     Images  Instances      Box(P          R      mAP50  mAP50-95): 100%|██████████| 2/2 [00:00<00:00,  3.24it/s]\n"
          ]
        },
        {
          "output_type": "stream",
          "name": "stdout",
          "text": [
            "                   all         46         85      0.622      0.399      0.455       0.23\n",
            "\n",
            "      Epoch    GPU_mem   box_loss   cls_loss   dfl_loss  Instances       Size\n"
          ]
        },
        {
          "output_type": "stream",
          "name": "stderr",
          "text": [
            "       4/75      1.91G      1.778      2.097      1.408          4        640: 100%|██████████| 72/72 [00:20<00:00,  3.55it/s]\n",
            "                 Class     Images  Instances      Box(P          R      mAP50  mAP50-95): 100%|██████████| 2/2 [00:00<00:00,  4.12it/s]"
          ]
        },
        {
          "output_type": "stream",
          "name": "stdout",
          "text": [
            "                   all         46         85      0.522      0.433      0.453      0.242\n"
          ]
        },
        {
          "output_type": "stream",
          "name": "stderr",
          "text": [
            "\n"
          ]
        },
        {
          "output_type": "stream",
          "name": "stdout",
          "text": [
            "\n",
            "      Epoch    GPU_mem   box_loss   cls_loss   dfl_loss  Instances       Size\n"
          ]
        },
        {
          "output_type": "stream",
          "name": "stderr",
          "text": [
            "       5/75      1.78G       1.78       1.99      1.396          2        640: 100%|██████████| 72/72 [00:20<00:00,  3.53it/s]\n",
            "                 Class     Images  Instances      Box(P          R      mAP50  mAP50-95): 100%|██████████| 2/2 [00:00<00:00,  2.60it/s]"
          ]
        },
        {
          "output_type": "stream",
          "name": "stdout",
          "text": [
            "                   all         46         85      0.698      0.466      0.543        0.3\n"
          ]
        },
        {
          "output_type": "stream",
          "name": "stderr",
          "text": [
            "\n"
          ]
        },
        {
          "output_type": "stream",
          "name": "stdout",
          "text": [
            "\n",
            "      Epoch    GPU_mem   box_loss   cls_loss   dfl_loss  Instances       Size\n"
          ]
        },
        {
          "output_type": "stream",
          "name": "stderr",
          "text": [
            "       6/75      1.92G      1.761      1.895      1.392          4        640: 100%|██████████| 72/72 [00:21<00:00,  3.42it/s]\n",
            "                 Class     Images  Instances      Box(P          R      mAP50  mAP50-95): 100%|██████████| 2/2 [00:00<00:00,  2.24it/s]"
          ]
        },
        {
          "output_type": "stream",
          "name": "stdout",
          "text": [
            "                   all         46         85      0.723        0.5      0.564      0.327\n"
          ]
        },
        {
          "output_type": "stream",
          "name": "stderr",
          "text": [
            "\n"
          ]
        },
        {
          "output_type": "stream",
          "name": "stdout",
          "text": [
            "\n",
            "      Epoch    GPU_mem   box_loss   cls_loss   dfl_loss  Instances       Size\n"
          ]
        },
        {
          "output_type": "stream",
          "name": "stderr",
          "text": [
            "       7/75      1.89G      1.702      1.732      1.361          2        640: 100%|██████████| 72/72 [00:20<00:00,  3.59it/s]\n",
            "                 Class     Images  Instances      Box(P          R      mAP50  mAP50-95): 100%|██████████| 2/2 [00:00<00:00,  4.10it/s]"
          ]
        },
        {
          "output_type": "stream",
          "name": "stdout",
          "text": [
            "                   all         46         85      0.744      0.537      0.586      0.375\n"
          ]
        },
        {
          "output_type": "stream",
          "name": "stderr",
          "text": [
            "\n"
          ]
        },
        {
          "output_type": "stream",
          "name": "stdout",
          "text": [
            "\n",
            "      Epoch    GPU_mem   box_loss   cls_loss   dfl_loss  Instances       Size\n"
          ]
        },
        {
          "output_type": "stream",
          "name": "stderr",
          "text": [
            "       8/75      1.81G      1.608      1.659        1.3          2        640: 100%|██████████| 72/72 [00:20<00:00,  3.59it/s]\n",
            "                 Class     Images  Instances      Box(P          R      mAP50  mAP50-95): 100%|██████████| 2/2 [00:00<00:00,  3.82it/s]"
          ]
        },
        {
          "output_type": "stream",
          "name": "stdout",
          "text": [
            "                   all         46         85      0.654      0.537      0.566      0.356\n"
          ]
        },
        {
          "output_type": "stream",
          "name": "stderr",
          "text": [
            "\n"
          ]
        },
        {
          "output_type": "stream",
          "name": "stdout",
          "text": [
            "\n",
            "      Epoch    GPU_mem   box_loss   cls_loss   dfl_loss  Instances       Size\n"
          ]
        },
        {
          "output_type": "stream",
          "name": "stderr",
          "text": [
            "       9/75      1.78G      1.625      1.582      1.314          5        640: 100%|██████████| 72/72 [00:20<00:00,  3.55it/s]\n",
            "                 Class     Images  Instances      Box(P          R      mAP50  mAP50-95): 100%|██████████| 2/2 [00:00<00:00,  3.22it/s]"
          ]
        },
        {
          "output_type": "stream",
          "name": "stdout",
          "text": [
            "                   all         46         85      0.717      0.534      0.581      0.351\n"
          ]
        },
        {
          "output_type": "stream",
          "name": "stderr",
          "text": [
            "\n"
          ]
        },
        {
          "output_type": "stream",
          "name": "stdout",
          "text": [
            "\n",
            "      Epoch    GPU_mem   box_loss   cls_loss   dfl_loss  Instances       Size\n"
          ]
        },
        {
          "output_type": "stream",
          "name": "stderr",
          "text": [
            "      10/75      1.89G      1.616      1.537      1.293          8        640: 100%|██████████| 72/72 [00:20<00:00,  3.57it/s]\n",
            "                 Class     Images  Instances      Box(P          R      mAP50  mAP50-95): 100%|██████████| 2/2 [00:00<00:00,  2.01it/s]"
          ]
        },
        {
          "output_type": "stream",
          "name": "stdout",
          "text": [
            "                   all         46         85      0.791      0.548      0.607      0.351\n"
          ]
        },
        {
          "output_type": "stream",
          "name": "stderr",
          "text": [
            "\n"
          ]
        },
        {
          "output_type": "stream",
          "name": "stdout",
          "text": [
            "\n",
            "      Epoch    GPU_mem   box_loss   cls_loss   dfl_loss  Instances       Size\n"
          ]
        },
        {
          "output_type": "stream",
          "name": "stderr",
          "text": [
            "      11/75      1.81G      1.543      1.465       1.26          8        640: 100%|██████████| 72/72 [00:21<00:00,  3.37it/s]\n",
            "                 Class     Images  Instances      Box(P          R      mAP50  mAP50-95): 100%|██████████| 2/2 [00:01<00:00,  1.97it/s]"
          ]
        },
        {
          "output_type": "stream",
          "name": "stdout",
          "text": [
            "                   all         46         85      0.723      0.599      0.612      0.396\n"
          ]
        },
        {
          "output_type": "stream",
          "name": "stderr",
          "text": [
            "\n"
          ]
        },
        {
          "output_type": "stream",
          "name": "stdout",
          "text": [
            "\n",
            "      Epoch    GPU_mem   box_loss   cls_loss   dfl_loss  Instances       Size\n"
          ]
        },
        {
          "output_type": "stream",
          "name": "stderr",
          "text": [
            "      12/75      1.89G      1.517      1.384      1.216          4        640: 100%|██████████| 72/72 [00:19<00:00,  3.63it/s]\n",
            "                 Class     Images  Instances      Box(P          R      mAP50  mAP50-95): 100%|██████████| 2/2 [00:00<00:00,  3.77it/s]"
          ]
        },
        {
          "output_type": "stream",
          "name": "stdout",
          "text": [
            "                   all         46         85      0.849      0.604      0.661      0.414\n"
          ]
        },
        {
          "output_type": "stream",
          "name": "stderr",
          "text": [
            "\n"
          ]
        },
        {
          "output_type": "stream",
          "name": "stdout",
          "text": [
            "\n",
            "      Epoch    GPU_mem   box_loss   cls_loss   dfl_loss  Instances       Size\n"
          ]
        },
        {
          "output_type": "stream",
          "name": "stderr",
          "text": [
            "      13/75      1.89G       1.49      1.338      1.218          8        640: 100%|██████████| 72/72 [00:19<00:00,  3.60it/s]\n",
            "                 Class     Images  Instances      Box(P          R      mAP50  mAP50-95): 100%|██████████| 2/2 [00:00<00:00,  3.61it/s]\n"
          ]
        },
        {
          "output_type": "stream",
          "name": "stdout",
          "text": [
            "                   all         46         85      0.698      0.591      0.614      0.369\n",
            "\n",
            "      Epoch    GPU_mem   box_loss   cls_loss   dfl_loss  Instances       Size\n"
          ]
        },
        {
          "output_type": "stream",
          "name": "stderr",
          "text": [
            "      14/75      1.89G       1.48      1.296      1.214          6        640: 100%|██████████| 72/72 [00:20<00:00,  3.55it/s]\n",
            "                 Class     Images  Instances      Box(P          R      mAP50  mAP50-95): 100%|██████████| 2/2 [00:00<00:00,  3.99it/s]"
          ]
        },
        {
          "output_type": "stream",
          "name": "stdout",
          "text": [
            "                   all         46         85      0.814      0.558      0.602      0.393\n"
          ]
        },
        {
          "output_type": "stream",
          "name": "stderr",
          "text": [
            "\n"
          ]
        },
        {
          "output_type": "stream",
          "name": "stdout",
          "text": [
            "\n",
            "      Epoch    GPU_mem   box_loss   cls_loss   dfl_loss  Instances       Size\n"
          ]
        },
        {
          "output_type": "stream",
          "name": "stderr",
          "text": [
            "      15/75      1.78G      1.469      1.269      1.196          8        640: 100%|██████████| 72/72 [00:20<00:00,  3.45it/s]\n",
            "                 Class     Images  Instances      Box(P          R      mAP50  mAP50-95): 100%|██████████| 2/2 [00:00<00:00,  2.45it/s]"
          ]
        },
        {
          "output_type": "stream",
          "name": "stdout",
          "text": [
            "                   all         46         85      0.801      0.562      0.589      0.411\n"
          ]
        },
        {
          "output_type": "stream",
          "name": "stderr",
          "text": [
            "\n"
          ]
        },
        {
          "output_type": "stream",
          "name": "stdout",
          "text": [
            "\n",
            "      Epoch    GPU_mem   box_loss   cls_loss   dfl_loss  Instances       Size\n"
          ]
        },
        {
          "output_type": "stream",
          "name": "stderr",
          "text": [
            "      16/75      1.92G      1.456      1.284      1.188          9        640: 100%|██████████| 72/72 [00:21<00:00,  3.42it/s]\n",
            "                 Class     Images  Instances      Box(P          R      mAP50  mAP50-95): 100%|██████████| 2/2 [00:01<00:00,  1.93it/s]"
          ]
        },
        {
          "output_type": "stream",
          "name": "stdout",
          "text": [
            "                   all         46         85      0.866      0.595      0.625      0.416\n"
          ]
        },
        {
          "output_type": "stream",
          "name": "stderr",
          "text": [
            "\n"
          ]
        },
        {
          "output_type": "stream",
          "name": "stdout",
          "text": [
            "\n",
            "      Epoch    GPU_mem   box_loss   cls_loss   dfl_loss  Instances       Size\n"
          ]
        },
        {
          "output_type": "stream",
          "name": "stderr",
          "text": [
            "      17/75      1.76G      1.407      1.192      1.164          8        640: 100%|██████████| 72/72 [00:20<00:00,  3.51it/s]\n",
            "                 Class     Images  Instances      Box(P          R      mAP50  mAP50-95): 100%|██████████| 2/2 [00:00<00:00,  4.75it/s]"
          ]
        },
        {
          "output_type": "stream",
          "name": "stdout",
          "text": [
            "                   all         46         85      0.849      0.612      0.631      0.415\n"
          ]
        },
        {
          "output_type": "stream",
          "name": "stderr",
          "text": [
            "\n"
          ]
        },
        {
          "output_type": "stream",
          "name": "stdout",
          "text": [
            "\n",
            "      Epoch    GPU_mem   box_loss   cls_loss   dfl_loss  Instances       Size\n"
          ]
        },
        {
          "output_type": "stream",
          "name": "stderr",
          "text": [
            "      18/75      2.05G      1.398      1.151      1.147          6        640: 100%|██████████| 72/72 [00:20<00:00,  3.58it/s]\n",
            "                 Class     Images  Instances      Box(P          R      mAP50  mAP50-95): 100%|██████████| 2/2 [00:00<00:00,  3.72it/s]"
          ]
        },
        {
          "output_type": "stream",
          "name": "stdout",
          "text": [
            "                   all         46         85      0.663      0.583      0.635      0.418\n"
          ]
        },
        {
          "output_type": "stream",
          "name": "stderr",
          "text": [
            "\n"
          ]
        },
        {
          "output_type": "stream",
          "name": "stdout",
          "text": [
            "\n",
            "      Epoch    GPU_mem   box_loss   cls_loss   dfl_loss  Instances       Size\n"
          ]
        },
        {
          "output_type": "stream",
          "name": "stderr",
          "text": [
            "      19/75      1.78G      1.395      1.182      1.161          9        640: 100%|██████████| 72/72 [00:19<00:00,  3.63it/s]\n",
            "                 Class     Images  Instances      Box(P          R      mAP50  mAP50-95): 100%|██████████| 2/2 [00:00<00:00,  3.54it/s]"
          ]
        },
        {
          "output_type": "stream",
          "name": "stdout",
          "text": [
            "                   all         46         85      0.848      0.565      0.616       0.43\n"
          ]
        },
        {
          "output_type": "stream",
          "name": "stderr",
          "text": [
            "\n"
          ]
        },
        {
          "output_type": "stream",
          "name": "stdout",
          "text": [
            "\n",
            "      Epoch    GPU_mem   box_loss   cls_loss   dfl_loss  Instances       Size\n"
          ]
        },
        {
          "output_type": "stream",
          "name": "stderr",
          "text": [
            "      20/75      1.78G      1.385      1.107      1.143          1        640: 100%|██████████| 72/72 [00:20<00:00,  3.54it/s]\n",
            "                 Class     Images  Instances      Box(P          R      mAP50  mAP50-95): 100%|██████████| 2/2 [00:00<00:00,  2.03it/s]"
          ]
        },
        {
          "output_type": "stream",
          "name": "stdout",
          "text": [
            "                   all         46         85       0.79      0.603      0.652      0.428\n"
          ]
        },
        {
          "output_type": "stream",
          "name": "stderr",
          "text": [
            "\n"
          ]
        },
        {
          "output_type": "stream",
          "name": "stdout",
          "text": [
            "\n",
            "      Epoch    GPU_mem   box_loss   cls_loss   dfl_loss  Instances       Size\n"
          ]
        },
        {
          "output_type": "stream",
          "name": "stderr",
          "text": [
            "      21/75      1.86G      1.349      1.084      1.131          4        640: 100%|██████████| 72/72 [00:21<00:00,  3.40it/s]\n",
            "                 Class     Images  Instances      Box(P          R      mAP50  mAP50-95): 100%|██████████| 2/2 [00:00<00:00,  2.14it/s]"
          ]
        },
        {
          "output_type": "stream",
          "name": "stdout",
          "text": [
            "                   all         46         85      0.879      0.579      0.654      0.436\n"
          ]
        },
        {
          "output_type": "stream",
          "name": "stderr",
          "text": [
            "\n"
          ]
        },
        {
          "output_type": "stream",
          "name": "stdout",
          "text": [
            "\n",
            "      Epoch    GPU_mem   box_loss   cls_loss   dfl_loss  Instances       Size\n"
          ]
        },
        {
          "output_type": "stream",
          "name": "stderr",
          "text": [
            "      22/75      2.04G      1.333      1.094      1.128          1        640: 100%|██████████| 72/72 [00:20<00:00,  3.53it/s]\n",
            "                 Class     Images  Instances      Box(P          R      mAP50  mAP50-95): 100%|██████████| 2/2 [00:00<00:00,  4.33it/s]"
          ]
        },
        {
          "output_type": "stream",
          "name": "stdout",
          "text": [
            "                   all         46         85      0.819      0.591      0.649      0.433\n"
          ]
        },
        {
          "output_type": "stream",
          "name": "stderr",
          "text": [
            "\n"
          ]
        },
        {
          "output_type": "stream",
          "name": "stdout",
          "text": [
            "\n",
            "      Epoch    GPU_mem   box_loss   cls_loss   dfl_loss  Instances       Size\n"
          ]
        },
        {
          "output_type": "stream",
          "name": "stderr",
          "text": [
            "      23/75      1.94G      1.346      1.096      1.127         14        640: 100%|██████████| 72/72 [00:20<00:00,  3.54it/s]\n",
            "                 Class     Images  Instances      Box(P          R      mAP50  mAP50-95): 100%|██████████| 2/2 [00:00<00:00,  3.52it/s]"
          ]
        },
        {
          "output_type": "stream",
          "name": "stdout",
          "text": [
            "                   all         46         85      0.771      0.591      0.631      0.423\n"
          ]
        },
        {
          "output_type": "stream",
          "name": "stderr",
          "text": [
            "\n"
          ]
        },
        {
          "output_type": "stream",
          "name": "stdout",
          "text": [
            "\n",
            "      Epoch    GPU_mem   box_loss   cls_loss   dfl_loss  Instances       Size\n"
          ]
        },
        {
          "output_type": "stream",
          "name": "stderr",
          "text": [
            "      24/75      1.94G      1.311      1.019       1.11          4        640: 100%|██████████| 72/72 [00:20<00:00,  3.56it/s]\n",
            "                 Class     Images  Instances      Box(P          R      mAP50  mAP50-95): 100%|██████████| 2/2 [00:00<00:00,  3.33it/s]"
          ]
        },
        {
          "output_type": "stream",
          "name": "stdout",
          "text": [
            "                   all         46         85      0.811      0.577      0.626      0.431\n"
          ]
        },
        {
          "output_type": "stream",
          "name": "stderr",
          "text": [
            "\n"
          ]
        },
        {
          "output_type": "stream",
          "name": "stdout",
          "text": [
            "\n",
            "      Epoch    GPU_mem   box_loss   cls_loss   dfl_loss  Instances       Size\n"
          ]
        },
        {
          "output_type": "stream",
          "name": "stderr",
          "text": [
            "      25/75      1.82G      1.305      1.023      1.101          2        640: 100%|██████████| 72/72 [00:20<00:00,  3.50it/s]\n",
            "                 Class     Images  Instances      Box(P          R      mAP50  mAP50-95): 100%|██████████| 2/2 [00:00<00:00,  3.59it/s]"
          ]
        },
        {
          "output_type": "stream",
          "name": "stdout",
          "text": [
            "                   all         46         85      0.898      0.586      0.651      0.418\n"
          ]
        },
        {
          "output_type": "stream",
          "name": "stderr",
          "text": [
            "\n"
          ]
        },
        {
          "output_type": "stream",
          "name": "stdout",
          "text": [
            "\n",
            "      Epoch    GPU_mem   box_loss   cls_loss   dfl_loss  Instances       Size\n"
          ]
        },
        {
          "output_type": "stream",
          "name": "stderr",
          "text": [
            "      26/75      1.94G      1.286      1.003      1.097          9        640: 100%|██████████| 72/72 [00:21<00:00,  3.32it/s]\n",
            "                 Class     Images  Instances      Box(P          R      mAP50  mAP50-95): 100%|██████████| 2/2 [00:00<00:00,  2.12it/s]"
          ]
        },
        {
          "output_type": "stream",
          "name": "stdout",
          "text": [
            "                   all         46         85      0.846       0.62       0.66      0.452\n"
          ]
        },
        {
          "output_type": "stream",
          "name": "stderr",
          "text": [
            "\n"
          ]
        },
        {
          "output_type": "stream",
          "name": "stdout",
          "text": [
            "\n",
            "      Epoch    GPU_mem   box_loss   cls_loss   dfl_loss  Instances       Size\n"
          ]
        },
        {
          "output_type": "stream",
          "name": "stderr",
          "text": [
            "      27/75      1.76G      1.273     0.9757      1.086          6        640: 100%|██████████| 72/72 [00:21<00:00,  3.36it/s]\n",
            "                 Class     Images  Instances      Box(P          R      mAP50  mAP50-95): 100%|██████████| 2/2 [00:00<00:00,  2.80it/s]"
          ]
        },
        {
          "output_type": "stream",
          "name": "stdout",
          "text": [
            "                   all         46         85       0.78      0.608      0.665      0.439\n"
          ]
        },
        {
          "output_type": "stream",
          "name": "stderr",
          "text": [
            "\n"
          ]
        },
        {
          "output_type": "stream",
          "name": "stdout",
          "text": [
            "\n",
            "      Epoch    GPU_mem   box_loss   cls_loss   dfl_loss  Instances       Size\n"
          ]
        },
        {
          "output_type": "stream",
          "name": "stderr",
          "text": [
            "      28/75      1.86G      1.263     0.9537      1.091          6        640: 100%|██████████| 72/72 [00:21<00:00,  3.41it/s]\n",
            "                 Class     Images  Instances      Box(P          R      mAP50  mAP50-95): 100%|██████████| 2/2 [00:00<00:00,  3.46it/s]"
          ]
        },
        {
          "output_type": "stream",
          "name": "stdout",
          "text": [
            "                   all         46         85       0.79      0.642      0.689      0.456\n"
          ]
        },
        {
          "output_type": "stream",
          "name": "stderr",
          "text": [
            "\n"
          ]
        },
        {
          "output_type": "stream",
          "name": "stdout",
          "text": [
            "\n",
            "      Epoch    GPU_mem   box_loss   cls_loss   dfl_loss  Instances       Size\n"
          ]
        },
        {
          "output_type": "stream",
          "name": "stderr",
          "text": [
            "      29/75      1.94G      1.247     0.9701      1.074          2        640: 100%|██████████| 72/72 [00:20<00:00,  3.47it/s]\n",
            "                 Class     Images  Instances      Box(P          R      mAP50  mAP50-95): 100%|██████████| 2/2 [00:00<00:00,  3.52it/s]"
          ]
        },
        {
          "output_type": "stream",
          "name": "stdout",
          "text": [
            "                   all         46         85      0.753      0.681      0.702      0.471\n"
          ]
        },
        {
          "output_type": "stream",
          "name": "stderr",
          "text": [
            "\n"
          ]
        },
        {
          "output_type": "stream",
          "name": "stdout",
          "text": [
            "\n",
            "      Epoch    GPU_mem   box_loss   cls_loss   dfl_loss  Instances       Size\n"
          ]
        },
        {
          "output_type": "stream",
          "name": "stderr",
          "text": [
            "      30/75      1.89G      1.227     0.9367      1.074          3        640: 100%|██████████| 72/72 [00:20<00:00,  3.43it/s]\n",
            "                 Class     Images  Instances      Box(P          R      mAP50  mAP50-95): 100%|██████████| 2/2 [00:00<00:00,  3.83it/s]"
          ]
        },
        {
          "output_type": "stream",
          "name": "stdout",
          "text": [
            "                   all         46         85      0.868      0.611      0.655      0.461\n"
          ]
        },
        {
          "output_type": "stream",
          "name": "stderr",
          "text": [
            "\n"
          ]
        },
        {
          "output_type": "stream",
          "name": "stdout",
          "text": [
            "\n",
            "      Epoch    GPU_mem   box_loss   cls_loss   dfl_loss  Instances       Size\n"
          ]
        },
        {
          "output_type": "stream",
          "name": "stderr",
          "text": [
            "      31/75      1.92G      1.226     0.9048      1.063          6        640: 100%|██████████| 72/72 [00:21<00:00,  3.35it/s]\n",
            "                 Class     Images  Instances      Box(P          R      mAP50  mAP50-95): 100%|██████████| 2/2 [00:00<00:00,  2.10it/s]"
          ]
        },
        {
          "output_type": "stream",
          "name": "stdout",
          "text": [
            "                   all         46         85      0.853      0.639      0.689      0.458\n"
          ]
        },
        {
          "output_type": "stream",
          "name": "stderr",
          "text": [
            "\n"
          ]
        },
        {
          "output_type": "stream",
          "name": "stdout",
          "text": [
            "\n",
            "      Epoch    GPU_mem   box_loss   cls_loss   dfl_loss  Instances       Size\n"
          ]
        },
        {
          "output_type": "stream",
          "name": "stderr",
          "text": [
            "      32/75      1.99G      1.201     0.9053      1.041         17        640: 100%|██████████| 72/72 [00:21<00:00,  3.30it/s]\n",
            "                 Class     Images  Instances      Box(P          R      mAP50  mAP50-95): 100%|██████████| 2/2 [00:00<00:00,  2.22it/s]"
          ]
        },
        {
          "output_type": "stream",
          "name": "stdout",
          "text": [
            "                   all         46         85      0.871      0.592      0.652      0.444\n"
          ]
        },
        {
          "output_type": "stream",
          "name": "stderr",
          "text": [
            "\n"
          ]
        },
        {
          "output_type": "stream",
          "name": "stdout",
          "text": [
            "\n",
            "      Epoch    GPU_mem   box_loss   cls_loss   dfl_loss  Instances       Size\n"
          ]
        },
        {
          "output_type": "stream",
          "name": "stderr",
          "text": [
            "      33/75      1.78G      1.223     0.9197      1.069          8        640: 100%|██████████| 72/72 [00:20<00:00,  3.52it/s]\n",
            "                 Class     Images  Instances      Box(P          R      mAP50  mAP50-95): 100%|██████████| 2/2 [00:00<00:00,  4.27it/s]"
          ]
        },
        {
          "output_type": "stream",
          "name": "stdout",
          "text": [
            "                   all         46         85      0.799      0.621      0.675       0.43\n"
          ]
        },
        {
          "output_type": "stream",
          "name": "stderr",
          "text": [
            "\n"
          ]
        },
        {
          "output_type": "stream",
          "name": "stdout",
          "text": [
            "\n",
            "      Epoch    GPU_mem   box_loss   cls_loss   dfl_loss  Instances       Size\n"
          ]
        },
        {
          "output_type": "stream",
          "name": "stderr",
          "text": [
            "      34/75      1.89G      1.186     0.8803       1.05          5        640: 100%|██████████| 72/72 [00:20<00:00,  3.47it/s]\n",
            "                 Class     Images  Instances      Box(P          R      mAP50  mAP50-95): 100%|██████████| 2/2 [00:00<00:00,  3.50it/s]"
          ]
        },
        {
          "output_type": "stream",
          "name": "stdout",
          "text": [
            "                   all         46         85      0.773      0.618      0.631      0.425\n"
          ]
        },
        {
          "output_type": "stream",
          "name": "stderr",
          "text": [
            "\n"
          ]
        },
        {
          "output_type": "stream",
          "name": "stdout",
          "text": [
            "\n",
            "      Epoch    GPU_mem   box_loss   cls_loss   dfl_loss  Instances       Size\n"
          ]
        },
        {
          "output_type": "stream",
          "name": "stderr",
          "text": [
            "      35/75      1.82G      1.187     0.8541      1.039          4        640: 100%|██████████| 72/72 [00:19<00:00,  3.63it/s]\n",
            "                 Class     Images  Instances      Box(P          R      mAP50  mAP50-95): 100%|██████████| 2/2 [00:00<00:00,  3.56it/s]"
          ]
        },
        {
          "output_type": "stream",
          "name": "stdout",
          "text": [
            "                   all         46         85      0.878      0.602      0.649      0.451\n"
          ]
        },
        {
          "output_type": "stream",
          "name": "stderr",
          "text": [
            "\n"
          ]
        },
        {
          "output_type": "stream",
          "name": "stdout",
          "text": [
            "\n",
            "      Epoch    GPU_mem   box_loss   cls_loss   dfl_loss  Instances       Size\n"
          ]
        },
        {
          "output_type": "stream",
          "name": "stderr",
          "text": [
            "      36/75      1.74G      1.171     0.8453      1.044          8        640: 100%|██████████| 72/72 [00:21<00:00,  3.36it/s]\n",
            "                 Class     Images  Instances      Box(P          R      mAP50  mAP50-95): 100%|██████████| 2/2 [00:00<00:00,  2.44it/s]"
          ]
        },
        {
          "output_type": "stream",
          "name": "stdout",
          "text": [
            "                   all         46         85      0.882      0.584      0.672      0.468\n"
          ]
        },
        {
          "output_type": "stream",
          "name": "stderr",
          "text": [
            "\n"
          ]
        },
        {
          "output_type": "stream",
          "name": "stdout",
          "text": [
            "\n",
            "      Epoch    GPU_mem   box_loss   cls_loss   dfl_loss  Instances       Size\n"
          ]
        },
        {
          "output_type": "stream",
          "name": "stderr",
          "text": [
            "      37/75      1.89G      1.166     0.8391      1.036         13        640: 100%|██████████| 72/72 [00:21<00:00,  3.36it/s]\n",
            "                 Class     Images  Instances      Box(P          R      mAP50  mAP50-95): 100%|██████████| 2/2 [00:00<00:00,  2.17it/s]"
          ]
        },
        {
          "output_type": "stream",
          "name": "stdout",
          "text": [
            "                   all         46         85      0.856      0.581      0.666      0.458\n"
          ]
        },
        {
          "output_type": "stream",
          "name": "stderr",
          "text": [
            "\n"
          ]
        },
        {
          "output_type": "stream",
          "name": "stdout",
          "text": [
            "\n",
            "      Epoch    GPU_mem   box_loss   cls_loss   dfl_loss  Instances       Size\n"
          ]
        },
        {
          "output_type": "stream",
          "name": "stderr",
          "text": [
            "      38/75      1.83G      1.167     0.8387      1.035         11        640: 100%|██████████| 72/72 [00:19<00:00,  3.63it/s]\n",
            "                 Class     Images  Instances      Box(P          R      mAP50  mAP50-95): 100%|██████████| 2/2 [00:00<00:00,  4.00it/s]"
          ]
        },
        {
          "output_type": "stream",
          "name": "stdout",
          "text": [
            "                   all         46         85      0.886      0.587      0.641      0.439\n"
          ]
        },
        {
          "output_type": "stream",
          "name": "stderr",
          "text": [
            "\n"
          ]
        },
        {
          "output_type": "stream",
          "name": "stdout",
          "text": [
            "\n",
            "      Epoch    GPU_mem   box_loss   cls_loss   dfl_loss  Instances       Size\n"
          ]
        },
        {
          "output_type": "stream",
          "name": "stderr",
          "text": [
            "      39/75      1.75G      1.144     0.8152      1.022          1        640: 100%|██████████| 72/72 [00:20<00:00,  3.54it/s]\n",
            "                 Class     Images  Instances      Box(P          R      mAP50  mAP50-95): 100%|██████████| 2/2 [00:00<00:00,  4.44it/s]"
          ]
        },
        {
          "output_type": "stream",
          "name": "stdout",
          "text": [
            "                   all         46         85      0.827       0.63      0.661      0.458\n"
          ]
        },
        {
          "output_type": "stream",
          "name": "stderr",
          "text": [
            "\n"
          ]
        },
        {
          "output_type": "stream",
          "name": "stdout",
          "text": [
            "\n",
            "      Epoch    GPU_mem   box_loss   cls_loss   dfl_loss  Instances       Size\n"
          ]
        },
        {
          "output_type": "stream",
          "name": "stderr",
          "text": [
            "      40/75      1.86G      1.138     0.7962      1.034          3        640: 100%|██████████| 72/72 [00:20<00:00,  3.53it/s]\n",
            "                 Class     Images  Instances      Box(P          R      mAP50  mAP50-95): 100%|██████████| 2/2 [00:00<00:00,  3.57it/s]"
          ]
        },
        {
          "output_type": "stream",
          "name": "stdout",
          "text": [
            "                   all         46         85      0.909      0.598      0.648      0.452\n"
          ]
        },
        {
          "output_type": "stream",
          "name": "stderr",
          "text": [
            "\n"
          ]
        },
        {
          "output_type": "stream",
          "name": "stdout",
          "text": [
            "\n",
            "      Epoch    GPU_mem   box_loss   cls_loss   dfl_loss  Instances       Size\n"
          ]
        },
        {
          "output_type": "stream",
          "name": "stderr",
          "text": [
            "      41/75      1.89G      1.139     0.7989      1.016          3        640: 100%|██████████| 72/72 [00:20<00:00,  3.53it/s]\n",
            "                 Class     Images  Instances      Box(P          R      mAP50  mAP50-95): 100%|██████████| 2/2 [00:00<00:00,  2.13it/s]"
          ]
        },
        {
          "output_type": "stream",
          "name": "stdout",
          "text": [
            "                   all         46         85      0.877      0.573      0.655      0.438\n"
          ]
        },
        {
          "output_type": "stream",
          "name": "stderr",
          "text": [
            "\n"
          ]
        },
        {
          "output_type": "stream",
          "name": "stdout",
          "text": [
            "\n",
            "      Epoch    GPU_mem   box_loss   cls_loss   dfl_loss  Instances       Size\n"
          ]
        },
        {
          "output_type": "stream",
          "name": "stderr",
          "text": [
            "      42/75      1.98G      1.133     0.8044      1.041          1        640: 100%|██████████| 72/72 [00:21<00:00,  3.38it/s]\n",
            "                 Class     Images  Instances      Box(P          R      mAP50  mAP50-95): 100%|██████████| 2/2 [00:01<00:00,  1.84it/s]"
          ]
        },
        {
          "output_type": "stream",
          "name": "stdout",
          "text": [
            "                   all         46         85      0.837      0.585      0.631      0.456\n"
          ]
        },
        {
          "output_type": "stream",
          "name": "stderr",
          "text": [
            "\n"
          ]
        },
        {
          "output_type": "stream",
          "name": "stdout",
          "text": [
            "\n",
            "      Epoch    GPU_mem   box_loss   cls_loss   dfl_loss  Instances       Size\n"
          ]
        },
        {
          "output_type": "stream",
          "name": "stderr",
          "text": [
            "      43/75      1.87G      1.124     0.7819      1.014          8        640: 100%|██████████| 72/72 [00:20<00:00,  3.53it/s]\n",
            "                 Class     Images  Instances      Box(P          R      mAP50  mAP50-95): 100%|██████████| 2/2 [00:00<00:00,  4.01it/s]"
          ]
        },
        {
          "output_type": "stream",
          "name": "stdout",
          "text": [
            "                   all         46         85      0.888      0.603      0.662      0.451\n"
          ]
        },
        {
          "output_type": "stream",
          "name": "stderr",
          "text": [
            "\n"
          ]
        },
        {
          "output_type": "stream",
          "name": "stdout",
          "text": [
            "\n",
            "      Epoch    GPU_mem   box_loss   cls_loss   dfl_loss  Instances       Size\n"
          ]
        },
        {
          "output_type": "stream",
          "name": "stderr",
          "text": [
            "      44/75      1.89G      1.114     0.8071      1.016          1        640: 100%|██████████| 72/72 [00:19<00:00,  3.61it/s]\n",
            "                 Class     Images  Instances      Box(P          R      mAP50  mAP50-95): 100%|██████████| 2/2 [00:00<00:00,  4.31it/s]"
          ]
        },
        {
          "output_type": "stream",
          "name": "stdout",
          "text": [
            "                   all         46         85      0.875      0.595       0.66      0.466\n"
          ]
        },
        {
          "output_type": "stream",
          "name": "stderr",
          "text": [
            "\n"
          ]
        },
        {
          "output_type": "stream",
          "name": "stdout",
          "text": [
            "\n",
            "      Epoch    GPU_mem   box_loss   cls_loss   dfl_loss  Instances       Size\n"
          ]
        },
        {
          "output_type": "stream",
          "name": "stderr",
          "text": [
            "      45/75      1.93G      1.099     0.7654      1.002          5        640: 100%|██████████| 72/72 [00:20<00:00,  3.49it/s]\n",
            "                 Class     Images  Instances      Box(P          R      mAP50  mAP50-95): 100%|██████████| 2/2 [00:00<00:00,  3.75it/s]"
          ]
        },
        {
          "output_type": "stream",
          "name": "stdout",
          "text": [
            "                   all         46         85      0.815      0.601      0.662      0.472\n"
          ]
        },
        {
          "output_type": "stream",
          "name": "stderr",
          "text": [
            "\n"
          ]
        },
        {
          "output_type": "stream",
          "name": "stdout",
          "text": [
            "\n",
            "      Epoch    GPU_mem   box_loss   cls_loss   dfl_loss  Instances       Size\n"
          ]
        },
        {
          "output_type": "stream",
          "name": "stderr",
          "text": [
            "      46/75      1.89G      1.102     0.7558     0.9963          6        640: 100%|██████████| 72/72 [00:20<00:00,  3.50it/s]\n",
            "                 Class     Images  Instances      Box(P          R      mAP50  mAP50-95): 100%|██████████| 2/2 [00:00<00:00,  3.42it/s]"
          ]
        },
        {
          "output_type": "stream",
          "name": "stdout",
          "text": [
            "                   all         46         85      0.832      0.609      0.658      0.449\n"
          ]
        },
        {
          "output_type": "stream",
          "name": "stderr",
          "text": [
            "\n"
          ]
        },
        {
          "output_type": "stream",
          "name": "stdout",
          "text": [
            "\n",
            "      Epoch    GPU_mem   box_loss   cls_loss   dfl_loss  Instances       Size\n"
          ]
        },
        {
          "output_type": "stream",
          "name": "stderr",
          "text": [
            "      47/75      1.84G      1.085     0.7506     0.9927          5        640: 100%|██████████| 72/72 [00:20<00:00,  3.51it/s]\n",
            "                 Class     Images  Instances      Box(P          R      mAP50  mAP50-95): 100%|██████████| 2/2 [00:00<00:00,  2.47it/s]"
          ]
        },
        {
          "output_type": "stream",
          "name": "stdout",
          "text": [
            "                   all         46         85      0.856      0.578      0.654      0.453\n"
          ]
        },
        {
          "output_type": "stream",
          "name": "stderr",
          "text": [
            "\n"
          ]
        },
        {
          "output_type": "stream",
          "name": "stdout",
          "text": [
            "\n",
            "      Epoch    GPU_mem   box_loss   cls_loss   dfl_loss  Instances       Size\n"
          ]
        },
        {
          "output_type": "stream",
          "name": "stderr",
          "text": [
            "      48/75      1.89G      1.089     0.7365      1.001          3        640: 100%|██████████| 72/72 [00:21<00:00,  3.39it/s]\n",
            "                 Class     Images  Instances      Box(P          R      mAP50  mAP50-95): 100%|██████████| 2/2 [00:00<00:00,  2.16it/s]"
          ]
        },
        {
          "output_type": "stream",
          "name": "stdout",
          "text": [
            "                   all         46         85      0.877      0.606      0.675      0.474\n"
          ]
        },
        {
          "output_type": "stream",
          "name": "stderr",
          "text": [
            "\n"
          ]
        },
        {
          "output_type": "stream",
          "name": "stdout",
          "text": [
            "\n",
            "      Epoch    GPU_mem   box_loss   cls_loss   dfl_loss  Instances       Size\n"
          ]
        },
        {
          "output_type": "stream",
          "name": "stderr",
          "text": [
            "      49/75      1.85G      1.125     0.7735     0.9931          2        640: 100%|██████████| 72/72 [00:20<00:00,  3.56it/s]\n",
            "                 Class     Images  Instances      Box(P          R      mAP50  mAP50-95): 100%|██████████| 2/2 [00:00<00:00,  5.01it/s]"
          ]
        },
        {
          "output_type": "stream",
          "name": "stdout",
          "text": [
            "                   all         46         85      0.859      0.596      0.642      0.457\n"
          ]
        },
        {
          "output_type": "stream",
          "name": "stderr",
          "text": [
            "\n"
          ]
        },
        {
          "output_type": "stream",
          "name": "stdout",
          "text": [
            "\n",
            "      Epoch    GPU_mem   box_loss   cls_loss   dfl_loss  Instances       Size\n"
          ]
        },
        {
          "output_type": "stream",
          "name": "stderr",
          "text": [
            "      50/75      1.76G      1.097     0.7453     0.9986          6        640: 100%|██████████| 72/72 [00:20<00:00,  3.58it/s]\n",
            "                 Class     Images  Instances      Box(P          R      mAP50  mAP50-95): 100%|██████████| 2/2 [00:00<00:00,  3.98it/s]"
          ]
        },
        {
          "output_type": "stream",
          "name": "stdout",
          "text": [
            "                   all         46         85      0.874      0.621      0.661      0.461\n"
          ]
        },
        {
          "output_type": "stream",
          "name": "stderr",
          "text": [
            "\n"
          ]
        },
        {
          "output_type": "stream",
          "name": "stdout",
          "text": [
            "\n",
            "      Epoch    GPU_mem   box_loss   cls_loss   dfl_loss  Instances       Size\n"
          ]
        },
        {
          "output_type": "stream",
          "name": "stderr",
          "text": [
            "      51/75      1.94G      1.068     0.7854     0.9841          1        640: 100%|██████████| 72/72 [00:19<00:00,  3.65it/s]\n",
            "                 Class     Images  Instances      Box(P          R      mAP50  mAP50-95): 100%|██████████| 2/2 [00:00<00:00,  3.26it/s]\n"
          ]
        },
        {
          "output_type": "stream",
          "name": "stdout",
          "text": [
            "                   all         46         85      0.834      0.634      0.691      0.472\n",
            "\n",
            "      Epoch    GPU_mem   box_loss   cls_loss   dfl_loss  Instances       Size\n"
          ]
        },
        {
          "output_type": "stream",
          "name": "stderr",
          "text": [
            "      52/75      1.78G      1.077      0.728     0.9951          6        640: 100%|██████████| 72/72 [00:20<00:00,  3.45it/s]\n",
            "                 Class     Images  Instances      Box(P          R      mAP50  mAP50-95): 100%|██████████| 2/2 [00:00<00:00,  2.27it/s]"
          ]
        },
        {
          "output_type": "stream",
          "name": "stdout",
          "text": [
            "                   all         46         85      0.863      0.604      0.646      0.457\n"
          ]
        },
        {
          "output_type": "stream",
          "name": "stderr",
          "text": [
            "\n"
          ]
        },
        {
          "output_type": "stream",
          "name": "stdout",
          "text": [
            "\n",
            "      Epoch    GPU_mem   box_loss   cls_loss   dfl_loss  Instances       Size\n"
          ]
        },
        {
          "output_type": "stream",
          "name": "stderr",
          "text": [
            "      53/75      1.86G      1.049     0.7249     0.9801          6        640: 100%|██████████| 72/72 [00:20<00:00,  3.46it/s]\n",
            "                 Class     Images  Instances      Box(P          R      mAP50  mAP50-95): 100%|██████████| 2/2 [00:00<00:00,  2.06it/s]"
          ]
        },
        {
          "output_type": "stream",
          "name": "stdout",
          "text": [
            "                   all         46         85      0.752      0.648      0.674      0.455\n"
          ]
        },
        {
          "output_type": "stream",
          "name": "stderr",
          "text": [
            "\n"
          ]
        },
        {
          "output_type": "stream",
          "name": "stdout",
          "text": [
            "\n",
            "      Epoch    GPU_mem   box_loss   cls_loss   dfl_loss  Instances       Size\n"
          ]
        },
        {
          "output_type": "stream",
          "name": "stderr",
          "text": [
            "      54/75      1.89G      1.057     0.7078     0.9848          6        640: 100%|██████████| 72/72 [00:20<00:00,  3.53it/s]\n",
            "                 Class     Images  Instances      Box(P          R      mAP50  mAP50-95): 100%|██████████| 2/2 [00:00<00:00,  4.01it/s]"
          ]
        },
        {
          "output_type": "stream",
          "name": "stdout",
          "text": [
            "                   all         46         85      0.803      0.628      0.667      0.462\n"
          ]
        },
        {
          "output_type": "stream",
          "name": "stderr",
          "text": [
            "\n"
          ]
        },
        {
          "output_type": "stream",
          "name": "stdout",
          "text": [
            "\n",
            "      Epoch    GPU_mem   box_loss   cls_loss   dfl_loss  Instances       Size\n"
          ]
        },
        {
          "output_type": "stream",
          "name": "stderr",
          "text": [
            "      55/75      1.89G      1.067      0.714     0.9835          1        640: 100%|██████████| 72/72 [00:20<00:00,  3.49it/s]\n",
            "                 Class     Images  Instances      Box(P          R      mAP50  mAP50-95): 100%|██████████| 2/2 [00:00<00:00,  4.68it/s]"
          ]
        },
        {
          "output_type": "stream",
          "name": "stdout",
          "text": [
            "                   all         46         85      0.841      0.675      0.703      0.468\n"
          ]
        },
        {
          "output_type": "stream",
          "name": "stderr",
          "text": [
            "\n"
          ]
        },
        {
          "output_type": "stream",
          "name": "stdout",
          "text": [
            "\n",
            "      Epoch    GPU_mem   box_loss   cls_loss   dfl_loss  Instances       Size\n"
          ]
        },
        {
          "output_type": "stream",
          "name": "stderr",
          "text": [
            "      56/75      1.78G      1.058       0.72     0.9811          4        640: 100%|██████████| 72/72 [00:20<00:00,  3.53it/s]\n",
            "                 Class     Images  Instances      Box(P          R      mAP50  mAP50-95): 100%|██████████| 2/2 [00:00<00:00,  3.85it/s]"
          ]
        },
        {
          "output_type": "stream",
          "name": "stdout",
          "text": [
            "                   all         46         85      0.742      0.708      0.706      0.489\n"
          ]
        },
        {
          "output_type": "stream",
          "name": "stderr",
          "text": [
            "\n"
          ]
        },
        {
          "output_type": "stream",
          "name": "stdout",
          "text": [
            "\n",
            "      Epoch    GPU_mem   box_loss   cls_loss   dfl_loss  Instances       Size\n"
          ]
        },
        {
          "output_type": "stream",
          "name": "stderr",
          "text": [
            "      57/75      1.94G      1.067     0.7138     0.9894          4        640: 100%|██████████| 72/72 [00:20<00:00,  3.48it/s]\n",
            "                 Class     Images  Instances      Box(P          R      mAP50  mAP50-95): 100%|██████████| 2/2 [00:00<00:00,  2.50it/s]"
          ]
        },
        {
          "output_type": "stream",
          "name": "stdout",
          "text": [
            "                   all         46         85      0.814      0.675      0.703      0.478\n"
          ]
        },
        {
          "output_type": "stream",
          "name": "stderr",
          "text": [
            "\n"
          ]
        },
        {
          "output_type": "stream",
          "name": "stdout",
          "text": [
            "\n",
            "      Epoch    GPU_mem   box_loss   cls_loss   dfl_loss  Instances       Size\n"
          ]
        },
        {
          "output_type": "stream",
          "name": "stderr",
          "text": [
            "      58/75      1.89G      1.021     0.6896      0.966          1        640: 100%|██████████| 72/72 [00:21<00:00,  3.40it/s]\n",
            "                 Class     Images  Instances      Box(P          R      mAP50  mAP50-95): 100%|██████████| 2/2 [00:00<00:00,  2.33it/s]"
          ]
        },
        {
          "output_type": "stream",
          "name": "stdout",
          "text": [
            "                   all         46         85      0.809      0.673      0.681      0.471\n"
          ]
        },
        {
          "output_type": "stream",
          "name": "stderr",
          "text": [
            "\n"
          ]
        },
        {
          "output_type": "stream",
          "name": "stdout",
          "text": [
            "\n",
            "      Epoch    GPU_mem   box_loss   cls_loss   dfl_loss  Instances       Size\n"
          ]
        },
        {
          "output_type": "stream",
          "name": "stderr",
          "text": [
            "      59/75      1.89G      1.024     0.6925     0.9684          7        640: 100%|██████████| 72/72 [00:21<00:00,  3.40it/s]\n",
            "                 Class     Images  Instances      Box(P          R      mAP50  mAP50-95): 100%|██████████| 2/2 [00:00<00:00,  3.89it/s]"
          ]
        },
        {
          "output_type": "stream",
          "name": "stdout",
          "text": [
            "                   all         46         85      0.896      0.596      0.683      0.476\n"
          ]
        },
        {
          "output_type": "stream",
          "name": "stderr",
          "text": [
            "\n"
          ]
        },
        {
          "output_type": "stream",
          "name": "stdout",
          "text": [
            "\n",
            "      Epoch    GPU_mem   box_loss   cls_loss   dfl_loss  Instances       Size\n"
          ]
        },
        {
          "output_type": "stream",
          "name": "stderr",
          "text": [
            "      60/75      1.92G      1.031     0.6956     0.9716          3        640: 100%|██████████| 72/72 [00:20<00:00,  3.50it/s]\n",
            "                 Class     Images  Instances      Box(P          R      mAP50  mAP50-95): 100%|██████████| 2/2 [00:00<00:00,  3.91it/s]"
          ]
        },
        {
          "output_type": "stream",
          "name": "stdout",
          "text": [
            "                   all         46         85      0.775      0.673      0.708      0.487\n"
          ]
        },
        {
          "output_type": "stream",
          "name": "stderr",
          "text": [
            "\n"
          ]
        },
        {
          "output_type": "stream",
          "name": "stdout",
          "text": [
            "\n",
            "      Epoch    GPU_mem   box_loss   cls_loss   dfl_loss  Instances       Size\n"
          ]
        },
        {
          "output_type": "stream",
          "name": "stderr",
          "text": [
            "      61/75      1.81G      1.024     0.6689     0.9651          5        640: 100%|██████████| 72/72 [00:20<00:00,  3.58it/s]\n",
            "                 Class     Images  Instances      Box(P          R      mAP50  mAP50-95): 100%|██████████| 2/2 [00:00<00:00,  3.69it/s]"
          ]
        },
        {
          "output_type": "stream",
          "name": "stdout",
          "text": [
            "                   all         46         85      0.905      0.611      0.696      0.473\n"
          ]
        },
        {
          "output_type": "stream",
          "name": "stderr",
          "text": [
            "\n"
          ]
        },
        {
          "output_type": "stream",
          "name": "stdout",
          "text": [
            "\n",
            "      Epoch    GPU_mem   box_loss   cls_loss   dfl_loss  Instances       Size\n"
          ]
        },
        {
          "output_type": "stream",
          "name": "stderr",
          "text": [
            "      62/75      1.89G      1.019     0.6711     0.9667          2        640: 100%|██████████| 72/72 [00:20<00:00,  3.50it/s]\n",
            "                 Class     Images  Instances      Box(P          R      mAP50  mAP50-95): 100%|██████████| 2/2 [00:00<00:00,  3.63it/s]"
          ]
        },
        {
          "output_type": "stream",
          "name": "stdout",
          "text": [
            "                   all         46         85      0.795      0.684       0.69      0.467\n"
          ]
        },
        {
          "output_type": "stream",
          "name": "stderr",
          "text": [
            "\n"
          ]
        },
        {
          "output_type": "stream",
          "name": "stdout",
          "text": [
            "\n",
            "      Epoch    GPU_mem   box_loss   cls_loss   dfl_loss  Instances       Size\n"
          ]
        },
        {
          "output_type": "stream",
          "name": "stderr",
          "text": [
            "      63/75      1.78G      1.015     0.6675     0.9662          4        640: 100%|██████████| 72/72 [00:20<00:00,  3.53it/s]\n",
            "                 Class     Images  Instances      Box(P          R      mAP50  mAP50-95): 100%|██████████| 2/2 [00:00<00:00,  2.22it/s]"
          ]
        },
        {
          "output_type": "stream",
          "name": "stdout",
          "text": [
            "                   all         46         85       0.91      0.602      0.681      0.478\n"
          ]
        },
        {
          "output_type": "stream",
          "name": "stderr",
          "text": [
            "\n"
          ]
        },
        {
          "output_type": "stream",
          "name": "stdout",
          "text": [
            "\n",
            "      Epoch    GPU_mem   box_loss   cls_loss   dfl_loss  Instances       Size\n"
          ]
        },
        {
          "output_type": "stream",
          "name": "stderr",
          "text": [
            "      64/75      1.83G      1.017       0.69     0.9643          6        640: 100%|██████████| 72/72 [00:20<00:00,  3.45it/s]\n",
            "                 Class     Images  Instances      Box(P          R      mAP50  mAP50-95): 100%|██████████| 2/2 [00:00<00:00,  2.09it/s]"
          ]
        },
        {
          "output_type": "stream",
          "name": "stdout",
          "text": [
            "                   all         46         85      0.778       0.69      0.676      0.473\n"
          ]
        },
        {
          "output_type": "stream",
          "name": "stderr",
          "text": [
            "\n"
          ]
        },
        {
          "output_type": "stream",
          "name": "stdout",
          "text": [
            "\n",
            "      Epoch    GPU_mem   box_loss   cls_loss   dfl_loss  Instances       Size\n"
          ]
        },
        {
          "output_type": "stream",
          "name": "stderr",
          "text": [
            "      65/75      1.85G      1.017     0.6791     0.9623          6        640: 100%|██████████| 72/72 [00:20<00:00,  3.54it/s]\n",
            "                 Class     Images  Instances      Box(P          R      mAP50  mAP50-95): 100%|██████████| 2/2 [00:00<00:00,  4.90it/s]"
          ]
        },
        {
          "output_type": "stream",
          "name": "stdout",
          "text": [
            "                   all         46         85       0.84      0.665      0.679      0.492\n"
          ]
        },
        {
          "output_type": "stream",
          "name": "stderr",
          "text": [
            "\n"
          ]
        },
        {
          "output_type": "stream",
          "name": "stdout",
          "text": [
            "Closing dataloader mosaic\n",
            "\u001b[34m\u001b[1malbumentations: \u001b[0mBlur(p=0.01, blur_limit=(3, 7)), MedianBlur(p=0.01, blur_limit=(3, 7)), ToGray(p=0.01, num_output_channels=3, method='weighted_average'), CLAHE(p=0.01, clip_limit=(1.0, 4.0), tile_grid_size=(8, 8))\n",
            "\n",
            "      Epoch    GPU_mem   box_loss   cls_loss   dfl_loss  Instances       Size\n"
          ]
        },
        {
          "output_type": "stream",
          "name": "stderr",
          "text": [
            "      66/75      2.05G     0.9818     0.6261     0.9474          9        640: 100%|██████████| 72/72 [00:21<00:00,  3.28it/s]\n",
            "                 Class     Images  Instances      Box(P          R      mAP50  mAP50-95): 100%|██████████| 2/2 [00:00<00:00,  3.74it/s]"
          ]
        },
        {
          "output_type": "stream",
          "name": "stdout",
          "text": [
            "                   all         46         85      0.843      0.715      0.725      0.484\n"
          ]
        },
        {
          "output_type": "stream",
          "name": "stderr",
          "text": [
            "\n"
          ]
        },
        {
          "output_type": "stream",
          "name": "stdout",
          "text": [
            "\n",
            "      Epoch    GPU_mem   box_loss   cls_loss   dfl_loss  Instances       Size\n"
          ]
        },
        {
          "output_type": "stream",
          "name": "stderr",
          "text": [
            "      67/75      1.89G     0.9697     0.6168     0.9457         10        640: 100%|██████████| 72/72 [00:20<00:00,  3.53it/s]\n",
            "                 Class     Images  Instances      Box(P          R      mAP50  mAP50-95): 100%|██████████| 2/2 [00:00<00:00,  2.46it/s]"
          ]
        },
        {
          "output_type": "stream",
          "name": "stdout",
          "text": [
            "                   all         46         85      0.891      0.631      0.687      0.477\n"
          ]
        },
        {
          "output_type": "stream",
          "name": "stderr",
          "text": [
            "\n"
          ]
        },
        {
          "output_type": "stream",
          "name": "stdout",
          "text": [
            "\n",
            "      Epoch    GPU_mem   box_loss   cls_loss   dfl_loss  Instances       Size\n"
          ]
        },
        {
          "output_type": "stream",
          "name": "stderr",
          "text": [
            "      68/75      1.86G     0.9757     0.6132     0.9465          8        640: 100%|██████████| 72/72 [00:20<00:00,  3.49it/s]\n",
            "                 Class     Images  Instances      Box(P          R      mAP50  mAP50-95): 100%|██████████| 2/2 [00:00<00:00,  2.27it/s]"
          ]
        },
        {
          "output_type": "stream",
          "name": "stdout",
          "text": [
            "                   all         46         85      0.817      0.714      0.712      0.488\n"
          ]
        },
        {
          "output_type": "stream",
          "name": "stderr",
          "text": [
            "\n"
          ]
        },
        {
          "output_type": "stream",
          "name": "stdout",
          "text": [
            "\n",
            "      Epoch    GPU_mem   box_loss   cls_loss   dfl_loss  Instances       Size\n"
          ]
        },
        {
          "output_type": "stream",
          "name": "stderr",
          "text": [
            "      69/75      1.78G     0.9818     0.6273     0.9461          4        640: 100%|██████████| 72/72 [00:21<00:00,  3.41it/s]\n",
            "                 Class     Images  Instances      Box(P          R      mAP50  mAP50-95): 100%|██████████| 2/2 [00:00<00:00,  3.29it/s]\n"
          ]
        },
        {
          "output_type": "stream",
          "name": "stdout",
          "text": [
            "                   all         46         85       0.86      0.663      0.694      0.475\n",
            "\n",
            "      Epoch    GPU_mem   box_loss   cls_loss   dfl_loss  Instances       Size\n"
          ]
        },
        {
          "output_type": "stream",
          "name": "stderr",
          "text": [
            "      70/75      1.89G     0.9649     0.5922     0.9406          1        640: 100%|██████████| 72/72 [00:20<00:00,  3.56it/s]\n",
            "                 Class     Images  Instances      Box(P          R      mAP50  mAP50-95): 100%|██████████| 2/2 [00:00<00:00,  3.83it/s]"
          ]
        },
        {
          "output_type": "stream",
          "name": "stdout",
          "text": [
            "                   all         46         85      0.782      0.666      0.669      0.466\n"
          ]
        },
        {
          "output_type": "stream",
          "name": "stderr",
          "text": [
            "\n"
          ]
        },
        {
          "output_type": "stream",
          "name": "stdout",
          "text": [
            "\n",
            "      Epoch    GPU_mem   box_loss   cls_loss   dfl_loss  Instances       Size\n"
          ]
        },
        {
          "output_type": "stream",
          "name": "stderr",
          "text": [
            "      71/75      1.89G     0.9625     0.5949     0.9424          3        640: 100%|██████████| 72/72 [00:20<00:00,  3.51it/s]\n",
            "                 Class     Images  Instances      Box(P          R      mAP50  mAP50-95): 100%|██████████| 2/2 [00:00<00:00,  4.94it/s]"
          ]
        },
        {
          "output_type": "stream",
          "name": "stdout",
          "text": [
            "                   all         46         85      0.787      0.696      0.678      0.469\n"
          ]
        },
        {
          "output_type": "stream",
          "name": "stderr",
          "text": [
            "\n"
          ]
        },
        {
          "output_type": "stream",
          "name": "stdout",
          "text": [
            "\n",
            "      Epoch    GPU_mem   box_loss   cls_loss   dfl_loss  Instances       Size\n"
          ]
        },
        {
          "output_type": "stream",
          "name": "stderr",
          "text": [
            "      72/75      1.78G     0.9356     0.5981     0.9347          2        640: 100%|██████████| 72/72 [00:22<00:00,  3.25it/s]\n",
            "                 Class     Images  Instances      Box(P          R      mAP50  mAP50-95): 100%|██████████| 2/2 [00:00<00:00,  3.83it/s]"
          ]
        },
        {
          "output_type": "stream",
          "name": "stdout",
          "text": [
            "                   all         46         85      0.884      0.624      0.691      0.476\n"
          ]
        },
        {
          "output_type": "stream",
          "name": "stderr",
          "text": [
            "\n"
          ]
        },
        {
          "output_type": "stream",
          "name": "stdout",
          "text": [
            "\n",
            "      Epoch    GPU_mem   box_loss   cls_loss   dfl_loss  Instances       Size\n"
          ]
        },
        {
          "output_type": "stream",
          "name": "stderr",
          "text": [
            "      73/75      1.85G     0.9588     0.5933     0.9464          4        640: 100%|██████████| 72/72 [00:22<00:00,  3.22it/s]\n",
            "                 Class     Images  Instances      Box(P          R      mAP50  mAP50-95): 100%|██████████| 2/2 [00:00<00:00,  2.06it/s]"
          ]
        },
        {
          "output_type": "stream",
          "name": "stdout",
          "text": [
            "                   all         46         85      0.906      0.629      0.697      0.491\n"
          ]
        },
        {
          "output_type": "stream",
          "name": "stderr",
          "text": [
            "\n"
          ]
        },
        {
          "output_type": "stream",
          "name": "stdout",
          "text": [
            "\n",
            "      Epoch    GPU_mem   box_loss   cls_loss   dfl_loss  Instances       Size\n"
          ]
        },
        {
          "output_type": "stream",
          "name": "stderr",
          "text": [
            "      74/75      1.89G     0.9564     0.5878     0.9404          6        640: 100%|██████████| 72/72 [00:21<00:00,  3.35it/s]\n",
            "                 Class     Images  Instances      Box(P          R      mAP50  mAP50-95): 100%|██████████| 2/2 [00:00<00:00,  2.01it/s]"
          ]
        },
        {
          "output_type": "stream",
          "name": "stdout",
          "text": [
            "                   all         46         85       0.83      0.703      0.711      0.479\n"
          ]
        },
        {
          "output_type": "stream",
          "name": "stderr",
          "text": [
            "\n"
          ]
        },
        {
          "output_type": "stream",
          "name": "stdout",
          "text": [
            "\n",
            "      Epoch    GPU_mem   box_loss   cls_loss   dfl_loss  Instances       Size\n"
          ]
        },
        {
          "output_type": "stream",
          "name": "stderr",
          "text": [
            "      75/75      1.73G     0.9552      0.609     0.9435          5        640: 100%|██████████| 72/72 [00:20<00:00,  3.49it/s]\n",
            "                 Class     Images  Instances      Box(P          R      mAP50  mAP50-95): 100%|██████████| 2/2 [00:00<00:00,  4.13it/s]"
          ]
        },
        {
          "output_type": "stream",
          "name": "stdout",
          "text": [
            "                   all         46         85      0.885      0.678       0.71      0.484\n"
          ]
        },
        {
          "output_type": "stream",
          "name": "stderr",
          "text": [
            "\n"
          ]
        },
        {
          "output_type": "stream",
          "name": "stdout",
          "text": [
            "\n",
            "75 epochs completed in 0.465 hours.\n",
            "Optimizer stripped from runs/detect/train/weights/last.pt, 22.5MB\n",
            "Optimizer stripped from runs/detect/train/weights/best.pt, 22.5MB\n",
            "\n",
            "Validating runs/detect/train/weights/best.pt...\n",
            "Ultralytics 8.3.50 🚀 Python-3.10.12 torch-2.5.1+cu121 CUDA:0 (Tesla T4, 15102MiB)\n",
            "Model summary (fused): 168 layers, 11,127,519 parameters, 0 gradients, 28.4 GFLOPs\n"
          ]
        },
        {
          "output_type": "stream",
          "name": "stderr",
          "text": [
            "                 Class     Images  Instances      Box(P          R      mAP50  mAP50-95): 100%|██████████| 2/2 [00:00<00:00,  4.51it/s]\n"
          ]
        },
        {
          "output_type": "stream",
          "name": "stdout",
          "text": [
            "                   all         46         85      0.907      0.628      0.697      0.491\n",
            "                ASU-57         14         18          1      0.825      0.951      0.617\n",
            "             Breda-501         10         10      0.984        0.6      0.712      0.485\n",
            "                  T-34         18         20      0.998        0.9      0.904      0.761\n",
            "                  Tank         18         37      0.644      0.189      0.219        0.1\n",
            "Speed: 0.3ms preprocess, 2.4ms inference, 0.0ms loss, 1.6ms postprocess per image\n",
            "Results saved to \u001b[1mruns/detect/train\u001b[0m\n"
          ]
        }
      ],
      "source": [
        "# Requiere que en la carpeta data se encuentre el data.yaml y el set de datos para entrenar\n",
        "\n",
        "results = model.train(data='/app/data/data.yaml', epochs=75, imgsz=640, device='cuda', freeze=10, lr0=0.005, lrf=0.2, warmup_epochs=5.0, momentum=0.95, weight_decay=0.0003, mosaic=0.2, iou=0.5, dropout=0.2)"
      ]
    },
    {
      "cell_type": "code",
      "execution_count": null,
      "metadata": {
        "colab": {
          "base_uri": "https://localhost:8080/"
        },
        "id": "OEAdDTDUIhOF",
        "outputId": "af07bbc7-5ac0-46b1-818d-6200ca5bf484"
      },
      "outputs": [
        {
          "output_type": "stream",
          "name": "stdout",
          "text": [
            "Ultralytics 8.3.50 🚀 Python-3.10.12 torch-2.5.1+cu121 CUDA:0 (Tesla T4, 15102MiB)\n",
            "Model summary (fused): 168 layers, 11,127,519 parameters, 0 gradients, 28.4 GFLOPs\n"
          ]
        },
        {
          "output_type": "stream",
          "name": "stderr",
          "text": [
            "\u001b[34m\u001b[1mval: \u001b[0mScanning /content/valid/labels.cache... 46 images, 0 backgrounds, 0 corrupt: 100%|██████████| 46/46 [00:00<?, ?it/s]\n",
            "                 Class     Images  Instances      Box(P          R      mAP50  mAP50-95): 100%|██████████| 3/3 [00:01<00:00,  1.54it/s]\n"
          ]
        },
        {
          "output_type": "stream",
          "name": "stdout",
          "text": [
            "                   all         46         85      0.905      0.628      0.697      0.492\n",
            "                ASU-57         14         18          1      0.824      0.951       0.62\n",
            "             Breda-501         10         10      0.983        0.6      0.712      0.485\n",
            "                  T-34         18         20      0.996        0.9      0.904      0.762\n",
            "                  Tank         18         37      0.642      0.189      0.219      0.101\n",
            "Speed: 0.2ms preprocess, 19.0ms inference, 0.0ms loss, 4.8ms postprocess per image\n",
            "Results saved to \u001b[1mruns/detect/train2\u001b[0m\n"
          ]
        }
      ],
      "source": [
        "# Evaluate model performance on the validation set\n",
        "metrics = model.val()"
      ]
    },
    {
      "cell_type": "code",
      "source": [
        "# Dejar en la carpeta images las imagenes con las que se desea probar el modelo ya entrenado\n",
        "\n",
        "results = model('/app/images/Captura de pantalla (485).png', conf=0.01) # Ruta de tu imagen\n",
        "\n",
        "# Obtener la imagen con las predicciones\n",
        "img = results[0].plot(font_size=10, pil=True)\n",
        "\n",
        "\n",
        "img_rgb = cv2.cvtColor(img, cv2.COLOR_BGR2RGB)\n",
        "\n",
        "# Guardar la imagen con PIL (que espera formato RGB)\n",
        "Image.fromarray(img_rgb).save('Prediccion_imagen.jpg')\n"
      ],
      "metadata": {
        "colab": {
          "base_uri": "https://localhost:8080/"
        },
        "id": "QBZWAuTCr5ue",
        "outputId": "e3092332-62b2-4bd4-f22a-28393ea07b09"
      },
      "execution_count": 6,
      "outputs": [
        {
          "output_type": "stream",
          "name": "stdout",
          "text": [
            "\n",
            "image 1/1 /app/images/Captura de pantalla (485).png: 384x640 1 ISU-152, 2 Tanks, 144.9ms\n",
            "Speed: 1.7ms preprocess, 144.9ms inference, 8.4ms postprocess per image at shape (1, 3, 384, 640)\n"
          ]
        }
      ]
    },
    {
      "cell_type": "code",
      "execution_count": null,
      "metadata": {
        "id": "PRJUFaqO8qYA"
      },
      "outputs": [],
      "source": [
        "#Guardar estado del modelo como \"TankRecognition\"\n",
        "model.save('TankRecognition.pt')\n",
        "\n"
      ]
    }
  ],
  "metadata": {
    "accelerator": "GPU",
    "colab": {
      "gpuType": "T4",
      "provenance": []
    },
    "kernelspec": {
      "display_name": "Python 3",
      "name": "python3"
    },
    "language_info": {
      "name": "python"
    }
  },
  "nbformat": 4,
  "nbformat_minor": 0
}